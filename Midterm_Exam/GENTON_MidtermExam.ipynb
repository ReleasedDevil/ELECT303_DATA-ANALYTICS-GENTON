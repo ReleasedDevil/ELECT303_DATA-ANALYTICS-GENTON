{
 "cells": [
  {
   "cell_type": "markdown",
   "id": "9f6cb49f-6fb0-4b3f-8564-bbca712d4bd5",
   "metadata": {},
   "source": [
    "<b>Lester Genton"
   ]
  },
  {
   "cell_type": "markdown",
   "id": "bd4ae8c1-e2c6-4758-9b6c-6747f2e196d1",
   "metadata": {},
   "source": [
    "<b> BSIT 3-A"
   ]
  },
  {
   "cell_type": "markdown",
   "id": "e7c5d6fb-8eb0-45e3-8a08-35fb8fc3d05a",
   "metadata": {},
   "source": [
    "<i> Happy Teacher's Day Sir Leonard Andrew Mesiera, andami po ng 35 insights pwede po bang patanggal po ng putal, 5 nalang po pls."
   ]
  },
  {
   "cell_type": "code",
   "execution_count": null,
   "id": "00936306-5c35-4a11-9724-20d3122a492c",
   "metadata": {},
   "outputs": [],
   "source": [
    "import pandas as pd\n",
    "import numpy as np\n",
    "import seaborn as sns \n",
    "import matplotlib.pyplot as plt\n",
    "import warnings\n",
    "warnings.filterwarnings('ignore')"
   ]
  },
  {
   "cell_type": "code",
   "execution_count": 44,
   "id": "65b33f2b-ee6d-43d5-81de-f91e9d547ec5",
   "metadata": {},
   "outputs": [],
   "source": [
    "crime = pd.read_csv('datasets//Chicago_Crimes.csv')"
   ]
  },
  {
   "cell_type": "code",
   "execution_count": 45,
   "id": "8d300842-c0ba-4170-9c99-cadbaf4e9331",
   "metadata": {},
   "outputs": [
    {
     "data": {
      "text/html": [
       "<div>\n",
       "<style scoped>\n",
       "    .dataframe tbody tr th:only-of-type {\n",
       "        vertical-align: middle;\n",
       "    }\n",
       "\n",
       "    .dataframe tbody tr th {\n",
       "        vertical-align: top;\n",
       "    }\n",
       "\n",
       "    .dataframe thead th {\n",
       "        text-align: right;\n",
       "    }\n",
       "</style>\n",
       "<table border=\"1\" class=\"dataframe\">\n",
       "  <thead>\n",
       "    <tr style=\"text-align: right;\">\n",
       "      <th></th>\n",
       "      <th>ID</th>\n",
       "      <th>Case Number</th>\n",
       "      <th>Date</th>\n",
       "      <th>Block</th>\n",
       "      <th>IUCR</th>\n",
       "      <th>Primary Type</th>\n",
       "      <th>Description</th>\n",
       "      <th>Location Description</th>\n",
       "      <th>Arrest</th>\n",
       "      <th>Domestic</th>\n",
       "      <th>...</th>\n",
       "      <th>Ward</th>\n",
       "      <th>Community Area</th>\n",
       "      <th>FBI Code</th>\n",
       "      <th>X Coordinate</th>\n",
       "      <th>Y Coordinate</th>\n",
       "      <th>Year</th>\n",
       "      <th>Updated On</th>\n",
       "      <th>Latitude</th>\n",
       "      <th>Longitude</th>\n",
       "      <th>Location</th>\n",
       "    </tr>\n",
       "  </thead>\n",
       "  <tbody>\n",
       "    <tr>\n",
       "      <th>0</th>\n",
       "      <td>13439321</td>\n",
       "      <td>JH237424</td>\n",
       "      <td>04/14/2024 12:00:00 AM</td>\n",
       "      <td>040XX S PRAIRIE AVE</td>\n",
       "      <td>0890</td>\n",
       "      <td>THEFT</td>\n",
       "      <td>FROM BUILDING</td>\n",
       "      <td>APARTMENT</td>\n",
       "      <td>False</td>\n",
       "      <td>False</td>\n",
       "      <td>...</td>\n",
       "      <td>3</td>\n",
       "      <td>38.0</td>\n",
       "      <td>06</td>\n",
       "      <td>1178707.0</td>\n",
       "      <td>1878256.0</td>\n",
       "      <td>2024</td>\n",
       "      <td>12/21/2024 03:40:46 PM</td>\n",
       "      <td>41.821236</td>\n",
       "      <td>-87.619921</td>\n",
       "      <td>(41.821236024, -87.619920712)</td>\n",
       "    </tr>\n",
       "    <tr>\n",
       "      <th>1</th>\n",
       "      <td>13437420</td>\n",
       "      <td>JH234779</td>\n",
       "      <td>04/14/2024 12:00:00 AM</td>\n",
       "      <td>023XX W CERMAK RD</td>\n",
       "      <td>2825</td>\n",
       "      <td>OTHER OFFENSE</td>\n",
       "      <td>HARASSMENT BY TELEPHONE</td>\n",
       "      <td>COMMERCIAL / BUSINESS OFFICE</td>\n",
       "      <td>False</td>\n",
       "      <td>False</td>\n",
       "      <td>...</td>\n",
       "      <td>25</td>\n",
       "      <td>31.0</td>\n",
       "      <td>26</td>\n",
       "      <td>1161210.0</td>\n",
       "      <td>1889347.0</td>\n",
       "      <td>2024</td>\n",
       "      <td>12/21/2024 03:40:46 PM</td>\n",
       "      <td>41.852052</td>\n",
       "      <td>-87.683801</td>\n",
       "      <td>(41.852051675, -87.683800849)</td>\n",
       "    </tr>\n",
       "    <tr>\n",
       "      <th>2</th>\n",
       "      <td>13428676</td>\n",
       "      <td>JH224478</td>\n",
       "      <td>04/14/2024 12:00:00 AM</td>\n",
       "      <td>043XX W LE MOYNE ST</td>\n",
       "      <td>0917</td>\n",
       "      <td>MOTOR VEHICLE THEFT</td>\n",
       "      <td>CYCLE, SCOOTER, BIKE WITH VIN</td>\n",
       "      <td>STREET</td>\n",
       "      <td>False</td>\n",
       "      <td>False</td>\n",
       "      <td>...</td>\n",
       "      <td>36</td>\n",
       "      <td>23.0</td>\n",
       "      <td>07</td>\n",
       "      <td>1146960.0</td>\n",
       "      <td>1909501.0</td>\n",
       "      <td>2024</td>\n",
       "      <td>12/21/2024 03:40:46 PM</td>\n",
       "      <td>41.907640</td>\n",
       "      <td>-87.735587</td>\n",
       "      <td>(41.907640473, -87.735587478)</td>\n",
       "    </tr>\n",
       "    <tr>\n",
       "      <th>3</th>\n",
       "      <td>13429357</td>\n",
       "      <td>JH225293</td>\n",
       "      <td>04/14/2024 12:00:00 AM</td>\n",
       "      <td>039XX W ADAMS ST</td>\n",
       "      <td>143A</td>\n",
       "      <td>WEAPONS VIOLATION</td>\n",
       "      <td>UNLAWFUL POSSESSION - HANDGUN</td>\n",
       "      <td>STREET</td>\n",
       "      <td>True</td>\n",
       "      <td>False</td>\n",
       "      <td>...</td>\n",
       "      <td>28</td>\n",
       "      <td>26.0</td>\n",
       "      <td>15</td>\n",
       "      <td>1150158.0</td>\n",
       "      <td>1898721.0</td>\n",
       "      <td>2024</td>\n",
       "      <td>12/21/2024 03:40:46 PM</td>\n",
       "      <td>41.877997</td>\n",
       "      <td>-87.724121</td>\n",
       "      <td>(41.877997275, -87.724120826)</td>\n",
       "    </tr>\n",
       "    <tr>\n",
       "      <th>4</th>\n",
       "      <td>13430098</td>\n",
       "      <td>JH226395</td>\n",
       "      <td>04/14/2024 12:00:00 AM</td>\n",
       "      <td>011XX W 112TH PL</td>\n",
       "      <td>0890</td>\n",
       "      <td>THEFT</td>\n",
       "      <td>FROM BUILDING</td>\n",
       "      <td>RESIDENCE</td>\n",
       "      <td>False</td>\n",
       "      <td>False</td>\n",
       "      <td>...</td>\n",
       "      <td>21</td>\n",
       "      <td>75.0</td>\n",
       "      <td>06</td>\n",
       "      <td>1170856.0</td>\n",
       "      <td>1830157.0</td>\n",
       "      <td>2024</td>\n",
       "      <td>12/21/2024 03:40:46 PM</td>\n",
       "      <td>41.689421</td>\n",
       "      <td>-87.650123</td>\n",
       "      <td>(41.6894214, -87.650123247)</td>\n",
       "    </tr>\n",
       "    <tr>\n",
       "      <th>...</th>\n",
       "      <td>...</td>\n",
       "      <td>...</td>\n",
       "      <td>...</td>\n",
       "      <td>...</td>\n",
       "      <td>...</td>\n",
       "      <td>...</td>\n",
       "      <td>...</td>\n",
       "      <td>...</td>\n",
       "      <td>...</td>\n",
       "      <td>...</td>\n",
       "      <td>...</td>\n",
       "      <td>...</td>\n",
       "      <td>...</td>\n",
       "      <td>...</td>\n",
       "      <td>...</td>\n",
       "      <td>...</td>\n",
       "      <td>...</td>\n",
       "      <td>...</td>\n",
       "      <td>...</td>\n",
       "      <td>...</td>\n",
       "      <td>...</td>\n",
       "    </tr>\n",
       "    <tr>\n",
       "      <th>249118</th>\n",
       "      <td>13805239</td>\n",
       "      <td>JJ217509</td>\n",
       "      <td>04/12/2025 12:00:00 AM</td>\n",
       "      <td>029XX W LOGAN BLVD</td>\n",
       "      <td>2826</td>\n",
       "      <td>OTHER OFFENSE</td>\n",
       "      <td>HARASSMENT BY ELECTRONIC MEANS</td>\n",
       "      <td>APARTMENT</td>\n",
       "      <td>False</td>\n",
       "      <td>False</td>\n",
       "      <td>...</td>\n",
       "      <td>1</td>\n",
       "      <td>22.0</td>\n",
       "      <td>26</td>\n",
       "      <td>1156478.0</td>\n",
       "      <td>1917149.0</td>\n",
       "      <td>2025</td>\n",
       "      <td>04/19/2025 03:41:24 PM</td>\n",
       "      <td>41.928440</td>\n",
       "      <td>-87.700416</td>\n",
       "      <td>(41.928439867, -87.700415972)</td>\n",
       "    </tr>\n",
       "    <tr>\n",
       "      <th>249119</th>\n",
       "      <td>13804023</td>\n",
       "      <td>JJ215813</td>\n",
       "      <td>04/12/2025 12:00:00 AM</td>\n",
       "      <td>094XX S HARVARD AVE</td>\n",
       "      <td>0430</td>\n",
       "      <td>BATTERY</td>\n",
       "      <td>AGGRAVATED - OTHER DANGEROUS WEAPON</td>\n",
       "      <td>STREET</td>\n",
       "      <td>False</td>\n",
       "      <td>False</td>\n",
       "      <td>...</td>\n",
       "      <td>9</td>\n",
       "      <td>49.0</td>\n",
       "      <td>04B</td>\n",
       "      <td>1175694.0</td>\n",
       "      <td>1842631.0</td>\n",
       "      <td>2025</td>\n",
       "      <td>04/19/2025 03:41:24 PM</td>\n",
       "      <td>41.723545</td>\n",
       "      <td>-87.632040</td>\n",
       "      <td>(41.723545182, -87.632039508)</td>\n",
       "    </tr>\n",
       "    <tr>\n",
       "      <th>249120</th>\n",
       "      <td>13803926</td>\n",
       "      <td>JJ215943</td>\n",
       "      <td>04/12/2025 12:00:00 AM</td>\n",
       "      <td>084XX S VINCENNES AVE</td>\n",
       "      <td>0486</td>\n",
       "      <td>BATTERY</td>\n",
       "      <td>DOMESTIC BATTERY SIMPLE</td>\n",
       "      <td>APARTMENT</td>\n",
       "      <td>False</td>\n",
       "      <td>True</td>\n",
       "      <td>...</td>\n",
       "      <td>21</td>\n",
       "      <td>71.0</td>\n",
       "      <td>08B</td>\n",
       "      <td>1173850.0</td>\n",
       "      <td>1848976.0</td>\n",
       "      <td>2025</td>\n",
       "      <td>04/19/2025 03:41:24 PM</td>\n",
       "      <td>41.740998</td>\n",
       "      <td>-87.638606</td>\n",
       "      <td>(41.74099774, -87.638606337)</td>\n",
       "    </tr>\n",
       "    <tr>\n",
       "      <th>249121</th>\n",
       "      <td>13803475</td>\n",
       "      <td>JJ215338</td>\n",
       "      <td>04/12/2025 12:00:00 AM</td>\n",
       "      <td>050XX S ABERDEEN ST</td>\n",
       "      <td>0530</td>\n",
       "      <td>ASSAULT</td>\n",
       "      <td>AGGRAVATED - OTHER DANGEROUS WEAPON</td>\n",
       "      <td>STREET</td>\n",
       "      <td>True</td>\n",
       "      <td>False</td>\n",
       "      <td>...</td>\n",
       "      <td>20</td>\n",
       "      <td>61.0</td>\n",
       "      <td>04A</td>\n",
       "      <td>1169838.0</td>\n",
       "      <td>1871348.0</td>\n",
       "      <td>2025</td>\n",
       "      <td>04/19/2025 03:41:24 PM</td>\n",
       "      <td>41.802477</td>\n",
       "      <td>-87.652657</td>\n",
       "      <td>(41.802477219, -87.652657244)</td>\n",
       "    </tr>\n",
       "    <tr>\n",
       "      <th>249122</th>\n",
       "      <td>13804512</td>\n",
       "      <td>JJ216668</td>\n",
       "      <td>04/12/2025 12:00:00 AM</td>\n",
       "      <td>012XX W CARROLL AVE</td>\n",
       "      <td>0710</td>\n",
       "      <td>THEFT</td>\n",
       "      <td>THEFT FROM MOTOR VEHICLE</td>\n",
       "      <td>STREET</td>\n",
       "      <td>False</td>\n",
       "      <td>False</td>\n",
       "      <td>...</td>\n",
       "      <td>27</td>\n",
       "      <td>28.0</td>\n",
       "      <td>06</td>\n",
       "      <td>1168216.0</td>\n",
       "      <td>1902390.0</td>\n",
       "      <td>2025</td>\n",
       "      <td>04/19/2025 03:41:24 PM</td>\n",
       "      <td>41.887694</td>\n",
       "      <td>-87.657710</td>\n",
       "      <td>(41.887694407, -87.657710204)</td>\n",
       "    </tr>\n",
       "  </tbody>\n",
       "</table>\n",
       "<p>249123 rows × 22 columns</p>\n",
       "</div>"
      ],
      "text/plain": [
       "              ID Case Number                    Date                  Block  \\\n",
       "0       13439321    JH237424  04/14/2024 12:00:00 AM    040XX S PRAIRIE AVE   \n",
       "1       13437420    JH234779  04/14/2024 12:00:00 AM      023XX W CERMAK RD   \n",
       "2       13428676    JH224478  04/14/2024 12:00:00 AM    043XX W LE MOYNE ST   \n",
       "3       13429357    JH225293  04/14/2024 12:00:00 AM       039XX W ADAMS ST   \n",
       "4       13430098    JH226395  04/14/2024 12:00:00 AM       011XX W 112TH PL   \n",
       "...          ...         ...                     ...                    ...   \n",
       "249118  13805239    JJ217509  04/12/2025 12:00:00 AM     029XX W LOGAN BLVD   \n",
       "249119  13804023    JJ215813  04/12/2025 12:00:00 AM    094XX S HARVARD AVE   \n",
       "249120  13803926    JJ215943  04/12/2025 12:00:00 AM  084XX S VINCENNES AVE   \n",
       "249121  13803475    JJ215338  04/12/2025 12:00:00 AM    050XX S ABERDEEN ST   \n",
       "249122  13804512    JJ216668  04/12/2025 12:00:00 AM    012XX W CARROLL AVE   \n",
       "\n",
       "        IUCR         Primary Type                          Description  \\\n",
       "0       0890                THEFT                        FROM BUILDING   \n",
       "1       2825        OTHER OFFENSE              HARASSMENT BY TELEPHONE   \n",
       "2       0917  MOTOR VEHICLE THEFT        CYCLE, SCOOTER, BIKE WITH VIN   \n",
       "3       143A    WEAPONS VIOLATION        UNLAWFUL POSSESSION - HANDGUN   \n",
       "4       0890                THEFT                        FROM BUILDING   \n",
       "...      ...                  ...                                  ...   \n",
       "249118  2826        OTHER OFFENSE       HARASSMENT BY ELECTRONIC MEANS   \n",
       "249119  0430              BATTERY  AGGRAVATED - OTHER DANGEROUS WEAPON   \n",
       "249120  0486              BATTERY              DOMESTIC BATTERY SIMPLE   \n",
       "249121  0530              ASSAULT  AGGRAVATED - OTHER DANGEROUS WEAPON   \n",
       "249122  0710                THEFT             THEFT FROM MOTOR VEHICLE   \n",
       "\n",
       "                Location Description  Arrest  Domestic  ...  Ward  \\\n",
       "0                          APARTMENT   False     False  ...     3   \n",
       "1       COMMERCIAL / BUSINESS OFFICE   False     False  ...    25   \n",
       "2                             STREET   False     False  ...    36   \n",
       "3                             STREET    True     False  ...    28   \n",
       "4                          RESIDENCE   False     False  ...    21   \n",
       "...                              ...     ...       ...  ...   ...   \n",
       "249118                     APARTMENT   False     False  ...     1   \n",
       "249119                        STREET   False     False  ...     9   \n",
       "249120                     APARTMENT   False      True  ...    21   \n",
       "249121                        STREET    True     False  ...    20   \n",
       "249122                        STREET   False     False  ...    27   \n",
       "\n",
       "        Community Area  FBI Code  X Coordinate Y Coordinate  Year  \\\n",
       "0                 38.0        06     1178707.0    1878256.0  2024   \n",
       "1                 31.0        26     1161210.0    1889347.0  2024   \n",
       "2                 23.0        07     1146960.0    1909501.0  2024   \n",
       "3                 26.0        15     1150158.0    1898721.0  2024   \n",
       "4                 75.0        06     1170856.0    1830157.0  2024   \n",
       "...                ...       ...           ...          ...   ...   \n",
       "249118            22.0        26     1156478.0    1917149.0  2025   \n",
       "249119            49.0       04B     1175694.0    1842631.0  2025   \n",
       "249120            71.0       08B     1173850.0    1848976.0  2025   \n",
       "249121            61.0       04A     1169838.0    1871348.0  2025   \n",
       "249122            28.0        06     1168216.0    1902390.0  2025   \n",
       "\n",
       "                    Updated On   Latitude  Longitude  \\\n",
       "0       12/21/2024 03:40:46 PM  41.821236 -87.619921   \n",
       "1       12/21/2024 03:40:46 PM  41.852052 -87.683801   \n",
       "2       12/21/2024 03:40:46 PM  41.907640 -87.735587   \n",
       "3       12/21/2024 03:40:46 PM  41.877997 -87.724121   \n",
       "4       12/21/2024 03:40:46 PM  41.689421 -87.650123   \n",
       "...                        ...        ...        ...   \n",
       "249118  04/19/2025 03:41:24 PM  41.928440 -87.700416   \n",
       "249119  04/19/2025 03:41:24 PM  41.723545 -87.632040   \n",
       "249120  04/19/2025 03:41:24 PM  41.740998 -87.638606   \n",
       "249121  04/19/2025 03:41:24 PM  41.802477 -87.652657   \n",
       "249122  04/19/2025 03:41:24 PM  41.887694 -87.657710   \n",
       "\n",
       "                             Location  \n",
       "0       (41.821236024, -87.619920712)  \n",
       "1       (41.852051675, -87.683800849)  \n",
       "2       (41.907640473, -87.735587478)  \n",
       "3       (41.877997275, -87.724120826)  \n",
       "4         (41.6894214, -87.650123247)  \n",
       "...                               ...  \n",
       "249118  (41.928439867, -87.700415972)  \n",
       "249119  (41.723545182, -87.632039508)  \n",
       "249120   (41.74099774, -87.638606337)  \n",
       "249121  (41.802477219, -87.652657244)  \n",
       "249122  (41.887694407, -87.657710204)  \n",
       "\n",
       "[249123 rows x 22 columns]"
      ]
     },
     "execution_count": 45,
     "metadata": {},
     "output_type": "execute_result"
    }
   ],
   "source": [
    "crime"
   ]
  },
  {
   "cell_type": "code",
   "execution_count": 46,
   "id": "5e0c9192-0eb7-4ae6-8b6b-bacfbc99e236",
   "metadata": {},
   "outputs": [
    {
     "data": {
      "text/plain": [
       "<bound method DataFrame.info of               ID Case Number                    Date                  Block  \\\n",
       "0       13439321    JH237424  04/14/2024 12:00:00 AM    040XX S PRAIRIE AVE   \n",
       "1       13437420    JH234779  04/14/2024 12:00:00 AM      023XX W CERMAK RD   \n",
       "2       13428676    JH224478  04/14/2024 12:00:00 AM    043XX W LE MOYNE ST   \n",
       "3       13429357    JH225293  04/14/2024 12:00:00 AM       039XX W ADAMS ST   \n",
       "4       13430098    JH226395  04/14/2024 12:00:00 AM       011XX W 112TH PL   \n",
       "...          ...         ...                     ...                    ...   \n",
       "249118  13805239    JJ217509  04/12/2025 12:00:00 AM     029XX W LOGAN BLVD   \n",
       "249119  13804023    JJ215813  04/12/2025 12:00:00 AM    094XX S HARVARD AVE   \n",
       "249120  13803926    JJ215943  04/12/2025 12:00:00 AM  084XX S VINCENNES AVE   \n",
       "249121  13803475    JJ215338  04/12/2025 12:00:00 AM    050XX S ABERDEEN ST   \n",
       "249122  13804512    JJ216668  04/12/2025 12:00:00 AM    012XX W CARROLL AVE   \n",
       "\n",
       "        IUCR         Primary Type                          Description  \\\n",
       "0       0890                THEFT                        FROM BUILDING   \n",
       "1       2825        OTHER OFFENSE              HARASSMENT BY TELEPHONE   \n",
       "2       0917  MOTOR VEHICLE THEFT        CYCLE, SCOOTER, BIKE WITH VIN   \n",
       "3       143A    WEAPONS VIOLATION        UNLAWFUL POSSESSION - HANDGUN   \n",
       "4       0890                THEFT                        FROM BUILDING   \n",
       "...      ...                  ...                                  ...   \n",
       "249118  2826        OTHER OFFENSE       HARASSMENT BY ELECTRONIC MEANS   \n",
       "249119  0430              BATTERY  AGGRAVATED - OTHER DANGEROUS WEAPON   \n",
       "249120  0486              BATTERY              DOMESTIC BATTERY SIMPLE   \n",
       "249121  0530              ASSAULT  AGGRAVATED - OTHER DANGEROUS WEAPON   \n",
       "249122  0710                THEFT             THEFT FROM MOTOR VEHICLE   \n",
       "\n",
       "                Location Description  Arrest  Domestic  ...  Ward  \\\n",
       "0                          APARTMENT   False     False  ...     3   \n",
       "1       COMMERCIAL / BUSINESS OFFICE   False     False  ...    25   \n",
       "2                             STREET   False     False  ...    36   \n",
       "3                             STREET    True     False  ...    28   \n",
       "4                          RESIDENCE   False     False  ...    21   \n",
       "...                              ...     ...       ...  ...   ...   \n",
       "249118                     APARTMENT   False     False  ...     1   \n",
       "249119                        STREET   False     False  ...     9   \n",
       "249120                     APARTMENT   False      True  ...    21   \n",
       "249121                        STREET    True     False  ...    20   \n",
       "249122                        STREET   False     False  ...    27   \n",
       "\n",
       "        Community Area  FBI Code  X Coordinate Y Coordinate  Year  \\\n",
       "0                 38.0        06     1178707.0    1878256.0  2024   \n",
       "1                 31.0        26     1161210.0    1889347.0  2024   \n",
       "2                 23.0        07     1146960.0    1909501.0  2024   \n",
       "3                 26.0        15     1150158.0    1898721.0  2024   \n",
       "4                 75.0        06     1170856.0    1830157.0  2024   \n",
       "...                ...       ...           ...          ...   ...   \n",
       "249118            22.0        26     1156478.0    1917149.0  2025   \n",
       "249119            49.0       04B     1175694.0    1842631.0  2025   \n",
       "249120            71.0       08B     1173850.0    1848976.0  2025   \n",
       "249121            61.0       04A     1169838.0    1871348.0  2025   \n",
       "249122            28.0        06     1168216.0    1902390.0  2025   \n",
       "\n",
       "                    Updated On   Latitude  Longitude  \\\n",
       "0       12/21/2024 03:40:46 PM  41.821236 -87.619921   \n",
       "1       12/21/2024 03:40:46 PM  41.852052 -87.683801   \n",
       "2       12/21/2024 03:40:46 PM  41.907640 -87.735587   \n",
       "3       12/21/2024 03:40:46 PM  41.877997 -87.724121   \n",
       "4       12/21/2024 03:40:46 PM  41.689421 -87.650123   \n",
       "...                        ...        ...        ...   \n",
       "249118  04/19/2025 03:41:24 PM  41.928440 -87.700416   \n",
       "249119  04/19/2025 03:41:24 PM  41.723545 -87.632040   \n",
       "249120  04/19/2025 03:41:24 PM  41.740998 -87.638606   \n",
       "249121  04/19/2025 03:41:24 PM  41.802477 -87.652657   \n",
       "249122  04/19/2025 03:41:24 PM  41.887694 -87.657710   \n",
       "\n",
       "                             Location  \n",
       "0       (41.821236024, -87.619920712)  \n",
       "1       (41.852051675, -87.683800849)  \n",
       "2       (41.907640473, -87.735587478)  \n",
       "3       (41.877997275, -87.724120826)  \n",
       "4         (41.6894214, -87.650123247)  \n",
       "...                               ...  \n",
       "249118  (41.928439867, -87.700415972)  \n",
       "249119  (41.723545182, -87.632039508)  \n",
       "249120   (41.74099774, -87.638606337)  \n",
       "249121  (41.802477219, -87.652657244)  \n",
       "249122  (41.887694407, -87.657710204)  \n",
       "\n",
       "[249123 rows x 22 columns]>"
      ]
     },
     "execution_count": 46,
     "metadata": {},
     "output_type": "execute_result"
    }
   ],
   "source": [
    "crime.info"
   ]
  },
  {
   "cell_type": "code",
   "execution_count": 47,
   "id": "2f5291b2-64e9-4072-972e-3740f67c92e6",
   "metadata": {},
   "outputs": [
    {
     "data": {
      "text/html": [
       "<div>\n",
       "<style scoped>\n",
       "    .dataframe tbody tr th:only-of-type {\n",
       "        vertical-align: middle;\n",
       "    }\n",
       "\n",
       "    .dataframe tbody tr th {\n",
       "        vertical-align: top;\n",
       "    }\n",
       "\n",
       "    .dataframe thead th {\n",
       "        text-align: right;\n",
       "    }\n",
       "</style>\n",
       "<table border=\"1\" class=\"dataframe\">\n",
       "  <thead>\n",
       "    <tr style=\"text-align: right;\">\n",
       "      <th></th>\n",
       "      <th>ID</th>\n",
       "      <th>Beat</th>\n",
       "      <th>District</th>\n",
       "      <th>Ward</th>\n",
       "      <th>Community Area</th>\n",
       "      <th>X Coordinate</th>\n",
       "      <th>Y Coordinate</th>\n",
       "      <th>Year</th>\n",
       "      <th>Latitude</th>\n",
       "      <th>Longitude</th>\n",
       "    </tr>\n",
       "  </thead>\n",
       "  <tbody>\n",
       "    <tr>\n",
       "      <th>count</th>\n",
       "      <td>2.491230e+05</td>\n",
       "      <td>249123.000000</td>\n",
       "      <td>249123.000000</td>\n",
       "      <td>249123.000000</td>\n",
       "      <td>249120.000000</td>\n",
       "      <td>2.490330e+05</td>\n",
       "      <td>2.490330e+05</td>\n",
       "      <td>249123.000000</td>\n",
       "      <td>249033.000000</td>\n",
       "      <td>249033.000000</td>\n",
       "    </tr>\n",
       "    <tr>\n",
       "      <th>mean</th>\n",
       "      <td>1.358652e+07</td>\n",
       "      <td>1153.845634</td>\n",
       "      <td>11.308924</td>\n",
       "      <td>23.186823</td>\n",
       "      <td>36.238560</td>\n",
       "      <td>1.165309e+06</td>\n",
       "      <td>1.887602e+06</td>\n",
       "      <td>2024.241668</td>\n",
       "      <td>41.847162</td>\n",
       "      <td>-87.668845</td>\n",
       "    </tr>\n",
       "    <tr>\n",
       "      <th>std</th>\n",
       "      <td>6.473192e+05</td>\n",
       "      <td>707.959752</td>\n",
       "      <td>7.074807</td>\n",
       "      <td>13.925951</td>\n",
       "      <td>21.567485</td>\n",
       "      <td>1.616814e+04</td>\n",
       "      <td>3.146277e+04</td>\n",
       "      <td>0.428095</td>\n",
       "      <td>0.086517</td>\n",
       "      <td>0.058875</td>\n",
       "    </tr>\n",
       "    <tr>\n",
       "      <th>min</th>\n",
       "      <td>2.807300e+04</td>\n",
       "      <td>111.000000</td>\n",
       "      <td>1.000000</td>\n",
       "      <td>1.000000</td>\n",
       "      <td>1.000000</td>\n",
       "      <td>1.092647e+06</td>\n",
       "      <td>1.813897e+06</td>\n",
       "      <td>2024.000000</td>\n",
       "      <td>41.644590</td>\n",
       "      <td>-87.934567</td>\n",
       "    </tr>\n",
       "    <tr>\n",
       "      <th>25%</th>\n",
       "      <td>1.352322e+07</td>\n",
       "      <td>533.000000</td>\n",
       "      <td>5.000000</td>\n",
       "      <td>10.000000</td>\n",
       "      <td>22.000000</td>\n",
       "      <td>1.153981e+06</td>\n",
       "      <td>1.860560e+06</td>\n",
       "      <td>2024.000000</td>\n",
       "      <td>41.772706</td>\n",
       "      <td>-87.710071</td>\n",
       "    </tr>\n",
       "    <tr>\n",
       "      <th>50%</th>\n",
       "      <td>1.361560e+07</td>\n",
       "      <td>1034.000000</td>\n",
       "      <td>10.000000</td>\n",
       "      <td>23.000000</td>\n",
       "      <td>32.000000</td>\n",
       "      <td>1.167190e+06</td>\n",
       "      <td>1.894278e+06</td>\n",
       "      <td>2024.000000</td>\n",
       "      <td>41.865616</td>\n",
       "      <td>-87.661690</td>\n",
       "    </tr>\n",
       "    <tr>\n",
       "      <th>75%</th>\n",
       "      <td>1.370865e+07</td>\n",
       "      <td>1732.000000</td>\n",
       "      <td>17.000000</td>\n",
       "      <td>34.000000</td>\n",
       "      <td>53.000000</td>\n",
       "      <td>1.176662e+06</td>\n",
       "      <td>1.910282e+06</td>\n",
       "      <td>2024.000000</td>\n",
       "      <td>41.909711</td>\n",
       "      <td>-87.627233</td>\n",
       "    </tr>\n",
       "    <tr>\n",
       "      <th>max</th>\n",
       "      <td>1.381045e+07</td>\n",
       "      <td>2535.000000</td>\n",
       "      <td>31.000000</td>\n",
       "      <td>50.000000</td>\n",
       "      <td>77.000000</td>\n",
       "      <td>1.205119e+06</td>\n",
       "      <td>1.951517e+06</td>\n",
       "      <td>2025.000000</td>\n",
       "      <td>42.022559</td>\n",
       "      <td>-87.524531</td>\n",
       "    </tr>\n",
       "  </tbody>\n",
       "</table>\n",
       "</div>"
      ],
      "text/plain": [
       "                 ID           Beat       District           Ward  \\\n",
       "count  2.491230e+05  249123.000000  249123.000000  249123.000000   \n",
       "mean   1.358652e+07    1153.845634      11.308924      23.186823   \n",
       "std    6.473192e+05     707.959752       7.074807      13.925951   \n",
       "min    2.807300e+04     111.000000       1.000000       1.000000   \n",
       "25%    1.352322e+07     533.000000       5.000000      10.000000   \n",
       "50%    1.361560e+07    1034.000000      10.000000      23.000000   \n",
       "75%    1.370865e+07    1732.000000      17.000000      34.000000   \n",
       "max    1.381045e+07    2535.000000      31.000000      50.000000   \n",
       "\n",
       "       Community Area  X Coordinate  Y Coordinate           Year  \\\n",
       "count   249120.000000  2.490330e+05  2.490330e+05  249123.000000   \n",
       "mean        36.238560  1.165309e+06  1.887602e+06    2024.241668   \n",
       "std         21.567485  1.616814e+04  3.146277e+04       0.428095   \n",
       "min          1.000000  1.092647e+06  1.813897e+06    2024.000000   \n",
       "25%         22.000000  1.153981e+06  1.860560e+06    2024.000000   \n",
       "50%         32.000000  1.167190e+06  1.894278e+06    2024.000000   \n",
       "75%         53.000000  1.176662e+06  1.910282e+06    2024.000000   \n",
       "max         77.000000  1.205119e+06  1.951517e+06    2025.000000   \n",
       "\n",
       "            Latitude      Longitude  \n",
       "count  249033.000000  249033.000000  \n",
       "mean       41.847162     -87.668845  \n",
       "std         0.086517       0.058875  \n",
       "min        41.644590     -87.934567  \n",
       "25%        41.772706     -87.710071  \n",
       "50%        41.865616     -87.661690  \n",
       "75%        41.909711     -87.627233  \n",
       "max        42.022559     -87.524531  "
      ]
     },
     "execution_count": 47,
     "metadata": {},
     "output_type": "execute_result"
    }
   ],
   "source": [
    "crime.describe()"
   ]
  },
  {
   "cell_type": "code",
   "execution_count": 48,
   "id": "c512d71e-c203-4668-bed1-7971304c46d3",
   "metadata": {},
   "outputs": [
    {
     "data": {
      "text/html": [
       "<div>\n",
       "<style scoped>\n",
       "    .dataframe tbody tr th:only-of-type {\n",
       "        vertical-align: middle;\n",
       "    }\n",
       "\n",
       "    .dataframe tbody tr th {\n",
       "        vertical-align: top;\n",
       "    }\n",
       "\n",
       "    .dataframe thead th {\n",
       "        text-align: right;\n",
       "    }\n",
       "</style>\n",
       "<table border=\"1\" class=\"dataframe\">\n",
       "  <thead>\n",
       "    <tr style=\"text-align: right;\">\n",
       "      <th></th>\n",
       "      <th>count</th>\n",
       "      <th>mean</th>\n",
       "      <th>std</th>\n",
       "      <th>min</th>\n",
       "      <th>25%</th>\n",
       "      <th>50%</th>\n",
       "      <th>75%</th>\n",
       "      <th>max</th>\n",
       "    </tr>\n",
       "  </thead>\n",
       "  <tbody>\n",
       "    <tr>\n",
       "      <th>ID</th>\n",
       "      <td>249123.0</td>\n",
       "      <td>1.358652e+07</td>\n",
       "      <td>647319.161410</td>\n",
       "      <td>2.807300e+04</td>\n",
       "      <td>1.352322e+07</td>\n",
       "      <td>1.361560e+07</td>\n",
       "      <td>1.370865e+07</td>\n",
       "      <td>1.381045e+07</td>\n",
       "    </tr>\n",
       "    <tr>\n",
       "      <th>Beat</th>\n",
       "      <td>249123.0</td>\n",
       "      <td>1.153846e+03</td>\n",
       "      <td>707.959752</td>\n",
       "      <td>1.110000e+02</td>\n",
       "      <td>5.330000e+02</td>\n",
       "      <td>1.034000e+03</td>\n",
       "      <td>1.732000e+03</td>\n",
       "      <td>2.535000e+03</td>\n",
       "    </tr>\n",
       "    <tr>\n",
       "      <th>District</th>\n",
       "      <td>249123.0</td>\n",
       "      <td>1.130892e+01</td>\n",
       "      <td>7.074807</td>\n",
       "      <td>1.000000e+00</td>\n",
       "      <td>5.000000e+00</td>\n",
       "      <td>1.000000e+01</td>\n",
       "      <td>1.700000e+01</td>\n",
       "      <td>3.100000e+01</td>\n",
       "    </tr>\n",
       "    <tr>\n",
       "      <th>Ward</th>\n",
       "      <td>249123.0</td>\n",
       "      <td>2.318682e+01</td>\n",
       "      <td>13.925951</td>\n",
       "      <td>1.000000e+00</td>\n",
       "      <td>1.000000e+01</td>\n",
       "      <td>2.300000e+01</td>\n",
       "      <td>3.400000e+01</td>\n",
       "      <td>5.000000e+01</td>\n",
       "    </tr>\n",
       "    <tr>\n",
       "      <th>Community Area</th>\n",
       "      <td>249120.0</td>\n",
       "      <td>3.623856e+01</td>\n",
       "      <td>21.567485</td>\n",
       "      <td>1.000000e+00</td>\n",
       "      <td>2.200000e+01</td>\n",
       "      <td>3.200000e+01</td>\n",
       "      <td>5.300000e+01</td>\n",
       "      <td>7.700000e+01</td>\n",
       "    </tr>\n",
       "    <tr>\n",
       "      <th>X Coordinate</th>\n",
       "      <td>249033.0</td>\n",
       "      <td>1.165309e+06</td>\n",
       "      <td>16168.139632</td>\n",
       "      <td>1.092647e+06</td>\n",
       "      <td>1.153981e+06</td>\n",
       "      <td>1.167190e+06</td>\n",
       "      <td>1.176662e+06</td>\n",
       "      <td>1.205119e+06</td>\n",
       "    </tr>\n",
       "    <tr>\n",
       "      <th>Y Coordinate</th>\n",
       "      <td>249033.0</td>\n",
       "      <td>1.887602e+06</td>\n",
       "      <td>31462.770629</td>\n",
       "      <td>1.813897e+06</td>\n",
       "      <td>1.860560e+06</td>\n",
       "      <td>1.894278e+06</td>\n",
       "      <td>1.910282e+06</td>\n",
       "      <td>1.951517e+06</td>\n",
       "    </tr>\n",
       "    <tr>\n",
       "      <th>Year</th>\n",
       "      <td>249123.0</td>\n",
       "      <td>2.024242e+03</td>\n",
       "      <td>0.428095</td>\n",
       "      <td>2.024000e+03</td>\n",
       "      <td>2.024000e+03</td>\n",
       "      <td>2.024000e+03</td>\n",
       "      <td>2.024000e+03</td>\n",
       "      <td>2.025000e+03</td>\n",
       "    </tr>\n",
       "    <tr>\n",
       "      <th>Latitude</th>\n",
       "      <td>249033.0</td>\n",
       "      <td>4.184716e+01</td>\n",
       "      <td>0.086517</td>\n",
       "      <td>4.164459e+01</td>\n",
       "      <td>4.177271e+01</td>\n",
       "      <td>4.186562e+01</td>\n",
       "      <td>4.190971e+01</td>\n",
       "      <td>4.202256e+01</td>\n",
       "    </tr>\n",
       "    <tr>\n",
       "      <th>Longitude</th>\n",
       "      <td>249033.0</td>\n",
       "      <td>-8.766884e+01</td>\n",
       "      <td>0.058875</td>\n",
       "      <td>-8.793457e+01</td>\n",
       "      <td>-8.771007e+01</td>\n",
       "      <td>-8.766169e+01</td>\n",
       "      <td>-8.762723e+01</td>\n",
       "      <td>-8.752453e+01</td>\n",
       "    </tr>\n",
       "  </tbody>\n",
       "</table>\n",
       "</div>"
      ],
      "text/plain": [
       "                   count          mean            std           min  \\\n",
       "ID              249123.0  1.358652e+07  647319.161410  2.807300e+04   \n",
       "Beat            249123.0  1.153846e+03     707.959752  1.110000e+02   \n",
       "District        249123.0  1.130892e+01       7.074807  1.000000e+00   \n",
       "Ward            249123.0  2.318682e+01      13.925951  1.000000e+00   \n",
       "Community Area  249120.0  3.623856e+01      21.567485  1.000000e+00   \n",
       "X Coordinate    249033.0  1.165309e+06   16168.139632  1.092647e+06   \n",
       "Y Coordinate    249033.0  1.887602e+06   31462.770629  1.813897e+06   \n",
       "Year            249123.0  2.024242e+03       0.428095  2.024000e+03   \n",
       "Latitude        249033.0  4.184716e+01       0.086517  4.164459e+01   \n",
       "Longitude       249033.0 -8.766884e+01       0.058875 -8.793457e+01   \n",
       "\n",
       "                         25%           50%           75%           max  \n",
       "ID              1.352322e+07  1.361560e+07  1.370865e+07  1.381045e+07  \n",
       "Beat            5.330000e+02  1.034000e+03  1.732000e+03  2.535000e+03  \n",
       "District        5.000000e+00  1.000000e+01  1.700000e+01  3.100000e+01  \n",
       "Ward            1.000000e+01  2.300000e+01  3.400000e+01  5.000000e+01  \n",
       "Community Area  2.200000e+01  3.200000e+01  5.300000e+01  7.700000e+01  \n",
       "X Coordinate    1.153981e+06  1.167190e+06  1.176662e+06  1.205119e+06  \n",
       "Y Coordinate    1.860560e+06  1.894278e+06  1.910282e+06  1.951517e+06  \n",
       "Year            2.024000e+03  2.024000e+03  2.024000e+03  2.025000e+03  \n",
       "Latitude        4.177271e+01  4.186562e+01  4.190971e+01  4.202256e+01  \n",
       "Longitude      -8.771007e+01 -8.766169e+01 -8.762723e+01 -8.752453e+01  "
      ]
     },
     "execution_count": 48,
     "metadata": {},
     "output_type": "execute_result"
    }
   ],
   "source": [
    "crime.describe().T"
   ]
  },
  {
   "cell_type": "code",
   "execution_count": 49,
   "id": "e24f982c-2e7a-470f-8d97-fc635b11df39",
   "metadata": {},
   "outputs": [
    {
     "data": {
      "text/plain": [
       "ID                        0\n",
       "Case Number               0\n",
       "Date                      0\n",
       "Block                     0\n",
       "IUCR                      0\n",
       "Primary Type              0\n",
       "Description               0\n",
       "Location Description    857\n",
       "Arrest                    0\n",
       "Domestic                  0\n",
       "Beat                      0\n",
       "District                  0\n",
       "Ward                      0\n",
       "Community Area            3\n",
       "FBI Code                  0\n",
       "X Coordinate             90\n",
       "Y Coordinate             90\n",
       "Year                      0\n",
       "Updated On                0\n",
       "Latitude                 90\n",
       "Longitude                90\n",
       "Location                 90\n",
       "dtype: int64"
      ]
     },
     "execution_count": 49,
     "metadata": {},
     "output_type": "execute_result"
    }
   ],
   "source": [
    "crime.isnull().sum()"
   ]
  },
  {
   "cell_type": "code",
   "execution_count": 50,
   "id": "ba91a77a-cb56-4db4-a722-4ad9bb3f46d6",
   "metadata": {},
   "outputs": [],
   "source": [
    "crime['Location Description'] = crime['Location Description'].fillna(crime['Location Description'].mode()[0])\n",
    "crime['Community Area'] = crime['Community Area'].fillna(crime['Community Area'].mode()[0])\n",
    "crime['X Coordinate'] = crime['X Coordinate'].fillna(crime['X Coordinate'].mode()[0])\n",
    "crime['Y Coordinate'] = crime['Y Coordinate'].fillna(crime['Y Coordinate'].mode()[0])\n",
    "crime['Latitude'] = crime['Latitude'].fillna(crime['Latitude'].mode()[0])\n",
    "crime['Longitude'] = crime['Longitude'].fillna(crime['Longitude'].mode()[0])\n",
    "crime['Location'] = crime['Location'].fillna(crime['Location'].mode()[0])"
   ]
  },
  {
   "cell_type": "code",
   "execution_count": 51,
   "id": "cbeba9d6-056e-4575-bfc1-f7dfb76de164",
   "metadata": {},
   "outputs": [
    {
     "data": {
      "text/plain": [
       "ID                      0\n",
       "Case Number             0\n",
       "Date                    0\n",
       "Block                   0\n",
       "IUCR                    0\n",
       "Primary Type            0\n",
       "Description             0\n",
       "Location Description    0\n",
       "Arrest                  0\n",
       "Domestic                0\n",
       "Beat                    0\n",
       "District                0\n",
       "Ward                    0\n",
       "Community Area          0\n",
       "FBI Code                0\n",
       "X Coordinate            0\n",
       "Y Coordinate            0\n",
       "Year                    0\n",
       "Updated On              0\n",
       "Latitude                0\n",
       "Longitude               0\n",
       "Location                0\n",
       "dtype: int64"
      ]
     },
     "execution_count": 51,
     "metadata": {},
     "output_type": "execute_result"
    }
   ],
   "source": [
    "crime.isnull().sum()"
   ]
  },
  {
   "cell_type": "code",
   "execution_count": 52,
   "id": "61245984-fde7-40e0-b6cd-2ba76d7cf759",
   "metadata": {},
   "outputs": [
    {
     "data": {
      "text/plain": [
       "ID                        int64\n",
       "Case Number              object\n",
       "Date                     object\n",
       "Block                    object\n",
       "IUCR                     object\n",
       "Primary Type             object\n",
       "Description              object\n",
       "Location Description     object\n",
       "Arrest                     bool\n",
       "Domestic                   bool\n",
       "Beat                      int64\n",
       "District                  int64\n",
       "Ward                      int64\n",
       "Community Area          float64\n",
       "FBI Code                 object\n",
       "X Coordinate            float64\n",
       "Y Coordinate            float64\n",
       "Year                      int64\n",
       "Updated On               object\n",
       "Latitude                float64\n",
       "Longitude               float64\n",
       "Location                 object\n",
       "dtype: object"
      ]
     },
     "execution_count": 52,
     "metadata": {},
     "output_type": "execute_result"
    }
   ],
   "source": [
    "crime.dtypes"
   ]
  },
  {
   "cell_type": "code",
   "execution_count": 53,
   "id": "edb66f7e-c2f0-405c-b108-01d81c7b73de",
   "metadata": {},
   "outputs": [],
   "source": [
    "crime['Case Number'] = crime['Case Number'].astype('category')\n",
    "crime['Date'] = crime['Date'].astype('category')\n",
    "crime['Block'] = crime['Block'].astype('category')\n",
    "crime['IUCR'] = crime['IUCR'].astype('category')\n",
    "crime['Primary Type'] = crime['Primary Type'].astype('category')\n",
    "crime['Description'] = crime['Description'].astype('category')\n",
    "crime['Location Description'] = crime['Location Description'].astype('category')\n",
    "crime['Arrest'] = crime['Arrest'].astype('category')\n",
    "crime['Domestic'] = crime['Domestic'].astype('category')\n",
    "crime['Community Area'] = crime['Community Area'].astype('category')\n",
    "crime['FBI Code'] = crime['FBI Code'].astype('category')\n",
    "crime['X Coordinate'] = crime['X Coordinate'].astype('category')\n",
    "crime['Y Coordinate'] = crime['Y Coordinate'].astype('category')\n",
    "crime['Updated On'] = crime['Updated On'].astype('category')\n",
    "crime['Latitude'] = crime['Latitude'].astype('category')\n",
    "crime['Longitude'] = crime['Longitude'].astype('category')\n",
    "crime['Location'] = crime['Location'].astype('category')"
   ]
  },
  {
   "cell_type": "code",
   "execution_count": 54,
   "id": "bff7c500-02e7-4faa-b509-3613e947f989",
   "metadata": {},
   "outputs": [
    {
     "data": {
      "text/plain": [
       "ID                         int64\n",
       "Case Number             category\n",
       "Date                    category\n",
       "Block                   category\n",
       "IUCR                    category\n",
       "Primary Type            category\n",
       "Description             category\n",
       "Location Description    category\n",
       "Arrest                  category\n",
       "Domestic                category\n",
       "Beat                       int64\n",
       "District                   int64\n",
       "Ward                       int64\n",
       "Community Area          category\n",
       "FBI Code                category\n",
       "X Coordinate            category\n",
       "Y Coordinate            category\n",
       "Year                       int64\n",
       "Updated On              category\n",
       "Latitude                category\n",
       "Longitude               category\n",
       "Location                category\n",
       "dtype: object"
      ]
     },
     "execution_count": 54,
     "metadata": {},
     "output_type": "execute_result"
    }
   ],
   "source": [
    "crime.dtypes"
   ]
  },
  {
   "cell_type": "code",
   "execution_count": 55,
   "id": "bff85d48-8424-4a3a-ac3d-4e14e5456ef2",
   "metadata": {},
   "outputs": [],
   "source": [
    "crime['Date'] = crime['Date'].astype('str')\n",
    "crime['Date'] = crime['Date'].str.strip()\n",
    "crime['Date'] = crime['Date'].str.replace('/','-')"
   ]
  },
  {
   "cell_type": "code",
   "execution_count": 56,
   "id": "76eea1ed-ae0d-45c5-9ae0-98f46d0604af",
   "metadata": {},
   "outputs": [],
   "source": [
    "crime['Date'] = pd.to_datetime(crime['Date'],dayfirst=True,errors = 'coerce')"
   ]
  },
  {
   "cell_type": "code",
   "execution_count": 165,
   "id": "b093aa04-461a-41a5-8670-e318c8f17165",
   "metadata": {},
   "outputs": [],
   "source": [
    "crime['Year'] = crime['Date'].dt.year\n",
    "crime['Month'] = crime['Date'].dt.month\n",
    "crime['DayofWeek'] = crime['Date'].dt.dayofweek\n",
    "crime['Day'] = crime['Date'].dt.day\n",
    "crime['Hour'] = crime['Date'].dt.hour"
   ]
  },
  {
   "cell_type": "code",
   "execution_count": 58,
   "id": "8a264fae-3893-4c59-8807-b8e9fb5193ea",
   "metadata": {},
   "outputs": [
    {
     "data": {
      "text/plain": [
       "ID                      0\n",
       "Case Number             0\n",
       "Date                    0\n",
       "Block                   0\n",
       "IUCR                    0\n",
       "Primary Type            0\n",
       "Description             0\n",
       "Location Description    0\n",
       "Arrest                  0\n",
       "Domestic                0\n",
       "Beat                    0\n",
       "District                0\n",
       "Ward                    0\n",
       "Community Area          0\n",
       "FBI Code                0\n",
       "X Coordinate            0\n",
       "Y Coordinate            0\n",
       "Year                    0\n",
       "Updated On              0\n",
       "Latitude                0\n",
       "Longitude               0\n",
       "Location                0\n",
       "Month                   0\n",
       "DayofWeek               0\n",
       "Day                     0\n",
       "dtype: int64"
      ]
     },
     "execution_count": 58,
     "metadata": {},
     "output_type": "execute_result"
    }
   ],
   "source": [
    "crime.isnull().sum()"
   ]
  },
  {
   "cell_type": "code",
   "execution_count": 59,
   "id": "d7c431ec-d81c-4bd9-851a-59bcc58bf4f5",
   "metadata": {},
   "outputs": [],
   "source": [
    "crime['Year'] = crime['Year'].astype('category')\n",
    "crime['Month'] = crime['Month'].astype('category')\n",
    "crime['DayofWeek'] = crime['DayofWeek'].astype('category')\n",
    "crime['Day'] = crime['Day'].astype('category')"
   ]
  },
  {
   "cell_type": "code",
   "execution_count": 60,
   "id": "34bedcb3-db4a-42ba-ac14-50bdaead18e3",
   "metadata": {},
   "outputs": [
    {
     "data": {
      "text/plain": [
       "ID                               int64\n",
       "Case Number                   category\n",
       "Date                    datetime64[ns]\n",
       "Block                         category\n",
       "IUCR                          category\n",
       "Primary Type                  category\n",
       "Description                   category\n",
       "Location Description          category\n",
       "Arrest                        category\n",
       "Domestic                      category\n",
       "Beat                             int64\n",
       "District                         int64\n",
       "Ward                             int64\n",
       "Community Area                category\n",
       "FBI Code                      category\n",
       "X Coordinate                  category\n",
       "Y Coordinate                  category\n",
       "Year                          category\n",
       "Updated On                    category\n",
       "Latitude                      category\n",
       "Longitude                     category\n",
       "Location                      category\n",
       "Month                         category\n",
       "DayofWeek                     category\n",
       "Day                           category\n",
       "dtype: object"
      ]
     },
     "execution_count": 60,
     "metadata": {},
     "output_type": "execute_result"
    }
   ],
   "source": [
    "crime.dtypes"
   ]
  },
  {
   "cell_type": "markdown",
   "id": "2ddada5c-ec7c-44bd-a5db-8e13dea3217a",
   "metadata": {},
   "source": [
    "<h1>35 Insights Examination</h1>"
   ]
  },
  {
   "cell_type": "markdown",
   "id": "c9683296-0527-4638-9708-243e8c5abb11",
   "metadata": {},
   "source": [
    "<h1>Crime in Chicago 2024 - 2025</h1>\n",
    "<img src='https://media.cntraveler.com/photos/61e85b9414715b6c92bc1d97/16:9/w_7785,h_4379,c_limit/Urban%20Kayaks_GettyImages-1033823756.jpg' />"
   ]
  },
  {
   "cell_type": "markdown",
   "id": "5bad4cdd-ee0c-4b97-ae59-ebe955b480c9",
   "metadata": {},
   "source": [
    "<hr></hr>"
   ]
  },
  {
   "cell_type": "markdown",
   "id": "5a4832ba-907c-45c2-8d0b-43af01f5e4b7",
   "metadata": {},
   "source": [
    "<h1>1. Give me 5 Location Description has most crimes in Chicago and the lowest crime in the Location Description?</h1>"
   ]
  },
  {
   "cell_type": "code",
   "execution_count": 130,
   "id": "9bd54fa6-2f2e-4580-b2ac-9336acd4e607",
   "metadata": {},
   "outputs": [
    {
     "data": {
      "text/plain": [
       "0                            APARTMENT\n",
       "1         COMMERCIAL / BUSINESS OFFICE\n",
       "2                               STREET\n",
       "3                               STREET\n",
       "4                            RESIDENCE\n",
       "                      ...             \n",
       "249118                       APARTMENT\n",
       "249119                          STREET\n",
       "249120                       APARTMENT\n",
       "249121                          STREET\n",
       "249122                          STREET\n",
       "Name: Location Description, Length: 249123, dtype: category\n",
       "Categories (128, object): ['ABANDONED BUILDING', 'AIRCRAFT', 'AIRPORT BUILDING NON-TERMINAL - NON-SECURE AREA', 'AIRPORT BUILDING NON-TERMINAL - SECURE AREA', ..., 'VEHICLE - OTHER RIDE SHARE SERVICE (LYFT, UBE..., 'VEHICLE NON-COMMERCIAL', 'WAREHOUSE', 'YARD']"
      ]
     },
     "execution_count": 130,
     "metadata": {},
     "output_type": "execute_result"
    }
   ],
   "source": [
    "crime['Location Description']"
   ]
  },
  {
   "cell_type": "code",
   "execution_count": 61,
   "id": "b8dae06b-8273-4cb6-83a5-89e81c0ea3ad",
   "metadata": {},
   "outputs": [
    {
     "data": {
      "text/plain": [
       "['APARTMENT', 'COMMERCIAL / BUSINESS OFFICE', 'STREET', 'RESIDENCE', 'RESIDENCE - PORCH / HALLWAY', ..., 'SAVINGS AND LOAN', 'RETAIL STORE', 'HOTEL', 'CHA STAIRWELL', 'CTA \"L\" PLATFORM']\n",
       "Length: 128\n",
       "Categories (128, object): ['ABANDONED BUILDING', 'AIRCRAFT', 'AIRPORT BUILDING NON-TERMINAL - NON-SECURE AREA', 'AIRPORT BUILDING NON-TERMINAL - SECURE AREA', ..., 'VEHICLE - OTHER RIDE SHARE SERVICE (LYFT, UBE..., 'VEHICLE NON-COMMERCIAL', 'WAREHOUSE', 'YARD']"
      ]
     },
     "execution_count": 61,
     "metadata": {},
     "output_type": "execute_result"
    }
   ],
   "source": [
    "crime['Location Description'].unique()"
   ]
  },
  {
   "cell_type": "code",
   "execution_count": 62,
   "id": "9c236bf9-9c6d-4636-a57a-cbcb5f160411",
   "metadata": {},
   "outputs": [
    {
     "data": {
      "text/plain": [
       "np.int64(47787)"
      ]
     },
     "execution_count": 62,
     "metadata": {},
     "output_type": "execute_result"
    }
   ],
   "source": [
    "crime[crime['Location Description'] == 'APARTMENT'].value_counts().sum()"
   ]
  },
  {
   "cell_type": "code",
   "execution_count": 63,
   "id": "daeb17e5-4bbe-48b9-a628-a8459d6b7555",
   "metadata": {},
   "outputs": [
    {
     "data": {
      "text/plain": [
       "np.int64(3712)"
      ]
     },
     "execution_count": 63,
     "metadata": {},
     "output_type": "execute_result"
    }
   ],
   "source": [
    "crime[crime['Location Description'] == 'COMMERCIAL / BUSINESS OFFICE'].value_counts().sum()"
   ]
  },
  {
   "cell_type": "code",
   "execution_count": 64,
   "id": "b4cdc614-d97d-4d65-ae4f-10c7255d9aa1",
   "metadata": {},
   "outputs": [
    {
     "data": {
      "text/plain": [
       "np.int64(66897)"
      ]
     },
     "execution_count": 64,
     "metadata": {},
     "output_type": "execute_result"
    }
   ],
   "source": [
    "crime[crime['Location Description'] == 'STREET'].value_counts().sum()"
   ]
  },
  {
   "cell_type": "code",
   "execution_count": 65,
   "id": "e32762f8-a57b-49cb-bd51-f581fa3067d0",
   "metadata": {},
   "outputs": [
    {
     "data": {
      "text/plain": [
       "np.int64(29776)"
      ]
     },
     "execution_count": 65,
     "metadata": {},
     "output_type": "execute_result"
    }
   ],
   "source": [
    "crime[crime['Location Description'] == 'RESIDENCE'].value_counts().sum()"
   ]
  },
  {
   "cell_type": "code",
   "execution_count": 66,
   "id": "f08004b0-00de-4468-af97-ca4236d49f49",
   "metadata": {},
   "outputs": [
    {
     "data": {
      "text/plain": [
       "np.int64(2988)"
      ]
     },
     "execution_count": 66,
     "metadata": {},
     "output_type": "execute_result"
    }
   ],
   "source": [
    "crime[crime['Location Description'] == 'RESIDENCE - PORCH / HALLWAY'].value_counts().sum()"
   ]
  },
  {
   "cell_type": "code",
   "execution_count": 67,
   "id": "193f6c1e-d20e-47e3-9e85-bc1695776f67",
   "metadata": {},
   "outputs": [
    {
     "data": {
      "text/plain": [
       "np.int64(14)"
      ]
     },
     "execution_count": 67,
     "metadata": {},
     "output_type": "execute_result"
    }
   ],
   "source": [
    "crime[crime['Location Description'] == 'YARD'].value_counts().sum()"
   ]
  },
  {
   "cell_type": "markdown",
   "id": "cac365c5-ec93-4d32-94b8-f243312ab0bf",
   "metadata": {},
   "source": [
    "<b>Insight 1<b>"
   ]
  },
  {
   "cell_type": "markdown",
   "id": "3f555f31-287f-49b9-8c23-87e932bd4acc",
   "metadata": {},
   "source": [
    "<i> The highest crime in located description is STREETS (66897)</i>"
   ]
  },
  {
   "cell_type": "markdown",
   "id": "2672c1e2-2dd7-45e6-ad5f-e2e652abcb12",
   "metadata": {},
   "source": [
    "<b>Insight 2<b>"
   ]
  },
  {
   "cell_type": "markdown",
   "id": "cd34bdcc-e09f-4753-809f-ecea818076d4",
   "metadata": {},
   "source": [
    "<i> The second highest crime in located description is APARTMENTS (47784)</i>"
   ]
  },
  {
   "cell_type": "markdown",
   "id": "dfb37faf-8c87-4750-8492-ddb413889c5e",
   "metadata": {},
   "source": [
    "<b>Insight 3<b>"
   ]
  },
  {
   "cell_type": "markdown",
   "id": "1cba45d6-e600-4e8d-b8cf-fd193aef18d3",
   "metadata": {},
   "source": [
    "<i>The third highest crime in located description is RESIDENCE (29776)<i>"
   ]
  },
  {
   "cell_type": "markdown",
   "id": "59998874-1d67-4dfd-9d8d-ea8bf8466cc3",
   "metadata": {},
   "source": [
    "<b>Insight 4<b>"
   ]
  },
  {
   "cell_type": "markdown",
   "id": "30e20f5e-e07b-4819-8592-c9aebe11a4f1",
   "metadata": {},
   "source": [
    "<i>The fourth crime in located description is COMMERCIAL / BUSINESS OFFICE (3712)"
   ]
  },
  {
   "cell_type": "markdown",
   "id": "b55c05cf-3299-44ce-bc4b-3658c3275f7e",
   "metadata": {},
   "source": [
    "<b>Insight 5<b>"
   ]
  },
  {
   "cell_type": "markdown",
   "id": "bc23a443-3eff-4ca0-8a12-0b0b79a4c6e5",
   "metadata": {},
   "source": [
    "<i> The fifth crime in located description is RESIDENCE - PORCH/HALLWAY (2988)</i>"
   ]
  },
  {
   "cell_type": "markdown",
   "id": "256a5c05-d75a-44d8-9b4c-0bae57dcf3a6",
   "metadata": {},
   "source": [
    "<b>Insight 6<b>"
   ]
  },
  {
   "cell_type": "markdown",
   "id": "7587d291-b00a-4a7e-a387-2d6eb2b59dc7",
   "metadata": {},
   "source": [
    "<i> The lowest crime in located description is Yard (14)</i>"
   ]
  },
  {
   "cell_type": "markdown",
   "id": "3d9437eb-8569-4ba8-a165-1c8f6b48b7c0",
   "metadata": {},
   "source": [
    "<h1>2.What is the distribution of crimes by month?</h1>"
   ]
  },
  {
   "cell_type": "code",
   "execution_count": 68,
   "id": "82939e26-d3fa-43b5-9f6b-ad60c0a18f37",
   "metadata": {},
   "outputs": [
    {
     "data": {
      "text/plain": [
       "0                       THEFT\n",
       "1               OTHER OFFENSE\n",
       "2         MOTOR VEHICLE THEFT\n",
       "3           WEAPONS VIOLATION\n",
       "4                       THEFT\n",
       "                 ...         \n",
       "249118          OTHER OFFENSE\n",
       "249119                BATTERY\n",
       "249120                BATTERY\n",
       "249121                ASSAULT\n",
       "249122                  THEFT\n",
       "Name: Primary Type, Length: 249123, dtype: category\n",
       "Categories (31, object): ['ARSON', 'ASSAULT', 'BATTERY', 'BURGLARY', ..., 'SEX OFFENSE', 'STALKING', 'THEFT', 'WEAPONS VIOLATION']"
      ]
     },
     "execution_count": 68,
     "metadata": {},
     "output_type": "execute_result"
    }
   ],
   "source": [
    "crime['Primary Type']"
   ]
  },
  {
   "cell_type": "code",
   "execution_count": 69,
   "id": "ee2b00ea-08a8-4540-ba12-e8cb89b028b2",
   "metadata": {},
   "outputs": [
    {
     "data": {
      "text/plain": [
       "['THEFT', 'OTHER OFFENSE', 'MOTOR VEHICLE THEFT', 'WEAPONS VIOLATION', 'BATTERY', ..., 'OBSCENITY', 'PUBLIC INDECENCY', 'HUMAN TRAFFICKING', 'OTHER NARCOTIC VIOLATION', 'NON-CRIMINAL']\n",
       "Length: 31\n",
       "Categories (31, object): ['ARSON', 'ASSAULT', 'BATTERY', 'BURGLARY', ..., 'SEX OFFENSE', 'STALKING', 'THEFT', 'WEAPONS VIOLATION']"
      ]
     },
     "execution_count": 69,
     "metadata": {},
     "output_type": "execute_result"
    }
   ],
   "source": [
    "crime['Primary Type'].unique()"
   ]
  },
  {
   "cell_type": "code",
   "execution_count": 70,
   "id": "4ac3682c-3ba7-4d24-9ff6-74d8ac59f538",
   "metadata": {},
   "outputs": [
    {
     "data": {
      "text/plain": [
       "Primary Type\n",
       "THEFT                                59201\n",
       "BATTERY                              44579\n",
       "CRIMINAL DAMAGE                      27094\n",
       "ASSAULT                              22615\n",
       "MOTOR VEHICLE THEFT                  19604\n",
       "OTHER OFFENSE                        16781\n",
       "DECEPTIVE PRACTICE                   14991\n",
       "BURGLARY                              8443\n",
       "ROBBERY                               8200\n",
       "WEAPONS VIOLATION                     7164\n",
       "NARCOTICS                             6627\n",
       "CRIMINAL TRESPASS                     5045\n",
       "OFFENSE INVOLVING CHILDREN            1597\n",
       "CRIMINAL SEXUAL ASSAULT               1573\n",
       "SEX OFFENSE                           1210\n",
       "PUBLIC PEACE VIOLATION                1006\n",
       "INTERFERENCE WITH PUBLIC OFFICER       771\n",
       "HOMICIDE                               553\n",
       "STALKING                               520\n",
       "ARSON                                  452\n",
       "PROSTITUTION                           287\n",
       "CONCEALED CARRY LICENSE VIOLATION      249\n",
       "LIQUOR LAW VIOLATION                   192\n",
       "INTIMIDATION                           145\n",
       "KIDNAPPING                             105\n",
       "OBSCENITY                               53\n",
       "HUMAN TRAFFICKING                       24\n",
       "GAMBLING                                18\n",
       "PUBLIC INDECENCY                        13\n",
       "OTHER NARCOTIC VIOLATION                 7\n",
       "NON-CRIMINAL                             4\n",
       "Name: count, dtype: int64"
      ]
     },
     "execution_count": 70,
     "metadata": {},
     "output_type": "execute_result"
    }
   ],
   "source": [
    "crime['Primary Type'].value_counts()"
   ]
  },
  {
   "cell_type": "markdown",
   "id": "dae080a2-75ee-440e-b893-1bbfc074d574",
   "metadata": {},
   "source": [
    "<b>Insight 7-8<b>"
   ]
  },
  {
   "cell_type": "markdown",
   "id": "d07272f8-847e-406e-84e1-52ac0da90055",
   "metadata": {},
   "source": [
    "<i>The highest primary type is Theft (59201) and the lowest is non-criminal (4)<i>"
   ]
  },
  {
   "cell_type": "markdown",
   "id": "5b3129db-bee2-4de9-9f1c-9bff54a721c8",
   "metadata": {},
   "source": [
    "<b>Insight 9-10<b>"
   ]
  },
  {
   "cell_type": "markdown",
   "id": "cbaf022b-f074-4c4d-aded-2ad59a95fff1",
   "metadata": {},
   "source": [
    "<i>From May to October, crime levels are consistently high (all above 21,000), suggesting that warmer months generally see more crime.<i>"
   ]
  },
  {
   "cell_type": "markdown",
   "id": "d0fafeba-2c75-48e1-a360-d753c96ad896",
   "metadata": {},
   "source": [
    "<i>The overall trend suggests a seasonal pattern, with crime rising in spring and peaking in summer, then declining towards winter.</i>"
   ]
  },
  {
   "cell_type": "code",
   "execution_count": 71,
   "id": "9a963f04-71ff-41ef-8563-f635124ab5ba",
   "metadata": {},
   "outputs": [
    {
     "data": {
      "text/plain": [
       "ID                               int64\n",
       "Case Number                   category\n",
       "Date                    datetime64[ns]\n",
       "Block                         category\n",
       "IUCR                          category\n",
       "Primary Type                  category\n",
       "Description                   category\n",
       "Location Description          category\n",
       "Arrest                        category\n",
       "Domestic                      category\n",
       "Beat                             int64\n",
       "District                         int64\n",
       "Ward                             int64\n",
       "Community Area                category\n",
       "FBI Code                      category\n",
       "X Coordinate                  category\n",
       "Y Coordinate                  category\n",
       "Year                          category\n",
       "Updated On                    category\n",
       "Latitude                      category\n",
       "Longitude                     category\n",
       "Location                      category\n",
       "Month                         category\n",
       "DayofWeek                     category\n",
       "Day                           category\n",
       "dtype: object"
      ]
     },
     "execution_count": 71,
     "metadata": {},
     "output_type": "execute_result"
    }
   ],
   "source": [
    "crime.dtypes"
   ]
  },
  {
   "cell_type": "code",
   "execution_count": 72,
   "id": "f76d5b7c-f0e0-4a4f-bea1-8bc0a0180fc9",
   "metadata": {},
   "outputs": [
    {
     "data": {
      "text/plain": [
       "0         2024\n",
       "1         2024\n",
       "2         2024\n",
       "3         2024\n",
       "4         2024\n",
       "          ... \n",
       "249118    2025\n",
       "249119    2025\n",
       "249120    2025\n",
       "249121    2025\n",
       "249122    2025\n",
       "Name: Year, Length: 249123, dtype: category\n",
       "Categories (2, int32): [2024, 2025]"
      ]
     },
     "execution_count": 72,
     "metadata": {},
     "output_type": "execute_result"
    }
   ],
   "source": [
    "crime['Year']"
   ]
  },
  {
   "cell_type": "markdown",
   "id": "959fdd5e-ce5f-41f9-9fc4-eb1e7477d669",
   "metadata": {},
   "source": [
    "<h1>How many Theft crime in 2024</h1>"
   ]
  },
  {
   "cell_type": "code",
   "execution_count": 73,
   "id": "fa09c5ad-a7a1-4b1e-8626-b91d5d5a5dee",
   "metadata": {},
   "outputs": [],
   "source": [
    "year24 = crime[crime['Year'] == 2024]"
   ]
  },
  {
   "cell_type": "code",
   "execution_count": 74,
   "id": "7960f33d-ee20-4b5a-91e2-a2598fc01161",
   "metadata": {},
   "outputs": [
    {
     "data": {
      "text/html": [
       "<div>\n",
       "<style scoped>\n",
       "    .dataframe tbody tr th:only-of-type {\n",
       "        vertical-align: middle;\n",
       "    }\n",
       "\n",
       "    .dataframe tbody tr th {\n",
       "        vertical-align: top;\n",
       "    }\n",
       "\n",
       "    .dataframe thead th {\n",
       "        text-align: right;\n",
       "    }\n",
       "</style>\n",
       "<table border=\"1\" class=\"dataframe\">\n",
       "  <thead>\n",
       "    <tr style=\"text-align: right;\">\n",
       "      <th></th>\n",
       "      <th>ID</th>\n",
       "      <th>Case Number</th>\n",
       "      <th>Date</th>\n",
       "      <th>Block</th>\n",
       "      <th>IUCR</th>\n",
       "      <th>Primary Type</th>\n",
       "      <th>Description</th>\n",
       "      <th>Location Description</th>\n",
       "      <th>Arrest</th>\n",
       "      <th>Domestic</th>\n",
       "      <th>...</th>\n",
       "      <th>X Coordinate</th>\n",
       "      <th>Y Coordinate</th>\n",
       "      <th>Year</th>\n",
       "      <th>Updated On</th>\n",
       "      <th>Latitude</th>\n",
       "      <th>Longitude</th>\n",
       "      <th>Location</th>\n",
       "      <th>Month</th>\n",
       "      <th>DayofWeek</th>\n",
       "      <th>Day</th>\n",
       "    </tr>\n",
       "  </thead>\n",
       "  <tbody>\n",
       "    <tr>\n",
       "      <th>0</th>\n",
       "      <td>13439321</td>\n",
       "      <td>JH237424</td>\n",
       "      <td>2024-04-14 00:00:00</td>\n",
       "      <td>040XX S PRAIRIE AVE</td>\n",
       "      <td>0890</td>\n",
       "      <td>THEFT</td>\n",
       "      <td>FROM BUILDING</td>\n",
       "      <td>APARTMENT</td>\n",
       "      <td>False</td>\n",
       "      <td>False</td>\n",
       "      <td>...</td>\n",
       "      <td>1178707.0</td>\n",
       "      <td>1878256.0</td>\n",
       "      <td>2024</td>\n",
       "      <td>12/21/2024 03:40:46 PM</td>\n",
       "      <td>41.821236</td>\n",
       "      <td>-87.619921</td>\n",
       "      <td>(41.821236024, -87.619920712)</td>\n",
       "      <td>4</td>\n",
       "      <td>6</td>\n",
       "      <td>14</td>\n",
       "    </tr>\n",
       "    <tr>\n",
       "      <th>1</th>\n",
       "      <td>13437420</td>\n",
       "      <td>JH234779</td>\n",
       "      <td>2024-04-14 00:00:00</td>\n",
       "      <td>023XX W CERMAK RD</td>\n",
       "      <td>2825</td>\n",
       "      <td>OTHER OFFENSE</td>\n",
       "      <td>HARASSMENT BY TELEPHONE</td>\n",
       "      <td>COMMERCIAL / BUSINESS OFFICE</td>\n",
       "      <td>False</td>\n",
       "      <td>False</td>\n",
       "      <td>...</td>\n",
       "      <td>1161210.0</td>\n",
       "      <td>1889347.0</td>\n",
       "      <td>2024</td>\n",
       "      <td>12/21/2024 03:40:46 PM</td>\n",
       "      <td>41.852052</td>\n",
       "      <td>-87.683801</td>\n",
       "      <td>(41.852051675, -87.683800849)</td>\n",
       "      <td>4</td>\n",
       "      <td>6</td>\n",
       "      <td>14</td>\n",
       "    </tr>\n",
       "    <tr>\n",
       "      <th>2</th>\n",
       "      <td>13428676</td>\n",
       "      <td>JH224478</td>\n",
       "      <td>2024-04-14 00:00:00</td>\n",
       "      <td>043XX W LE MOYNE ST</td>\n",
       "      <td>0917</td>\n",
       "      <td>MOTOR VEHICLE THEFT</td>\n",
       "      <td>CYCLE, SCOOTER, BIKE WITH VIN</td>\n",
       "      <td>STREET</td>\n",
       "      <td>False</td>\n",
       "      <td>False</td>\n",
       "      <td>...</td>\n",
       "      <td>1146960.0</td>\n",
       "      <td>1909501.0</td>\n",
       "      <td>2024</td>\n",
       "      <td>12/21/2024 03:40:46 PM</td>\n",
       "      <td>41.907640</td>\n",
       "      <td>-87.735587</td>\n",
       "      <td>(41.907640473, -87.735587478)</td>\n",
       "      <td>4</td>\n",
       "      <td>6</td>\n",
       "      <td>14</td>\n",
       "    </tr>\n",
       "    <tr>\n",
       "      <th>3</th>\n",
       "      <td>13429357</td>\n",
       "      <td>JH225293</td>\n",
       "      <td>2024-04-14 00:00:00</td>\n",
       "      <td>039XX W ADAMS ST</td>\n",
       "      <td>143A</td>\n",
       "      <td>WEAPONS VIOLATION</td>\n",
       "      <td>UNLAWFUL POSSESSION - HANDGUN</td>\n",
       "      <td>STREET</td>\n",
       "      <td>True</td>\n",
       "      <td>False</td>\n",
       "      <td>...</td>\n",
       "      <td>1150158.0</td>\n",
       "      <td>1898721.0</td>\n",
       "      <td>2024</td>\n",
       "      <td>12/21/2024 03:40:46 PM</td>\n",
       "      <td>41.877997</td>\n",
       "      <td>-87.724121</td>\n",
       "      <td>(41.877997275, -87.724120826)</td>\n",
       "      <td>4</td>\n",
       "      <td>6</td>\n",
       "      <td>14</td>\n",
       "    </tr>\n",
       "    <tr>\n",
       "      <th>4</th>\n",
       "      <td>13430098</td>\n",
       "      <td>JH226395</td>\n",
       "      <td>2024-04-14 00:00:00</td>\n",
       "      <td>011XX W 112TH PL</td>\n",
       "      <td>0890</td>\n",
       "      <td>THEFT</td>\n",
       "      <td>FROM BUILDING</td>\n",
       "      <td>RESIDENCE</td>\n",
       "      <td>False</td>\n",
       "      <td>False</td>\n",
       "      <td>...</td>\n",
       "      <td>1170856.0</td>\n",
       "      <td>1830157.0</td>\n",
       "      <td>2024</td>\n",
       "      <td>12/21/2024 03:40:46 PM</td>\n",
       "      <td>41.689421</td>\n",
       "      <td>-87.650123</td>\n",
       "      <td>(41.6894214, -87.650123247)</td>\n",
       "      <td>4</td>\n",
       "      <td>6</td>\n",
       "      <td>14</td>\n",
       "    </tr>\n",
       "    <tr>\n",
       "      <th>...</th>\n",
       "      <td>...</td>\n",
       "      <td>...</td>\n",
       "      <td>...</td>\n",
       "      <td>...</td>\n",
       "      <td>...</td>\n",
       "      <td>...</td>\n",
       "      <td>...</td>\n",
       "      <td>...</td>\n",
       "      <td>...</td>\n",
       "      <td>...</td>\n",
       "      <td>...</td>\n",
       "      <td>...</td>\n",
       "      <td>...</td>\n",
       "      <td>...</td>\n",
       "      <td>...</td>\n",
       "      <td>...</td>\n",
       "      <td>...</td>\n",
       "      <td>...</td>\n",
       "      <td>...</td>\n",
       "      <td>...</td>\n",
       "      <td>...</td>\n",
       "    </tr>\n",
       "    <tr>\n",
       "      <th>188913</th>\n",
       "      <td>13707823</td>\n",
       "      <td>JJ100020</td>\n",
       "      <td>2024-12-31 23:50:00</td>\n",
       "      <td>012XX N MENARD AVE</td>\n",
       "      <td>0460</td>\n",
       "      <td>BATTERY</td>\n",
       "      <td>SIMPLE</td>\n",
       "      <td>SIDEWALK</td>\n",
       "      <td>False</td>\n",
       "      <td>False</td>\n",
       "      <td>...</td>\n",
       "      <td>1137458.0</td>\n",
       "      <td>1907694.0</td>\n",
       "      <td>2024</td>\n",
       "      <td>01/08/2025 03:42:09 PM</td>\n",
       "      <td>41.902858</td>\n",
       "      <td>-87.770537</td>\n",
       "      <td>(41.902858242, -87.770536741)</td>\n",
       "      <td>12</td>\n",
       "      <td>1</td>\n",
       "      <td>31</td>\n",
       "    </tr>\n",
       "    <tr>\n",
       "      <th>188914</th>\n",
       "      <td>13709164</td>\n",
       "      <td>JJ101392</td>\n",
       "      <td>2024-12-31 23:53:00</td>\n",
       "      <td>066XX S GREENWOOD AVE</td>\n",
       "      <td>1320</td>\n",
       "      <td>CRIMINAL DAMAGE</td>\n",
       "      <td>TO VEHICLE</td>\n",
       "      <td>STREET</td>\n",
       "      <td>False</td>\n",
       "      <td>False</td>\n",
       "      <td>...</td>\n",
       "      <td>1184362.0</td>\n",
       "      <td>1861188.0</td>\n",
       "      <td>2024</td>\n",
       "      <td>01/08/2025 03:42:09 PM</td>\n",
       "      <td>41.774269</td>\n",
       "      <td>-87.599710</td>\n",
       "      <td>(41.774269351, -87.599709962)</td>\n",
       "      <td>12</td>\n",
       "      <td>1</td>\n",
       "      <td>31</td>\n",
       "    </tr>\n",
       "    <tr>\n",
       "      <th>188915</th>\n",
       "      <td>13708038</td>\n",
       "      <td>JJ100035</td>\n",
       "      <td>2024-12-31 23:55:00</td>\n",
       "      <td>077XX S CICERO AVE</td>\n",
       "      <td>0498</td>\n",
       "      <td>BATTERY</td>\n",
       "      <td>AGG. DOMESTIC BATTERY - HANDS, FISTS, FEET, SE...</td>\n",
       "      <td>HOTEL / MOTEL</td>\n",
       "      <td>False</td>\n",
       "      <td>True</td>\n",
       "      <td>...</td>\n",
       "      <td>1145740.0</td>\n",
       "      <td>1853048.0</td>\n",
       "      <td>2024</td>\n",
       "      <td>01/08/2025 03:42:09 PM</td>\n",
       "      <td>41.752749</td>\n",
       "      <td>-87.741498</td>\n",
       "      <td>(41.752748627, -87.741497836)</td>\n",
       "      <td>12</td>\n",
       "      <td>1</td>\n",
       "      <td>31</td>\n",
       "    </tr>\n",
       "    <tr>\n",
       "      <th>188916</th>\n",
       "      <td>13707925</td>\n",
       "      <td>JJ100089</td>\n",
       "      <td>2024-12-31 23:56:00</td>\n",
       "      <td>047XX S DR MARTIN LUTHER KING JR DR</td>\n",
       "      <td>1365</td>\n",
       "      <td>CRIMINAL TRESPASS</td>\n",
       "      <td>TO RESIDENCE</td>\n",
       "      <td>APARTMENT</td>\n",
       "      <td>True</td>\n",
       "      <td>True</td>\n",
       "      <td>...</td>\n",
       "      <td>1179661.0</td>\n",
       "      <td>1873623.0</td>\n",
       "      <td>2024</td>\n",
       "      <td>01/08/2025 03:42:09 PM</td>\n",
       "      <td>41.808501</td>\n",
       "      <td>-87.616563</td>\n",
       "      <td>(41.808500903, -87.616562762)</td>\n",
       "      <td>12</td>\n",
       "      <td>1</td>\n",
       "      <td>31</td>\n",
       "    </tr>\n",
       "    <tr>\n",
       "      <th>188917</th>\n",
       "      <td>13709672</td>\n",
       "      <td>JJ101940</td>\n",
       "      <td>2024-12-31 23:58:00</td>\n",
       "      <td>014XX E 68TH ST</td>\n",
       "      <td>1310</td>\n",
       "      <td>CRIMINAL DAMAGE</td>\n",
       "      <td>TO PROPERTY</td>\n",
       "      <td>APARTMENT</td>\n",
       "      <td>False</td>\n",
       "      <td>False</td>\n",
       "      <td>...</td>\n",
       "      <td>1186817.0</td>\n",
       "      <td>1860189.0</td>\n",
       "      <td>2024</td>\n",
       "      <td>01/08/2025 03:42:09 PM</td>\n",
       "      <td>41.771470</td>\n",
       "      <td>-87.590742</td>\n",
       "      <td>(41.771470188, -87.59074212)</td>\n",
       "      <td>12</td>\n",
       "      <td>1</td>\n",
       "      <td>31</td>\n",
       "    </tr>\n",
       "  </tbody>\n",
       "</table>\n",
       "<p>188918 rows × 25 columns</p>\n",
       "</div>"
      ],
      "text/plain": [
       "              ID Case Number                Date  \\\n",
       "0       13439321    JH237424 2024-04-14 00:00:00   \n",
       "1       13437420    JH234779 2024-04-14 00:00:00   \n",
       "2       13428676    JH224478 2024-04-14 00:00:00   \n",
       "3       13429357    JH225293 2024-04-14 00:00:00   \n",
       "4       13430098    JH226395 2024-04-14 00:00:00   \n",
       "...          ...         ...                 ...   \n",
       "188913  13707823    JJ100020 2024-12-31 23:50:00   \n",
       "188914  13709164    JJ101392 2024-12-31 23:53:00   \n",
       "188915  13708038    JJ100035 2024-12-31 23:55:00   \n",
       "188916  13707925    JJ100089 2024-12-31 23:56:00   \n",
       "188917  13709672    JJ101940 2024-12-31 23:58:00   \n",
       "\n",
       "                                      Block  IUCR         Primary Type  \\\n",
       "0                       040XX S PRAIRIE AVE  0890                THEFT   \n",
       "1                         023XX W CERMAK RD  2825        OTHER OFFENSE   \n",
       "2                       043XX W LE MOYNE ST  0917  MOTOR VEHICLE THEFT   \n",
       "3                          039XX W ADAMS ST  143A    WEAPONS VIOLATION   \n",
       "4                          011XX W 112TH PL  0890                THEFT   \n",
       "...                                     ...   ...                  ...   \n",
       "188913                   012XX N MENARD AVE  0460              BATTERY   \n",
       "188914                066XX S GREENWOOD AVE  1320      CRIMINAL DAMAGE   \n",
       "188915                   077XX S CICERO AVE  0498              BATTERY   \n",
       "188916  047XX S DR MARTIN LUTHER KING JR DR  1365    CRIMINAL TRESPASS   \n",
       "188917                      014XX E 68TH ST  1310      CRIMINAL DAMAGE   \n",
       "\n",
       "                                              Description  \\\n",
       "0                                           FROM BUILDING   \n",
       "1                                 HARASSMENT BY TELEPHONE   \n",
       "2                           CYCLE, SCOOTER, BIKE WITH VIN   \n",
       "3                           UNLAWFUL POSSESSION - HANDGUN   \n",
       "4                                           FROM BUILDING   \n",
       "...                                                   ...   \n",
       "188913                                             SIMPLE   \n",
       "188914                                         TO VEHICLE   \n",
       "188915  AGG. DOMESTIC BATTERY - HANDS, FISTS, FEET, SE...   \n",
       "188916                                       TO RESIDENCE   \n",
       "188917                                        TO PROPERTY   \n",
       "\n",
       "                Location Description Arrest Domestic  ...  X Coordinate  \\\n",
       "0                          APARTMENT  False    False  ...     1178707.0   \n",
       "1       COMMERCIAL / BUSINESS OFFICE  False    False  ...     1161210.0   \n",
       "2                             STREET  False    False  ...     1146960.0   \n",
       "3                             STREET   True    False  ...     1150158.0   \n",
       "4                          RESIDENCE  False    False  ...     1170856.0   \n",
       "...                              ...    ...      ...  ...           ...   \n",
       "188913                      SIDEWALK  False    False  ...     1137458.0   \n",
       "188914                        STREET  False    False  ...     1184362.0   \n",
       "188915                 HOTEL / MOTEL  False     True  ...     1145740.0   \n",
       "188916                     APARTMENT   True     True  ...     1179661.0   \n",
       "188917                     APARTMENT  False    False  ...     1186817.0   \n",
       "\n",
       "        Y Coordinate  Year              Updated On   Latitude  Longitude  \\\n",
       "0          1878256.0  2024  12/21/2024 03:40:46 PM  41.821236 -87.619921   \n",
       "1          1889347.0  2024  12/21/2024 03:40:46 PM  41.852052 -87.683801   \n",
       "2          1909501.0  2024  12/21/2024 03:40:46 PM  41.907640 -87.735587   \n",
       "3          1898721.0  2024  12/21/2024 03:40:46 PM  41.877997 -87.724121   \n",
       "4          1830157.0  2024  12/21/2024 03:40:46 PM  41.689421 -87.650123   \n",
       "...              ...   ...                     ...        ...        ...   \n",
       "188913     1907694.0  2024  01/08/2025 03:42:09 PM  41.902858 -87.770537   \n",
       "188914     1861188.0  2024  01/08/2025 03:42:09 PM  41.774269 -87.599710   \n",
       "188915     1853048.0  2024  01/08/2025 03:42:09 PM  41.752749 -87.741498   \n",
       "188916     1873623.0  2024  01/08/2025 03:42:09 PM  41.808501 -87.616563   \n",
       "188917     1860189.0  2024  01/08/2025 03:42:09 PM  41.771470 -87.590742   \n",
       "\n",
       "                             Location Month DayofWeek Day  \n",
       "0       (41.821236024, -87.619920712)     4         6  14  \n",
       "1       (41.852051675, -87.683800849)     4         6  14  \n",
       "2       (41.907640473, -87.735587478)     4         6  14  \n",
       "3       (41.877997275, -87.724120826)     4         6  14  \n",
       "4         (41.6894214, -87.650123247)     4         6  14  \n",
       "...                               ...   ...       ...  ..  \n",
       "188913  (41.902858242, -87.770536741)    12         1  31  \n",
       "188914  (41.774269351, -87.599709962)    12         1  31  \n",
       "188915  (41.752748627, -87.741497836)    12         1  31  \n",
       "188916  (41.808500903, -87.616562762)    12         1  31  \n",
       "188917   (41.771470188, -87.59074212)    12         1  31  \n",
       "\n",
       "[188918 rows x 25 columns]"
      ]
     },
     "execution_count": 74,
     "metadata": {},
     "output_type": "execute_result"
    }
   ],
   "source": [
    "year24"
   ]
  },
  {
   "cell_type": "code",
   "execution_count": 75,
   "id": "afdd4261-3720-4eb3-a86b-5aa0590f2849",
   "metadata": {},
   "outputs": [
    {
     "data": {
      "text/plain": [
       "Primary Type\n",
       "THEFT                                45239\n",
       "BATTERY                              34052\n",
       "CRIMINAL DAMAGE                      20869\n",
       "ASSAULT                              17298\n",
       "MOTOR VEHICLE THEFT                  15422\n",
       "OTHER OFFENSE                        12000\n",
       "DECEPTIVE PRACTICE                   11082\n",
       "ROBBERY                               6647\n",
       "BURGLARY                              6483\n",
       "WEAPONS VIOLATION                     5638\n",
       "NARCOTICS                             4114\n",
       "CRIMINAL TRESPASS                     3621\n",
       "OFFENSE INVOLVING CHILDREN            1166\n",
       "CRIMINAL SEXUAL ASSAULT               1155\n",
       "SEX OFFENSE                            872\n",
       "PUBLIC PEACE VIOLATION                 738\n",
       "INTERFERENCE WITH PUBLIC OFFICER       506\n",
       "HOMICIDE                               454\n",
       "STALKING                               395\n",
       "ARSON                                  352\n",
       "PROSTITUTION                           244\n",
       "CONCEALED CARRY LICENSE VIOLATION      157\n",
       "LIQUOR LAW VIOLATION                   136\n",
       "INTIMIDATION                           114\n",
       "KIDNAPPING                              77\n",
       "OBSCENITY                               37\n",
       "GAMBLING                                18\n",
       "HUMAN TRAFFICKING                       18\n",
       "PUBLIC INDECENCY                         8\n",
       "OTHER NARCOTIC VIOLATION                 4\n",
       "NON-CRIMINAL                             2\n",
       "Name: count, dtype: int64"
      ]
     },
     "execution_count": 75,
     "metadata": {},
     "output_type": "execute_result"
    }
   ],
   "source": [
    "year24['Primary Type'].value_counts()"
   ]
  },
  {
   "cell_type": "markdown",
   "id": "19cb7142-a5c4-464f-87a0-6b7ebfc618d0",
   "metadata": {},
   "source": [
    "<b>Insight 11<b>"
   ]
  },
  {
   "cell_type": "markdown",
   "id": "e650974d-4d76-4b77-a5dc-c27f8b22fbcd",
   "metadata": {},
   "source": [
    "<i>The total number of reported theft crimes in 2024 is 45239"
   ]
  },
  {
   "cell_type": "code",
   "execution_count": 76,
   "id": "21057310-dc80-45b1-8e2a-6f8e8779d833",
   "metadata": {},
   "outputs": [],
   "source": [
    "year25 = crime[crime['Year'] == 2025]"
   ]
  },
  {
   "cell_type": "code",
   "execution_count": 77,
   "id": "53979d3f-e4dd-4e4e-a01c-ef55e7288d29",
   "metadata": {},
   "outputs": [
    {
     "data": {
      "text/html": [
       "<div>\n",
       "<style scoped>\n",
       "    .dataframe tbody tr th:only-of-type {\n",
       "        vertical-align: middle;\n",
       "    }\n",
       "\n",
       "    .dataframe tbody tr th {\n",
       "        vertical-align: top;\n",
       "    }\n",
       "\n",
       "    .dataframe thead th {\n",
       "        text-align: right;\n",
       "    }\n",
       "</style>\n",
       "<table border=\"1\" class=\"dataframe\">\n",
       "  <thead>\n",
       "    <tr style=\"text-align: right;\">\n",
       "      <th></th>\n",
       "      <th>ID</th>\n",
       "      <th>Case Number</th>\n",
       "      <th>Date</th>\n",
       "      <th>Block</th>\n",
       "      <th>IUCR</th>\n",
       "      <th>Primary Type</th>\n",
       "      <th>Description</th>\n",
       "      <th>Location Description</th>\n",
       "      <th>Arrest</th>\n",
       "      <th>Domestic</th>\n",
       "      <th>...</th>\n",
       "      <th>X Coordinate</th>\n",
       "      <th>Y Coordinate</th>\n",
       "      <th>Year</th>\n",
       "      <th>Updated On</th>\n",
       "      <th>Latitude</th>\n",
       "      <th>Longitude</th>\n",
       "      <th>Location</th>\n",
       "      <th>Month</th>\n",
       "      <th>DayofWeek</th>\n",
       "      <th>Day</th>\n",
       "    </tr>\n",
       "  </thead>\n",
       "  <tbody>\n",
       "    <tr>\n",
       "      <th>188918</th>\n",
       "      <td>13709287</td>\n",
       "      <td>JJ101650</td>\n",
       "      <td>2025-01-01</td>\n",
       "      <td>106XX S WOODLAWN AVE</td>\n",
       "      <td>1310</td>\n",
       "      <td>CRIMINAL DAMAGE</td>\n",
       "      <td>TO PROPERTY</td>\n",
       "      <td>WAREHOUSE</td>\n",
       "      <td>False</td>\n",
       "      <td>False</td>\n",
       "      <td>...</td>\n",
       "      <td>1186109.0</td>\n",
       "      <td>1834679.0</td>\n",
       "      <td>2025</td>\n",
       "      <td>01/08/2025 03:42:09 PM</td>\n",
       "      <td>41.701485</td>\n",
       "      <td>-87.594141</td>\n",
       "      <td>(41.701484801, -87.594140525)</td>\n",
       "      <td>1</td>\n",
       "      <td>2</td>\n",
       "      <td>1</td>\n",
       "    </tr>\n",
       "    <tr>\n",
       "      <th>188919</th>\n",
       "      <td>13708413</td>\n",
       "      <td>JJ100648</td>\n",
       "      <td>2025-01-01</td>\n",
       "      <td>021XX N PULASKI RD</td>\n",
       "      <td>1477</td>\n",
       "      <td>WEAPONS VIOLATION</td>\n",
       "      <td>RECKLESS FIREARM DISCHARGE</td>\n",
       "      <td>RESIDENCE</td>\n",
       "      <td>False</td>\n",
       "      <td>False</td>\n",
       "      <td>...</td>\n",
       "      <td>1149371.0</td>\n",
       "      <td>1913750.0</td>\n",
       "      <td>2025</td>\n",
       "      <td>01/08/2025 03:42:09 PM</td>\n",
       "      <td>41.919254</td>\n",
       "      <td>-87.726620</td>\n",
       "      <td>(41.91925369, -87.726620278)</td>\n",
       "      <td>1</td>\n",
       "      <td>2</td>\n",
       "      <td>1</td>\n",
       "    </tr>\n",
       "    <tr>\n",
       "      <th>188920</th>\n",
       "      <td>13708209</td>\n",
       "      <td>JJ100494</td>\n",
       "      <td>2025-01-01</td>\n",
       "      <td>032XX N CENTRAL PARK AVE</td>\n",
       "      <td>1477</td>\n",
       "      <td>WEAPONS VIOLATION</td>\n",
       "      <td>RECKLESS FIREARM DISCHARGE</td>\n",
       "      <td>ALLEY</td>\n",
       "      <td>False</td>\n",
       "      <td>False</td>\n",
       "      <td>...</td>\n",
       "      <td>1151817.0</td>\n",
       "      <td>1921411.0</td>\n",
       "      <td>2025</td>\n",
       "      <td>01/08/2025 03:42:09 PM</td>\n",
       "      <td>41.940228</td>\n",
       "      <td>-87.717431</td>\n",
       "      <td>(41.940228274, -87.717431111)</td>\n",
       "      <td>1</td>\n",
       "      <td>2</td>\n",
       "      <td>1</td>\n",
       "    </tr>\n",
       "    <tr>\n",
       "      <th>188921</th>\n",
       "      <td>13707941</td>\n",
       "      <td>JJ100155</td>\n",
       "      <td>2025-01-01</td>\n",
       "      <td>004XX W 24TH ST</td>\n",
       "      <td>0460</td>\n",
       "      <td>BATTERY</td>\n",
       "      <td>SIMPLE</td>\n",
       "      <td>BAR OR TAVERN</td>\n",
       "      <td>True</td>\n",
       "      <td>False</td>\n",
       "      <td>...</td>\n",
       "      <td>1173417.0</td>\n",
       "      <td>1888352.0</td>\n",
       "      <td>2025</td>\n",
       "      <td>01/08/2025 03:42:09 PM</td>\n",
       "      <td>41.849059</td>\n",
       "      <td>-87.639028</td>\n",
       "      <td>(41.849059202, -87.639027598)</td>\n",
       "      <td>1</td>\n",
       "      <td>2</td>\n",
       "      <td>1</td>\n",
       "    </tr>\n",
       "    <tr>\n",
       "      <th>188922</th>\n",
       "      <td>13708387</td>\n",
       "      <td>JJ100586</td>\n",
       "      <td>2025-01-01</td>\n",
       "      <td>101XX S LA SALLE ST</td>\n",
       "      <td>1320</td>\n",
       "      <td>CRIMINAL DAMAGE</td>\n",
       "      <td>TO VEHICLE</td>\n",
       "      <td>STREET</td>\n",
       "      <td>False</td>\n",
       "      <td>False</td>\n",
       "      <td>...</td>\n",
       "      <td>1177059.0</td>\n",
       "      <td>1837717.0</td>\n",
       "      <td>2025</td>\n",
       "      <td>01/08/2025 03:42:09 PM</td>\n",
       "      <td>41.710030</td>\n",
       "      <td>-87.627187</td>\n",
       "      <td>(41.710029878, -87.62718726)</td>\n",
       "      <td>1</td>\n",
       "      <td>2</td>\n",
       "      <td>1</td>\n",
       "    </tr>\n",
       "    <tr>\n",
       "      <th>...</th>\n",
       "      <td>...</td>\n",
       "      <td>...</td>\n",
       "      <td>...</td>\n",
       "      <td>...</td>\n",
       "      <td>...</td>\n",
       "      <td>...</td>\n",
       "      <td>...</td>\n",
       "      <td>...</td>\n",
       "      <td>...</td>\n",
       "      <td>...</td>\n",
       "      <td>...</td>\n",
       "      <td>...</td>\n",
       "      <td>...</td>\n",
       "      <td>...</td>\n",
       "      <td>...</td>\n",
       "      <td>...</td>\n",
       "      <td>...</td>\n",
       "      <td>...</td>\n",
       "      <td>...</td>\n",
       "      <td>...</td>\n",
       "      <td>...</td>\n",
       "    </tr>\n",
       "    <tr>\n",
       "      <th>249118</th>\n",
       "      <td>13805239</td>\n",
       "      <td>JJ217509</td>\n",
       "      <td>2025-12-04</td>\n",
       "      <td>029XX W LOGAN BLVD</td>\n",
       "      <td>2826</td>\n",
       "      <td>OTHER OFFENSE</td>\n",
       "      <td>HARASSMENT BY ELECTRONIC MEANS</td>\n",
       "      <td>APARTMENT</td>\n",
       "      <td>False</td>\n",
       "      <td>False</td>\n",
       "      <td>...</td>\n",
       "      <td>1156478.0</td>\n",
       "      <td>1917149.0</td>\n",
       "      <td>2025</td>\n",
       "      <td>04/19/2025 03:41:24 PM</td>\n",
       "      <td>41.928440</td>\n",
       "      <td>-87.700416</td>\n",
       "      <td>(41.928439867, -87.700415972)</td>\n",
       "      <td>12</td>\n",
       "      <td>3</td>\n",
       "      <td>4</td>\n",
       "    </tr>\n",
       "    <tr>\n",
       "      <th>249119</th>\n",
       "      <td>13804023</td>\n",
       "      <td>JJ215813</td>\n",
       "      <td>2025-12-04</td>\n",
       "      <td>094XX S HARVARD AVE</td>\n",
       "      <td>0430</td>\n",
       "      <td>BATTERY</td>\n",
       "      <td>AGGRAVATED - OTHER DANGEROUS WEAPON</td>\n",
       "      <td>STREET</td>\n",
       "      <td>False</td>\n",
       "      <td>False</td>\n",
       "      <td>...</td>\n",
       "      <td>1175694.0</td>\n",
       "      <td>1842631.0</td>\n",
       "      <td>2025</td>\n",
       "      <td>04/19/2025 03:41:24 PM</td>\n",
       "      <td>41.723545</td>\n",
       "      <td>-87.632040</td>\n",
       "      <td>(41.723545182, -87.632039508)</td>\n",
       "      <td>12</td>\n",
       "      <td>3</td>\n",
       "      <td>4</td>\n",
       "    </tr>\n",
       "    <tr>\n",
       "      <th>249120</th>\n",
       "      <td>13803926</td>\n",
       "      <td>JJ215943</td>\n",
       "      <td>2025-12-04</td>\n",
       "      <td>084XX S VINCENNES AVE</td>\n",
       "      <td>0486</td>\n",
       "      <td>BATTERY</td>\n",
       "      <td>DOMESTIC BATTERY SIMPLE</td>\n",
       "      <td>APARTMENT</td>\n",
       "      <td>False</td>\n",
       "      <td>True</td>\n",
       "      <td>...</td>\n",
       "      <td>1173850.0</td>\n",
       "      <td>1848976.0</td>\n",
       "      <td>2025</td>\n",
       "      <td>04/19/2025 03:41:24 PM</td>\n",
       "      <td>41.740998</td>\n",
       "      <td>-87.638606</td>\n",
       "      <td>(41.74099774, -87.638606337)</td>\n",
       "      <td>12</td>\n",
       "      <td>3</td>\n",
       "      <td>4</td>\n",
       "    </tr>\n",
       "    <tr>\n",
       "      <th>249121</th>\n",
       "      <td>13803475</td>\n",
       "      <td>JJ215338</td>\n",
       "      <td>2025-12-04</td>\n",
       "      <td>050XX S ABERDEEN ST</td>\n",
       "      <td>0530</td>\n",
       "      <td>ASSAULT</td>\n",
       "      <td>AGGRAVATED - OTHER DANGEROUS WEAPON</td>\n",
       "      <td>STREET</td>\n",
       "      <td>True</td>\n",
       "      <td>False</td>\n",
       "      <td>...</td>\n",
       "      <td>1169838.0</td>\n",
       "      <td>1871348.0</td>\n",
       "      <td>2025</td>\n",
       "      <td>04/19/2025 03:41:24 PM</td>\n",
       "      <td>41.802477</td>\n",
       "      <td>-87.652657</td>\n",
       "      <td>(41.802477219, -87.652657244)</td>\n",
       "      <td>12</td>\n",
       "      <td>3</td>\n",
       "      <td>4</td>\n",
       "    </tr>\n",
       "    <tr>\n",
       "      <th>249122</th>\n",
       "      <td>13804512</td>\n",
       "      <td>JJ216668</td>\n",
       "      <td>2025-12-04</td>\n",
       "      <td>012XX W CARROLL AVE</td>\n",
       "      <td>0710</td>\n",
       "      <td>THEFT</td>\n",
       "      <td>THEFT FROM MOTOR VEHICLE</td>\n",
       "      <td>STREET</td>\n",
       "      <td>False</td>\n",
       "      <td>False</td>\n",
       "      <td>...</td>\n",
       "      <td>1168216.0</td>\n",
       "      <td>1902390.0</td>\n",
       "      <td>2025</td>\n",
       "      <td>04/19/2025 03:41:24 PM</td>\n",
       "      <td>41.887694</td>\n",
       "      <td>-87.657710</td>\n",
       "      <td>(41.887694407, -87.657710204)</td>\n",
       "      <td>12</td>\n",
       "      <td>3</td>\n",
       "      <td>4</td>\n",
       "    </tr>\n",
       "  </tbody>\n",
       "</table>\n",
       "<p>60205 rows × 25 columns</p>\n",
       "</div>"
      ],
      "text/plain": [
       "              ID Case Number       Date                     Block  IUCR  \\\n",
       "188918  13709287    JJ101650 2025-01-01      106XX S WOODLAWN AVE  1310   \n",
       "188919  13708413    JJ100648 2025-01-01        021XX N PULASKI RD  1477   \n",
       "188920  13708209    JJ100494 2025-01-01  032XX N CENTRAL PARK AVE  1477   \n",
       "188921  13707941    JJ100155 2025-01-01           004XX W 24TH ST  0460   \n",
       "188922  13708387    JJ100586 2025-01-01       101XX S LA SALLE ST  1320   \n",
       "...          ...         ...        ...                       ...   ...   \n",
       "249118  13805239    JJ217509 2025-12-04        029XX W LOGAN BLVD  2826   \n",
       "249119  13804023    JJ215813 2025-12-04       094XX S HARVARD AVE  0430   \n",
       "249120  13803926    JJ215943 2025-12-04     084XX S VINCENNES AVE  0486   \n",
       "249121  13803475    JJ215338 2025-12-04       050XX S ABERDEEN ST  0530   \n",
       "249122  13804512    JJ216668 2025-12-04       012XX W CARROLL AVE  0710   \n",
       "\n",
       "             Primary Type                          Description  \\\n",
       "188918    CRIMINAL DAMAGE                          TO PROPERTY   \n",
       "188919  WEAPONS VIOLATION           RECKLESS FIREARM DISCHARGE   \n",
       "188920  WEAPONS VIOLATION           RECKLESS FIREARM DISCHARGE   \n",
       "188921            BATTERY                               SIMPLE   \n",
       "188922    CRIMINAL DAMAGE                           TO VEHICLE   \n",
       "...                   ...                                  ...   \n",
       "249118      OTHER OFFENSE       HARASSMENT BY ELECTRONIC MEANS   \n",
       "249119            BATTERY  AGGRAVATED - OTHER DANGEROUS WEAPON   \n",
       "249120            BATTERY              DOMESTIC BATTERY SIMPLE   \n",
       "249121            ASSAULT  AGGRAVATED - OTHER DANGEROUS WEAPON   \n",
       "249122              THEFT             THEFT FROM MOTOR VEHICLE   \n",
       "\n",
       "       Location Description Arrest Domestic  ...  X Coordinate  Y Coordinate  \\\n",
       "188918            WAREHOUSE  False    False  ...     1186109.0     1834679.0   \n",
       "188919            RESIDENCE  False    False  ...     1149371.0     1913750.0   \n",
       "188920                ALLEY  False    False  ...     1151817.0     1921411.0   \n",
       "188921        BAR OR TAVERN   True    False  ...     1173417.0     1888352.0   \n",
       "188922               STREET  False    False  ...     1177059.0     1837717.0   \n",
       "...                     ...    ...      ...  ...           ...           ...   \n",
       "249118            APARTMENT  False    False  ...     1156478.0     1917149.0   \n",
       "249119               STREET  False    False  ...     1175694.0     1842631.0   \n",
       "249120            APARTMENT  False     True  ...     1173850.0     1848976.0   \n",
       "249121               STREET   True    False  ...     1169838.0     1871348.0   \n",
       "249122               STREET  False    False  ...     1168216.0     1902390.0   \n",
       "\n",
       "        Year              Updated On   Latitude  Longitude  \\\n",
       "188918  2025  01/08/2025 03:42:09 PM  41.701485 -87.594141   \n",
       "188919  2025  01/08/2025 03:42:09 PM  41.919254 -87.726620   \n",
       "188920  2025  01/08/2025 03:42:09 PM  41.940228 -87.717431   \n",
       "188921  2025  01/08/2025 03:42:09 PM  41.849059 -87.639028   \n",
       "188922  2025  01/08/2025 03:42:09 PM  41.710030 -87.627187   \n",
       "...      ...                     ...        ...        ...   \n",
       "249118  2025  04/19/2025 03:41:24 PM  41.928440 -87.700416   \n",
       "249119  2025  04/19/2025 03:41:24 PM  41.723545 -87.632040   \n",
       "249120  2025  04/19/2025 03:41:24 PM  41.740998 -87.638606   \n",
       "249121  2025  04/19/2025 03:41:24 PM  41.802477 -87.652657   \n",
       "249122  2025  04/19/2025 03:41:24 PM  41.887694 -87.657710   \n",
       "\n",
       "                             Location Month DayofWeek Day  \n",
       "188918  (41.701484801, -87.594140525)     1         2   1  \n",
       "188919   (41.91925369, -87.726620278)     1         2   1  \n",
       "188920  (41.940228274, -87.717431111)     1         2   1  \n",
       "188921  (41.849059202, -87.639027598)     1         2   1  \n",
       "188922   (41.710029878, -87.62718726)     1         2   1  \n",
       "...                               ...   ...       ...  ..  \n",
       "249118  (41.928439867, -87.700415972)    12         3   4  \n",
       "249119  (41.723545182, -87.632039508)    12         3   4  \n",
       "249120   (41.74099774, -87.638606337)    12         3   4  \n",
       "249121  (41.802477219, -87.652657244)    12         3   4  \n",
       "249122  (41.887694407, -87.657710204)    12         3   4  \n",
       "\n",
       "[60205 rows x 25 columns]"
      ]
     },
     "execution_count": 77,
     "metadata": {},
     "output_type": "execute_result"
    }
   ],
   "source": [
    "year25"
   ]
  },
  {
   "cell_type": "markdown",
   "id": "9838ea1c-3d49-4fe4-aad1-9796faec3965",
   "metadata": {},
   "source": [
    "<hr></hr>"
   ]
  },
  {
   "cell_type": "code",
   "execution_count": 78,
   "id": "f853bc1e-fda8-4333-acd6-3b1fe3421272",
   "metadata": {},
   "outputs": [
    {
     "data": {
      "text/plain": [
       "Primary Type\n",
       "THEFT                                13962\n",
       "BATTERY                              10527\n",
       "CRIMINAL DAMAGE                       6225\n",
       "ASSAULT                               5317\n",
       "OTHER OFFENSE                         4781\n",
       "MOTOR VEHICLE THEFT                   4182\n",
       "DECEPTIVE PRACTICE                    3909\n",
       "NARCOTICS                             2513\n",
       "BURGLARY                              1960\n",
       "ROBBERY                               1553\n",
       "WEAPONS VIOLATION                     1526\n",
       "CRIMINAL TRESPASS                     1424\n",
       "OFFENSE INVOLVING CHILDREN             431\n",
       "CRIMINAL SEXUAL ASSAULT                418\n",
       "SEX OFFENSE                            338\n",
       "PUBLIC PEACE VIOLATION                 268\n",
       "INTERFERENCE WITH PUBLIC OFFICER       265\n",
       "STALKING                               125\n",
       "ARSON                                  100\n",
       "HOMICIDE                                99\n",
       "CONCEALED CARRY LICENSE VIOLATION       92\n",
       "LIQUOR LAW VIOLATION                    56\n",
       "PROSTITUTION                            43\n",
       "INTIMIDATION                            31\n",
       "KIDNAPPING                              28\n",
       "OBSCENITY                               16\n",
       "HUMAN TRAFFICKING                        6\n",
       "PUBLIC INDECENCY                         5\n",
       "OTHER NARCOTIC VIOLATION                 3\n",
       "NON-CRIMINAL                             2\n",
       "GAMBLING                                 0\n",
       "Name: count, dtype: int64"
      ]
     },
     "execution_count": 78,
     "metadata": {},
     "output_type": "execute_result"
    }
   ],
   "source": [
    "year25['Primary Type'].value_counts()"
   ]
  },
  {
   "cell_type": "markdown",
   "id": "ad9d6b41-45d0-46ac-a680-8e3d86ba8dfc",
   "metadata": {},
   "source": [
    "<b>Insight 12<b>"
   ]
  },
  {
   "cell_type": "markdown",
   "id": "15825a50-096d-47d3-9937-81b3ac1ba110",
   "metadata": {},
   "source": [
    "<i><i>The total number of reported theft crimes in 2024 is 13962"
   ]
  },
  {
   "cell_type": "markdown",
   "id": "ad695e24-d7c7-4ec2-a797-719559ab9e85",
   "metadata": {},
   "source": [
    "<h3>How have total reported crimes changed each year?<h3>"
   ]
  },
  {
   "cell_type": "markdown",
   "id": "6a710bbf-359b-431f-8c65-db42588c395b",
   "metadata": {},
   "source": [
    "<h3>Which crime types have increased or decreased over the years?<h3>"
   ]
  },
  {
   "cell_type": "code",
   "execution_count": 79,
   "id": "320e843b-5953-4cdf-984f-a53fe25c7f96",
   "metadata": {},
   "outputs": [],
   "source": [
    "crime_df = crime.groupby(['Year','Primary Type']).size()"
   ]
  },
  {
   "cell_type": "code",
   "execution_count": 80,
   "id": "c6166df0-bf6d-400c-9d33-71d052894c19",
   "metadata": {},
   "outputs": [
    {
     "data": {
      "text/html": [
       "<div>\n",
       "<style scoped>\n",
       "    .dataframe tbody tr th:only-of-type {\n",
       "        vertical-align: middle;\n",
       "    }\n",
       "\n",
       "    .dataframe tbody tr th {\n",
       "        vertical-align: top;\n",
       "    }\n",
       "\n",
       "    .dataframe thead th {\n",
       "        text-align: right;\n",
       "    }\n",
       "</style>\n",
       "<table border=\"1\" class=\"dataframe\">\n",
       "  <thead>\n",
       "    <tr style=\"text-align: right;\">\n",
       "      <th>Primary Type</th>\n",
       "      <th>ARSON</th>\n",
       "      <th>ASSAULT</th>\n",
       "      <th>BATTERY</th>\n",
       "      <th>BURGLARY</th>\n",
       "      <th>CONCEALED CARRY LICENSE VIOLATION</th>\n",
       "      <th>CRIMINAL DAMAGE</th>\n",
       "      <th>CRIMINAL SEXUAL ASSAULT</th>\n",
       "      <th>CRIMINAL TRESPASS</th>\n",
       "      <th>DECEPTIVE PRACTICE</th>\n",
       "      <th>GAMBLING</th>\n",
       "      <th>...</th>\n",
       "      <th>OTHER NARCOTIC VIOLATION</th>\n",
       "      <th>OTHER OFFENSE</th>\n",
       "      <th>PROSTITUTION</th>\n",
       "      <th>PUBLIC INDECENCY</th>\n",
       "      <th>PUBLIC PEACE VIOLATION</th>\n",
       "      <th>ROBBERY</th>\n",
       "      <th>SEX OFFENSE</th>\n",
       "      <th>STALKING</th>\n",
       "      <th>THEFT</th>\n",
       "      <th>WEAPONS VIOLATION</th>\n",
       "    </tr>\n",
       "    <tr>\n",
       "      <th>Year</th>\n",
       "      <th></th>\n",
       "      <th></th>\n",
       "      <th></th>\n",
       "      <th></th>\n",
       "      <th></th>\n",
       "      <th></th>\n",
       "      <th></th>\n",
       "      <th></th>\n",
       "      <th></th>\n",
       "      <th></th>\n",
       "      <th></th>\n",
       "      <th></th>\n",
       "      <th></th>\n",
       "      <th></th>\n",
       "      <th></th>\n",
       "      <th></th>\n",
       "      <th></th>\n",
       "      <th></th>\n",
       "      <th></th>\n",
       "      <th></th>\n",
       "      <th></th>\n",
       "    </tr>\n",
       "  </thead>\n",
       "  <tbody>\n",
       "    <tr>\n",
       "      <th>2024</th>\n",
       "      <td>352</td>\n",
       "      <td>17298</td>\n",
       "      <td>34052</td>\n",
       "      <td>6483</td>\n",
       "      <td>157</td>\n",
       "      <td>20869</td>\n",
       "      <td>1155</td>\n",
       "      <td>3621</td>\n",
       "      <td>11082</td>\n",
       "      <td>18</td>\n",
       "      <td>...</td>\n",
       "      <td>4</td>\n",
       "      <td>12000</td>\n",
       "      <td>244</td>\n",
       "      <td>8</td>\n",
       "      <td>738</td>\n",
       "      <td>6647</td>\n",
       "      <td>872</td>\n",
       "      <td>395</td>\n",
       "      <td>45239</td>\n",
       "      <td>5638</td>\n",
       "    </tr>\n",
       "    <tr>\n",
       "      <th>2025</th>\n",
       "      <td>100</td>\n",
       "      <td>5317</td>\n",
       "      <td>10527</td>\n",
       "      <td>1960</td>\n",
       "      <td>92</td>\n",
       "      <td>6225</td>\n",
       "      <td>418</td>\n",
       "      <td>1424</td>\n",
       "      <td>3909</td>\n",
       "      <td>0</td>\n",
       "      <td>...</td>\n",
       "      <td>3</td>\n",
       "      <td>4781</td>\n",
       "      <td>43</td>\n",
       "      <td>5</td>\n",
       "      <td>268</td>\n",
       "      <td>1553</td>\n",
       "      <td>338</td>\n",
       "      <td>125</td>\n",
       "      <td>13962</td>\n",
       "      <td>1526</td>\n",
       "    </tr>\n",
       "  </tbody>\n",
       "</table>\n",
       "<p>2 rows × 31 columns</p>\n",
       "</div>"
      ],
      "text/plain": [
       "Primary Type  ARSON  ASSAULT  BATTERY  BURGLARY  \\\n",
       "Year                                              \n",
       "2024            352    17298    34052      6483   \n",
       "2025            100     5317    10527      1960   \n",
       "\n",
       "Primary Type  CONCEALED CARRY LICENSE VIOLATION  CRIMINAL DAMAGE  \\\n",
       "Year                                                               \n",
       "2024                                        157            20869   \n",
       "2025                                         92             6225   \n",
       "\n",
       "Primary Type  CRIMINAL SEXUAL ASSAULT  CRIMINAL TRESPASS  DECEPTIVE PRACTICE  \\\n",
       "Year                                                                           \n",
       "2024                             1155               3621               11082   \n",
       "2025                              418               1424                3909   \n",
       "\n",
       "Primary Type  GAMBLING  ...  OTHER NARCOTIC VIOLATION  OTHER OFFENSE  \\\n",
       "Year                    ...                                            \n",
       "2024                18  ...                         4          12000   \n",
       "2025                 0  ...                         3           4781   \n",
       "\n",
       "Primary Type  PROSTITUTION  PUBLIC INDECENCY  PUBLIC PEACE VIOLATION  ROBBERY  \\\n",
       "Year                                                                            \n",
       "2024                   244                 8                     738     6647   \n",
       "2025                    43                 5                     268     1553   \n",
       "\n",
       "Primary Type  SEX OFFENSE  STALKING  THEFT  WEAPONS VIOLATION  \n",
       "Year                                                           \n",
       "2024                  872       395  45239               5638  \n",
       "2025                  338       125  13962               1526  \n",
       "\n",
       "[2 rows x 31 columns]"
      ]
     },
     "execution_count": 80,
     "metadata": {},
     "output_type": "execute_result"
    }
   ],
   "source": [
    "crime_df.unstack()"
   ]
  },
  {
   "cell_type": "code",
   "execution_count": 81,
   "id": "a490b56a-2dd3-45fc-9552-247d67db8902",
   "metadata": {},
   "outputs": [
    {
     "data": {
      "text/plain": [
       "<Axes: xlabel='Year'>"
      ]
     },
     "execution_count": 81,
     "metadata": {},
     "output_type": "execute_result"
    },
    {
     "data": {
      "image/png": "[encoded data removed]",
      "text/plain": [
       "<Figure size 640x480 with 1 Axes>"
      ]
     },
     "metadata": {},
     "output_type": "display_data"
    }
   ],
   "source": [
    "crime.groupby('Year')['Primary Type'].count().plot(kind='bar')"
   ]
  },
  {
   "cell_type": "markdown",
   "id": "eae97ae3-30d7-499a-858b-845462ecb309",
   "metadata": {},
   "source": [
    "<b>Insight 13-14"
   ]
  },
  {
   "cell_type": "markdown",
   "id": "cf16dbc6-93ef-4255-a5f6-e62253205de7",
   "metadata": {},
   "source": [
    "<i> Based on the result, the total number of reported crimes in 2024 is higher than in 2025"
   ]
  },
  {
   "cell_type": "markdown",
   "id": "c7efab39-7111-4a2c-a935-6c72739ab8b0",
   "metadata": {},
   "source": [
    "<i>Based on the result, the crime type that increased is theft, while the crime that decreased is gambling.\"<i>"
   ]
  },
  {
   "cell_type": "markdown",
   "id": "262c47a5-b26e-4925-a9ce-bb6c4a2a67bc",
   "metadata": {},
   "source": [
    "<h1>Which month has the highest number of reported crimes of 2024-2025?</h1>"
   ]
  },
  {
   "cell_type": "markdown",
   "id": "78619f4c-a15c-4552-a0fe-cce87c03ee9e",
   "metadata": {},
   "source": [
    "<h1>Which month has the lowest number of reported crimes of 2024-2025?</h1>"
   ]
  },
  {
   "cell_type": "code",
   "execution_count": 82,
   "id": "9a1428a8-78a8-4911-b5c3-7c3c12c1dc0f",
   "metadata": {},
   "outputs": [],
   "source": [
    "year24_25 = [crime['Year']]"
   ]
  },
  {
   "cell_type": "code",
   "execution_count": 83,
   "id": "554e769b-d946-40fa-9962-393048eee97b",
   "metadata": {},
   "outputs": [],
   "source": [
    "year24_25 = crime.groupby(['Month','Primary Type']).size()"
   ]
  },
  {
   "cell_type": "code",
   "execution_count": 84,
   "id": "a534446f-e0eb-4d67-afbb-e338fd6231c2",
   "metadata": {},
   "outputs": [
    {
     "data": {
      "text/html": [
       "<div>\n",
       "<style scoped>\n",
       "    .dataframe tbody tr th:only-of-type {\n",
       "        vertical-align: middle;\n",
       "    }\n",
       "\n",
       "    .dataframe tbody tr th {\n",
       "        vertical-align: top;\n",
       "    }\n",
       "\n",
       "    .dataframe thead th {\n",
       "        text-align: right;\n",
       "    }\n",
       "</style>\n",
       "<table border=\"1\" class=\"dataframe\">\n",
       "  <thead>\n",
       "    <tr style=\"text-align: right;\">\n",
       "      <th>Primary Type</th>\n",
       "      <th>ARSON</th>\n",
       "      <th>ASSAULT</th>\n",
       "      <th>BATTERY</th>\n",
       "      <th>BURGLARY</th>\n",
       "      <th>CONCEALED CARRY LICENSE VIOLATION</th>\n",
       "      <th>CRIMINAL DAMAGE</th>\n",
       "      <th>CRIMINAL SEXUAL ASSAULT</th>\n",
       "      <th>CRIMINAL TRESPASS</th>\n",
       "      <th>DECEPTIVE PRACTICE</th>\n",
       "      <th>GAMBLING</th>\n",
       "      <th>...</th>\n",
       "      <th>OTHER NARCOTIC VIOLATION</th>\n",
       "      <th>OTHER OFFENSE</th>\n",
       "      <th>PROSTITUTION</th>\n",
       "      <th>PUBLIC INDECENCY</th>\n",
       "      <th>PUBLIC PEACE VIOLATION</th>\n",
       "      <th>ROBBERY</th>\n",
       "      <th>SEX OFFENSE</th>\n",
       "      <th>STALKING</th>\n",
       "      <th>THEFT</th>\n",
       "      <th>WEAPONS VIOLATION</th>\n",
       "    </tr>\n",
       "    <tr>\n",
       "      <th>Month</th>\n",
       "      <th></th>\n",
       "      <th></th>\n",
       "      <th></th>\n",
       "      <th></th>\n",
       "      <th></th>\n",
       "      <th></th>\n",
       "      <th></th>\n",
       "      <th></th>\n",
       "      <th></th>\n",
       "      <th></th>\n",
       "      <th></th>\n",
       "      <th></th>\n",
       "      <th></th>\n",
       "      <th></th>\n",
       "      <th></th>\n",
       "      <th></th>\n",
       "      <th></th>\n",
       "      <th></th>\n",
       "      <th></th>\n",
       "      <th></th>\n",
       "      <th></th>\n",
       "    </tr>\n",
       "  </thead>\n",
       "  <tbody>\n",
       "    <tr>\n",
       "      <th>1</th>\n",
       "      <td>28</td>\n",
       "      <td>1728</td>\n",
       "      <td>3427</td>\n",
       "      <td>667</td>\n",
       "      <td>19</td>\n",
       "      <td>2026</td>\n",
       "      <td>149</td>\n",
       "      <td>428</td>\n",
       "      <td>1510</td>\n",
       "      <td>0</td>\n",
       "      <td>...</td>\n",
       "      <td>0</td>\n",
       "      <td>1604</td>\n",
       "      <td>11</td>\n",
       "      <td>1</td>\n",
       "      <td>87</td>\n",
       "      <td>623</td>\n",
       "      <td>132</td>\n",
       "      <td>61</td>\n",
       "      <td>4762</td>\n",
       "      <td>498</td>\n",
       "    </tr>\n",
       "    <tr>\n",
       "      <th>2</th>\n",
       "      <td>25</td>\n",
       "      <td>1603</td>\n",
       "      <td>3112</td>\n",
       "      <td>537</td>\n",
       "      <td>21</td>\n",
       "      <td>1732</td>\n",
       "      <td>108</td>\n",
       "      <td>381</td>\n",
       "      <td>1122</td>\n",
       "      <td>3</td>\n",
       "      <td>...</td>\n",
       "      <td>1</td>\n",
       "      <td>1337</td>\n",
       "      <td>20</td>\n",
       "      <td>2</td>\n",
       "      <td>84</td>\n",
       "      <td>499</td>\n",
       "      <td>78</td>\n",
       "      <td>29</td>\n",
       "      <td>4112</td>\n",
       "      <td>444</td>\n",
       "    </tr>\n",
       "    <tr>\n",
       "      <th>3</th>\n",
       "      <td>42</td>\n",
       "      <td>1839</td>\n",
       "      <td>3615</td>\n",
       "      <td>654</td>\n",
       "      <td>34</td>\n",
       "      <td>2272</td>\n",
       "      <td>157</td>\n",
       "      <td>467</td>\n",
       "      <td>1261</td>\n",
       "      <td>2</td>\n",
       "      <td>...</td>\n",
       "      <td>0</td>\n",
       "      <td>1427</td>\n",
       "      <td>17</td>\n",
       "      <td>1</td>\n",
       "      <td>80</td>\n",
       "      <td>596</td>\n",
       "      <td>117</td>\n",
       "      <td>30</td>\n",
       "      <td>4786</td>\n",
       "      <td>579</td>\n",
       "    </tr>\n",
       "    <tr>\n",
       "      <th>4</th>\n",
       "      <td>33</td>\n",
       "      <td>1946</td>\n",
       "      <td>3684</td>\n",
       "      <td>637</td>\n",
       "      <td>21</td>\n",
       "      <td>2231</td>\n",
       "      <td>134</td>\n",
       "      <td>409</td>\n",
       "      <td>1234</td>\n",
       "      <td>2</td>\n",
       "      <td>...</td>\n",
       "      <td>1</td>\n",
       "      <td>1291</td>\n",
       "      <td>5</td>\n",
       "      <td>0</td>\n",
       "      <td>77</td>\n",
       "      <td>706</td>\n",
       "      <td>107</td>\n",
       "      <td>35</td>\n",
       "      <td>4450</td>\n",
       "      <td>660</td>\n",
       "    </tr>\n",
       "    <tr>\n",
       "      <th>5</th>\n",
       "      <td>53</td>\n",
       "      <td>2219</td>\n",
       "      <td>4323</td>\n",
       "      <td>739</td>\n",
       "      <td>19</td>\n",
       "      <td>2382</td>\n",
       "      <td>123</td>\n",
       "      <td>431</td>\n",
       "      <td>1302</td>\n",
       "      <td>1</td>\n",
       "      <td>...</td>\n",
       "      <td>2</td>\n",
       "      <td>1507</td>\n",
       "      <td>31</td>\n",
       "      <td>1</td>\n",
       "      <td>71</td>\n",
       "      <td>711</td>\n",
       "      <td>133</td>\n",
       "      <td>55</td>\n",
       "      <td>5243</td>\n",
       "      <td>688</td>\n",
       "    </tr>\n",
       "    <tr>\n",
       "      <th>6</th>\n",
       "      <td>47</td>\n",
       "      <td>1904</td>\n",
       "      <td>4059</td>\n",
       "      <td>653</td>\n",
       "      <td>21</td>\n",
       "      <td>2411</td>\n",
       "      <td>129</td>\n",
       "      <td>396</td>\n",
       "      <td>1259</td>\n",
       "      <td>0</td>\n",
       "      <td>...</td>\n",
       "      <td>0</td>\n",
       "      <td>1333</td>\n",
       "      <td>38</td>\n",
       "      <td>2</td>\n",
       "      <td>103</td>\n",
       "      <td>730</td>\n",
       "      <td>100</td>\n",
       "      <td>42</td>\n",
       "      <td>5397</td>\n",
       "      <td>677</td>\n",
       "    </tr>\n",
       "    <tr>\n",
       "      <th>7</th>\n",
       "      <td>25</td>\n",
       "      <td>2044</td>\n",
       "      <td>3911</td>\n",
       "      <td>761</td>\n",
       "      <td>25</td>\n",
       "      <td>2464</td>\n",
       "      <td>137</td>\n",
       "      <td>457</td>\n",
       "      <td>1349</td>\n",
       "      <td>2</td>\n",
       "      <td>...</td>\n",
       "      <td>0</td>\n",
       "      <td>1380</td>\n",
       "      <td>27</td>\n",
       "      <td>2</td>\n",
       "      <td>75</td>\n",
       "      <td>855</td>\n",
       "      <td>111</td>\n",
       "      <td>50</td>\n",
       "      <td>5724</td>\n",
       "      <td>760</td>\n",
       "    </tr>\n",
       "    <tr>\n",
       "      <th>8</th>\n",
       "      <td>43</td>\n",
       "      <td>2001</td>\n",
       "      <td>3741</td>\n",
       "      <td>732</td>\n",
       "      <td>15</td>\n",
       "      <td>2551</td>\n",
       "      <td>154</td>\n",
       "      <td>441</td>\n",
       "      <td>1295</td>\n",
       "      <td>0</td>\n",
       "      <td>...</td>\n",
       "      <td>0</td>\n",
       "      <td>1379</td>\n",
       "      <td>23</td>\n",
       "      <td>0</td>\n",
       "      <td>105</td>\n",
       "      <td>698</td>\n",
       "      <td>87</td>\n",
       "      <td>51</td>\n",
       "      <td>5323</td>\n",
       "      <td>649</td>\n",
       "    </tr>\n",
       "    <tr>\n",
       "      <th>9</th>\n",
       "      <td>44</td>\n",
       "      <td>1952</td>\n",
       "      <td>3958</td>\n",
       "      <td>791</td>\n",
       "      <td>15</td>\n",
       "      <td>2431</td>\n",
       "      <td>138</td>\n",
       "      <td>410</td>\n",
       "      <td>1206</td>\n",
       "      <td>4</td>\n",
       "      <td>...</td>\n",
       "      <td>1</td>\n",
       "      <td>1480</td>\n",
       "      <td>31</td>\n",
       "      <td>1</td>\n",
       "      <td>95</td>\n",
       "      <td>772</td>\n",
       "      <td>87</td>\n",
       "      <td>48</td>\n",
       "      <td>5032</td>\n",
       "      <td>623</td>\n",
       "    </tr>\n",
       "    <tr>\n",
       "      <th>10</th>\n",
       "      <td>35</td>\n",
       "      <td>1999</td>\n",
       "      <td>3819</td>\n",
       "      <td>789</td>\n",
       "      <td>25</td>\n",
       "      <td>2457</td>\n",
       "      <td>107</td>\n",
       "      <td>454</td>\n",
       "      <td>1343</td>\n",
       "      <td>1</td>\n",
       "      <td>...</td>\n",
       "      <td>1</td>\n",
       "      <td>1441</td>\n",
       "      <td>37</td>\n",
       "      <td>2</td>\n",
       "      <td>83</td>\n",
       "      <td>704</td>\n",
       "      <td>87</td>\n",
       "      <td>43</td>\n",
       "      <td>5122</td>\n",
       "      <td>586</td>\n",
       "    </tr>\n",
       "    <tr>\n",
       "      <th>11</th>\n",
       "      <td>37</td>\n",
       "      <td>1754</td>\n",
       "      <td>3475</td>\n",
       "      <td>745</td>\n",
       "      <td>17</td>\n",
       "      <td>2091</td>\n",
       "      <td>110</td>\n",
       "      <td>389</td>\n",
       "      <td>1110</td>\n",
       "      <td>1</td>\n",
       "      <td>...</td>\n",
       "      <td>1</td>\n",
       "      <td>1274</td>\n",
       "      <td>22</td>\n",
       "      <td>0</td>\n",
       "      <td>75</td>\n",
       "      <td>667</td>\n",
       "      <td>90</td>\n",
       "      <td>36</td>\n",
       "      <td>4727</td>\n",
       "      <td>447</td>\n",
       "    </tr>\n",
       "    <tr>\n",
       "      <th>12</th>\n",
       "      <td>40</td>\n",
       "      <td>1626</td>\n",
       "      <td>3455</td>\n",
       "      <td>738</td>\n",
       "      <td>17</td>\n",
       "      <td>2046</td>\n",
       "      <td>127</td>\n",
       "      <td>382</td>\n",
       "      <td>1000</td>\n",
       "      <td>2</td>\n",
       "      <td>...</td>\n",
       "      <td>0</td>\n",
       "      <td>1328</td>\n",
       "      <td>25</td>\n",
       "      <td>1</td>\n",
       "      <td>71</td>\n",
       "      <td>639</td>\n",
       "      <td>81</td>\n",
       "      <td>40</td>\n",
       "      <td>4523</td>\n",
       "      <td>553</td>\n",
       "    </tr>\n",
       "  </tbody>\n",
       "</table>\n",
       "<p>12 rows × 31 columns</p>\n",
       "</div>"
      ],
      "text/plain": [
       "Primary Type  ARSON  ASSAULT  BATTERY  BURGLARY  \\\n",
       "Month                                             \n",
       "1                28     1728     3427       667   \n",
       "2                25     1603     3112       537   \n",
       "3                42     1839     3615       654   \n",
       "4                33     1946     3684       637   \n",
       "5                53     2219     4323       739   \n",
       "6                47     1904     4059       653   \n",
       "7                25     2044     3911       761   \n",
       "8                43     2001     3741       732   \n",
       "9                44     1952     3958       791   \n",
       "10               35     1999     3819       789   \n",
       "11               37     1754     3475       745   \n",
       "12               40     1626     3455       738   \n",
       "\n",
       "Primary Type  CONCEALED CARRY LICENSE VIOLATION  CRIMINAL DAMAGE  \\\n",
       "Month                                                              \n",
       "1                                            19             2026   \n",
       "2                                            21             1732   \n",
       "3                                            34             2272   \n",
       "4                                            21             2231   \n",
       "5                                            19             2382   \n",
       "6                                            21             2411   \n",
       "7                                            25             2464   \n",
       "8                                            15             2551   \n",
       "9                                            15             2431   \n",
       "10                                           25             2457   \n",
       "11                                           17             2091   \n",
       "12                                           17             2046   \n",
       "\n",
       "Primary Type  CRIMINAL SEXUAL ASSAULT  CRIMINAL TRESPASS  DECEPTIVE PRACTICE  \\\n",
       "Month                                                                          \n",
       "1                                 149                428                1510   \n",
       "2                                 108                381                1122   \n",
       "3                                 157                467                1261   \n",
       "4                                 134                409                1234   \n",
       "5                                 123                431                1302   \n",
       "6                                 129                396                1259   \n",
       "7                                 137                457                1349   \n",
       "8                                 154                441                1295   \n",
       "9                                 138                410                1206   \n",
       "10                                107                454                1343   \n",
       "11                                110                389                1110   \n",
       "12                                127                382                1000   \n",
       "\n",
       "Primary Type  GAMBLING  ...  OTHER NARCOTIC VIOLATION  OTHER OFFENSE  \\\n",
       "Month                   ...                                            \n",
       "1                    0  ...                         0           1604   \n",
       "2                    3  ...                         1           1337   \n",
       "3                    2  ...                         0           1427   \n",
       "4                    2  ...                         1           1291   \n",
       "5                    1  ...                         2           1507   \n",
       "6                    0  ...                         0           1333   \n",
       "7                    2  ...                         0           1380   \n",
       "8                    0  ...                         0           1379   \n",
       "9                    4  ...                         1           1480   \n",
       "10                   1  ...                         1           1441   \n",
       "11                   1  ...                         1           1274   \n",
       "12                   2  ...                         0           1328   \n",
       "\n",
       "Primary Type  PROSTITUTION  PUBLIC INDECENCY  PUBLIC PEACE VIOLATION  ROBBERY  \\\n",
       "Month                                                                           \n",
       "1                       11                 1                      87      623   \n",
       "2                       20                 2                      84      499   \n",
       "3                       17                 1                      80      596   \n",
       "4                        5                 0                      77      706   \n",
       "5                       31                 1                      71      711   \n",
       "6                       38                 2                     103      730   \n",
       "7                       27                 2                      75      855   \n",
       "8                       23                 0                     105      698   \n",
       "9                       31                 1                      95      772   \n",
       "10                      37                 2                      83      704   \n",
       "11                      22                 0                      75      667   \n",
       "12                      25                 1                      71      639   \n",
       "\n",
       "Primary Type  SEX OFFENSE  STALKING  THEFT  WEAPONS VIOLATION  \n",
       "Month                                                          \n",
       "1                     132        61   4762                498  \n",
       "2                      78        29   4112                444  \n",
       "3                     117        30   4786                579  \n",
       "4                     107        35   4450                660  \n",
       "5                     133        55   5243                688  \n",
       "6                     100        42   5397                677  \n",
       "7                     111        50   5724                760  \n",
       "8                      87        51   5323                649  \n",
       "9                      87        48   5032                623  \n",
       "10                     87        43   5122                586  \n",
       "11                     90        36   4727                447  \n",
       "12                     81        40   4523                553  \n",
       "\n",
       "[12 rows x 31 columns]"
      ]
     },
     "execution_count": 84,
     "metadata": {},
     "output_type": "execute_result"
    }
   ],
   "source": [
    "year24_25.unstack()"
   ]
  },
  {
   "cell_type": "code",
   "execution_count": 86,
   "id": "3dba4aa9-94c2-487a-be77-138e58095eed",
   "metadata": {},
   "outputs": [
    {
     "data": {
      "image/png": "[encoded data removed]",
      "text/plain": [
       "<Figure size 1000x500 with 1 Axes>"
      ]
     },
     "metadata": {},
     "output_type": "display_data"
    }
   ],
   "source": [
    "monthly_crimes_data = crime.groupby(['Year', 'Month']).size()\n",
    "monthly_crimes_data = monthly_crimes_data.unstack(level=0)\n",
    "\n",
    "monthly_crimes_data.plot(\n",
    "    marker='o', \n",
    "    figsize=(10, 5),\n",
    "    title='Monthly Crimes by Year (2024-2025)'\n",
    ")\n",
    "plt.xticks(range(1, 13), ['Jan','Feb','Mar','Apr','May','Jun','Jul','Aug','Sep','Oct','Nov','Dec'])\n",
    "plt.legend(title='Year and Month Severity Comparison', bbox_to_anchor = (1.05,1), loc='upper left')\n",
    "plt.grid(alpha=0.3)\n",
    "plt.show()"
   ]
  },
  {
   "cell_type": "markdown",
   "id": "ce6b0a44-a782-4c05-b850-f512da4432f6",
   "metadata": {},
   "source": [
    "<b>Insights 15-16<b>"
   ]
  },
  {
   "cell_type": "markdown",
   "id": "31083abb-6add-400e-af33-d875f1ec774e",
   "metadata": {},
   "source": [
    "<i> The month has the highest number of reported crimes is June 2024 , because of the summer break possibly due to more outdoor activity or social events<i>"
   ]
  },
  {
   "cell_type": "markdown",
   "id": "afd57070-267d-4761-9579-4416b5c69c4b",
   "metadata": {},
   "source": [
    "<i> The month has the lowest number of reported crimes is November 2025<i>"
   ]
  },
  {
   "cell_type": "code",
   "execution_count": 131,
   "id": "dcee79e0-e391-466d-a52f-11293ac47419",
   "metadata": {},
   "outputs": [
    {
     "data": {
      "text/plain": [
       "ID                               int64\n",
       "Case Number                   category\n",
       "Date                    datetime64[ns]\n",
       "Block                         category\n",
       "IUCR                          category\n",
       "Primary Type                  category\n",
       "Description                   category\n",
       "Location Description          category\n",
       "Arrest                        category\n",
       "Domestic                      category\n",
       "Beat                             int64\n",
       "District                         int64\n",
       "Ward                             int64\n",
       "Community Area                category\n",
       "FBI Code                      category\n",
       "X Coordinate                  category\n",
       "Y Coordinate                  category\n",
       "Year                          category\n",
       "Updated On                    category\n",
       "Latitude                      category\n",
       "Longitude                     category\n",
       "Location                      category\n",
       "Month                         category\n",
       "DayofWeek                     category\n",
       "Day                           category\n",
       "dtype: object"
      ]
     },
     "execution_count": 131,
     "metadata": {},
     "output_type": "execute_result"
    }
   ],
   "source": [
    "crime.dtypes"
   ]
  },
  {
   "cell_type": "markdown",
   "id": "91b7f409-e775-428c-b467-6dc150f49334",
   "metadata": {},
   "source": [
    "<h1>Crime Rate between community area and crime frequency in 2024 to 2025</h1>"
   ]
  },
  {
   "cell_type": "code",
   "execution_count": 120,
   "id": "21291170-1f23-4f97-92b1-66b4a3a79eab",
   "metadata": {},
   "outputs": [
    {
     "data": {
      "text/plain": [
       "0         38.0\n",
       "1         31.0\n",
       "2         23.0\n",
       "3         26.0\n",
       "4         75.0\n",
       "          ... \n",
       "249118    22.0\n",
       "249119    49.0\n",
       "249120    71.0\n",
       "249121    61.0\n",
       "249122    28.0\n",
       "Name: Community Area, Length: 249123, dtype: category\n",
       "Categories (77, float64): [1.0, 2.0, 3.0, 4.0, ..., 74.0, 75.0, 76.0, 77.0]"
      ]
     },
     "execution_count": 120,
     "metadata": {},
     "output_type": "execute_result"
    }
   ],
   "source": [
    "crime['Community Area']"
   ]
  },
  {
   "cell_type": "code",
   "execution_count": 124,
   "id": "5ef8d7d7-11ea-4db8-aa94-415a9c2b7c1d",
   "metadata": {},
   "outputs": [],
   "source": [
    "crime_df = crime.groupby(['Year','Community Area']).size()"
   ]
  },
  {
   "cell_type": "code",
   "execution_count": 125,
   "id": "2ebbfb3a-73fc-460c-b0da-8674ab5207a2",
   "metadata": {},
   "outputs": [
    {
     "data": {
      "text/plain": [
       "Year  Community Area\n",
       "2024  1.0               2946\n",
       "      2.0               2660\n",
       "      3.0               3321\n",
       "      4.0               1435\n",
       "      5.0               1042\n",
       "                        ... \n",
       "2025  73.0               679\n",
       "      74.0               122\n",
       "      75.0               458\n",
       "      76.0               460\n",
       "      77.0               858\n",
       "Length: 154, dtype: int64"
      ]
     },
     "execution_count": 125,
     "metadata": {},
     "output_type": "execute_result"
    }
   ],
   "source": [
    "crime_df"
   ]
  },
  {
   "cell_type": "code",
   "execution_count": 88,
   "id": "23c3ffd0-0dc7-475c-84d2-fee59fc3ddef",
   "metadata": {},
   "outputs": [
    {
     "data": {
      "image/png": "[encoded data removed]",
      "text/plain": [
       "<Figure size 1200x600 with 1 Axes>"
      ]
     },
     "metadata": {},
     "output_type": "display_data"
    }
   ],
   "source": [
    "plt.figure(figsize=(12,6))\n",
    "sns.countplot(x='Community Area', data=crime, order=crime['Community Area'].value_counts().index[:15])\n",
    "plt.title(\"Crimes by Community Area\")\n",
    "plt.show()"
   ]
  },
  {
   "cell_type": "markdown",
   "id": "e16903de-aa26-4b9f-9501-45c57d28657f",
   "metadata": {},
   "source": [
    "<b>Insights 17-18<b>"
   ]
  },
  {
   "cell_type": "markdown",
   "id": "6138af76-1ff6-4a0c-840f-b125e4cdd0c3",
   "metadata": {},
   "source": [
    "<i>A few community areas (like 25, 8, and 28) experience disproportionately higher crime rates compared to others, highlighting key hotspots for focused law enforcement and community safety efforts.<i>"
   ]
  },
  {
   "cell_type": "markdown",
   "id": "e5c71181-be9a-4fe0-bc95-cc909abe25a8",
   "metadata": {},
   "source": [
    "<i>The top 15 community areas dominate crime cases. Each records at least 5,000+ incidents, suggesting that crimes are heavily concentrated in certain areas rather than evenly spread across the city.<i>"
   ]
  },
  {
   "cell_type": "code",
   "execution_count": 132,
   "id": "f5f69380-f0aa-4ac9-9d87-b356ec6b7f9d",
   "metadata": {},
   "outputs": [
    {
     "data": {
      "text/plain": [
       "ID                               int64\n",
       "Case Number                   category\n",
       "Date                    datetime64[ns]\n",
       "Block                         category\n",
       "IUCR                          category\n",
       "Primary Type                  category\n",
       "Description                   category\n",
       "Location Description          category\n",
       "Arrest                        category\n",
       "Domestic                      category\n",
       "Beat                             int64\n",
       "District                         int64\n",
       "Ward                             int64\n",
       "Community Area                category\n",
       "FBI Code                      category\n",
       "X Coordinate                  category\n",
       "Y Coordinate                  category\n",
       "Year                          category\n",
       "Updated On                    category\n",
       "Latitude                      category\n",
       "Longitude                     category\n",
       "Location                      category\n",
       "Month                         category\n",
       "DayofWeek                     category\n",
       "Day                           category\n",
       "dtype: object"
      ]
     },
     "execution_count": 132,
     "metadata": {},
     "output_type": "execute_result"
    }
   ],
   "source": [
    "crime.dtypes"
   ]
  },
  {
   "cell_type": "code",
   "execution_count": 121,
   "id": "4ebac885-e9f3-4481-9085-07897f10a660",
   "metadata": {},
   "outputs": [
    {
     "data": {
      "text/plain": [
       "0          2\n",
       "1         10\n",
       "2         25\n",
       "3         11\n",
       "4         22\n",
       "          ..\n",
       "249118    14\n",
       "249119     6\n",
       "249120     6\n",
       "249121     9\n",
       "249122    12\n",
       "Name: District, Length: 249123, dtype: int64"
      ]
     },
     "execution_count": 121,
     "metadata": {},
     "output_type": "execute_result"
    }
   ],
   "source": [
    "crime['District']"
   ]
  },
  {
   "cell_type": "code",
   "execution_count": 122,
   "id": "d64a9449-137b-4bee-8502-1d706dfe273f",
   "metadata": {},
   "outputs": [],
   "source": [
    "crime_df = crime.groupby(['Year','District']).size()"
   ]
  },
  {
   "cell_type": "code",
   "execution_count": 123,
   "id": "4e215d90-3326-4d46-8f05-df00bf8d9b7f",
   "metadata": {},
   "outputs": [
    {
     "data": {
      "text/plain": [
       "Year  District\n",
       "2024  1           10982\n",
       "      2            9756\n",
       "      3            9490\n",
       "      4            9947\n",
       "      5            7411\n",
       "      6           10712\n",
       "      7            7936\n",
       "      8           12585\n",
       "      9            8327\n",
       "      10           7627\n",
       "      11           9884\n",
       "      12          11958\n",
       "      14           7374\n",
       "      15           6471\n",
       "      16           6487\n",
       "      17           5873\n",
       "      18           9991\n",
       "      19          10566\n",
       "      20           4075\n",
       "      22           5816\n",
       "      24           6061\n",
       "      25           9579\n",
       "      31             10\n",
       "2025  1            3427\n",
       "      2            3092\n",
       "      3            3055\n",
       "      4            3371\n",
       "      5            2472\n",
       "      6            3445\n",
       "      7            2584\n",
       "      8            4106\n",
       "      9            2583\n",
       "      10           2506\n",
       "      11           3539\n",
       "      12           3397\n",
       "      14           1967\n",
       "      15           2134\n",
       "      16           2083\n",
       "      17           1928\n",
       "      18           3127\n",
       "      19           3074\n",
       "      20           1287\n",
       "      22           1894\n",
       "      24           2040\n",
       "      25           3085\n",
       "      31              9\n",
       "dtype: int64"
      ]
     },
     "execution_count": 123,
     "metadata": {},
     "output_type": "execute_result"
    }
   ],
   "source": [
    "crime_df"
   ]
  },
  {
   "cell_type": "code",
   "execution_count": 90,
   "id": "e3a2b941-e7fb-45b6-92b1-1643064aedee",
   "metadata": {},
   "outputs": [
    {
     "data": {
      "image/png": "[encoded data removed]",
      "text/plain": [
       "<Figure size 1200x600 with 1 Axes>"
      ]
     },
     "metadata": {},
     "output_type": "display_data"
    }
   ],
   "source": [
    "plt.figure(figsize=(12,6))\n",
    "sns.countplot(x='Year', hue='District', data=crime)\n",
    "plt.title(\"Crimes by District Over Years\")\n",
    "plt.show()"
   ]
  },
  {
   "cell_type": "markdown",
   "id": "72e7dbdc-96b9-4ae2-b2d3-58ae9d51039e",
   "metadata": {},
   "source": [
    "<b>Insight 19-21<b>"
   ]
  },
  {
   "cell_type": "markdown",
   "id": "327d6848-b592-49c0-a289-91ab1338efe7",
   "metadata": {},
   "source": [
    "<i>District 15 had the highest number of crimes in 2024, exceeding 12,000 cases, making it the top district for crime activity.<i>"
   ]
  },
  {
   "cell_type": "markdown",
   "id": "e70d73a9-def1-44b5-899b-3b9e9d366ff1",
   "metadata": {},
   "source": [
    "<i>The steep drop between 2024 and 2025 may suggest changes in reporting, policing strategies, or actual reduction in crime rates.<i>"
   ]
  },
  {
   "cell_type": "markdown",
   "id": "5916528c-4392-4bf5-801d-807b81cd8762",
   "metadata": {},
   "source": [
    "<i>Crime levels were much higher in 2024 compared to 2025 across all districts, the counts dropped sharply in 2025.<i>"
   ]
  },
  {
   "cell_type": "markdown",
   "id": "399a6c49-00c0-4fa2-916e-159affc6b00a",
   "metadata": {},
   "source": [
    "<h1>How many arrests vs non-arrests?</h1>"
   ]
  },
  {
   "cell_type": "code",
   "execution_count": 91,
   "id": "abd744c2-5b5b-4946-8bca-56228a378c25",
   "metadata": {},
   "outputs": [
    {
     "data": {
      "image/png": "[encoded data removed]",
      "text/plain": [
       "<Figure size 600x600 with 1 Axes>"
      ]
     },
     "metadata": {},
     "output_type": "display_data"
    }
   ],
   "source": [
    "plt.figure(figsize=(6,6))\n",
    "crime['Arrest'].value_counts().plot(kind='pie', autopct='%1.1f%%')\n",
    "plt.title(\"Arrests vs Non-Arrests\")\n",
    "plt.show()"
   ]
  },
  {
   "cell_type": "markdown",
   "id": "1166a913-7f66-46dc-9590-2fcf1fa4a192",
   "metadata": {},
   "source": [
    "<b>Insights 22-23<b>"
   ]
  },
  {
   "cell_type": "markdown",
   "id": "092c1985-f694-4e49-89b5-b2795195f48e",
   "metadata": {},
   "source": [
    "<i>Most crimes do not result in an arrest about 85.5% of cases are non-arrests, meaning the majority of incidents remain unsolved or offenders are not apprehended.<i>"
   ]
  },
  {
   "cell_type": "markdown",
   "id": "e7f8e5a2-ca2e-46cd-b4c0-0c1e02b87353",
   "metadata": {},
   "source": [
    "<i>Only 14.5% of crimes result in arrests, which shows a relatively low arrest rate compared to the total number of crimes reported.<i>"
   ]
  },
  {
   "cell_type": "markdown",
   "id": "38ac83e7-ff90-4f96-ac37-e5085f6fd966",
   "metadata": {},
   "source": [
    "<h1>How many Domestic vs Non-Domestic Crimes?</h1>"
   ]
  },
  {
   "cell_type": "code",
   "execution_count": 93,
   "id": "c425dd8e-923e-4e68-bfc4-15ee59626258",
   "metadata": {},
   "outputs": [
    {
     "data": {
      "image/png": "[encoded data removed]",
      "text/plain": [
       "<Figure size 600x600 with 1 Axes>"
      ]
     },
     "metadata": {},
     "output_type": "display_data"
    }
   ],
   "source": [
    "plt.figure(figsize=(6,6))\n",
    "crime['Domestic'].value_counts().plot(kind='pie', autopct='%1.1f%%')\n",
    "plt.title(\"Domestic vs Non-Domestic Crimes\")\n",
    "plt.show()"
   ]
  },
  {
   "cell_type": "markdown",
   "id": "53b153d3-1625-4cd9-84fc-a0d12856710c",
   "metadata": {},
   "source": [
    "<b>Insights 24-25<b>"
   ]
  },
  {
   "cell_type": "markdown",
   "id": "8d7fe4f2-c406-4ebd-8b01-b58f867ed64c",
   "metadata": {},
   "source": [
    "<i>Domestic crimes account for 18.6%, which is still a significant portion, showing that nearly 1 in 5 reported crimes happen in domestic situations."
   ]
  },
  {
   "cell_type": "markdown",
   "id": "82a11861-81a2-4a92-8271-cf09331a3104",
   "metadata": {},
   "source": [
    "<i>Non-domestic crimes make up the majority about 81.4% of all crimes, meaning most incidents occur outside the household setting.<i>"
   ]
  },
  {
   "cell_type": "code",
   "execution_count": 133,
   "id": "03ca6e60-f97a-4363-9e70-c3e8ca590db4",
   "metadata": {},
   "outputs": [
    {
     "data": {
      "text/plain": [
       "ID                               int64\n",
       "Case Number                   category\n",
       "Date                    datetime64[ns]\n",
       "Block                         category\n",
       "IUCR                          category\n",
       "Primary Type                  category\n",
       "Description                   category\n",
       "Location Description          category\n",
       "Arrest                        category\n",
       "Domestic                      category\n",
       "Beat                             int64\n",
       "District                         int64\n",
       "Ward                             int64\n",
       "Community Area                category\n",
       "FBI Code                      category\n",
       "X Coordinate                  category\n",
       "Y Coordinate                  category\n",
       "Year                          category\n",
       "Updated On                    category\n",
       "Latitude                      category\n",
       "Longitude                     category\n",
       "Location                      category\n",
       "Month                         category\n",
       "DayofWeek                     category\n",
       "Day                           category\n",
       "dtype: object"
      ]
     },
     "execution_count": 133,
     "metadata": {},
     "output_type": "execute_result"
    }
   ],
   "source": [
    "crime.dtypes"
   ]
  },
  {
   "cell_type": "markdown",
   "id": "8ce4827b-8a18-4baf-8270-b879aba1bed8",
   "metadata": {},
   "source": [
    "<h1>Distribution of crimes across wards</h1>"
   ]
  },
  {
   "cell_type": "code",
   "execution_count": 114,
   "id": "aa52ae72-1362-499b-9aad-da5cb35d0ca9",
   "metadata": {},
   "outputs": [
    {
     "data": {
      "text/plain": [
       "<bound method Series.unique of 0          3\n",
       "1         25\n",
       "2         36\n",
       "3         28\n",
       "4         21\n",
       "          ..\n",
       "249118     1\n",
       "249119     9\n",
       "249120    21\n",
       "249121    20\n",
       "249122    27\n",
       "Name: Ward, Length: 249123, dtype: int64>"
      ]
     },
     "execution_count": 114,
     "metadata": {},
     "output_type": "execute_result"
    }
   ],
   "source": [
    "crime['Ward'].unique"
   ]
  },
  {
   "cell_type": "code",
   "execution_count": 113,
   "id": "d5da6ee4-f914-43c6-b05f-b8f75e548e91",
   "metadata": {},
   "outputs": [
    {
     "data": {
      "image/png": "[encoded data removed]",
      "text/plain": [
       "<Figure size 1200x600 with 1 Axes>"
      ]
     },
     "metadata": {},
     "output_type": "display_data"
    }
   ],
   "source": [
    "plt.figure(figsize=(12,6))\n",
    "sns.countplot(x='Ward', data=crime, order=crime['Ward'].value_counts().index[:20])\n",
    "plt.title(\"Crimes by Ward (Top 20)\")\n",
    "plt.show()"
   ]
  },
  {
   "cell_type": "markdown",
   "id": "0741da9e-ea22-4fe5-b657-1deadf786fb2",
   "metadata": {},
   "source": [
    "<b>Insights 26-29<b>"
   ]
  },
  {
   "cell_type": "markdown",
   "id": "327e1e25-9d5e-46bb-b4c1-5f65b7ccaa6a",
   "metadata": {},
   "source": [
    "<i>Crimes are unevenly distributed across wards, while the top few wards (27, 28, 6, 42, 24) show very high crime volumes, there is a gradual decline as we move down the ranking, with Ward 1 having less than half the count of Ward 27."
   ]
  },
  {
   "cell_type": "markdown",
   "id": "e59c9acf-54ea-40ae-8733-825bbd50a53e",
   "metadata": {},
   "source": [
    "<i>There is no clear linear pattern across ward numbers. This suggests crime levels are not dependent on ward numbering but likely influenced by socio-economic, demographic, or geographic factors.There is no clear linear pattern across ward numbers. This suggests crime levels are not dependent on ward numbering but likely influenced by socio-economic, demographic, or geographic factors."
   ]
  },
  {
   "cell_type": "markdown",
   "id": "63a2c8f1-9fb8-4d39-82c8-e5571903793d",
   "metadata": {},
   "source": [
    "<i>The distribution is highly uneven, with a few wards (notably 27 and 28) showing disproportionately high crime rates compared to others. This suggests that crime in the city is concentrated in specific hotspots rather than being evenly spread across all wards."
   ]
  },
  {
   "cell_type": "markdown",
   "id": "c7853b86-7720-4fa7-92c5-e414eb747dbb",
   "metadata": {},
   "source": [
    "<h1>What are the most common FBI codes?</h1>"
   ]
  },
  {
   "cell_type": "code",
   "execution_count": 111,
   "id": "5353e692-907c-411e-9f2f-800291599cb5",
   "metadata": {},
   "outputs": [
    {
     "data": {
      "image/png": "[encoded data removed]",
      "text/plain": [
       "<Figure size 1000x600 with 1 Axes>"
      ]
     },
     "metadata": {},
     "output_type": "display_data"
    }
   ],
   "source": [
    "FBI_Crime_Codes = crime['FBI Code'].value_counts().head(3).index\n",
    "\n",
    "FBI_Code = crime[crime['FBI Code'].isin(FBI_Crime_Codes)]\n",
    "\n",
    "plt.figure(figsize=(10, 6))\n",
    "graph = sns.countplot(\n",
    "    y='FBI Code',\n",
    "    data=FBI_Code,\n",
    "    order=FBI_Crime_Codes,\n",
    "    color='pink'\n",
    ")\n",
    "\n",
    "# Add value labels on bars\n",
    "for x in graph.patches:\n",
    "    count = int(x.get_width())\n",
    "    graph.text(\n",
    "        count + 500,\n",
    "        x.get_y() + x.get_height() / 2,\n",
    "        f'{count:,}',\n",
    "        va='center',\n",
    "        fontsize=11\n",
    "    )\n",
    "\n",
    "plt.title(\"FBI Codes\")\n",
    "sns.despine(left=True, bottom=True)\n",
    "plt.tight_layout()\n",
    "plt.show()"
   ]
  },
  {
   "cell_type": "markdown",
   "id": "96280320-f520-427f-8e54-175569044521",
   "metadata": {},
   "source": [
    "<b>Insights 30-33<b>"
   ]
  },
  {
   "cell_type": "markdown",
   "id": "54bf0341-219e-4359-bedd-d68a151a3594",
   "metadata": {},
   "source": [
    "<i>FBI Code 06 is the most common, with 60,380 cases, making it the dominant category in this dataset."
   ]
  },
  {
   "cell_type": "markdown",
   "id": "12add454-5ac2-4307-96c5-bd45bf01500f",
   "metadata": {},
   "source": [
    "<i>The most common FBI codes in the dataset are 06 (60,380 cases), 08B (37,090 cases), and 14 (27,094 cases)"
   ]
  },
  {
   "cell_type": "markdown",
   "id": "0b5bc7b0-ef01-48f2-9db3-8041cdbd2508",
   "metadata": {},
   "source": [
    "<i>These top three codes together make up a large share of the total crimes, suggesting that crime in Chicago is concentrated within a few major FBI categories."
   ]
  },
  {
   "cell_type": "code",
   "execution_count": 166,
   "id": "c11bb4c5-b0a5-42bd-96aa-c560252fb37e",
   "metadata": {},
   "outputs": [
    {
     "data": {
      "image/png": "[encoded data removed]",
      "text/plain": [
       "<Figure size 1000x800 with 2 Axes>"
      ]
     },
     "metadata": {},
     "output_type": "display_data"
    }
   ],
   "source": [
    "correlation_matrix = crime[['Month', 'Hour', 'Year', \n",
    "                             'Arrest']].corr()\n",
    "\n",
    "plt.figure(figsize=(10, 8))\n",
    "sns.heatmap(\n",
    "    correlation_matrix,\n",
    "    annot=True,       \n",
    "    fmt=\".2f\",         \n",
    "    cmap='coolwarm', \n",
    "    center=0,          \n",
    "    linewidths=0.5\n",
    ")\n",
    "\n",
    "plt.title('Correlation Between Crime Arrest', fontsize=14)\n",
    "plt.tight_layout()\n",
    "plt.show()"
   ]
  },
  {
   "cell_type": "markdown",
   "id": "c9a75869-2bd9-4029-a7f5-95e2157aaab9",
   "metadata": {},
   "source": [
    "<b>Insights 34-35"
   ]
  },
  {
   "cell_type": "markdown",
   "id": "ceee116d-6df6-4e81-b483-3dde72a2f3dd",
   "metadata": {},
   "source": [
    "<i>This indicates that as years progress, the monthly distribution of crimes shifts, suggesting that crime occurrence may vary by month each year"
   ]
  },
  {
   "cell_type": "markdown",
   "id": "4921fff4-905e-4af3-b476-480ea44e638a",
   "metadata": {},
   "source": [
    "<i>This shows that the orrelation values between Arrest and both Month (0.03) and Hour (0.05) are very close to 0. Which means factors like days and months doesn't affect the arrest crime rates"
   ]
  },
  {
   "cell_type": "code",
   "execution_count": null,
   "id": "ee8db926-cb18-4229-911b-3e712c9a23fc",
   "metadata": {},
   "outputs": [],
   "source": []
  }
 ],
 "metadata": {
  "kernelspec": {
   "display_name": "Python 3 (ipykernel)",
   "language": "python",
   "name": "python3"
  },
  "language_info": {
   "codemirror_mode": {
    "name": "ipython",
    "version": 3
   },
   "file_extension": ".py",
   "mimetype": "text/x-python",
   "name": "python",
   "nbconvert_exporter": "python",
   "pygments_lexer": "ipython3",
   "version": "3.12.6"
  }
 },
 "nbformat": 4,
 "nbformat_minor": 5
}
