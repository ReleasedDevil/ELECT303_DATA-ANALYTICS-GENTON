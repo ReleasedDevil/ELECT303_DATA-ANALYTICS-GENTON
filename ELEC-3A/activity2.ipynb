{
 "cells": [
  {
   "cell_type": "markdown",
   "id": "db398879-fa8a-456f-81dc-2235f135bb3b",
   "metadata": {},
   "source": [
    "<h1>Example</h1>"
   ]
  },
  {
   "cell_type": "code",
   "execution_count": 1,
   "id": "5259c861-5cb6-4c16-b750-04a913010a24",
   "metadata": {},
   "outputs": [],
   "source": [
    "import pandas as pd\n",
    "import numpy as np\n",
    "import warnings\n",
    "warnings.filterwarnings('ignore')"
   ]
  },
  {
   "cell_type": "code",
   "execution_count": 2,
   "id": "60973493-4cc6-44cf-94d5-ee680922ea7c",
   "metadata": {},
   "outputs": [],
   "source": [
    "accident = pd.read_csv('datasets//uk_road_accident.csv')\n"
   ]
  },
  {
   "cell_type": "code",
   "execution_count": 3,
   "id": "f62489e4-cf4f-48d7-9965-12f8cd75ab3c",
   "metadata": {},
   "outputs": [
    {
     "data": {
      "text/html": [
       "<div>\n",
       "<style scoped>\n",
       "    .dataframe tbody tr th:only-of-type {\n",
       "        vertical-align: middle;\n",
       "    }\n",
       "\n",
       "    .dataframe tbody tr th {\n",
       "        vertical-align: top;\n",
       "    }\n",
       "\n",
       "    .dataframe thead th {\n",
       "        text-align: right;\n",
       "    }\n",
       "</style>\n",
       "<table border=\"1\" class=\"dataframe\">\n",
       "  <thead>\n",
       "    <tr style=\"text-align: right;\">\n",
       "      <th></th>\n",
       "      <th>Index</th>\n",
       "      <th>Accident_Severity</th>\n",
       "      <th>Accident Date</th>\n",
       "      <th>Latitude</th>\n",
       "      <th>Light_Conditions</th>\n",
       "      <th>District Area</th>\n",
       "      <th>Longitude</th>\n",
       "      <th>Number_of_Casualties</th>\n",
       "      <th>Number_of_Vehicles</th>\n",
       "      <th>Road_Surface_Conditions</th>\n",
       "      <th>Road_Type</th>\n",
       "      <th>Urban_or_Rural_Area</th>\n",
       "      <th>Weather_Conditions</th>\n",
       "      <th>Vehicle_Type</th>\n",
       "    </tr>\n",
       "  </thead>\n",
       "  <tbody>\n",
       "    <tr>\n",
       "      <th>0</th>\n",
       "      <td>200701BS64157</td>\n",
       "      <td>Serious</td>\n",
       "      <td>5/6/2019</td>\n",
       "      <td>51.506187</td>\n",
       "      <td>Darkness - lights lit</td>\n",
       "      <td>Kensington and Chelsea</td>\n",
       "      <td>-0.209082</td>\n",
       "      <td>1</td>\n",
       "      <td>2</td>\n",
       "      <td>Dry</td>\n",
       "      <td>Single carriageway</td>\n",
       "      <td>Urban</td>\n",
       "      <td>Fine no high winds</td>\n",
       "      <td>Car</td>\n",
       "    </tr>\n",
       "    <tr>\n",
       "      <th>1</th>\n",
       "      <td>200701BS65737</td>\n",
       "      <td>Serious</td>\n",
       "      <td>2/7/2019</td>\n",
       "      <td>51.495029</td>\n",
       "      <td>Daylight</td>\n",
       "      <td>Kensington and Chelsea</td>\n",
       "      <td>-0.173647</td>\n",
       "      <td>1</td>\n",
       "      <td>2</td>\n",
       "      <td>Wet or damp</td>\n",
       "      <td>Single carriageway</td>\n",
       "      <td>Urban</td>\n",
       "      <td>Raining no high winds</td>\n",
       "      <td>Car</td>\n",
       "    </tr>\n",
       "    <tr>\n",
       "      <th>2</th>\n",
       "      <td>200701BS66127</td>\n",
       "      <td>Serious</td>\n",
       "      <td>26-08-2019</td>\n",
       "      <td>51.517715</td>\n",
       "      <td>Darkness - lighting unknown</td>\n",
       "      <td>Kensington and Chelsea</td>\n",
       "      <td>-0.210215</td>\n",
       "      <td>1</td>\n",
       "      <td>3</td>\n",
       "      <td>Dry</td>\n",
       "      <td>NaN</td>\n",
       "      <td>Urban</td>\n",
       "      <td>NaN</td>\n",
       "      <td>Taxi/Private hire car</td>\n",
       "    </tr>\n",
       "    <tr>\n",
       "      <th>3</th>\n",
       "      <td>200701BS66128</td>\n",
       "      <td>Serious</td>\n",
       "      <td>16-08-2019</td>\n",
       "      <td>51.495478</td>\n",
       "      <td>Daylight</td>\n",
       "      <td>Kensington and Chelsea</td>\n",
       "      <td>-0.202731</td>\n",
       "      <td>1</td>\n",
       "      <td>4</td>\n",
       "      <td>Dry</td>\n",
       "      <td>Single carriageway</td>\n",
       "      <td>Urban</td>\n",
       "      <td>Fine no high winds</td>\n",
       "      <td>Bus or coach (17 or more pass seats)</td>\n",
       "    </tr>\n",
       "    <tr>\n",
       "      <th>4</th>\n",
       "      <td>200701BS66837</td>\n",
       "      <td>Slight</td>\n",
       "      <td>3/9/2019</td>\n",
       "      <td>51.488576</td>\n",
       "      <td>Darkness - lights lit</td>\n",
       "      <td>Kensington and Chelsea</td>\n",
       "      <td>-0.192487</td>\n",
       "      <td>1</td>\n",
       "      <td>2</td>\n",
       "      <td>Dry</td>\n",
       "      <td>NaN</td>\n",
       "      <td>Urban</td>\n",
       "      <td>NaN</td>\n",
       "      <td>Other vehicle</td>\n",
       "    </tr>\n",
       "    <tr>\n",
       "      <th>...</th>\n",
       "      <td>...</td>\n",
       "      <td>...</td>\n",
       "      <td>...</td>\n",
       "      <td>...</td>\n",
       "      <td>...</td>\n",
       "      <td>...</td>\n",
       "      <td>...</td>\n",
       "      <td>...</td>\n",
       "      <td>...</td>\n",
       "      <td>...</td>\n",
       "      <td>...</td>\n",
       "      <td>...</td>\n",
       "      <td>...</td>\n",
       "      <td>...</td>\n",
       "    </tr>\n",
       "    <tr>\n",
       "      <th>660674</th>\n",
       "      <td>201091NM01760</td>\n",
       "      <td>Slight</td>\n",
       "      <td>18-02-2022</td>\n",
       "      <td>57.374005</td>\n",
       "      <td>Daylight</td>\n",
       "      <td>Highland</td>\n",
       "      <td>-3.467828</td>\n",
       "      <td>2</td>\n",
       "      <td>1</td>\n",
       "      <td>Dry</td>\n",
       "      <td>Single carriageway</td>\n",
       "      <td>Rural</td>\n",
       "      <td>Fine no high winds</td>\n",
       "      <td>Car</td>\n",
       "    </tr>\n",
       "    <tr>\n",
       "      <th>660675</th>\n",
       "      <td>201091NM01881</td>\n",
       "      <td>Slight</td>\n",
       "      <td>21-02-2022</td>\n",
       "      <td>57.232273</td>\n",
       "      <td>Darkness - no lighting</td>\n",
       "      <td>Highland</td>\n",
       "      <td>-3.809281</td>\n",
       "      <td>1</td>\n",
       "      <td>1</td>\n",
       "      <td>Frost or ice</td>\n",
       "      <td>Single carriageway</td>\n",
       "      <td>Rural</td>\n",
       "      <td>Fine no high winds</td>\n",
       "      <td>Car</td>\n",
       "    </tr>\n",
       "    <tr>\n",
       "      <th>660676</th>\n",
       "      <td>201091NM01935</td>\n",
       "      <td>Slight</td>\n",
       "      <td>23-02-2022</td>\n",
       "      <td>57.585044</td>\n",
       "      <td>Daylight</td>\n",
       "      <td>Highland</td>\n",
       "      <td>-3.862727</td>\n",
       "      <td>1</td>\n",
       "      <td>3</td>\n",
       "      <td>Frost or ice</td>\n",
       "      <td>Single carriageway</td>\n",
       "      <td>Rural</td>\n",
       "      <td>Fine no high winds</td>\n",
       "      <td>Car</td>\n",
       "    </tr>\n",
       "    <tr>\n",
       "      <th>660677</th>\n",
       "      <td>201091NM01964</td>\n",
       "      <td>Serious</td>\n",
       "      <td>23-02-2022</td>\n",
       "      <td>57.214898</td>\n",
       "      <td>Darkness - no lighting</td>\n",
       "      <td>Highland</td>\n",
       "      <td>-3.823997</td>\n",
       "      <td>1</td>\n",
       "      <td>2</td>\n",
       "      <td>Wet or damp</td>\n",
       "      <td>Single carriageway</td>\n",
       "      <td>Rural</td>\n",
       "      <td>Fine no high winds</td>\n",
       "      <td>Motorcycle over 500cc</td>\n",
       "    </tr>\n",
       "    <tr>\n",
       "      <th>660678</th>\n",
       "      <td>201091NM02142</td>\n",
       "      <td>Serious</td>\n",
       "      <td>28-02-2022</td>\n",
       "      <td>57.575210</td>\n",
       "      <td>Daylight</td>\n",
       "      <td>Highland</td>\n",
       "      <td>-3.895673</td>\n",
       "      <td>1</td>\n",
       "      <td>1</td>\n",
       "      <td>Wet or damp</td>\n",
       "      <td>Dual carriageway</td>\n",
       "      <td>Rural</td>\n",
       "      <td>Snowing no high winds</td>\n",
       "      <td>Car</td>\n",
       "    </tr>\n",
       "  </tbody>\n",
       "</table>\n",
       "<p>660679 rows × 14 columns</p>\n",
       "</div>"
      ],
      "text/plain": [
       "                Index Accident_Severity Accident Date   Latitude  \\\n",
       "0       200701BS64157           Serious      5/6/2019  51.506187   \n",
       "1       200701BS65737           Serious      2/7/2019  51.495029   \n",
       "2       200701BS66127           Serious    26-08-2019  51.517715   \n",
       "3       200701BS66128           Serious    16-08-2019  51.495478   \n",
       "4       200701BS66837            Slight      3/9/2019  51.488576   \n",
       "...               ...               ...           ...        ...   \n",
       "660674  201091NM01760            Slight    18-02-2022  57.374005   \n",
       "660675  201091NM01881            Slight    21-02-2022  57.232273   \n",
       "660676  201091NM01935            Slight    23-02-2022  57.585044   \n",
       "660677  201091NM01964           Serious    23-02-2022  57.214898   \n",
       "660678  201091NM02142           Serious    28-02-2022  57.575210   \n",
       "\n",
       "                   Light_Conditions           District Area  Longitude  \\\n",
       "0             Darkness - lights lit  Kensington and Chelsea  -0.209082   \n",
       "1                          Daylight  Kensington and Chelsea  -0.173647   \n",
       "2       Darkness - lighting unknown  Kensington and Chelsea  -0.210215   \n",
       "3                          Daylight  Kensington and Chelsea  -0.202731   \n",
       "4             Darkness - lights lit  Kensington and Chelsea  -0.192487   \n",
       "...                             ...                     ...        ...   \n",
       "660674                     Daylight                Highland  -3.467828   \n",
       "660675       Darkness - no lighting                Highland  -3.809281   \n",
       "660676                     Daylight                Highland  -3.862727   \n",
       "660677       Darkness - no lighting                Highland  -3.823997   \n",
       "660678                     Daylight                Highland  -3.895673   \n",
       "\n",
       "        Number_of_Casualties  Number_of_Vehicles Road_Surface_Conditions  \\\n",
       "0                          1                   2                     Dry   \n",
       "1                          1                   2             Wet or damp   \n",
       "2                          1                   3                     Dry   \n",
       "3                          1                   4                     Dry   \n",
       "4                          1                   2                     Dry   \n",
       "...                      ...                 ...                     ...   \n",
       "660674                     2                   1                     Dry   \n",
       "660675                     1                   1            Frost or ice   \n",
       "660676                     1                   3            Frost or ice   \n",
       "660677                     1                   2             Wet or damp   \n",
       "660678                     1                   1             Wet or damp   \n",
       "\n",
       "                 Road_Type Urban_or_Rural_Area     Weather_Conditions  \\\n",
       "0       Single carriageway               Urban     Fine no high winds   \n",
       "1       Single carriageway               Urban  Raining no high winds   \n",
       "2                      NaN               Urban                    NaN   \n",
       "3       Single carriageway               Urban     Fine no high winds   \n",
       "4                      NaN               Urban                    NaN   \n",
       "...                    ...                 ...                    ...   \n",
       "660674  Single carriageway               Rural     Fine no high winds   \n",
       "660675  Single carriageway               Rural     Fine no high winds   \n",
       "660676  Single carriageway               Rural     Fine no high winds   \n",
       "660677  Single carriageway               Rural     Fine no high winds   \n",
       "660678    Dual carriageway               Rural  Snowing no high winds   \n",
       "\n",
       "                                Vehicle_Type  \n",
       "0                                        Car  \n",
       "1                                        Car  \n",
       "2                      Taxi/Private hire car  \n",
       "3       Bus or coach (17 or more pass seats)  \n",
       "4                              Other vehicle  \n",
       "...                                      ...  \n",
       "660674                                   Car  \n",
       "660675                                   Car  \n",
       "660676                                   Car  \n",
       "660677                 Motorcycle over 500cc  \n",
       "660678                                   Car  \n",
       "\n",
       "[660679 rows x 14 columns]"
      ]
     },
     "execution_count": 3,
     "metadata": {},
     "output_type": "execute_result"
    }
   ],
   "source": [
    "accident"
   ]
  },
  {
   "cell_type": "code",
   "execution_count": 4,
   "id": "e06af22b-4a6c-4d43-a597-d232c1afb74c",
   "metadata": {},
   "outputs": [
    {
     "name": "stdout",
     "output_type": "stream",
     "text": [
      "<class 'pandas.core.frame.DataFrame'>\n",
      "RangeIndex: 660679 entries, 0 to 660678\n",
      "Data columns (total 14 columns):\n",
      " #   Column                   Non-Null Count   Dtype  \n",
      "---  ------                   --------------   -----  \n",
      " 0   Index                    660679 non-null  object \n",
      " 1   Accident_Severity        660679 non-null  object \n",
      " 2   Accident Date            660679 non-null  object \n",
      " 3   Latitude                 660654 non-null  float64\n",
      " 4   Light_Conditions         660679 non-null  object \n",
      " 5   District Area            660679 non-null  object \n",
      " 6   Longitude                660653 non-null  float64\n",
      " 7   Number_of_Casualties     660679 non-null  int64  \n",
      " 8   Number_of_Vehicles       660679 non-null  int64  \n",
      " 9   Road_Surface_Conditions  659953 non-null  object \n",
      " 10  Road_Type                656159 non-null  object \n",
      " 11  Urban_or_Rural_Area      660664 non-null  object \n",
      " 12  Weather_Conditions       646551 non-null  object \n",
      " 13  Vehicle_Type             660679 non-null  object \n",
      "dtypes: float64(2), int64(2), object(10)\n",
      "memory usage: 70.6+ MB\n"
     ]
    }
   ],
   "source": [
    "accident.info()"
   ]
  },
  {
   "cell_type": "code",
   "execution_count": 5,
   "id": "eca7ea6b-654c-4da5-80c8-4516528a983e",
   "metadata": {},
   "outputs": [
    {
     "data": {
      "text/html": [
       "<div>\n",
       "<style scoped>\n",
       "    .dataframe tbody tr th:only-of-type {\n",
       "        vertical-align: middle;\n",
       "    }\n",
       "\n",
       "    .dataframe tbody tr th {\n",
       "        vertical-align: top;\n",
       "    }\n",
       "\n",
       "    .dataframe thead th {\n",
       "        text-align: right;\n",
       "    }\n",
       "</style>\n",
       "<table border=\"1\" class=\"dataframe\">\n",
       "  <thead>\n",
       "    <tr style=\"text-align: right;\">\n",
       "      <th></th>\n",
       "      <th>count</th>\n",
       "      <th>mean</th>\n",
       "      <th>std</th>\n",
       "      <th>min</th>\n",
       "      <th>25%</th>\n",
       "      <th>50%</th>\n",
       "      <th>75%</th>\n",
       "      <th>max</th>\n",
       "    </tr>\n",
       "  </thead>\n",
       "  <tbody>\n",
       "    <tr>\n",
       "      <th>Latitude</th>\n",
       "      <td>660654.0</td>\n",
       "      <td>52.553866</td>\n",
       "      <td>1.406922</td>\n",
       "      <td>49.914430</td>\n",
       "      <td>51.490690</td>\n",
       "      <td>52.315641</td>\n",
       "      <td>53.453452</td>\n",
       "      <td>60.757544</td>\n",
       "    </tr>\n",
       "    <tr>\n",
       "      <th>Longitude</th>\n",
       "      <td>660653.0</td>\n",
       "      <td>-1.431210</td>\n",
       "      <td>1.383330</td>\n",
       "      <td>-7.516225</td>\n",
       "      <td>-2.332291</td>\n",
       "      <td>-1.411667</td>\n",
       "      <td>-0.232869</td>\n",
       "      <td>1.762010</td>\n",
       "    </tr>\n",
       "    <tr>\n",
       "      <th>Number_of_Casualties</th>\n",
       "      <td>660679.0</td>\n",
       "      <td>1.357040</td>\n",
       "      <td>0.824847</td>\n",
       "      <td>1.000000</td>\n",
       "      <td>1.000000</td>\n",
       "      <td>1.000000</td>\n",
       "      <td>1.000000</td>\n",
       "      <td>68.000000</td>\n",
       "    </tr>\n",
       "    <tr>\n",
       "      <th>Number_of_Vehicles</th>\n",
       "      <td>660679.0</td>\n",
       "      <td>1.831255</td>\n",
       "      <td>0.715269</td>\n",
       "      <td>1.000000</td>\n",
       "      <td>1.000000</td>\n",
       "      <td>2.000000</td>\n",
       "      <td>2.000000</td>\n",
       "      <td>32.000000</td>\n",
       "    </tr>\n",
       "  </tbody>\n",
       "</table>\n",
       "</div>"
      ],
      "text/plain": [
       "                         count       mean       std        min        25%  \\\n",
       "Latitude              660654.0  52.553866  1.406922  49.914430  51.490690   \n",
       "Longitude             660653.0  -1.431210  1.383330  -7.516225  -2.332291   \n",
       "Number_of_Casualties  660679.0   1.357040  0.824847   1.000000   1.000000   \n",
       "Number_of_Vehicles    660679.0   1.831255  0.715269   1.000000   1.000000   \n",
       "\n",
       "                            50%        75%        max  \n",
       "Latitude              52.315641  53.453452  60.757544  \n",
       "Longitude             -1.411667  -0.232869   1.762010  \n",
       "Number_of_Casualties   1.000000   1.000000  68.000000  \n",
       "Number_of_Vehicles     2.000000   2.000000  32.000000  "
      ]
     },
     "execution_count": 5,
     "metadata": {},
     "output_type": "execute_result"
    }
   ],
   "source": [
    "accident.describe().T"
   ]
  },
  {
   "cell_type": "code",
   "execution_count": 6,
   "id": "99dc4f91-46aa-4338-85c4-dfd3afab17be",
   "metadata": {},
   "outputs": [
    {
     "data": {
      "text/plain": [
       "Index                          0\n",
       "Accident_Severity              0\n",
       "Accident Date                  0\n",
       "Latitude                      25\n",
       "Light_Conditions               0\n",
       "District Area                  0\n",
       "Longitude                     26\n",
       "Number_of_Casualties           0\n",
       "Number_of_Vehicles             0\n",
       "Road_Surface_Conditions      726\n",
       "Road_Type                   4520\n",
       "Urban_or_Rural_Area           15\n",
       "Weather_Conditions         14128\n",
       "Vehicle_Type                   0\n",
       "dtype: int64"
      ]
     },
     "execution_count": 6,
     "metadata": {},
     "output_type": "execute_result"
    }
   ],
   "source": [
    "accident.isnull().sum()"
   ]
  },
  {
   "cell_type": "code",
   "execution_count": 7,
   "id": "ac83075b-e827-4578-9b92-71ad3e9bda42",
   "metadata": {},
   "outputs": [],
   "source": [
    "accident['Latitude'] = accident['Latitude'].fillna(accident['Latitude'].mode()[0])\n"
   ]
  },
  {
   "cell_type": "code",
   "execution_count": 8,
   "id": "05505faf-56d7-446a-a6ac-2fdc08839205",
   "metadata": {},
   "outputs": [],
   "source": [
    "accident['Longitude'] = accident['Longitude'].fillna(accident['Longitude'].mode()[0])\n"
   ]
  },
  {
   "cell_type": "code",
   "execution_count": 9,
   "id": "c47b61cd-097a-48f8-a5d5-fafae3721a7e",
   "metadata": {},
   "outputs": [],
   "source": [
    "accident['Road_Surface_Conditions'] = accident['Road_Surface_Conditions'].fillna('unknown condition')\n"
   ]
  },
  {
   "cell_type": "code",
   "execution_count": 10,
   "id": "5a08b410-1b49-40a0-b2af-01b45d2acc66",
   "metadata": {},
   "outputs": [],
   "source": [
    "accident['Road_Type'] = accident['Road_Type'].fillna(accident['Road_Type'].mode()[0])\n"
   ]
  },
  {
   "cell_type": "code",
   "execution_count": 11,
   "id": "94bed22a-4bca-4827-a36c-049df3074e54",
   "metadata": {},
   "outputs": [
    {
     "data": {
      "text/plain": [
       "0         Urban\n",
       "1         Urban\n",
       "2         Urban\n",
       "3         Urban\n",
       "4         Urban\n",
       "          ...  \n",
       "660674    Rural\n",
       "660675    Rural\n",
       "660676    Rural\n",
       "660677    Rural\n",
       "660678    Rural\n",
       "Name: Urban_or_Rural_Area, Length: 660679, dtype: object"
      ]
     },
     "execution_count": 11,
     "metadata": {},
     "output_type": "execute_result"
    }
   ],
   "source": [
    "accident['Urban_or_Rural_Area'] "
   ]
  },
  {
   "cell_type": "code",
   "execution_count": 12,
   "id": "8c79bffb-188c-4558-b80d-b8d45028d9e7",
   "metadata": {},
   "outputs": [
    {
     "data": {
      "text/plain": [
       "0         Urban\n",
       "1         Urban\n",
       "2         Urban\n",
       "3         Urban\n",
       "4         Urban\n",
       "          ...  \n",
       "660674    Rural\n",
       "660675    Rural\n",
       "660676    Rural\n",
       "660677    Rural\n",
       "660678    Rural\n",
       "Name: Urban_or_Rural_Area, Length: 660679, dtype: object"
      ]
     },
     "execution_count": 12,
     "metadata": {},
     "output_type": "execute_result"
    }
   ],
   "source": [
    "accident['Urban_or_Rural_Area'].fillna(accident['Urban_or_Rural_Area'].mode()[0])\n"
   ]
  },
  {
   "cell_type": "code",
   "execution_count": 13,
   "id": "8ad39e51-17ac-4954-9166-32b1bdf20b24",
   "metadata": {},
   "outputs": [],
   "source": [
    "accident['Weather_Conditions'] = accident['Weather_Conditions'].fillna('unknown weather')\n"
   ]
  },
  {
   "cell_type": "code",
   "execution_count": 14,
   "id": "fc7508c9-0fb2-4b1c-b2cd-fb725defd44c",
   "metadata": {},
   "outputs": [
    {
     "data": {
      "text/plain": [
       "Index                       0\n",
       "Accident_Severity           0\n",
       "Accident Date               0\n",
       "Latitude                    0\n",
       "Light_Conditions            0\n",
       "District Area               0\n",
       "Longitude                   0\n",
       "Number_of_Casualties        0\n",
       "Number_of_Vehicles          0\n",
       "Road_Surface_Conditions     0\n",
       "Road_Type                   0\n",
       "Urban_or_Rural_Area        15\n",
       "Weather_Conditions          0\n",
       "Vehicle_Type                0\n",
       "dtype: int64"
      ]
     },
     "execution_count": 14,
     "metadata": {},
     "output_type": "execute_result"
    }
   ],
   "source": [
    "accident.isnull().sum()\n"
   ]
  },
  {
   "cell_type": "code",
   "execution_count": 15,
   "id": "2b81fab3-002e-46e5-8324-3922445643c4",
   "metadata": {},
   "outputs": [
    {
     "data": {
      "text/plain": [
       "Index                       object\n",
       "Accident_Severity           object\n",
       "Accident Date               object\n",
       "Latitude                   float64\n",
       "Light_Conditions            object\n",
       "District Area               object\n",
       "Longitude                  float64\n",
       "Number_of_Casualties         int64\n",
       "Number_of_Vehicles           int64\n",
       "Road_Surface_Conditions     object\n",
       "Road_Type                   object\n",
       "Urban_or_Rural_Area         object\n",
       "Weather_Conditions          object\n",
       "Vehicle_Type                object\n",
       "dtype: object"
      ]
     },
     "execution_count": 15,
     "metadata": {},
     "output_type": "execute_result"
    }
   ],
   "source": [
    "accident.dtypes\n"
   ]
  },
  {
   "cell_type": "code",
   "execution_count": 16,
   "id": "750d7a70-7494-4a1c-96dd-e1564eadf16a",
   "metadata": {},
   "outputs": [],
   "source": [
    "accident['Accident_Severity'] = accident['Accident_Severity'].astype('category')"
   ]
  },
  {
   "cell_type": "code",
   "execution_count": 17,
   "id": "a294294d-f467-40c4-8e03-6d67a81735e9",
   "metadata": {},
   "outputs": [],
   "source": [
    "accident['Light_Conditions'] = accident['Light_Conditions'].astype('category')\n"
   ]
  },
  {
   "cell_type": "code",
   "execution_count": 18,
   "id": "dad095fc-d6de-4ae8-84d6-0a06c946329b",
   "metadata": {},
   "outputs": [],
   "source": [
    "accident['Latitude'] = accident['Latitude'].astype('category')\n"
   ]
  },
  {
   "cell_type": "code",
   "execution_count": 19,
   "id": "f1885fc7-f902-4068-889c-1c02625c6d80",
   "metadata": {},
   "outputs": [],
   "source": [
    "accident['District Area'] = accident['District Area'].astype('category')\n"
   ]
  },
  {
   "cell_type": "code",
   "execution_count": 20,
   "id": "2d1451ab-8a64-4c81-a163-1343d0065573",
   "metadata": {},
   "outputs": [],
   "source": [
    "accident['Longitude'] = accident['Longitude'].astype('category')"
   ]
  },
  {
   "cell_type": "code",
   "execution_count": 21,
   "id": "d33f7c40-84cf-4e10-a124-a584945d969d",
   "metadata": {},
   "outputs": [],
   "source": [
    "accident['Road_Surface_Conditions'] = accident['Road_Surface_Conditions'].astype('category')"
   ]
  },
  {
   "cell_type": "code",
   "execution_count": 22,
   "id": "f68d1b04-a334-46e3-a7c0-3868f7dcb514",
   "metadata": {},
   "outputs": [],
   "source": [
    "accident['Road_Type'] = accident['Road_Type'].astype('category')\n"
   ]
  },
  {
   "cell_type": "code",
   "execution_count": 23,
   "id": "8d4e6c31-a916-4470-ba68-5cf17f48a34b",
   "metadata": {},
   "outputs": [],
   "source": [
    "accident['Urban_or_Rural_Area'] = accident['Urban_or_Rural_Area'].astype('category')"
   ]
  },
  {
   "cell_type": "code",
   "execution_count": 24,
   "id": "3eb36b05-3145-45a1-9b86-d1fdbbfae90a",
   "metadata": {},
   "outputs": [],
   "source": [
    "accident['Weather_Conditions'] = accident['Weather_Conditions'].astype('category')"
   ]
  },
  {
   "cell_type": "code",
   "execution_count": 25,
   "id": "2d5f7bde-30de-47b5-a1af-ca5f992b113f",
   "metadata": {},
   "outputs": [],
   "source": [
    "accident['Vehicle_Type'] = accident['Vehicle_Type'].astype('category')\n"
   ]
  },
  {
   "cell_type": "code",
   "execution_count": 26,
   "id": "dd85a1c3-ed4a-47ae-9c98-1a44ec721c84",
   "metadata": {},
   "outputs": [
    {
     "data": {
      "text/plain": [
       "Index                       0\n",
       "Accident_Severity           0\n",
       "Accident Date               0\n",
       "Latitude                    0\n",
       "Light_Conditions            0\n",
       "District Area               0\n",
       "Longitude                   0\n",
       "Number_of_Casualties        0\n",
       "Number_of_Vehicles          0\n",
       "Road_Surface_Conditions     0\n",
       "Road_Type                   0\n",
       "Urban_or_Rural_Area        15\n",
       "Weather_Conditions          0\n",
       "Vehicle_Type                0\n",
       "dtype: int64"
      ]
     },
     "execution_count": 26,
     "metadata": {},
     "output_type": "execute_result"
    }
   ],
   "source": [
    "accident.isnull().sum()\n"
   ]
  },
  {
   "cell_type": "code",
   "execution_count": 27,
   "id": "5b0721fb-8d2a-494e-97e7-76a7e2ecd6f3",
   "metadata": {},
   "outputs": [],
   "source": [
    "accident['Accident Date'] = accident['Accident Date'].astype('str')\n",
    "accident['Accident Date'] = accident['Accident Date'].str.strip()\n",
    "accident['Accident Date'] = accident['Accident Date'].str.replace('/','-')\n",
    "accident['Accident Date'] = pd.to_datetime(accident['Accident Date'],dayfirst=True,errors = 'coerce')\n"
   ]
  },
  {
   "cell_type": "code",
   "execution_count": 28,
   "id": "1a17878d-b6cc-4cf6-8eea-b01baacf5e66",
   "metadata": {},
   "outputs": [
    {
     "data": {
      "text/plain": [
       "Index                       0\n",
       "Accident_Severity           0\n",
       "Accident Date               0\n",
       "Latitude                    0\n",
       "Light_Conditions            0\n",
       "District Area               0\n",
       "Longitude                   0\n",
       "Number_of_Casualties        0\n",
       "Number_of_Vehicles          0\n",
       "Road_Surface_Conditions     0\n",
       "Road_Type                   0\n",
       "Urban_or_Rural_Area        15\n",
       "Weather_Conditions          0\n",
       "Vehicle_Type                0\n",
       "dtype: int64"
      ]
     },
     "execution_count": 28,
     "metadata": {},
     "output_type": "execute_result"
    }
   ],
   "source": [
    "accident.isnull().sum()"
   ]
  },
  {
   "cell_type": "code",
   "execution_count": 29,
   "id": "ccb669e4-dc01-4909-84ca-7c600e1b37eb",
   "metadata": {},
   "outputs": [],
   "source": [
    "accident['Year'] = accident['Accident Date'].dt.year\n",
    "accident['Month'] = accident['Accident Date'].dt.month\n",
    "accident['DayofWeek'] = accident['Accident Date'].dt.dayofweek\n",
    "accident['Day'] = accident['Accident Date'].dt.day"
   ]
  },
  {
   "cell_type": "code",
   "execution_count": 30,
   "id": "e5d50d02-5994-444f-a231-a6e6c9af6b0c",
   "metadata": {},
   "outputs": [
    {
     "data": {
      "text/plain": [
       "Index                       0\n",
       "Accident_Severity           0\n",
       "Accident Date               0\n",
       "Latitude                    0\n",
       "Light_Conditions            0\n",
       "District Area               0\n",
       "Longitude                   0\n",
       "Number_of_Casualties        0\n",
       "Number_of_Vehicles          0\n",
       "Road_Surface_Conditions     0\n",
       "Road_Type                   0\n",
       "Urban_or_Rural_Area        15\n",
       "Weather_Conditions          0\n",
       "Vehicle_Type                0\n",
       "Year                        0\n",
       "Month                       0\n",
       "DayofWeek                   0\n",
       "Day                         0\n",
       "dtype: int64"
      ]
     },
     "execution_count": 30,
     "metadata": {},
     "output_type": "execute_result"
    }
   ],
   "source": [
    "accident.isnull().sum()"
   ]
  },
  {
   "cell_type": "code",
   "execution_count": 31,
   "id": "d5588630-ad1d-40d2-b57e-c1ec9ee8b423",
   "metadata": {},
   "outputs": [],
   "source": [
    "accident['Year'] = accident['Year'].astype('category')\n",
    "accident['Month'] = accident['Month'].astype('category')\n",
    "accident['DayofWeek'] = accident['DayofWeek'].astype('category')\n",
    "accident['Day'] = accident['Day'].astype('category')"
   ]
  },
  {
   "cell_type": "code",
   "execution_count": 32,
   "id": "eceed66b-404b-4b3e-b388-036e6c4ad268",
   "metadata": {},
   "outputs": [
    {
     "data": {
      "text/plain": [
       "Index                              object\n",
       "Accident_Severity                category\n",
       "Accident Date              datetime64[ns]\n",
       "Latitude                         category\n",
       "Light_Conditions                 category\n",
       "District Area                    category\n",
       "Longitude                        category\n",
       "Number_of_Casualties                int64\n",
       "Number_of_Vehicles                  int64\n",
       "Road_Surface_Conditions          category\n",
       "Road_Type                        category\n",
       "Urban_or_Rural_Area              category\n",
       "Weather_Conditions               category\n",
       "Vehicle_Type                     category\n",
       "Year                             category\n",
       "Month                            category\n",
       "DayofWeek                        category\n",
       "Day                              category\n",
       "dtype: object"
      ]
     },
     "execution_count": 32,
     "metadata": {},
     "output_type": "execute_result"
    }
   ],
   "source": [
    "accident.dtypes"
   ]
  },
  {
   "cell_type": "markdown",
   "id": "02052d95-4486-4e97-8bb3-418b04c773f2",
   "metadata": {
    "jp-MarkdownHeadingCollapsed": true
   },
   "source": [
    "<h1>Exploratory Data Analytics</h1>"
   ]
  },
  {
   "cell_type": "markdown",
   "id": "43a33938-4f12-4b2c-b6da-28c5cd01ea7e",
   "metadata": {},
   "source": [
    "<h1>1. Which area has many accidents?</h1>"
   ]
  },
  {
   "cell_type": "code",
   "execution_count": 33,
   "id": "9a661139-145c-4822-81ec-ecf5784e29b6",
   "metadata": {},
   "outputs": [
    {
     "data": {
      "text/plain": [
       "['Kensington and Chelsea', 'Westminster', 'Richmond upon Thames', 'Hammersmith and Fulham', 'Hounslow', ..., 'County Durham', 'Shropshire', 'Central Bedfordshire', 'Cornwall', 'Wiltshire']\n",
       "Length: 422\n",
       "Categories (422, object): ['Aberdeen City', 'Aberdeenshire', 'Adur', 'Allerdale', ..., 'Wycombe', 'Wyre', 'Wyre Forest', 'York']"
      ]
     },
     "execution_count": 33,
     "metadata": {},
     "output_type": "execute_result"
    }
   ],
   "source": [
    "accident['District Area'].unique()"
   ]
  },
  {
   "cell_type": "code",
   "execution_count": 34,
   "id": "ef13ec47-38b6-4e12-8353-9ff4cbfc4847",
   "metadata": {},
   "outputs": [
    {
     "data": {
      "text/plain": [
       "np.int64(2799)"
      ]
     },
     "execution_count": 34,
     "metadata": {},
     "output_type": "execute_result"
    }
   ],
   "source": [
    "accident[accident['District Area'] == 'Kensington and Chelsea'].value_counts().sum()"
   ]
  },
  {
   "cell_type": "code",
   "execution_count": 35,
   "id": "b5043133-68d8-4e0f-aa12-ad69ea1f12a7",
   "metadata": {},
   "outputs": [
    {
     "data": {
      "text/plain": [
       "np.int64(5706)"
      ]
     },
     "execution_count": 35,
     "metadata": {},
     "output_type": "execute_result"
    }
   ],
   "source": [
    "accident[accident['District Area'] == 'Westminster'].value_counts().sum()"
   ]
  },
  {
   "cell_type": "code",
   "execution_count": 36,
   "id": "0ec680d7-bd26-4b45-9c42-1f44962571fb",
   "metadata": {},
   "outputs": [
    {
     "data": {
      "text/plain": [
       "np.int64(1607)"
      ]
     },
     "execution_count": 36,
     "metadata": {},
     "output_type": "execute_result"
    }
   ],
   "source": [
    "accident[accident['District Area'] == 'Richmond upon Thames'].value_counts().sum()"
   ]
  },
  {
   "cell_type": "code",
   "execution_count": 37,
   "id": "ec4e0e04-bffa-41c9-b7be-c7d1ff7aa04a",
   "metadata": {},
   "outputs": [
    {
     "data": {
      "text/plain": [
       "np.int64(2509)"
      ]
     },
     "execution_count": 37,
     "metadata": {},
     "output_type": "execute_result"
    }
   ],
   "source": [
    "accident[accident['District Area'] == 'Hammersmith and Fulham'].value_counts().sum()"
   ]
  },
  {
   "cell_type": "code",
   "execution_count": 38,
   "id": "71e10e52-7c1e-46c9-960a-3d7260ba8c03",
   "metadata": {},
   "outputs": [
    {
     "data": {
      "text/plain": [
       "np.int64(2979)"
      ]
     },
     "execution_count": 38,
     "metadata": {},
     "output_type": "execute_result"
    }
   ],
   "source": [
    "accident[accident['District Area'] == 'Hounslow'].value_counts().sum()"
   ]
  },
  {
   "cell_type": "code",
   "execution_count": 39,
   "id": "cba07512-402b-4e86-aea5-2b9b841b7bc0",
   "metadata": {},
   "outputs": [
    {
     "data": {
      "text/plain": [
       "np.int64(0)"
      ]
     },
     "execution_count": 39,
     "metadata": {},
     "output_type": "execute_result"
    }
   ],
   "source": [
    "accident[accident['District Area'] == '...'].value_counts().sum()"
   ]
  },
  {
   "cell_type": "code",
   "execution_count": 40,
   "id": "76790bc5-1ac0-471a-a381-2dbb5e77a418",
   "metadata": {},
   "outputs": [
    {
     "data": {
      "text/plain": [
       "np.int64(2228)"
      ]
     },
     "execution_count": 40,
     "metadata": {},
     "output_type": "execute_result"
    }
   ],
   "source": [
    "accident[accident['District Area'] == 'County Durham'].value_counts().sum()"
   ]
  },
  {
   "cell_type": "code",
   "execution_count": 41,
   "id": "3af54b79-fcb4-4acf-b3b0-a6091d4a672c",
   "metadata": {},
   "outputs": [
    {
     "data": {
      "text/plain": [
       "np.int64(1343)"
      ]
     },
     "execution_count": 41,
     "metadata": {},
     "output_type": "execute_result"
    }
   ],
   "source": [
    "accident[accident['District Area'] == 'Shropshire'].value_counts().sum()"
   ]
  },
  {
   "cell_type": "code",
   "execution_count": 42,
   "id": "ec74103a-4605-45ed-b0da-fe37badb612b",
   "metadata": {},
   "outputs": [
    {
     "data": {
      "text/plain": [
       "np.int64(1225)"
      ]
     },
     "execution_count": 42,
     "metadata": {},
     "output_type": "execute_result"
    }
   ],
   "source": [
    "accident[accident['District Area'] == 'Central Bedfordshire'].value_counts().sum()"
   ]
  },
  {
   "cell_type": "code",
   "execution_count": 43,
   "id": "12ffdef7-0639-4209-99d1-167fc7dd26ca",
   "metadata": {},
   "outputs": [
    {
     "data": {
      "text/plain": [
       "np.int64(2606)"
      ]
     },
     "execution_count": 43,
     "metadata": {},
     "output_type": "execute_result"
    }
   ],
   "source": [
    "accident[accident['District Area'] == 'Cornwall'].value_counts().sum()"
   ]
  },
  {
   "cell_type": "code",
   "execution_count": 44,
   "id": "a1cccc94-8c70-446a-8217-6df61637d1a1",
   "metadata": {},
   "outputs": [
    {
     "data": {
      "text/plain": [
       "np.int64(1590)"
      ]
     },
     "execution_count": 44,
     "metadata": {},
     "output_type": "execute_result"
    }
   ],
   "source": [
    "accident[accident['District Area'] == 'Wiltshire'].value_counts().sum()"
   ]
  },
  {
   "cell_type": "markdown",
   "id": "9220a056-e6ef-452d-a2eb-4c694e0dfe2e",
   "metadata": {},
   "source": [
    "<hr></hr>"
   ]
  },
  {
   "cell_type": "markdown",
   "id": "696758e5-f430-493e-8861-151e63abe324",
   "metadata": {},
   "source": [
    "<i>Insight 1</i>"
   ]
  },
  {
   "cell_type": "markdown",
   "id": "57543a05-4c3c-49ca-8baa-6cb66607bce8",
   "metadata": {},
   "source": [
    "<i>Based on all areas there are many accidents, but the area of westminster has the highest counts of accident.</i>"
   ]
  },
  {
   "cell_type": "markdown",
   "id": "1b1aec59-5bc5-49fa-a6d6-28fbbaba2de2",
   "metadata": {},
   "source": [
    "<h1>2. How many incidents have 5 or more casualities that include?</h1>"
   ]
  },
  {
   "cell_type": "code",
   "execution_count": 45,
   "id": "66a8cad7-a9f6-4780-971f-1fc0d29d4e54",
   "metadata": {},
   "outputs": [
    {
     "data": {
      "text/plain": [
       "np.int64(2612)"
      ]
     },
     "execution_count": 45,
     "metadata": {},
     "output_type": "execute_result"
    }
   ],
   "source": [
    "accident[accident['Number_of_Casualties'] > 5].value_counts().sum()"
   ]
  },
  {
   "cell_type": "markdown",
   "id": "d2c25e54-ac02-4aab-9bba-db3cd70bbcaa",
   "metadata": {},
   "source": [
    "<hr></hr>"
   ]
  },
  {
   "cell_type": "markdown",
   "id": "acbc193b-38f3-44dc-bcc9-ce29c9d31b8c",
   "metadata": {},
   "source": [
    "<i>Insight 2</i>"
   ]
  },
  {
   "cell_type": "markdown",
   "id": "4d43ee13-8403-4041-bbf5-77e1f7f04443",
   "metadata": {},
   "source": [
    "<i>There have been 2612 accidents have 5 or more casualities in each incident.</i>"
   ]
  },
  {
   "cell_type": "markdown",
   "id": "a76c0ef5-68ed-4233-88e1-2c6d7e9ee474",
   "metadata": {},
   "source": [
    "<h1>3. What are the common and most frequent accidents associated with road types?</h1>"
   ]
  },
  {
   "cell_type": "code",
   "execution_count": 46,
   "id": "490cd831-3b03-4996-bdce-22d3b8ee1780",
   "metadata": {},
   "outputs": [
    {
     "data": {
      "text/plain": [
       "['Single carriageway', 'Dual carriageway', 'One way street', 'Roundabout', 'Slip road']\n",
       "Categories (5, object): ['Dual carriageway', 'One way street', 'Roundabout', 'Single carriageway', 'Slip road']"
      ]
     },
     "execution_count": 46,
     "metadata": {},
     "output_type": "execute_result"
    }
   ],
   "source": [
    "accident['Road_Type'].unique()"
   ]
  },
  {
   "cell_type": "code",
   "execution_count": 47,
   "id": "b42ff53a-1aa3-4f80-bc40-5aef8ecaa1ae",
   "metadata": {},
   "outputs": [
    {
     "data": {
      "text/plain": [
       "np.int64(496653)"
      ]
     },
     "execution_count": 47,
     "metadata": {},
     "output_type": "execute_result"
    }
   ],
   "source": [
    "accident[accident['Road_Type'] == 'Single carriageway'].value_counts().sum()"
   ]
  },
  {
   "cell_type": "code",
   "execution_count": 48,
   "id": "59608bed-7004-4826-94af-0ca9666c861d",
   "metadata": {},
   "outputs": [
    {
     "data": {
      "text/plain": [
       "np.int64(99420)"
      ]
     },
     "execution_count": 48,
     "metadata": {},
     "output_type": "execute_result"
    }
   ],
   "source": [
    "accident[accident['Road_Type'] == 'Dual carriageway'].value_counts().sum()"
   ]
  },
  {
   "cell_type": "code",
   "execution_count": 49,
   "id": "eb49ee92-6b13-42e0-ae3a-a43c07ccfce0",
   "metadata": {},
   "outputs": [
    {
     "data": {
      "text/plain": [
       "np.int64(13558)"
      ]
     },
     "execution_count": 49,
     "metadata": {},
     "output_type": "execute_result"
    }
   ],
   "source": [
    "accident[accident['Road_Type'] == 'One way street'].value_counts().sum()"
   ]
  },
  {
   "cell_type": "code",
   "execution_count": 50,
   "id": "200048e9-b6fb-4667-b74a-b5fc9de15b0e",
   "metadata": {},
   "outputs": [
    {
     "data": {
      "text/plain": [
       "np.int64(43992)"
      ]
     },
     "execution_count": 50,
     "metadata": {},
     "output_type": "execute_result"
    }
   ],
   "source": [
    "accident[accident['Road_Type'] == 'Roundabout'].value_counts().sum()"
   ]
  },
  {
   "cell_type": "code",
   "execution_count": 51,
   "id": "59dd709d-3e3c-440a-9580-8a66d741fb46",
   "metadata": {},
   "outputs": [
    {
     "data": {
      "text/plain": [
       "np.int64(7041)"
      ]
     },
     "execution_count": 51,
     "metadata": {},
     "output_type": "execute_result"
    }
   ],
   "source": [
    "accident[accident['Road_Type'] == 'Slip road'].value_counts().sum()"
   ]
  },
  {
   "cell_type": "markdown",
   "id": "dd6cc272-4221-43c9-98d6-8f968fff8c37",
   "metadata": {},
   "source": [
    "<hr></hr>"
   ]
  },
  {
   "cell_type": "markdown",
   "id": "10c88df7-7144-4037-a4cc-a2087d2945b2",
   "metadata": {},
   "source": [
    "<i>Insights 3.</i>"
   ]
  },
  {
   "cell_type": "markdown",
   "id": "34d246cc-7d2c-4fbd-b37f-a0af081c8f71",
   "metadata": {},
   "source": [
    "<i>The common road had more accidents. It was a Single carriageway, because somehow, many cars were traveling at high speeds.</i>"
   ]
  },
  {
   "cell_type": "markdown",
   "id": "d3bf3053-ec3a-4b92-a7b5-6b735080202b",
   "metadata": {},
   "source": [
    "<h1>4. Get all accidents in the Rural Area that have 1 casualty only</h1>\n"
   ]
  },
  {
   "cell_type": "code",
   "execution_count": 52,
   "id": "7bda56b6-0dd8-4cd8-ac6e-2a370b5306c5",
   "metadata": {},
   "outputs": [
    {
     "data": {
      "text/html": [
       "<div>\n",
       "<style scoped>\n",
       "    .dataframe tbody tr th:only-of-type {\n",
       "        vertical-align: middle;\n",
       "    }\n",
       "\n",
       "    .dataframe tbody tr th {\n",
       "        vertical-align: top;\n",
       "    }\n",
       "\n",
       "    .dataframe thead th {\n",
       "        text-align: right;\n",
       "    }\n",
       "</style>\n",
       "<table border=\"1\" class=\"dataframe\">\n",
       "  <thead>\n",
       "    <tr style=\"text-align: right;\">\n",
       "      <th></th>\n",
       "      <th>Index</th>\n",
       "      <th>Accident_Severity</th>\n",
       "      <th>Accident Date</th>\n",
       "      <th>Latitude</th>\n",
       "      <th>Light_Conditions</th>\n",
       "      <th>District Area</th>\n",
       "      <th>Longitude</th>\n",
       "      <th>Number_of_Casualties</th>\n",
       "      <th>Number_of_Vehicles</th>\n",
       "      <th>Road_Surface_Conditions</th>\n",
       "      <th>Road_Type</th>\n",
       "      <th>Urban_or_Rural_Area</th>\n",
       "      <th>Weather_Conditions</th>\n",
       "      <th>Vehicle_Type</th>\n",
       "      <th>Year</th>\n",
       "      <th>Month</th>\n",
       "      <th>DayofWeek</th>\n",
       "      <th>Day</th>\n",
       "    </tr>\n",
       "  </thead>\n",
       "  <tbody>\n",
       "    <tr>\n",
       "      <th>6101</th>\n",
       "      <td>200701JC30253</td>\n",
       "      <td>Slight</td>\n",
       "      <td>2019-04-29</td>\n",
       "      <td>51.616921</td>\n",
       "      <td>Darkness - lights lit</td>\n",
       "      <td>Waltham Forest</td>\n",
       "      <td>0.010797</td>\n",
       "      <td>1</td>\n",
       "      <td>1</td>\n",
       "      <td>Dry</td>\n",
       "      <td>Single carriageway</td>\n",
       "      <td>Rural</td>\n",
       "      <td>Fine no high winds</td>\n",
       "      <td>Car</td>\n",
       "      <td>2019</td>\n",
       "      <td>4</td>\n",
       "      <td>0</td>\n",
       "      <td>29</td>\n",
       "    </tr>\n",
       "    <tr>\n",
       "      <th>6193</th>\n",
       "      <td>200701JC63842</td>\n",
       "      <td>Slight</td>\n",
       "      <td>2019-06-23</td>\n",
       "      <td>51.634035</td>\n",
       "      <td>Daylight</td>\n",
       "      <td>Waltham Forest</td>\n",
       "      <td>0.014444</td>\n",
       "      <td>1</td>\n",
       "      <td>2</td>\n",
       "      <td>Wet or damp</td>\n",
       "      <td>Single carriageway</td>\n",
       "      <td>Rural</td>\n",
       "      <td>Raining no high winds</td>\n",
       "      <td>Motorcycle over 500cc</td>\n",
       "      <td>2019</td>\n",
       "      <td>6</td>\n",
       "      <td>6</td>\n",
       "      <td>23</td>\n",
       "    </tr>\n",
       "    <tr>\n",
       "      <th>6223</th>\n",
       "      <td>200701JC64859</td>\n",
       "      <td>Slight</td>\n",
       "      <td>2019-07-15</td>\n",
       "      <td>51.616088</td>\n",
       "      <td>Darkness - lighting unknown</td>\n",
       "      <td>Waltham Forest</td>\n",
       "      <td>0.012204</td>\n",
       "      <td>1</td>\n",
       "      <td>3</td>\n",
       "      <td>Dry</td>\n",
       "      <td>Single carriageway</td>\n",
       "      <td>Rural</td>\n",
       "      <td>Fine no high winds</td>\n",
       "      <td>Car</td>\n",
       "      <td>2019</td>\n",
       "      <td>7</td>\n",
       "      <td>0</td>\n",
       "      <td>15</td>\n",
       "    </tr>\n",
       "    <tr>\n",
       "      <th>6421</th>\n",
       "      <td>200701JC67563</td>\n",
       "      <td>Slight</td>\n",
       "      <td>2019-10-17</td>\n",
       "      <td>51.634365</td>\n",
       "      <td>Darkness - no lighting</td>\n",
       "      <td>Waltham Forest</td>\n",
       "      <td>0.021395</td>\n",
       "      <td>1</td>\n",
       "      <td>1</td>\n",
       "      <td>Wet or damp</td>\n",
       "      <td>Single carriageway</td>\n",
       "      <td>Rural</td>\n",
       "      <td>Raining no high winds</td>\n",
       "      <td>Car</td>\n",
       "      <td>2019</td>\n",
       "      <td>10</td>\n",
       "      <td>3</td>\n",
       "      <td>17</td>\n",
       "    </tr>\n",
       "    <tr>\n",
       "      <th>6441</th>\n",
       "      <td>200701JC67754</td>\n",
       "      <td>Slight</td>\n",
       "      <td>2019-11-03</td>\n",
       "      <td>51.615152</td>\n",
       "      <td>Daylight</td>\n",
       "      <td>Waltham Forest</td>\n",
       "      <td>0.014330</td>\n",
       "      <td>1</td>\n",
       "      <td>2</td>\n",
       "      <td>Dry</td>\n",
       "      <td>Single carriageway</td>\n",
       "      <td>Rural</td>\n",
       "      <td>Fine no high winds</td>\n",
       "      <td>Car</td>\n",
       "      <td>2019</td>\n",
       "      <td>11</td>\n",
       "      <td>6</td>\n",
       "      <td>3</td>\n",
       "    </tr>\n",
       "    <tr>\n",
       "      <th>...</th>\n",
       "      <td>...</td>\n",
       "      <td>...</td>\n",
       "      <td>...</td>\n",
       "      <td>...</td>\n",
       "      <td>...</td>\n",
       "      <td>...</td>\n",
       "      <td>...</td>\n",
       "      <td>...</td>\n",
       "      <td>...</td>\n",
       "      <td>...</td>\n",
       "      <td>...</td>\n",
       "      <td>...</td>\n",
       "      <td>...</td>\n",
       "      <td>...</td>\n",
       "      <td>...</td>\n",
       "      <td>...</td>\n",
       "      <td>...</td>\n",
       "      <td>...</td>\n",
       "    </tr>\n",
       "    <tr>\n",
       "      <th>660672</th>\n",
       "      <td>201091NM01085</td>\n",
       "      <td>Serious</td>\n",
       "      <td>2022-01-29</td>\n",
       "      <td>57.170725</td>\n",
       "      <td>Daylight</td>\n",
       "      <td>Highland</td>\n",
       "      <td>-3.852421</td>\n",
       "      <td>1</td>\n",
       "      <td>2</td>\n",
       "      <td>Snow</td>\n",
       "      <td>Single carriageway</td>\n",
       "      <td>Rural</td>\n",
       "      <td>Fine no high winds</td>\n",
       "      <td>Car</td>\n",
       "      <td>2022</td>\n",
       "      <td>1</td>\n",
       "      <td>5</td>\n",
       "      <td>29</td>\n",
       "    </tr>\n",
       "    <tr>\n",
       "      <th>660675</th>\n",
       "      <td>201091NM01881</td>\n",
       "      <td>Slight</td>\n",
       "      <td>2022-02-21</td>\n",
       "      <td>57.232273</td>\n",
       "      <td>Darkness - no lighting</td>\n",
       "      <td>Highland</td>\n",
       "      <td>-3.809281</td>\n",
       "      <td>1</td>\n",
       "      <td>1</td>\n",
       "      <td>Frost or ice</td>\n",
       "      <td>Single carriageway</td>\n",
       "      <td>Rural</td>\n",
       "      <td>Fine no high winds</td>\n",
       "      <td>Car</td>\n",
       "      <td>2022</td>\n",
       "      <td>2</td>\n",
       "      <td>0</td>\n",
       "      <td>21</td>\n",
       "    </tr>\n",
       "    <tr>\n",
       "      <th>660676</th>\n",
       "      <td>201091NM01935</td>\n",
       "      <td>Slight</td>\n",
       "      <td>2022-02-23</td>\n",
       "      <td>57.585044</td>\n",
       "      <td>Daylight</td>\n",
       "      <td>Highland</td>\n",
       "      <td>-3.862727</td>\n",
       "      <td>1</td>\n",
       "      <td>3</td>\n",
       "      <td>Frost or ice</td>\n",
       "      <td>Single carriageway</td>\n",
       "      <td>Rural</td>\n",
       "      <td>Fine no high winds</td>\n",
       "      <td>Car</td>\n",
       "      <td>2022</td>\n",
       "      <td>2</td>\n",
       "      <td>2</td>\n",
       "      <td>23</td>\n",
       "    </tr>\n",
       "    <tr>\n",
       "      <th>660677</th>\n",
       "      <td>201091NM01964</td>\n",
       "      <td>Serious</td>\n",
       "      <td>2022-02-23</td>\n",
       "      <td>57.214898</td>\n",
       "      <td>Darkness - no lighting</td>\n",
       "      <td>Highland</td>\n",
       "      <td>-3.823997</td>\n",
       "      <td>1</td>\n",
       "      <td>2</td>\n",
       "      <td>Wet or damp</td>\n",
       "      <td>Single carriageway</td>\n",
       "      <td>Rural</td>\n",
       "      <td>Fine no high winds</td>\n",
       "      <td>Motorcycle over 500cc</td>\n",
       "      <td>2022</td>\n",
       "      <td>2</td>\n",
       "      <td>2</td>\n",
       "      <td>23</td>\n",
       "    </tr>\n",
       "    <tr>\n",
       "      <th>660678</th>\n",
       "      <td>201091NM02142</td>\n",
       "      <td>Serious</td>\n",
       "      <td>2022-02-28</td>\n",
       "      <td>57.575210</td>\n",
       "      <td>Daylight</td>\n",
       "      <td>Highland</td>\n",
       "      <td>-3.895673</td>\n",
       "      <td>1</td>\n",
       "      <td>1</td>\n",
       "      <td>Wet or damp</td>\n",
       "      <td>Dual carriageway</td>\n",
       "      <td>Rural</td>\n",
       "      <td>Snowing no high winds</td>\n",
       "      <td>Car</td>\n",
       "      <td>2022</td>\n",
       "      <td>2</td>\n",
       "      <td>0</td>\n",
       "      <td>28</td>\n",
       "    </tr>\n",
       "  </tbody>\n",
       "</table>\n",
       "<p>183817 rows × 18 columns</p>\n",
       "</div>"
      ],
      "text/plain": [
       "                Index Accident_Severity Accident Date   Latitude  \\\n",
       "6101    200701JC30253            Slight    2019-04-29  51.616921   \n",
       "6193    200701JC63842            Slight    2019-06-23  51.634035   \n",
       "6223    200701JC64859            Slight    2019-07-15  51.616088   \n",
       "6421    200701JC67563            Slight    2019-10-17  51.634365   \n",
       "6441    200701JC67754            Slight    2019-11-03  51.615152   \n",
       "...               ...               ...           ...        ...   \n",
       "660672  201091NM01085           Serious    2022-01-29  57.170725   \n",
       "660675  201091NM01881            Slight    2022-02-21  57.232273   \n",
       "660676  201091NM01935            Slight    2022-02-23  57.585044   \n",
       "660677  201091NM01964           Serious    2022-02-23  57.214898   \n",
       "660678  201091NM02142           Serious    2022-02-28  57.575210   \n",
       "\n",
       "                   Light_Conditions   District Area Longitude  \\\n",
       "6101          Darkness - lights lit  Waltham Forest  0.010797   \n",
       "6193                       Daylight  Waltham Forest  0.014444   \n",
       "6223    Darkness - lighting unknown  Waltham Forest  0.012204   \n",
       "6421         Darkness - no lighting  Waltham Forest  0.021395   \n",
       "6441                       Daylight  Waltham Forest  0.014330   \n",
       "...                             ...             ...       ...   \n",
       "660672                     Daylight        Highland -3.852421   \n",
       "660675       Darkness - no lighting        Highland -3.809281   \n",
       "660676                     Daylight        Highland -3.862727   \n",
       "660677       Darkness - no lighting        Highland -3.823997   \n",
       "660678                     Daylight        Highland -3.895673   \n",
       "\n",
       "        Number_of_Casualties  Number_of_Vehicles Road_Surface_Conditions  \\\n",
       "6101                       1                   1                     Dry   \n",
       "6193                       1                   2             Wet or damp   \n",
       "6223                       1                   3                     Dry   \n",
       "6421                       1                   1             Wet or damp   \n",
       "6441                       1                   2                     Dry   \n",
       "...                      ...                 ...                     ...   \n",
       "660672                     1                   2                    Snow   \n",
       "660675                     1                   1            Frost or ice   \n",
       "660676                     1                   3            Frost or ice   \n",
       "660677                     1                   2             Wet or damp   \n",
       "660678                     1                   1             Wet or damp   \n",
       "\n",
       "                 Road_Type Urban_or_Rural_Area     Weather_Conditions  \\\n",
       "6101    Single carriageway               Rural     Fine no high winds   \n",
       "6193    Single carriageway               Rural  Raining no high winds   \n",
       "6223    Single carriageway               Rural     Fine no high winds   \n",
       "6421    Single carriageway               Rural  Raining no high winds   \n",
       "6441    Single carriageway               Rural     Fine no high winds   \n",
       "...                    ...                 ...                    ...   \n",
       "660672  Single carriageway               Rural     Fine no high winds   \n",
       "660675  Single carriageway               Rural     Fine no high winds   \n",
       "660676  Single carriageway               Rural     Fine no high winds   \n",
       "660677  Single carriageway               Rural     Fine no high winds   \n",
       "660678    Dual carriageway               Rural  Snowing no high winds   \n",
       "\n",
       "                 Vehicle_Type  Year Month DayofWeek Day  \n",
       "6101                      Car  2019     4         0  29  \n",
       "6193    Motorcycle over 500cc  2019     6         6  23  \n",
       "6223                      Car  2019     7         0  15  \n",
       "6421                      Car  2019    10         3  17  \n",
       "6441                      Car  2019    11         6   3  \n",
       "...                       ...   ...   ...       ...  ..  \n",
       "660672                    Car  2022     1         5  29  \n",
       "660675                    Car  2022     2         0  21  \n",
       "660676                    Car  2022     2         2  23  \n",
       "660677  Motorcycle over 500cc  2022     2         2  23  \n",
       "660678                    Car  2022     2         0  28  \n",
       "\n",
       "[183817 rows x 18 columns]"
      ]
     },
     "execution_count": 52,
     "metadata": {},
     "output_type": "execute_result"
    }
   ],
   "source": [
    "accident[(accident['Urban_or_Rural_Area'] == 'Rural') & (accident['Number_of_Casualties'])]"
   ]
  },
  {
   "cell_type": "markdown",
   "id": "b9b476d1-54a5-487f-b45c-3a58012af10e",
   "metadata": {},
   "source": [
    "<hr></hr>"
   ]
  },
  {
   "cell_type": "markdown",
   "id": "42eb2176-85ee-4970-ae67-9b4ce151107c",
   "metadata": {},
   "source": [
    "<i>Insights 4.</i>"
   ]
  },
  {
   "cell_type": "markdown",
   "id": "54985ee0-4287-4235-818d-7903f64903e3",
   "metadata": {},
   "source": [
    "<i>We can see above all the accidents in the Rural area.</i>"
   ]
  },
  {
   "cell_type": "markdown",
   "id": "7aa954b0-b46d-471d-baef-a5fe65396cc8",
   "metadata": {},
   "source": [
    "<h1> 5. Which incident has the highest Vehicles involved?</h1>"
   ]
  },
  {
   "cell_type": "code",
   "execution_count": 53,
   "id": "068625ff-b9aa-4d3d-9172-53ee09b3dc2b",
   "metadata": {},
   "outputs": [
    {
     "data": {
      "text/plain": [
       "array([ 2,  3,  4,  1,  5,  6, 14,  8,  7, 11, 10,  9, 16, 13, 12, 28, 15,\n",
       "       32, 19])"
      ]
     },
     "execution_count": 53,
     "metadata": {},
     "output_type": "execute_result"
    }
   ],
   "source": [
    "accident['Number_of_Vehicles'].unique() "
   ]
  },
  {
   "cell_type": "code",
   "execution_count": 54,
   "id": "1e978318-a286-4180-8f14-8f30c864b85a",
   "metadata": {},
   "outputs": [
    {
     "data": {
      "text/html": [
       "<div>\n",
       "<style scoped>\n",
       "    .dataframe tbody tr th:only-of-type {\n",
       "        vertical-align: middle;\n",
       "    }\n",
       "\n",
       "    .dataframe tbody tr th {\n",
       "        vertical-align: top;\n",
       "    }\n",
       "\n",
       "    .dataframe thead th {\n",
       "        text-align: right;\n",
       "    }\n",
       "</style>\n",
       "<table border=\"1\" class=\"dataframe\">\n",
       "  <thead>\n",
       "    <tr style=\"text-align: right;\">\n",
       "      <th></th>\n",
       "      <th>Index</th>\n",
       "      <th>Accident_Severity</th>\n",
       "      <th>Accident Date</th>\n",
       "      <th>Latitude</th>\n",
       "      <th>Light_Conditions</th>\n",
       "      <th>District Area</th>\n",
       "      <th>Longitude</th>\n",
       "      <th>Number_of_Casualties</th>\n",
       "      <th>Number_of_Vehicles</th>\n",
       "      <th>Road_Surface_Conditions</th>\n",
       "      <th>Road_Type</th>\n",
       "      <th>Urban_or_Rural_Area</th>\n",
       "      <th>Weather_Conditions</th>\n",
       "      <th>Vehicle_Type</th>\n",
       "      <th>Year</th>\n",
       "      <th>Month</th>\n",
       "      <th>DayofWeek</th>\n",
       "      <th>Day</th>\n",
       "    </tr>\n",
       "  </thead>\n",
       "  <tbody>\n",
       "    <tr>\n",
       "      <th>497581</th>\n",
       "      <td>2009559D05333</td>\n",
       "      <td>Slight</td>\n",
       "      <td>2021-12-23</td>\n",
       "      <td>50.752096</td>\n",
       "      <td>Daylight</td>\n",
       "      <td>Purbeck</td>\n",
       "      <td>-2.254705</td>\n",
       "      <td>5</td>\n",
       "      <td>32</td>\n",
       "      <td>Frost or ice</td>\n",
       "      <td>Dual carriageway</td>\n",
       "      <td>Rural</td>\n",
       "      <td>Fine no high winds</td>\n",
       "      <td>Car</td>\n",
       "      <td>2021</td>\n",
       "      <td>12</td>\n",
       "      <td>3</td>\n",
       "      <td>23</td>\n",
       "    </tr>\n",
       "  </tbody>\n",
       "</table>\n",
       "</div>"
      ],
      "text/plain": [
       "                Index Accident_Severity Accident Date   Latitude  \\\n",
       "497581  2009559D05333            Slight    2021-12-23  50.752096   \n",
       "\n",
       "       Light_Conditions District Area Longitude  Number_of_Casualties  \\\n",
       "497581         Daylight       Purbeck -2.254705                     5   \n",
       "\n",
       "        Number_of_Vehicles Road_Surface_Conditions         Road_Type  \\\n",
       "497581                  32            Frost or ice  Dual carriageway   \n",
       "\n",
       "       Urban_or_Rural_Area  Weather_Conditions Vehicle_Type  Year Month  \\\n",
       "497581               Rural  Fine no high winds          Car  2021    12   \n",
       "\n",
       "       DayofWeek Day  \n",
       "497581         3  23  "
      ]
     },
     "execution_count": 54,
     "metadata": {},
     "output_type": "execute_result"
    }
   ],
   "source": [
    "accident[accident['Number_of_Vehicles'] == 32]"
   ]
  },
  {
   "cell_type": "markdown",
   "id": "50a866a3-122a-4f11-9201-d390175c729e",
   "metadata": {},
   "source": [
    "<hr></hr>"
   ]
  },
  {
   "cell_type": "markdown",
   "id": "5ed7f47b-a9fc-4e52-9e3a-b1fcc5105578",
   "metadata": {},
   "source": [
    "<i>Insights 5</i>"
   ]
  },
  {
   "cell_type": "markdown",
   "id": "f44a9e5d-8c65-45cd-994a-8970856d41e6",
   "metadata": {},
   "source": [
    "<i>The Vehicle involved in the incident is 32 Vehicles.</i>"
   ]
  },
  {
   "cell_type": "markdown",
   "id": "915da080-c620-4577-98a4-dae361011292",
   "metadata": {},
   "source": [
    "<h1>6. Retrieve all Car incidents that have involved three or more additional vehicles.</h1>"
   ]
  },
  {
   "cell_type": "code",
   "execution_count": 55,
   "id": "071d3b12-aa9a-47ed-917a-e4340d28d658",
   "metadata": {},
   "outputs": [
    {
     "data": {
      "text/html": [
       "<div>\n",
       "<style scoped>\n",
       "    .dataframe tbody tr th:only-of-type {\n",
       "        vertical-align: middle;\n",
       "    }\n",
       "\n",
       "    .dataframe tbody tr th {\n",
       "        vertical-align: top;\n",
       "    }\n",
       "\n",
       "    .dataframe thead th {\n",
       "        text-align: right;\n",
       "    }\n",
       "</style>\n",
       "<table border=\"1\" class=\"dataframe\">\n",
       "  <thead>\n",
       "    <tr style=\"text-align: right;\">\n",
       "      <th></th>\n",
       "      <th>Index</th>\n",
       "      <th>Accident_Severity</th>\n",
       "      <th>Accident Date</th>\n",
       "      <th>Latitude</th>\n",
       "      <th>Light_Conditions</th>\n",
       "      <th>District Area</th>\n",
       "      <th>Longitude</th>\n",
       "      <th>Number_of_Casualties</th>\n",
       "      <th>Number_of_Vehicles</th>\n",
       "      <th>Road_Surface_Conditions</th>\n",
       "      <th>Road_Type</th>\n",
       "      <th>Urban_or_Rural_Area</th>\n",
       "      <th>Weather_Conditions</th>\n",
       "      <th>Vehicle_Type</th>\n",
       "      <th>Year</th>\n",
       "      <th>Month</th>\n",
       "      <th>DayofWeek</th>\n",
       "      <th>Day</th>\n",
       "    </tr>\n",
       "  </thead>\n",
       "  <tbody>\n",
       "    <tr>\n",
       "      <th>5</th>\n",
       "      <td>200701BS67159</td>\n",
       "      <td>Serious</td>\n",
       "      <td>2019-09-18</td>\n",
       "      <td>51.497750</td>\n",
       "      <td>Daylight</td>\n",
       "      <td>Kensington and Chelsea</td>\n",
       "      <td>-0.192556</td>\n",
       "      <td>2</td>\n",
       "      <td>3</td>\n",
       "      <td>Dry</td>\n",
       "      <td>Single carriageway</td>\n",
       "      <td>Urban</td>\n",
       "      <td>Fine no high winds</td>\n",
       "      <td>Car</td>\n",
       "      <td>2019</td>\n",
       "      <td>9</td>\n",
       "      <td>2</td>\n",
       "      <td>18</td>\n",
       "    </tr>\n",
       "    <tr>\n",
       "      <th>19</th>\n",
       "      <td>200701BS68237</td>\n",
       "      <td>Serious</td>\n",
       "      <td>2019-11-26</td>\n",
       "      <td>51.482988</td>\n",
       "      <td>Daylight</td>\n",
       "      <td>Kensington and Chelsea</td>\n",
       "      <td>-0.174272</td>\n",
       "      <td>1</td>\n",
       "      <td>4</td>\n",
       "      <td>Dry</td>\n",
       "      <td>Single carriageway</td>\n",
       "      <td>Urban</td>\n",
       "      <td>Fine no high winds</td>\n",
       "      <td>Car</td>\n",
       "      <td>2019</td>\n",
       "      <td>11</td>\n",
       "      <td>1</td>\n",
       "      <td>26</td>\n",
       "    </tr>\n",
       "    <tr>\n",
       "      <th>248</th>\n",
       "      <td>200701BS70255</td>\n",
       "      <td>Serious</td>\n",
       "      <td>2019-05-16</td>\n",
       "      <td>51.491632</td>\n",
       "      <td>Daylight</td>\n",
       "      <td>Kensington and Chelsea</td>\n",
       "      <td>-0.192366</td>\n",
       "      <td>1</td>\n",
       "      <td>3</td>\n",
       "      <td>Dry</td>\n",
       "      <td>Single carriageway</td>\n",
       "      <td>Urban</td>\n",
       "      <td>Fine no high winds</td>\n",
       "      <td>Car</td>\n",
       "      <td>2019</td>\n",
       "      <td>5</td>\n",
       "      <td>3</td>\n",
       "      <td>16</td>\n",
       "    </tr>\n",
       "    <tr>\n",
       "      <th>336</th>\n",
       "      <td>200701BS70350</td>\n",
       "      <td>Slight</td>\n",
       "      <td>2019-06-22</td>\n",
       "      <td>51.485178</td>\n",
       "      <td>Daylight</td>\n",
       "      <td>Kensington and Chelsea</td>\n",
       "      <td>-0.187868</td>\n",
       "      <td>1</td>\n",
       "      <td>3</td>\n",
       "      <td>Dry</td>\n",
       "      <td>One way street</td>\n",
       "      <td>Urban</td>\n",
       "      <td>Fine no high winds</td>\n",
       "      <td>Car</td>\n",
       "      <td>2019</td>\n",
       "      <td>6</td>\n",
       "      <td>5</td>\n",
       "      <td>22</td>\n",
       "    </tr>\n",
       "    <tr>\n",
       "      <th>354</th>\n",
       "      <td>200701BS70368</td>\n",
       "      <td>Slight</td>\n",
       "      <td>2019-06-29</td>\n",
       "      <td>51.482076</td>\n",
       "      <td>Darkness - lights lit</td>\n",
       "      <td>Kensington and Chelsea</td>\n",
       "      <td>-0.173445</td>\n",
       "      <td>1</td>\n",
       "      <td>3</td>\n",
       "      <td>Wet or damp</td>\n",
       "      <td>Single carriageway</td>\n",
       "      <td>Urban</td>\n",
       "      <td>Raining no high winds</td>\n",
       "      <td>Car</td>\n",
       "      <td>2019</td>\n",
       "      <td>6</td>\n",
       "      <td>5</td>\n",
       "      <td>29</td>\n",
       "    </tr>\n",
       "    <tr>\n",
       "      <th>...</th>\n",
       "      <td>...</td>\n",
       "      <td>...</td>\n",
       "      <td>...</td>\n",
       "      <td>...</td>\n",
       "      <td>...</td>\n",
       "      <td>...</td>\n",
       "      <td>...</td>\n",
       "      <td>...</td>\n",
       "      <td>...</td>\n",
       "      <td>...</td>\n",
       "      <td>...</td>\n",
       "      <td>...</td>\n",
       "      <td>...</td>\n",
       "      <td>...</td>\n",
       "      <td>...</td>\n",
       "      <td>...</td>\n",
       "      <td>...</td>\n",
       "      <td>...</td>\n",
       "    </tr>\n",
       "    <tr>\n",
       "      <th>660620</th>\n",
       "      <td>201091NK04948</td>\n",
       "      <td>Slight</td>\n",
       "      <td>2022-10-04</td>\n",
       "      <td>59.047179</td>\n",
       "      <td>Daylight</td>\n",
       "      <td>Orkney Islands</td>\n",
       "      <td>-3.196707</td>\n",
       "      <td>6</td>\n",
       "      <td>3</td>\n",
       "      <td>Dry</td>\n",
       "      <td>Roundabout</td>\n",
       "      <td>Rural</td>\n",
       "      <td>Fine no high winds</td>\n",
       "      <td>Car</td>\n",
       "      <td>2022</td>\n",
       "      <td>10</td>\n",
       "      <td>1</td>\n",
       "      <td>4</td>\n",
       "    </tr>\n",
       "    <tr>\n",
       "      <th>660641</th>\n",
       "      <td>201091NL04969</td>\n",
       "      <td>Slight</td>\n",
       "      <td>2022-09-04</td>\n",
       "      <td>60.151776</td>\n",
       "      <td>Darkness - lights lit</td>\n",
       "      <td>Shetland Islands</td>\n",
       "      <td>-1.148217</td>\n",
       "      <td>1</td>\n",
       "      <td>3</td>\n",
       "      <td>Dry</td>\n",
       "      <td>Single carriageway</td>\n",
       "      <td>Rural</td>\n",
       "      <td>Fine no high winds</td>\n",
       "      <td>Car</td>\n",
       "      <td>2022</td>\n",
       "      <td>9</td>\n",
       "      <td>6</td>\n",
       "      <td>4</td>\n",
       "    </tr>\n",
       "    <tr>\n",
       "      <th>660666</th>\n",
       "      <td>201091NM00770</td>\n",
       "      <td>Slight</td>\n",
       "      <td>2022-01-21</td>\n",
       "      <td>56.879446</td>\n",
       "      <td>Darkness - lighting unknown</td>\n",
       "      <td>Highland</td>\n",
       "      <td>-4.255357</td>\n",
       "      <td>2</td>\n",
       "      <td>4</td>\n",
       "      <td>Snow</td>\n",
       "      <td>Single carriageway</td>\n",
       "      <td>Rural</td>\n",
       "      <td>Snowing + high winds</td>\n",
       "      <td>Car</td>\n",
       "      <td>2022</td>\n",
       "      <td>1</td>\n",
       "      <td>4</td>\n",
       "      <td>21</td>\n",
       "    </tr>\n",
       "    <tr>\n",
       "      <th>660668</th>\n",
       "      <td>201091NM00839</td>\n",
       "      <td>Slight</td>\n",
       "      <td>2022-01-23</td>\n",
       "      <td>57.054889</td>\n",
       "      <td>Daylight</td>\n",
       "      <td>Highland</td>\n",
       "      <td>-4.130434</td>\n",
       "      <td>2</td>\n",
       "      <td>3</td>\n",
       "      <td>Frost or ice</td>\n",
       "      <td>Single carriageway</td>\n",
       "      <td>Rural</td>\n",
       "      <td>Other</td>\n",
       "      <td>Car</td>\n",
       "      <td>2022</td>\n",
       "      <td>1</td>\n",
       "      <td>6</td>\n",
       "      <td>23</td>\n",
       "    </tr>\n",
       "    <tr>\n",
       "      <th>660676</th>\n",
       "      <td>201091NM01935</td>\n",
       "      <td>Slight</td>\n",
       "      <td>2022-02-23</td>\n",
       "      <td>57.585044</td>\n",
       "      <td>Daylight</td>\n",
       "      <td>Highland</td>\n",
       "      <td>-3.862727</td>\n",
       "      <td>1</td>\n",
       "      <td>3</td>\n",
       "      <td>Frost or ice</td>\n",
       "      <td>Single carriageway</td>\n",
       "      <td>Rural</td>\n",
       "      <td>Fine no high winds</td>\n",
       "      <td>Car</td>\n",
       "      <td>2022</td>\n",
       "      <td>2</td>\n",
       "      <td>2</td>\n",
       "      <td>23</td>\n",
       "    </tr>\n",
       "  </tbody>\n",
       "</table>\n",
       "<p>51479 rows × 18 columns</p>\n",
       "</div>"
      ],
      "text/plain": [
       "                Index Accident_Severity Accident Date   Latitude  \\\n",
       "5       200701BS67159           Serious    2019-09-18  51.497750   \n",
       "19      200701BS68237           Serious    2019-11-26  51.482988   \n",
       "248     200701BS70255           Serious    2019-05-16  51.491632   \n",
       "336     200701BS70350            Slight    2019-06-22  51.485178   \n",
       "354     200701BS70368            Slight    2019-06-29  51.482076   \n",
       "...               ...               ...           ...        ...   \n",
       "660620  201091NK04948            Slight    2022-10-04  59.047179   \n",
       "660641  201091NL04969            Slight    2022-09-04  60.151776   \n",
       "660666  201091NM00770            Slight    2022-01-21  56.879446   \n",
       "660668  201091NM00839            Slight    2022-01-23  57.054889   \n",
       "660676  201091NM01935            Slight    2022-02-23  57.585044   \n",
       "\n",
       "                   Light_Conditions           District Area Longitude  \\\n",
       "5                          Daylight  Kensington and Chelsea -0.192556   \n",
       "19                         Daylight  Kensington and Chelsea -0.174272   \n",
       "248                        Daylight  Kensington and Chelsea -0.192366   \n",
       "336                        Daylight  Kensington and Chelsea -0.187868   \n",
       "354           Darkness - lights lit  Kensington and Chelsea -0.173445   \n",
       "...                             ...                     ...       ...   \n",
       "660620                     Daylight          Orkney Islands -3.196707   \n",
       "660641        Darkness - lights lit        Shetland Islands -1.148217   \n",
       "660666  Darkness - lighting unknown                Highland -4.255357   \n",
       "660668                     Daylight                Highland -4.130434   \n",
       "660676                     Daylight                Highland -3.862727   \n",
       "\n",
       "        Number_of_Casualties  Number_of_Vehicles Road_Surface_Conditions  \\\n",
       "5                          2                   3                     Dry   \n",
       "19                         1                   4                     Dry   \n",
       "248                        1                   3                     Dry   \n",
       "336                        1                   3                     Dry   \n",
       "354                        1                   3             Wet or damp   \n",
       "...                      ...                 ...                     ...   \n",
       "660620                     6                   3                     Dry   \n",
       "660641                     1                   3                     Dry   \n",
       "660666                     2                   4                    Snow   \n",
       "660668                     2                   3            Frost or ice   \n",
       "660676                     1                   3            Frost or ice   \n",
       "\n",
       "                 Road_Type Urban_or_Rural_Area     Weather_Conditions  \\\n",
       "5       Single carriageway               Urban     Fine no high winds   \n",
       "19      Single carriageway               Urban     Fine no high winds   \n",
       "248     Single carriageway               Urban     Fine no high winds   \n",
       "336         One way street               Urban     Fine no high winds   \n",
       "354     Single carriageway               Urban  Raining no high winds   \n",
       "...                    ...                 ...                    ...   \n",
       "660620          Roundabout               Rural     Fine no high winds   \n",
       "660641  Single carriageway               Rural     Fine no high winds   \n",
       "660666  Single carriageway               Rural   Snowing + high winds   \n",
       "660668  Single carriageway               Rural                  Other   \n",
       "660676  Single carriageway               Rural     Fine no high winds   \n",
       "\n",
       "       Vehicle_Type  Year Month DayofWeek Day  \n",
       "5               Car  2019     9         2  18  \n",
       "19              Car  2019    11         1  26  \n",
       "248             Car  2019     5         3  16  \n",
       "336             Car  2019     6         5  22  \n",
       "354             Car  2019     6         5  29  \n",
       "...             ...   ...   ...       ...  ..  \n",
       "660620          Car  2022    10         1   4  \n",
       "660641          Car  2022     9         6   4  \n",
       "660666          Car  2022     1         4  21  \n",
       "660668          Car  2022     1         6  23  \n",
       "660676          Car  2022     2         2  23  \n",
       "\n",
       "[51479 rows x 18 columns]"
      ]
     },
     "execution_count": 55,
     "metadata": {},
     "output_type": "execute_result"
    }
   ],
   "source": [
    "accident[(accident['Vehicle_Type'] == 'Car') & (accident['Number_of_Vehicles'] > 2)]"
   ]
  },
  {
   "cell_type": "markdown",
   "id": "4eb8a5a7-8e59-45bf-a782-5404556fcc40",
   "metadata": {},
   "source": [
    "<hr></hr>"
   ]
  },
  {
   "cell_type": "markdown",
   "id": "1fe9278c-8001-4589-b7a3-ece89a1cd506",
   "metadata": {},
   "source": [
    "<i>Insights 6</i>"
   ]
  },
  {
   "cell_type": "markdown",
   "id": "869ca20c-0e71-42cb-b64c-13567e3f43ec",
   "metadata": {},
   "source": [
    "<i>Here are the car accidents that involve more than 3 Vehicles</i>"
   ]
  },
  {
   "cell_type": "markdown",
   "id": "281744a3-a9a4-4804-9c37-93ac2649d5c5",
   "metadata": {},
   "source": [
    "<h1>7. Group the accidents by Accident_Severity and count the total number of cases in each category.</h1>"
   ]
  },
  {
   "cell_type": "code",
   "execution_count": 56,
   "id": "ae5c2582-efc9-41b0-ac5a-426b6a0532ab",
   "metadata": {},
   "outputs": [
    {
     "data": {
      "text/plain": [
       "Accident_Severity\n",
       "Fatal        8661\n",
       "Serious     88217\n",
       "Slight     563801\n",
       "dtype: int64"
      ]
     },
     "execution_count": 56,
     "metadata": {},
     "output_type": "execute_result"
    }
   ],
   "source": [
    "accident.groupby([\"Accident_Severity\"]).size()"
   ]
  },
  {
   "cell_type": "markdown",
   "id": "78af522a-bde5-44cb-8a62-2840502447d8",
   "metadata": {},
   "source": [
    "<hr></hr>"
   ]
  },
  {
   "cell_type": "markdown",
   "id": "70383f4b-b094-4ae3-8d08-41fc57b6beaf",
   "metadata": {},
   "source": [
    "<i>Insights</i>"
   ]
  },
  {
   "cell_type": "markdown",
   "id": "7c92f5f3-f21b-4eea-ab16-7c0db25d1ce3",
   "metadata": {},
   "source": [
    "<i>We can see now which condition of the accidents has the highest count.</i>"
   ]
  },
  {
   "cell_type": "markdown",
   "id": "a6e643d2-b55d-426d-b15d-317f99908de1",
   "metadata": {},
   "source": [
    "<h1>8. Group accidents by Road_Surface_Conditions and count the number of accidents in each.</h1>"
   ]
  },
  {
   "cell_type": "code",
   "execution_count": 57,
   "id": "4a0a4023-5fbe-40a3-b049-df649c47dddb",
   "metadata": {},
   "outputs": [
    {
     "data": {
      "text/plain": [
       "Road_Surface_Conditions\n",
       "Dry                     447821\n",
       "Flood over 3cm. deep      1017\n",
       "Frost or ice             18517\n",
       "Snow                      5890\n",
       "Wet or damp             186708\n",
       "unknown condition          726\n",
       "dtype: int64"
      ]
     },
     "execution_count": 57,
     "metadata": {},
     "output_type": "execute_result"
    }
   ],
   "source": [
    "accident.groupby([\"Road_Surface_Conditions\"]).size()"
   ]
  },
  {
   "cell_type": "markdown",
   "id": "3065b90e-f77a-4099-9b9f-4b3699a5e3a1",
   "metadata": {},
   "source": [
    "<hr></hr>"
   ]
  },
  {
   "cell_type": "markdown",
   "id": "42f8b545-8594-4867-ab0a-bd94c292c216",
   "metadata": {},
   "source": [
    "<i>Insights 8</i>"
   ]
  },
  {
   "cell_type": "markdown",
   "id": "a213ff1a-90a1-4f40-9ad5-986ed504767b",
   "metadata": {},
   "source": [
    "<i>By using groupby, we see each category of Road condition in each accident.</i>"
   ]
  },
  {
   "cell_type": "markdown",
   "id": "52bde751-ab8d-4625-badc-2be03acacb83",
   "metadata": {},
   "source": [
    "<h1>9. Correlation between number of casualties and number of vehicles?</h1>"
   ]
  },
  {
   "cell_type": "code",
   "execution_count": 58,
   "id": "c4134d03-cd3f-4440-a486-c8ae988eb96b",
   "metadata": {},
   "outputs": [
    {
     "data": {
      "text/plain": [
       "np.float64(0.2288888612692756)"
      ]
     },
     "execution_count": 58,
     "metadata": {},
     "output_type": "execute_result"
    }
   ],
   "source": [
    "accident[\"Number_of_Casualties\"].corr(accident[\"Number_of_Vehicles\"])"
   ]
  },
  {
   "cell_type": "markdown",
   "id": "7809176c-139a-4ec3-983e-7eb606bc62b5",
   "metadata": {},
   "source": [
    "<hr></hr>"
   ]
  },
  {
   "cell_type": "markdown",
   "id": "a609896d-f720-4227-a162-bb4bfb92553e",
   "metadata": {},
   "source": [
    "<i>Insights 9</i>"
   ]
  },
  {
   "cell_type": "markdown",
   "id": "41cc231f-3da0-4c37-9a20-3a6f86972181",
   "metadata": {},
   "source": [
    "<i>there is no correlation for Number_of_Casualties and Number_of_Vehicles.</i>"
   ]
  },
  {
   "cell_type": "markdown",
   "id": "329b2e6c-083a-4836-9eec-ed7cc35066a4",
   "metadata": {},
   "source": [
    "<h1>10. Which vehicle type is most frequently involved in accidents?\n",
    "</h1>"
   ]
  },
  {
   "cell_type": "code",
   "execution_count": 59,
   "id": "e34c456c-4a38-4aec-b43f-d1404e472763",
   "metadata": {},
   "outputs": [
    {
     "data": {
      "text/plain": [
       "Vehicle_Type\n",
       "Car                                      497992\n",
       "Van / Goods 3.5 tonnes mgw or under       34160\n",
       "Bus or coach (17 or more pass seats)      25878\n",
       "Motorcycle over 500cc                     25657\n",
       "Goods 7.5 tonnes mgw and over             17307\n",
       "Motorcycle 125cc and under                15269\n",
       "Taxi/Private hire car                     13294\n",
       "Motorcycle over 125cc and up to 500cc      7656\n",
       "Motorcycle 50cc and under                  7603\n",
       "Goods over 3.5t. and under 7.5t            6096\n",
       "Other vehicle                              5637\n",
       "Minibus (8 - 16 passenger seats)           1976\n",
       "Agricultural vehicle                       1947\n",
       "Pedal cycle                                 197\n",
       "Data missing or out of range                  6\n",
       "Ridden horse                                  4\n",
       "Name: count, dtype: int64"
      ]
     },
     "execution_count": 59,
     "metadata": {},
     "output_type": "execute_result"
    }
   ],
   "source": [
    "accident[\"Vehicle_Type\"].value_counts()"
   ]
  },
  {
   "cell_type": "markdown",
   "id": "afc498fc-8bd4-496e-b99b-01ea2849fc60",
   "metadata": {},
   "source": [
    "<hr></hr>"
   ]
  },
  {
   "cell_type": "markdown",
   "id": "5115d2ad-0c4f-4e77-bb80-60719f8014e8",
   "metadata": {},
   "source": [
    "<i>Insights 10</i>"
   ]
  },
  {
   "cell_type": "markdown",
   "id": "8b82a4c9-cee6-41c4-8135-00bf815f8b11",
   "metadata": {},
   "source": [
    "<i>There was the most frequently involved in accidents is car that has 497992 accidents.</i>"
   ]
  },
  {
   "cell_type": "markdown",
   "id": "716ca4b5-e676-4886-a647-c2f3ae9ecacb",
   "metadata": {},
   "source": [
    "<h1>11.What is the most common road surface condition during accidents ?</h1>"
   ]
  },
  {
   "cell_type": "code",
   "execution_count": 60,
   "id": "cf6236b7-9655-4b51-b6db-c26c7f7885d3",
   "metadata": {},
   "outputs": [
    {
     "data": {
      "text/plain": [
       "'Dry'"
      ]
     },
     "execution_count": 60,
     "metadata": {},
     "output_type": "execute_result"
    }
   ],
   "source": [
    "common_surface = accident[\"Road_Surface_Conditions\"].mode()[0]\n",
    "common_surface"
   ]
  },
  {
   "cell_type": "markdown",
   "id": "476a423f-f149-45ed-9a1d-c100188dac82",
   "metadata": {},
   "source": [
    "<hr></hr>"
   ]
  },
  {
   "cell_type": "markdown",
   "id": "2d641cc9-6b8a-47f4-b43e-c9585c19ebb5",
   "metadata": {},
   "source": [
    "<i>Insight 11<i>"
   ]
  },
  {
   "cell_type": "markdown",
   "id": "e66a88fa-eec3-464d-9301-f23388df4d66",
   "metadata": {},
   "source": [
    "<i>According the result, it shows that the most common road surface condition during accidents are dry.</i>"
   ]
  },
  {
   "cell_type": "markdown",
   "id": "038e5af8-ed16-4b31-92df-1bf32ed0fba0",
   "metadata": {},
   "source": [
    "<h1> 12. What is the average number of vehicles involved in accidents across different accident severity levels?</h1>"
   ]
  },
  {
   "cell_type": "code",
   "execution_count": 61,
   "id": "552e3f61-4e32-4b05-b452-c5e32ddc50f7",
   "metadata": {},
   "outputs": [
    {
     "data": {
      "text/plain": [
       "Accident_Severity\n",
       "Fatal      1.786976\n",
       "Serious    1.678327\n",
       "Slight     1.855864\n",
       "Name: Number_of_Vehicles, dtype: float64"
      ]
     },
     "execution_count": 61,
     "metadata": {},
     "output_type": "execute_result"
    }
   ],
   "source": [
    "vehicles_acc_severity = accident.groupby(\"Accident_Severity\")[\"Number_of_Vehicles\"].mean()\n",
    "vehicles_acc_severity"
   ]
  },
  {
   "cell_type": "markdown",
   "id": "da5b9a3b-bb42-4d96-a169-572650ad6099",
   "metadata": {},
   "source": [
    "<hr></hr>"
   ]
  },
  {
   "cell_type": "markdown",
   "id": "deae9239-9475-4d77-9102-7067b911372a",
   "metadata": {},
   "source": [
    "<i>Insight 12</i>"
   ]
  },
  {
   "cell_type": "markdown",
   "id": "8ca51c08-7dd7-4067-b404-59abe4f5b495",
   "metadata": {},
   "source": [
    "<i>Based on the given results, we can clearly see that Slight level of accident severity had the highest average of vehicles involved and second to it is Serious level severity, while Fatal level of severity had the lowest average.</i>\n"
   ]
  },
  {
   "cell_type": "markdown",
   "id": "5d7b9c20-c6fe-416d-885c-6e7a907de70d",
   "metadata": {},
   "source": [
    "<h1>13. Are accidents more fatal in rural or urban areas?</h1>"
   ]
  },
  {
   "cell_type": "code",
   "execution_count": 62,
   "id": "99103c1e-2570-4d29-a366-2c3bfa5ee14e",
   "metadata": {},
   "outputs": [
    {
     "data": {
      "text/plain": [
       "Urban_or_Rural_Area  Accident_Severity\n",
       "Rural                Fatal                  5601\n",
       "                     Serious               37312\n",
       "                     Slight               196077\n",
       "Unallocated          Fatal                     0\n",
       "                     Serious                   1\n",
       "                     Slight                   10\n",
       "Urban                Fatal                  3060\n",
       "                     Serious               50902\n",
       "                     Slight               367701\n",
       "dtype: int64"
      ]
     },
     "execution_count": 62,
     "metadata": {},
     "output_type": "execute_result"
    }
   ],
   "source": [
    "severity_area = accident.groupby([\"Urban_or_Rural_Area\", \"Accident_Severity\"]).size()\n",
    "severity_areaseverity_area = accident.groupby([\"Urban_or_Rural_Area\", \"Accident_Severity\"]).size()\n",
    "severity_area"
   ]
  },
  {
   "cell_type": "markdown",
   "id": "674a497a-1892-4f97-8474-a2690c8b0bac",
   "metadata": {},
   "source": [
    "<hr></hr>"
   ]
  },
  {
   "cell_type": "markdown",
   "id": "5c7a9f36-ceab-4a8a-b7ab-e9ca71e25f71",
   "metadata": {},
   "source": [
    "<i>Insight 13</i>"
   ]
  },
  {
   "cell_type": "markdown",
   "id": "a09435db-3ba5-4f3a-b57d-e82d78f0477c",
   "metadata": {},
   "source": [
    "<i>According to the given results we can clearly see that accidents are more fatal in Rural Areas than Urban Areas.\n",
    "</i>"
   ]
  },
  {
   "cell_type": "markdown",
   "id": "e486af4d-7390-4b5a-b9c4-50d55657f8dd",
   "metadata": {},
   "source": [
    "<h1>14.  Which weather condition has the lowest fatal level of accident severity?</h1>"
   ]
  },
  {
   "cell_type": "code",
   "execution_count": 63,
   "id": "e3575dc8-0ee3-4f2a-8859-669c264c7cf4",
   "metadata": {},
   "outputs": [
    {
     "data": {
      "text/plain": [
       "Weather_Conditions     Accident_Severity\n",
       "Fine + high winds      Fatal                   175\n",
       "                       Serious                1245\n",
       "                       Slight                 7134\n",
       "Fine no high winds     Fatal                  7100\n",
       "                       Serious               72046\n",
       "                       Slight               441739\n",
       "Fog or mist            Fatal                    82\n",
       "                       Serious                 483\n",
       "                       Slight                 2963\n",
       "Other                  Fatal                   165\n",
       "                       Serious                1801\n",
       "                       Slight                15184\n",
       "Raining + high winds   Fatal                   145\n",
       "                       Serious                1261\n",
       "                       Slight                 8209\n",
       "Raining no high winds  Fatal                   848\n",
       "                       Serious                9468\n",
       "                       Slight                69380\n",
       "Snowing + high winds   Fatal                     3\n",
       "                       Serious                 109\n",
       "                       Slight                  773\n",
       "Snowing no high winds  Fatal                    36\n",
       "                       Serious                 565\n",
       "                       Slight                 5637\n",
       "unknown weather        Fatal                   107\n",
       "                       Serious                1239\n",
       "                       Slight                12782\n",
       "dtype: int64"
      ]
     },
     "execution_count": 63,
     "metadata": {},
     "output_type": "execute_result"
    }
   ],
   "source": [
    "severity_weather = accident.groupby([\"Weather_Conditions\", \"Accident_Severity\"]).size()\n",
    "severity_weather"
   ]
  },
  {
   "cell_type": "markdown",
   "id": "fec6bf7e-a05f-4c71-b101-f513b32d8912",
   "metadata": {},
   "source": [
    "<hr></hr>"
   ]
  },
  {
   "cell_type": "markdown",
   "id": "d295b9db-0a8e-43dd-bf21-d458af415a3d",
   "metadata": {},
   "source": [
    "<i>Insight 14</i>"
   ]
  },
  {
   "cell_type": "markdown",
   "id": "1b756f0c-48a6-4ecb-90e9-29fe6166e7cc",
   "metadata": {},
   "source": [
    "<i> Based on the given results we can find that the weather condition with the lowest fatal accident severity is Snowing + high winds with only a record of 3.</i>"
   ]
  },
  {
   "cell_type": "markdown",
   "id": "73b21bb3-2faf-4e08-b5b5-9e0d67dd8fc8",
   "metadata": {},
   "source": [
    "<h1>15.What is the maximum casualties by road type? </h1>"
   ]
  },
  {
   "cell_type": "code",
   "execution_count": 64,
   "id": "0d4b042f-bbae-40cb-be71-a381923323f3",
   "metadata": {},
   "outputs": [
    {
     "data": {
      "text/plain": [
       "Road_Type\n",
       "Dual carriageway      47\n",
       "One way street        15\n",
       "Roundabout            19\n",
       "Single carriageway    62\n",
       "Slip road             68\n",
       "Name: Number_of_Casualties, dtype: int64"
      ]
     },
     "execution_count": 64,
     "metadata": {},
     "output_type": "execute_result"
    }
   ],
   "source": [
    "accident.groupby('Road_Type')['Number_of_Casualties'].max()"
   ]
  },
  {
   "cell_type": "markdown",
   "id": "efde63ac-bc87-418c-8eb2-b99d49eb845f",
   "metadata": {},
   "source": [
    "<hr></hr>"
   ]
  },
  {
   "cell_type": "markdown",
   "id": "3d8d4dc9-4f5d-4d81-95ac-61a2ab8b3f2c",
   "metadata": {},
   "source": [
    "<i>Insight 15</i>"
   ]
  },
  {
   "cell_type": "markdown",
   "id": "5674d490-0fdc-441f-959b-6a8b44d97685",
   "metadata": {},
   "source": [
    "<i>Slip road has the most casualties recorded and one way street being the least.<i/>"
   ]
  },
  {
   "cell_type": "markdown",
   "id": "19324e40-0b90-4021-8522-f54e4d6d6516",
   "metadata": {},
   "source": [
    "<h1>16. Which weather condition occurs the most in Kensington and Chelsea?</h1>"
   ]
  },
  {
   "cell_type": "code",
   "execution_count": 65,
   "id": "369a736e-100d-4856-84d1-45228e78cd7d",
   "metadata": {},
   "outputs": [
    {
     "data": {
      "text/plain": [
       "Weather_Conditions\n",
       "Fine no high winds       2371\n",
       "Raining no high winds     345\n",
       "Other                      49\n",
       "Fine + high winds          14\n",
       "Snowing no high winds      11\n",
       "Raining + high winds        7\n",
       "unknown weather             2\n",
       "Fog or mist                 0\n",
       "Snowing + high winds        0\n",
       "Name: count, dtype: int64"
      ]
     },
     "execution_count": 65,
     "metadata": {},
     "output_type": "execute_result"
    }
   ],
   "source": [
    "accident[accident[\"District Area\"]==\"Kensington and Chelsea\"][\"Weather_Conditions\"].value_counts()"
   ]
  },
  {
   "cell_type": "markdown",
   "id": "d5d48f6f-4fd1-44ba-a759-e3792224116c",
   "metadata": {},
   "source": [
    "<hr></hr>"
   ]
  },
  {
   "cell_type": "markdown",
   "id": "47a2da82-10df-4fa3-9bbe-151f245a2767",
   "metadata": {},
   "source": [
    "<i>Insight 16</i>"
   ]
  },
  {
   "cell_type": "markdown",
   "id": "f067f6bb-396a-42f9-b657-fed4362291d2",
   "metadata": {},
   "source": [
    "<i>The most common weather conditions where accidents happen in district of Kensington and Chealsea are Fine no high winds and the least being Raning + high winds.</i>"
   ]
  },
  {
   "cell_type": "markdown",
   "id": "38c5e9bc-fdb8-40be-8726-5515ef5810ff",
   "metadata": {},
   "source": [
    "<h1>17.In the Aberdeenshire district, which road type has the most frequent road accident?</h1>"
   ]
  },
  {
   "cell_type": "code",
   "execution_count": 66,
   "id": "0572b8b6-81ee-433e-9e50-205ca167d1c7",
   "metadata": {},
   "outputs": [
    {
     "data": {
      "text/plain": [
       "Road_Type\n",
       "Single carriageway    1713\n",
       "Dual carriageway       179\n",
       "Roundabout              22\n",
       "Slip road               10\n",
       "One way street           6\n",
       "Name: count, dtype: int64"
      ]
     },
     "execution_count": 66,
     "metadata": {},
     "output_type": "execute_result"
    }
   ],
   "source": [
    "accident[accident[\"District Area\"]==\"Aberdeenshire\"][\"Road_Type\"].value_counts()"
   ]
  },
  {
   "cell_type": "markdown",
   "id": "cfc77ca0-cfa3-4157-9d90-4e7fef60befe",
   "metadata": {},
   "source": [
    "<hr></hr>"
   ]
  },
  {
   "cell_type": "markdown",
   "id": "b7eae777-9e7e-47ad-8786-a81d88ef245a",
   "metadata": {},
   "source": [
    "<i>Insight 17</i>"
   ]
  },
  {
   "cell_type": "markdown",
   "id": "10c62366-4841-4d3a-9968-a91ae2eb8bcd",
   "metadata": {},
   "source": [
    "<i>Single carriageway is the most frequent road type where accidents happen in Aberdeenshire district</i>"
   ]
  },
  {
   "cell_type": "markdown",
   "id": "d506ae65-c38f-4e99-a96a-604f636ed663",
   "metadata": {},
   "source": [
    "<h1>18.  How many vehicles and casualties are usually involved in accidents with fatal severity?.</h1>"
   ]
  },
  {
   "cell_type": "code",
   "execution_count": 67,
   "id": "20f0d96c-a235-40d2-9ec5-8a6f96dfe0e7",
   "metadata": {},
   "outputs": [
    {
     "data": {
      "text/html": [
       "<div>\n",
       "<style scoped>\n",
       "    .dataframe tbody tr th:only-of-type {\n",
       "        vertical-align: middle;\n",
       "    }\n",
       "\n",
       "    .dataframe tbody tr th {\n",
       "        vertical-align: top;\n",
       "    }\n",
       "\n",
       "    .dataframe thead th {\n",
       "        text-align: right;\n",
       "    }\n",
       "</style>\n",
       "<table border=\"1\" class=\"dataframe\">\n",
       "  <thead>\n",
       "    <tr style=\"text-align: right;\">\n",
       "      <th></th>\n",
       "      <th>Index</th>\n",
       "      <th>Accident_Severity</th>\n",
       "      <th>Accident Date</th>\n",
       "      <th>Latitude</th>\n",
       "      <th>Light_Conditions</th>\n",
       "      <th>District Area</th>\n",
       "      <th>Longitude</th>\n",
       "      <th>Number_of_Casualties</th>\n",
       "      <th>Number_of_Vehicles</th>\n",
       "      <th>Road_Surface_Conditions</th>\n",
       "      <th>Road_Type</th>\n",
       "      <th>Urban_or_Rural_Area</th>\n",
       "      <th>Weather_Conditions</th>\n",
       "      <th>Vehicle_Type</th>\n",
       "      <th>Year</th>\n",
       "      <th>Month</th>\n",
       "      <th>DayofWeek</th>\n",
       "      <th>Day</th>\n",
       "    </tr>\n",
       "  </thead>\n",
       "  <tbody>\n",
       "    <tr>\n",
       "      <th>0</th>\n",
       "      <td>200701BS64157</td>\n",
       "      <td>Serious</td>\n",
       "      <td>2019-06-05</td>\n",
       "      <td>51.506187</td>\n",
       "      <td>Darkness - lights lit</td>\n",
       "      <td>Kensington and Chelsea</td>\n",
       "      <td>-0.209082</td>\n",
       "      <td>1</td>\n",
       "      <td>2</td>\n",
       "      <td>Dry</td>\n",
       "      <td>Single carriageway</td>\n",
       "      <td>Urban</td>\n",
       "      <td>Fine no high winds</td>\n",
       "      <td>Car</td>\n",
       "      <td>2019</td>\n",
       "      <td>6</td>\n",
       "      <td>2</td>\n",
       "      <td>5</td>\n",
       "    </tr>\n",
       "    <tr>\n",
       "      <th>1</th>\n",
       "      <td>200701BS65737</td>\n",
       "      <td>Serious</td>\n",
       "      <td>2019-07-02</td>\n",
       "      <td>51.495029</td>\n",
       "      <td>Daylight</td>\n",
       "      <td>Kensington and Chelsea</td>\n",
       "      <td>-0.173647</td>\n",
       "      <td>1</td>\n",
       "      <td>2</td>\n",
       "      <td>Wet or damp</td>\n",
       "      <td>Single carriageway</td>\n",
       "      <td>Urban</td>\n",
       "      <td>Raining no high winds</td>\n",
       "      <td>Car</td>\n",
       "      <td>2019</td>\n",
       "      <td>7</td>\n",
       "      <td>1</td>\n",
       "      <td>2</td>\n",
       "    </tr>\n",
       "    <tr>\n",
       "      <th>2</th>\n",
       "      <td>200701BS66127</td>\n",
       "      <td>Serious</td>\n",
       "      <td>2019-08-26</td>\n",
       "      <td>51.517715</td>\n",
       "      <td>Darkness - lighting unknown</td>\n",
       "      <td>Kensington and Chelsea</td>\n",
       "      <td>-0.210215</td>\n",
       "      <td>1</td>\n",
       "      <td>3</td>\n",
       "      <td>Dry</td>\n",
       "      <td>Single carriageway</td>\n",
       "      <td>Urban</td>\n",
       "      <td>unknown weather</td>\n",
       "      <td>Taxi/Private hire car</td>\n",
       "      <td>2019</td>\n",
       "      <td>8</td>\n",
       "      <td>0</td>\n",
       "      <td>26</td>\n",
       "    </tr>\n",
       "    <tr>\n",
       "      <th>3</th>\n",
       "      <td>200701BS66128</td>\n",
       "      <td>Serious</td>\n",
       "      <td>2019-08-16</td>\n",
       "      <td>51.495478</td>\n",
       "      <td>Daylight</td>\n",
       "      <td>Kensington and Chelsea</td>\n",
       "      <td>-0.202731</td>\n",
       "      <td>1</td>\n",
       "      <td>4</td>\n",
       "      <td>Dry</td>\n",
       "      <td>Single carriageway</td>\n",
       "      <td>Urban</td>\n",
       "      <td>Fine no high winds</td>\n",
       "      <td>Bus or coach (17 or more pass seats)</td>\n",
       "      <td>2019</td>\n",
       "      <td>8</td>\n",
       "      <td>4</td>\n",
       "      <td>16</td>\n",
       "    </tr>\n",
       "    <tr>\n",
       "      <th>5</th>\n",
       "      <td>200701BS67159</td>\n",
       "      <td>Serious</td>\n",
       "      <td>2019-09-18</td>\n",
       "      <td>51.497750</td>\n",
       "      <td>Daylight</td>\n",
       "      <td>Kensington and Chelsea</td>\n",
       "      <td>-0.192556</td>\n",
       "      <td>2</td>\n",
       "      <td>3</td>\n",
       "      <td>Dry</td>\n",
       "      <td>Single carriageway</td>\n",
       "      <td>Urban</td>\n",
       "      <td>Fine no high winds</td>\n",
       "      <td>Car</td>\n",
       "      <td>2019</td>\n",
       "      <td>9</td>\n",
       "      <td>2</td>\n",
       "      <td>18</td>\n",
       "    </tr>\n",
       "    <tr>\n",
       "      <th>...</th>\n",
       "      <td>...</td>\n",
       "      <td>...</td>\n",
       "      <td>...</td>\n",
       "      <td>...</td>\n",
       "      <td>...</td>\n",
       "      <td>...</td>\n",
       "      <td>...</td>\n",
       "      <td>...</td>\n",
       "      <td>...</td>\n",
       "      <td>...</td>\n",
       "      <td>...</td>\n",
       "      <td>...</td>\n",
       "      <td>...</td>\n",
       "      <td>...</td>\n",
       "      <td>...</td>\n",
       "      <td>...</td>\n",
       "      <td>...</td>\n",
       "      <td>...</td>\n",
       "    </tr>\n",
       "    <tr>\n",
       "      <th>660629</th>\n",
       "      <td>201091NL00686</td>\n",
       "      <td>Serious</td>\n",
       "      <td>2022-02-11</td>\n",
       "      <td>57.687933</td>\n",
       "      <td>Daylight</td>\n",
       "      <td>Shetland Islands</td>\n",
       "      <td>-4.176860</td>\n",
       "      <td>1</td>\n",
       "      <td>2</td>\n",
       "      <td>Dry</td>\n",
       "      <td>Single carriageway</td>\n",
       "      <td>Rural</td>\n",
       "      <td>Fine + high winds</td>\n",
       "      <td>Car</td>\n",
       "      <td>2022</td>\n",
       "      <td>2</td>\n",
       "      <td>4</td>\n",
       "      <td>11</td>\n",
       "    </tr>\n",
       "    <tr>\n",
       "      <th>660645</th>\n",
       "      <td>201091NL05842</td>\n",
       "      <td>Serious</td>\n",
       "      <td>2022-10-18</td>\n",
       "      <td>60.162660</td>\n",
       "      <td>Daylight</td>\n",
       "      <td>Shetland Islands</td>\n",
       "      <td>-1.165232</td>\n",
       "      <td>1</td>\n",
       "      <td>1</td>\n",
       "      <td>Dry</td>\n",
       "      <td>Single carriageway</td>\n",
       "      <td>Rural</td>\n",
       "      <td>Fine + high winds</td>\n",
       "      <td>Car</td>\n",
       "      <td>2022</td>\n",
       "      <td>10</td>\n",
       "      <td>1</td>\n",
       "      <td>18</td>\n",
       "    </tr>\n",
       "    <tr>\n",
       "      <th>660672</th>\n",
       "      <td>201091NM01085</td>\n",
       "      <td>Serious</td>\n",
       "      <td>2022-01-29</td>\n",
       "      <td>57.170725</td>\n",
       "      <td>Daylight</td>\n",
       "      <td>Highland</td>\n",
       "      <td>-3.852421</td>\n",
       "      <td>1</td>\n",
       "      <td>2</td>\n",
       "      <td>Snow</td>\n",
       "      <td>Single carriageway</td>\n",
       "      <td>Rural</td>\n",
       "      <td>Fine no high winds</td>\n",
       "      <td>Car</td>\n",
       "      <td>2022</td>\n",
       "      <td>1</td>\n",
       "      <td>5</td>\n",
       "      <td>29</td>\n",
       "    </tr>\n",
       "    <tr>\n",
       "      <th>660677</th>\n",
       "      <td>201091NM01964</td>\n",
       "      <td>Serious</td>\n",
       "      <td>2022-02-23</td>\n",
       "      <td>57.214898</td>\n",
       "      <td>Darkness - no lighting</td>\n",
       "      <td>Highland</td>\n",
       "      <td>-3.823997</td>\n",
       "      <td>1</td>\n",
       "      <td>2</td>\n",
       "      <td>Wet or damp</td>\n",
       "      <td>Single carriageway</td>\n",
       "      <td>Rural</td>\n",
       "      <td>Fine no high winds</td>\n",
       "      <td>Motorcycle over 500cc</td>\n",
       "      <td>2022</td>\n",
       "      <td>2</td>\n",
       "      <td>2</td>\n",
       "      <td>23</td>\n",
       "    </tr>\n",
       "    <tr>\n",
       "      <th>660678</th>\n",
       "      <td>201091NM02142</td>\n",
       "      <td>Serious</td>\n",
       "      <td>2022-02-28</td>\n",
       "      <td>57.575210</td>\n",
       "      <td>Daylight</td>\n",
       "      <td>Highland</td>\n",
       "      <td>-3.895673</td>\n",
       "      <td>1</td>\n",
       "      <td>1</td>\n",
       "      <td>Wet or damp</td>\n",
       "      <td>Dual carriageway</td>\n",
       "      <td>Rural</td>\n",
       "      <td>Snowing no high winds</td>\n",
       "      <td>Car</td>\n",
       "      <td>2022</td>\n",
       "      <td>2</td>\n",
       "      <td>0</td>\n",
       "      <td>28</td>\n",
       "    </tr>\n",
       "  </tbody>\n",
       "</table>\n",
       "<p>88217 rows × 18 columns</p>\n",
       "</div>"
      ],
      "text/plain": [
       "                Index Accident_Severity Accident Date   Latitude  \\\n",
       "0       200701BS64157           Serious    2019-06-05  51.506187   \n",
       "1       200701BS65737           Serious    2019-07-02  51.495029   \n",
       "2       200701BS66127           Serious    2019-08-26  51.517715   \n",
       "3       200701BS66128           Serious    2019-08-16  51.495478   \n",
       "5       200701BS67159           Serious    2019-09-18  51.497750   \n",
       "...               ...               ...           ...        ...   \n",
       "660629  201091NL00686           Serious    2022-02-11  57.687933   \n",
       "660645  201091NL05842           Serious    2022-10-18  60.162660   \n",
       "660672  201091NM01085           Serious    2022-01-29  57.170725   \n",
       "660677  201091NM01964           Serious    2022-02-23  57.214898   \n",
       "660678  201091NM02142           Serious    2022-02-28  57.575210   \n",
       "\n",
       "                   Light_Conditions           District Area Longitude  \\\n",
       "0             Darkness - lights lit  Kensington and Chelsea -0.209082   \n",
       "1                          Daylight  Kensington and Chelsea -0.173647   \n",
       "2       Darkness - lighting unknown  Kensington and Chelsea -0.210215   \n",
       "3                          Daylight  Kensington and Chelsea -0.202731   \n",
       "5                          Daylight  Kensington and Chelsea -0.192556   \n",
       "...                             ...                     ...       ...   \n",
       "660629                     Daylight        Shetland Islands -4.176860   \n",
       "660645                     Daylight        Shetland Islands -1.165232   \n",
       "660672                     Daylight                Highland -3.852421   \n",
       "660677       Darkness - no lighting                Highland -3.823997   \n",
       "660678                     Daylight                Highland -3.895673   \n",
       "\n",
       "        Number_of_Casualties  Number_of_Vehicles Road_Surface_Conditions  \\\n",
       "0                          1                   2                     Dry   \n",
       "1                          1                   2             Wet or damp   \n",
       "2                          1                   3                     Dry   \n",
       "3                          1                   4                     Dry   \n",
       "5                          2                   3                     Dry   \n",
       "...                      ...                 ...                     ...   \n",
       "660629                     1                   2                     Dry   \n",
       "660645                     1                   1                     Dry   \n",
       "660672                     1                   2                    Snow   \n",
       "660677                     1                   2             Wet or damp   \n",
       "660678                     1                   1             Wet or damp   \n",
       "\n",
       "                 Road_Type Urban_or_Rural_Area     Weather_Conditions  \\\n",
       "0       Single carriageway               Urban     Fine no high winds   \n",
       "1       Single carriageway               Urban  Raining no high winds   \n",
       "2       Single carriageway               Urban        unknown weather   \n",
       "3       Single carriageway               Urban     Fine no high winds   \n",
       "5       Single carriageway               Urban     Fine no high winds   \n",
       "...                    ...                 ...                    ...   \n",
       "660629  Single carriageway               Rural      Fine + high winds   \n",
       "660645  Single carriageway               Rural      Fine + high winds   \n",
       "660672  Single carriageway               Rural     Fine no high winds   \n",
       "660677  Single carriageway               Rural     Fine no high winds   \n",
       "660678    Dual carriageway               Rural  Snowing no high winds   \n",
       "\n",
       "                                Vehicle_Type  Year Month DayofWeek Day  \n",
       "0                                        Car  2019     6         2   5  \n",
       "1                                        Car  2019     7         1   2  \n",
       "2                      Taxi/Private hire car  2019     8         0  26  \n",
       "3       Bus or coach (17 or more pass seats)  2019     8         4  16  \n",
       "5                                        Car  2019     9         2  18  \n",
       "...                                      ...   ...   ...       ...  ..  \n",
       "660629                                   Car  2022     2         4  11  \n",
       "660645                                   Car  2022    10         1  18  \n",
       "660672                                   Car  2022     1         5  29  \n",
       "660677                 Motorcycle over 500cc  2022     2         2  23  \n",
       "660678                                   Car  2022     2         0  28  \n",
       "\n",
       "[88217 rows x 18 columns]"
      ]
     },
     "execution_count": 67,
     "metadata": {},
     "output_type": "execute_result"
    }
   ],
   "source": [
    "serious_data = accident[accident[\"Accident_Severity\"]==\"Serious\"]\n",
    "avg_vehicles = serious_data[\"Number_of_Vehicles\"].mean()\n",
    "avg_casualties = serious_data[\"Number_of_Casualties\"].mean()\n",
    "serious_data"
   ]
  },
  {
   "cell_type": "code",
   "execution_count": 68,
   "id": "7c7662ba-668e-44ba-85ff-7cd77fc81751",
   "metadata": {},
   "outputs": [
    {
     "data": {
      "text/plain": [
       "np.float64(1.46727954929322)"
      ]
     },
     "execution_count": 68,
     "metadata": {},
     "output_type": "execute_result"
    }
   ],
   "source": [
    "avg_casualties"
   ]
  },
  {
   "cell_type": "code",
   "execution_count": 69,
   "id": "3a5f9256-2c9c-46a8-89b2-223fdce53f27",
   "metadata": {},
   "outputs": [
    {
     "data": {
      "text/plain": [
       "np.float64(1.6783273065282203)"
      ]
     },
     "execution_count": 69,
     "metadata": {},
     "output_type": "execute_result"
    }
   ],
   "source": [
    "avg_vehicles"
   ]
  },
  {
   "cell_type": "markdown",
   "id": "93ef11ae-fce2-403e-8995-81f5ab9c3dff",
   "metadata": {},
   "source": [
    "<hr></hr>"
   ]
  },
  {
   "cell_type": "markdown",
   "id": "101748bc-6ff8-4641-936a-28b7d0b6e706",
   "metadata": {},
   "source": [
    "<i>Insight 18</i>"
   ]
  },
  {
   "cell_type": "markdown",
   "id": "8b0f669c-6d59-4fee-86c5-d0b0e34ed5f4",
   "metadata": {},
   "source": [
    "<i>There are usually 1.47 casualties and 1.69 vehicles involved in serious severity accidents.</i>"
   ]
  },
  {
   "cell_type": "markdown",
   "id": "666c3b92-3a8b-48c5-8996-02cbf60c7236",
   "metadata": {},
   "source": [
    "<h1>19. Group accidents by Vehicle_Type and find which type has the highest accident severity in each accident condition.</h1>"
   ]
  },
  {
   "cell_type": "code",
   "execution_count": 70,
   "id": "e15d96fe-b8fa-484c-81ee-79a6c7879faa",
   "metadata": {},
   "outputs": [
    {
     "data": {
      "text/plain": [
       "Vehicle_Type                           Accident_Severity\n",
       "Agricultural vehicle                   Fatal                    21\n",
       "                                       Serious                 282\n",
       "                                       Slight                 1644\n",
       "Bus or coach (17 or more pass seats)   Fatal                   325\n",
       "                                       Serious                3373\n",
       "                                       Slight                22180\n",
       "Car                                    Fatal                  6577\n",
       "                                       Serious               66461\n",
       "                                       Slight               424954\n",
       "Data missing or out of range           Fatal                     0\n",
       "                                       Serious                   0\n",
       "                                       Slight                    6\n",
       "Goods 7.5 tonnes mgw and over          Fatal                   216\n",
       "                                       Serious                2321\n",
       "                                       Slight                14770\n",
       "Goods over 3.5t. and under 7.5t        Fatal                    67\n",
       "                                       Serious                 857\n",
       "                                       Slight                 5172\n",
       "Minibus (8 - 16 passenger seats)       Fatal                    29\n",
       "                                       Serious                 276\n",
       "                                       Slight                 1671\n",
       "Motorcycle 125cc and under             Fatal                   189\n",
       "                                       Serious                2031\n",
       "                                       Slight                13049\n",
       "Motorcycle 50cc and under              Fatal                    95\n",
       "                                       Serious                1014\n",
       "                                       Slight                 6494\n",
       "Motorcycle over 125cc and up to 500cc  Fatal                   105\n",
       "                                       Serious                1014\n",
       "                                       Slight                 6537\n",
       "Motorcycle over 500cc                  Fatal                   339\n",
       "                                       Serious                3457\n",
       "                                       Slight                21861\n",
       "Other vehicle                          Fatal                    70\n",
       "                                       Serious                 767\n",
       "                                       Slight                 4800\n",
       "Pedal cycle                            Fatal                     6\n",
       "                                       Serious                  39\n",
       "                                       Slight                  152\n",
       "Ridden horse                           Fatal                     0\n",
       "                                       Serious                   0\n",
       "                                       Slight                    4\n",
       "Taxi/Private hire car                  Fatal                   155\n",
       "                                       Serious                1771\n",
       "                                       Slight                11368\n",
       "Van / Goods 3.5 tonnes mgw or under    Fatal                   467\n",
       "                                       Serious                4554\n",
       "                                       Slight                29139\n",
       "dtype: int64"
      ]
     },
     "execution_count": 70,
     "metadata": {},
     "output_type": "execute_result"
    }
   ],
   "source": [
    "accident.groupby([\"Vehicle_Type\", \"Accident_Severity\"]).size()"
   ]
  },
  {
   "cell_type": "markdown",
   "id": "b96c272d-82b2-4683-9008-cf6348c70fb5",
   "metadata": {},
   "source": [
    "<hr></hr>"
   ]
  },
  {
   "cell_type": "markdown",
   "id": "32872b9a-78a2-4d80-80c5-71f813d94daf",
   "metadata": {},
   "source": [
    "<i>Insights 19</i>"
   ]
  },
  {
   "cell_type": "markdown",
   "id": "eec44f7c-0ad3-4aef-993a-e6085d98bcaa",
   "metadata": {},
   "source": [
    "<i>The highest Serious accident condition is a Car that has 66461 incidents. The highest Fatal accident condition is a Car that has 6577 incidents. The highest Slight accident condition is a Car that has 424954 incidents.</i>"
   ]
  },
  {
   "cell_type": "markdown",
   "id": "d2392a3a-15e0-4fbd-b858-49b3259410a5",
   "metadata": {},
   "source": [
    "<h1>20. Which vehicle type is most frequently involved in accidents?\n",
    "</h1>"
   ]
  },
  {
   "cell_type": "code",
   "execution_count": 71,
   "id": "7cd9119b-e386-47a7-8030-2030987518f3",
   "metadata": {},
   "outputs": [
    {
     "data": {
      "text/plain": [
       "Vehicle_Type\n",
       "Car                                      497992\n",
       "Van / Goods 3.5 tonnes mgw or under       34160\n",
       "Bus or coach (17 or more pass seats)      25878\n",
       "Motorcycle over 500cc                     25657\n",
       "Goods 7.5 tonnes mgw and over             17307\n",
       "Motorcycle 125cc and under                15269\n",
       "Taxi/Private hire car                     13294\n",
       "Motorcycle over 125cc and up to 500cc      7656\n",
       "Motorcycle 50cc and under                  7603\n",
       "Goods over 3.5t. and under 7.5t            6096\n",
       "Other vehicle                              5637\n",
       "Minibus (8 - 16 passenger seats)           1976\n",
       "Agricultural vehicle                       1947\n",
       "Pedal cycle                                 197\n",
       "Data missing or out of range                  6\n",
       "Ridden horse                                  4\n",
       "Name: count, dtype: int64"
      ]
     },
     "execution_count": 71,
     "metadata": {},
     "output_type": "execute_result"
    }
   ],
   "source": [
    "accident[\"Vehicle_Type\"].value_counts()"
   ]
  },
  {
   "cell_type": "markdown",
   "id": "51eb0582-3296-47d3-b6d0-a7ba5aef7472",
   "metadata": {},
   "source": [
    "<hr></hr>"
   ]
  },
  {
   "cell_type": "markdown",
   "id": "9f077ebf-fec1-42f9-be00-6002116da904",
   "metadata": {},
   "source": [
    "<i>Insight 20</i>"
   ]
  },
  {
   "cell_type": "markdown",
   "id": "0ea596c8-aa28-4f34-b52d-34a5722e82b2",
   "metadata": {},
   "source": [
    "<i>There was The most frequently involved in accidents is Car that has 497992 accidents.</i>"
   ]
  },
  {
   "cell_type": "markdown",
   "id": "86f12eea-6f2c-456b-aba7-b2614db087f4",
   "metadata": {},
   "source": [
    "<h1>Insights for year 2019</h1>"
   ]
  },
  {
   "cell_type": "code",
   "execution_count": 72,
   "id": "3573d4dd-ba04-4585-856f-82a449647553",
   "metadata": {},
   "outputs": [
    {
     "data": {
      "text/html": [
       "<div>\n",
       "<style scoped>\n",
       "    .dataframe tbody tr th:only-of-type {\n",
       "        vertical-align: middle;\n",
       "    }\n",
       "\n",
       "    .dataframe tbody tr th {\n",
       "        vertical-align: top;\n",
       "    }\n",
       "\n",
       "    .dataframe thead th {\n",
       "        text-align: right;\n",
       "    }\n",
       "</style>\n",
       "<table border=\"1\" class=\"dataframe\">\n",
       "  <thead>\n",
       "    <tr style=\"text-align: right;\">\n",
       "      <th></th>\n",
       "      <th>Index</th>\n",
       "      <th>Accident_Severity</th>\n",
       "      <th>Accident Date</th>\n",
       "      <th>Latitude</th>\n",
       "      <th>Light_Conditions</th>\n",
       "      <th>District Area</th>\n",
       "      <th>Longitude</th>\n",
       "      <th>Number_of_Casualties</th>\n",
       "      <th>Number_of_Vehicles</th>\n",
       "      <th>Road_Surface_Conditions</th>\n",
       "      <th>Road_Type</th>\n",
       "      <th>Urban_or_Rural_Area</th>\n",
       "      <th>Weather_Conditions</th>\n",
       "      <th>Vehicle_Type</th>\n",
       "      <th>Year</th>\n",
       "      <th>Month</th>\n",
       "      <th>DayofWeek</th>\n",
       "      <th>Day</th>\n",
       "    </tr>\n",
       "  </thead>\n",
       "  <tbody>\n",
       "    <tr>\n",
       "      <th>0</th>\n",
       "      <td>200701BS64157</td>\n",
       "      <td>Serious</td>\n",
       "      <td>2019-06-05</td>\n",
       "      <td>51.506187</td>\n",
       "      <td>Darkness - lights lit</td>\n",
       "      <td>Kensington and Chelsea</td>\n",
       "      <td>-0.209082</td>\n",
       "      <td>1</td>\n",
       "      <td>2</td>\n",
       "      <td>Dry</td>\n",
       "      <td>Single carriageway</td>\n",
       "      <td>Urban</td>\n",
       "      <td>Fine no high winds</td>\n",
       "      <td>Car</td>\n",
       "      <td>2019</td>\n",
       "      <td>6</td>\n",
       "      <td>2</td>\n",
       "      <td>5</td>\n",
       "    </tr>\n",
       "    <tr>\n",
       "      <th>1</th>\n",
       "      <td>200701BS65737</td>\n",
       "      <td>Serious</td>\n",
       "      <td>2019-07-02</td>\n",
       "      <td>51.495029</td>\n",
       "      <td>Daylight</td>\n",
       "      <td>Kensington and Chelsea</td>\n",
       "      <td>-0.173647</td>\n",
       "      <td>1</td>\n",
       "      <td>2</td>\n",
       "      <td>Wet or damp</td>\n",
       "      <td>Single carriageway</td>\n",
       "      <td>Urban</td>\n",
       "      <td>Raining no high winds</td>\n",
       "      <td>Car</td>\n",
       "      <td>2019</td>\n",
       "      <td>7</td>\n",
       "      <td>1</td>\n",
       "      <td>2</td>\n",
       "    </tr>\n",
       "    <tr>\n",
       "      <th>2</th>\n",
       "      <td>200701BS66127</td>\n",
       "      <td>Serious</td>\n",
       "      <td>2019-08-26</td>\n",
       "      <td>51.517715</td>\n",
       "      <td>Darkness - lighting unknown</td>\n",
       "      <td>Kensington and Chelsea</td>\n",
       "      <td>-0.210215</td>\n",
       "      <td>1</td>\n",
       "      <td>3</td>\n",
       "      <td>Dry</td>\n",
       "      <td>Single carriageway</td>\n",
       "      <td>Urban</td>\n",
       "      <td>unknown weather</td>\n",
       "      <td>Taxi/Private hire car</td>\n",
       "      <td>2019</td>\n",
       "      <td>8</td>\n",
       "      <td>0</td>\n",
       "      <td>26</td>\n",
       "    </tr>\n",
       "    <tr>\n",
       "      <th>3</th>\n",
       "      <td>200701BS66128</td>\n",
       "      <td>Serious</td>\n",
       "      <td>2019-08-16</td>\n",
       "      <td>51.495478</td>\n",
       "      <td>Daylight</td>\n",
       "      <td>Kensington and Chelsea</td>\n",
       "      <td>-0.202731</td>\n",
       "      <td>1</td>\n",
       "      <td>4</td>\n",
       "      <td>Dry</td>\n",
       "      <td>Single carriageway</td>\n",
       "      <td>Urban</td>\n",
       "      <td>Fine no high winds</td>\n",
       "      <td>Bus or coach (17 or more pass seats)</td>\n",
       "      <td>2019</td>\n",
       "      <td>8</td>\n",
       "      <td>4</td>\n",
       "      <td>16</td>\n",
       "    </tr>\n",
       "    <tr>\n",
       "      <th>4</th>\n",
       "      <td>200701BS66837</td>\n",
       "      <td>Slight</td>\n",
       "      <td>2019-09-03</td>\n",
       "      <td>51.488576</td>\n",
       "      <td>Darkness - lights lit</td>\n",
       "      <td>Kensington and Chelsea</td>\n",
       "      <td>-0.192487</td>\n",
       "      <td>1</td>\n",
       "      <td>2</td>\n",
       "      <td>Dry</td>\n",
       "      <td>Single carriageway</td>\n",
       "      <td>Urban</td>\n",
       "      <td>unknown weather</td>\n",
       "      <td>Other vehicle</td>\n",
       "      <td>2019</td>\n",
       "      <td>9</td>\n",
       "      <td>1</td>\n",
       "      <td>3</td>\n",
       "    </tr>\n",
       "    <tr>\n",
       "      <th>...</th>\n",
       "      <td>...</td>\n",
       "      <td>...</td>\n",
       "      <td>...</td>\n",
       "      <td>...</td>\n",
       "      <td>...</td>\n",
       "      <td>...</td>\n",
       "      <td>...</td>\n",
       "      <td>...</td>\n",
       "      <td>...</td>\n",
       "      <td>...</td>\n",
       "      <td>...</td>\n",
       "      <td>...</td>\n",
       "      <td>...</td>\n",
       "      <td>...</td>\n",
       "      <td>...</td>\n",
       "      <td>...</td>\n",
       "      <td>...</td>\n",
       "      <td>...</td>\n",
       "    </tr>\n",
       "    <tr>\n",
       "      <th>182110</th>\n",
       "      <td>2.01E+12</td>\n",
       "      <td>Slight</td>\n",
       "      <td>2019-12-20</td>\n",
       "      <td>54.985289</td>\n",
       "      <td>Darkness - no lighting</td>\n",
       "      <td>Dumfries and Galloway</td>\n",
       "      <td>-3.210294</td>\n",
       "      <td>1</td>\n",
       "      <td>1</td>\n",
       "      <td>Frost or ice</td>\n",
       "      <td>Single carriageway</td>\n",
       "      <td>Rural</td>\n",
       "      <td>Other</td>\n",
       "      <td>Car</td>\n",
       "      <td>2019</td>\n",
       "      <td>12</td>\n",
       "      <td>4</td>\n",
       "      <td>20</td>\n",
       "    </tr>\n",
       "    <tr>\n",
       "      <th>182111</th>\n",
       "      <td>2.01E+12</td>\n",
       "      <td>Serious</td>\n",
       "      <td>2019-12-21</td>\n",
       "      <td>54.984105</td>\n",
       "      <td>Daylight</td>\n",
       "      <td>Dumfries and Galloway</td>\n",
       "      <td>-3.193693</td>\n",
       "      <td>2</td>\n",
       "      <td>1</td>\n",
       "      <td>Frost or ice</td>\n",
       "      <td>Single carriageway</td>\n",
       "      <td>Rural</td>\n",
       "      <td>Other</td>\n",
       "      <td>Car</td>\n",
       "      <td>2019</td>\n",
       "      <td>12</td>\n",
       "      <td>5</td>\n",
       "      <td>21</td>\n",
       "    </tr>\n",
       "    <tr>\n",
       "      <th>182112</th>\n",
       "      <td>2.01E+12</td>\n",
       "      <td>Slight</td>\n",
       "      <td>2019-12-23</td>\n",
       "      <td>55.166369</td>\n",
       "      <td>Darkness - no lighting</td>\n",
       "      <td>Dumfries and Galloway</td>\n",
       "      <td>-2.992068</td>\n",
       "      <td>1</td>\n",
       "      <td>1</td>\n",
       "      <td>Frost or ice</td>\n",
       "      <td>Single carriageway</td>\n",
       "      <td>Rural</td>\n",
       "      <td>Fog or mist</td>\n",
       "      <td>Van / Goods 3.5 tonnes mgw or under</td>\n",
       "      <td>2019</td>\n",
       "      <td>12</td>\n",
       "      <td>0</td>\n",
       "      <td>23</td>\n",
       "    </tr>\n",
       "    <tr>\n",
       "      <th>182113</th>\n",
       "      <td>2.01E+12</td>\n",
       "      <td>Slight</td>\n",
       "      <td>2019-12-23</td>\n",
       "      <td>54.995154</td>\n",
       "      <td>Darkness - lights lit</td>\n",
       "      <td>Dumfries and Galloway</td>\n",
       "      <td>-3.058338</td>\n",
       "      <td>1</td>\n",
       "      <td>1</td>\n",
       "      <td>Wet or damp</td>\n",
       "      <td>Single carriageway</td>\n",
       "      <td>Rural</td>\n",
       "      <td>Fine no high winds</td>\n",
       "      <td>Car</td>\n",
       "      <td>2019</td>\n",
       "      <td>12</td>\n",
       "      <td>0</td>\n",
       "      <td>23</td>\n",
       "    </tr>\n",
       "    <tr>\n",
       "      <th>182114</th>\n",
       "      <td>2.01E+12</td>\n",
       "      <td>Serious</td>\n",
       "      <td>2019-12-22</td>\n",
       "      <td>55.104618</td>\n",
       "      <td>Daylight</td>\n",
       "      <td>Dumfries and Galloway</td>\n",
       "      <td>-3.348857</td>\n",
       "      <td>2</td>\n",
       "      <td>2</td>\n",
       "      <td>Frost or ice</td>\n",
       "      <td>Single carriageway</td>\n",
       "      <td>Rural</td>\n",
       "      <td>Raining no high winds</td>\n",
       "      <td>Car</td>\n",
       "      <td>2019</td>\n",
       "      <td>12</td>\n",
       "      <td>6</td>\n",
       "      <td>22</td>\n",
       "    </tr>\n",
       "  </tbody>\n",
       "</table>\n",
       "<p>182115 rows × 18 columns</p>\n",
       "</div>"
      ],
      "text/plain": [
       "                Index Accident_Severity Accident Date   Latitude  \\\n",
       "0       200701BS64157           Serious    2019-06-05  51.506187   \n",
       "1       200701BS65737           Serious    2019-07-02  51.495029   \n",
       "2       200701BS66127           Serious    2019-08-26  51.517715   \n",
       "3       200701BS66128           Serious    2019-08-16  51.495478   \n",
       "4       200701BS66837            Slight    2019-09-03  51.488576   \n",
       "...               ...               ...           ...        ...   \n",
       "182110       2.01E+12            Slight    2019-12-20  54.985289   \n",
       "182111       2.01E+12           Serious    2019-12-21  54.984105   \n",
       "182112       2.01E+12            Slight    2019-12-23  55.166369   \n",
       "182113       2.01E+12            Slight    2019-12-23  54.995154   \n",
       "182114       2.01E+12           Serious    2019-12-22  55.104618   \n",
       "\n",
       "                   Light_Conditions           District Area Longitude  \\\n",
       "0             Darkness - lights lit  Kensington and Chelsea -0.209082   \n",
       "1                          Daylight  Kensington and Chelsea -0.173647   \n",
       "2       Darkness - lighting unknown  Kensington and Chelsea -0.210215   \n",
       "3                          Daylight  Kensington and Chelsea -0.202731   \n",
       "4             Darkness - lights lit  Kensington and Chelsea -0.192487   \n",
       "...                             ...                     ...       ...   \n",
       "182110       Darkness - no lighting   Dumfries and Galloway -3.210294   \n",
       "182111                     Daylight   Dumfries and Galloway -3.193693   \n",
       "182112       Darkness - no lighting   Dumfries and Galloway -2.992068   \n",
       "182113        Darkness - lights lit   Dumfries and Galloway -3.058338   \n",
       "182114                     Daylight   Dumfries and Galloway -3.348857   \n",
       "\n",
       "        Number_of_Casualties  Number_of_Vehicles Road_Surface_Conditions  \\\n",
       "0                          1                   2                     Dry   \n",
       "1                          1                   2             Wet or damp   \n",
       "2                          1                   3                     Dry   \n",
       "3                          1                   4                     Dry   \n",
       "4                          1                   2                     Dry   \n",
       "...                      ...                 ...                     ...   \n",
       "182110                     1                   1            Frost or ice   \n",
       "182111                     2                   1            Frost or ice   \n",
       "182112                     1                   1            Frost or ice   \n",
       "182113                     1                   1             Wet or damp   \n",
       "182114                     2                   2            Frost or ice   \n",
       "\n",
       "                 Road_Type Urban_or_Rural_Area     Weather_Conditions  \\\n",
       "0       Single carriageway               Urban     Fine no high winds   \n",
       "1       Single carriageway               Urban  Raining no high winds   \n",
       "2       Single carriageway               Urban        unknown weather   \n",
       "3       Single carriageway               Urban     Fine no high winds   \n",
       "4       Single carriageway               Urban        unknown weather   \n",
       "...                    ...                 ...                    ...   \n",
       "182110  Single carriageway               Rural                  Other   \n",
       "182111  Single carriageway               Rural                  Other   \n",
       "182112  Single carriageway               Rural            Fog or mist   \n",
       "182113  Single carriageway               Rural     Fine no high winds   \n",
       "182114  Single carriageway               Rural  Raining no high winds   \n",
       "\n",
       "                                Vehicle_Type  Year Month DayofWeek Day  \n",
       "0                                        Car  2019     6         2   5  \n",
       "1                                        Car  2019     7         1   2  \n",
       "2                      Taxi/Private hire car  2019     8         0  26  \n",
       "3       Bus or coach (17 or more pass seats)  2019     8         4  16  \n",
       "4                              Other vehicle  2019     9         1   3  \n",
       "...                                      ...   ...   ...       ...  ..  \n",
       "182110                                   Car  2019    12         4  20  \n",
       "182111                                   Car  2019    12         5  21  \n",
       "182112   Van / Goods 3.5 tonnes mgw or under  2019    12         0  23  \n",
       "182113                                   Car  2019    12         0  23  \n",
       "182114                                   Car  2019    12         6  22  \n",
       "\n",
       "[182115 rows x 18 columns]"
      ]
     },
     "execution_count": 72,
     "metadata": {},
     "output_type": "execute_result"
    }
   ],
   "source": [
    "accident[accident['Year'] == 2019]"
   ]
  },
  {
   "cell_type": "code",
   "execution_count": 73,
   "id": "1fb48344-699b-4c21-b52b-9fe218e96027",
   "metadata": {},
   "outputs": [],
   "source": [
    "year19 = accident[accident['Year'] == 2019]"
   ]
  },
  {
   "cell_type": "code",
   "execution_count": 74,
   "id": "5741cf09-876e-4716-a569-ea13b9046ef5",
   "metadata": {},
   "outputs": [
    {
     "data": {
      "text/plain": [
       "Accident_Severity\n",
       "Slight     155079\n",
       "Serious     24322\n",
       "Fatal        2714\n",
       "Name: count, dtype: int64"
      ]
     },
     "execution_count": 74,
     "metadata": {},
     "output_type": "execute_result"
    }
   ],
   "source": [
    "year19['Accident_Severity'].value_counts()"
   ]
  },
  {
   "cell_type": "code",
   "execution_count": 75,
   "id": "82981d19-2d09-4651-9bd6-015fe86dcd35",
   "metadata": {},
   "outputs": [],
   "source": [
    "fatal = year19[year19['Accident_Severity'] =='Fatal']"
   ]
  },
  {
   "cell_type": "code",
   "execution_count": 76,
   "id": "37773994-6893-4340-8f3a-c04a852b2ebb",
   "metadata": {},
   "outputs": [
    {
     "data": {
      "text/plain": [
       "Urban_or_Rural_Area\n",
       "Rural          1773\n",
       "Urban           941\n",
       "Unallocated       0\n",
       "Name: count, dtype: int64"
      ]
     },
     "execution_count": 76,
     "metadata": {},
     "output_type": "execute_result"
    }
   ],
   "source": [
    "fatal['Urban_or_Rural_Area'].value_counts()"
   ]
  },
  {
   "cell_type": "markdown",
   "id": "c17d5e27-f8a2-478c-84f4-ad2fbb63792f",
   "metadata": {},
   "source": [
    "<h1>21. How many accidents happened per month in 2019?</h1>"
   ]
  },
  {
   "cell_type": "code",
   "execution_count": 77,
   "id": "ece13b55-8b3d-4c8a-85e4-081da44c0835",
   "metadata": {},
   "outputs": [
    {
     "data": {
      "text/plain": [
       "Month\n",
       "11    16559\n",
       "7     15862\n",
       "5     15833\n",
       "6     15528\n",
       "10    15528\n",
       "1     15355\n",
       "9     15271\n",
       "3     15049\n",
       "8     15044\n",
       "12    14708\n",
       "4     14125\n",
       "2     13253\n",
       "Name: count, dtype: int64"
      ]
     },
     "execution_count": 77,
     "metadata": {},
     "output_type": "execute_result"
    }
   ],
   "source": [
    "accident[accident['Year'] == 2019]['Month'].value_counts()"
   ]
  },
  {
   "cell_type": "markdown",
   "id": "f507cea1-ceff-4238-a14b-c532bc94be90",
   "metadata": {},
   "source": [
    "<h1>Insight 21 In 2019 accidents happened is up to 13,253 to 16,559 per month in all 182, 137 accident in 2019 </h1>"
   ]
  },
  {
   "cell_type": "markdown",
   "id": "f6384175-6f61-433f-ac3d-5a4804e490e2",
   "metadata": {},
   "source": [
    "<h1>Insight 22 In 2019 the most accident during 2019 is November had accident of 16559 </h1>"
   ]
  },
  {
   "cell_type": "markdown",
   "id": "270935b0-1f48-4bd4-a7b3-029f53020880",
   "metadata": {},
   "source": [
    "<h1>Insight 23 In 2019 the least accident during 2019 is February had accident of 13253 </h1>"
   ]
  },
  {
   "cell_type": "code",
   "execution_count": 78,
   "id": "d13db121-c4de-489b-b70f-d89d26540b8d",
   "metadata": {},
   "outputs": [
    {
     "data": {
      "text/html": [
       "<div>\n",
       "<style scoped>\n",
       "    .dataframe tbody tr th:only-of-type {\n",
       "        vertical-align: middle;\n",
       "    }\n",
       "\n",
       "    .dataframe tbody tr th {\n",
       "        vertical-align: top;\n",
       "    }\n",
       "\n",
       "    .dataframe thead th {\n",
       "        text-align: right;\n",
       "    }\n",
       "</style>\n",
       "<table border=\"1\" class=\"dataframe\">\n",
       "  <thead>\n",
       "    <tr style=\"text-align: right;\">\n",
       "      <th></th>\n",
       "      <th>Index</th>\n",
       "      <th>Accident_Severity</th>\n",
       "      <th>Accident Date</th>\n",
       "      <th>Latitude</th>\n",
       "      <th>Light_Conditions</th>\n",
       "      <th>District Area</th>\n",
       "      <th>Longitude</th>\n",
       "      <th>Number_of_Casualties</th>\n",
       "      <th>Number_of_Vehicles</th>\n",
       "      <th>Road_Surface_Conditions</th>\n",
       "      <th>Road_Type</th>\n",
       "      <th>Urban_or_Rural_Area</th>\n",
       "      <th>Weather_Conditions</th>\n",
       "      <th>Vehicle_Type</th>\n",
       "      <th>Year</th>\n",
       "      <th>Month</th>\n",
       "      <th>DayofWeek</th>\n",
       "      <th>Day</th>\n",
       "    </tr>\n",
       "  </thead>\n",
       "  <tbody>\n",
       "    <tr>\n",
       "      <th>182115</th>\n",
       "      <td>200801BS69439</td>\n",
       "      <td>Serious</td>\n",
       "      <td>2020-01-23</td>\n",
       "      <td>51.506812</td>\n",
       "      <td>Darkness - lights lit</td>\n",
       "      <td>Kensington and Chelsea</td>\n",
       "      <td>-0.214677</td>\n",
       "      <td>1</td>\n",
       "      <td>1</td>\n",
       "      <td>Dry</td>\n",
       "      <td>Single carriageway</td>\n",
       "      <td>Urban</td>\n",
       "      <td>Fine no high winds</td>\n",
       "      <td>Car</td>\n",
       "      <td>2020</td>\n",
       "      <td>1</td>\n",
       "      <td>3</td>\n",
       "      <td>23</td>\n",
       "    </tr>\n",
       "    <tr>\n",
       "      <th>182116</th>\n",
       "      <td>200801BS69594</td>\n",
       "      <td>Serious</td>\n",
       "      <td>2020-02-15</td>\n",
       "      <td>51.496323</td>\n",
       "      <td>Daylight</td>\n",
       "      <td>Kensington and Chelsea</td>\n",
       "      <td>-0.170138</td>\n",
       "      <td>1</td>\n",
       "      <td>1</td>\n",
       "      <td>Dry</td>\n",
       "      <td>Dual carriageway</td>\n",
       "      <td>Urban</td>\n",
       "      <td>Fine no high winds</td>\n",
       "      <td>Bus or coach (17 or more pass seats)</td>\n",
       "      <td>2020</td>\n",
       "      <td>2</td>\n",
       "      <td>5</td>\n",
       "      <td>15</td>\n",
       "    </tr>\n",
       "    <tr>\n",
       "      <th>182117</th>\n",
       "      <td>200801BS69698</td>\n",
       "      <td>Serious</td>\n",
       "      <td>2020-02-27</td>\n",
       "      <td>51.502042</td>\n",
       "      <td>Darkness - lights lit</td>\n",
       "      <td>Kensington and Chelsea</td>\n",
       "      <td>-0.190946</td>\n",
       "      <td>1</td>\n",
       "      <td>1</td>\n",
       "      <td>Dry</td>\n",
       "      <td>Single carriageway</td>\n",
       "      <td>Urban</td>\n",
       "      <td>Fine no high winds</td>\n",
       "      <td>Van / Goods 3.5 tonnes mgw or under</td>\n",
       "      <td>2020</td>\n",
       "      <td>2</td>\n",
       "      <td>3</td>\n",
       "      <td>27</td>\n",
       "    </tr>\n",
       "    <tr>\n",
       "      <th>182118</th>\n",
       "      <td>200801BS69935</td>\n",
       "      <td>Serious</td>\n",
       "      <td>2020-02-25</td>\n",
       "      <td>51.492733</td>\n",
       "      <td>Daylight</td>\n",
       "      <td>Kensington and Chelsea</td>\n",
       "      <td>-0.193763</td>\n",
       "      <td>1</td>\n",
       "      <td>1</td>\n",
       "      <td>Dry</td>\n",
       "      <td>Roundabout</td>\n",
       "      <td>Urban</td>\n",
       "      <td>Fine no high winds</td>\n",
       "      <td>Car</td>\n",
       "      <td>2020</td>\n",
       "      <td>2</td>\n",
       "      <td>1</td>\n",
       "      <td>25</td>\n",
       "    </tr>\n",
       "    <tr>\n",
       "      <th>182119</th>\n",
       "      <td>200801BS69938</td>\n",
       "      <td>Serious</td>\n",
       "      <td>2020-02-27</td>\n",
       "      <td>51.493271</td>\n",
       "      <td>Darkness - lights lit</td>\n",
       "      <td>Kensington and Chelsea</td>\n",
       "      <td>-0.199504</td>\n",
       "      <td>1</td>\n",
       "      <td>2</td>\n",
       "      <td>Dry</td>\n",
       "      <td>Dual carriageway</td>\n",
       "      <td>Urban</td>\n",
       "      <td>Fine no high winds</td>\n",
       "      <td>Motorcycle over 500cc</td>\n",
       "      <td>2020</td>\n",
       "      <td>2</td>\n",
       "      <td>3</td>\n",
       "      <td>27</td>\n",
       "    </tr>\n",
       "    <tr>\n",
       "      <th>...</th>\n",
       "      <td>...</td>\n",
       "      <td>...</td>\n",
       "      <td>...</td>\n",
       "      <td>...</td>\n",
       "      <td>...</td>\n",
       "      <td>...</td>\n",
       "      <td>...</td>\n",
       "      <td>...</td>\n",
       "      <td>...</td>\n",
       "      <td>...</td>\n",
       "      <td>...</td>\n",
       "      <td>...</td>\n",
       "      <td>...</td>\n",
       "      <td>...</td>\n",
       "      <td>...</td>\n",
       "      <td>...</td>\n",
       "      <td>...</td>\n",
       "      <td>...</td>\n",
       "    </tr>\n",
       "    <tr>\n",
       "      <th>352701</th>\n",
       "      <td>2.01E+12</td>\n",
       "      <td>Slight</td>\n",
       "      <td>2020-11-24</td>\n",
       "      <td>55.233969</td>\n",
       "      <td>Darkness - no lighting</td>\n",
       "      <td>Dumfries and Galloway</td>\n",
       "      <td>-3.394276</td>\n",
       "      <td>1</td>\n",
       "      <td>1</td>\n",
       "      <td>Frost or ice</td>\n",
       "      <td>Single carriageway</td>\n",
       "      <td>Rural</td>\n",
       "      <td>Fine no high winds</td>\n",
       "      <td>Minibus (8 - 16 passenger seats)</td>\n",
       "      <td>2020</td>\n",
       "      <td>11</td>\n",
       "      <td>1</td>\n",
       "      <td>24</td>\n",
       "    </tr>\n",
       "    <tr>\n",
       "      <th>352702</th>\n",
       "      <td>2.01E+12</td>\n",
       "      <td>Slight</td>\n",
       "      <td>2020-12-06</td>\n",
       "      <td>54.983911</td>\n",
       "      <td>Daylight</td>\n",
       "      <td>Dumfries and Galloway</td>\n",
       "      <td>-3.195094</td>\n",
       "      <td>1</td>\n",
       "      <td>1</td>\n",
       "      <td>Frost or ice</td>\n",
       "      <td>Single carriageway</td>\n",
       "      <td>Rural</td>\n",
       "      <td>Fine no high winds</td>\n",
       "      <td>Motorcycle 125cc and under</td>\n",
       "      <td>2020</td>\n",
       "      <td>12</td>\n",
       "      <td>6</td>\n",
       "      <td>6</td>\n",
       "    </tr>\n",
       "    <tr>\n",
       "      <th>352703</th>\n",
       "      <td>2.01E+12</td>\n",
       "      <td>Slight</td>\n",
       "      <td>2020-12-17</td>\n",
       "      <td>55.008072</td>\n",
       "      <td>Darkness - no lighting</td>\n",
       "      <td>Dumfries and Galloway</td>\n",
       "      <td>-3.334825</td>\n",
       "      <td>1</td>\n",
       "      <td>1</td>\n",
       "      <td>Wet or damp</td>\n",
       "      <td>Single carriageway</td>\n",
       "      <td>Rural</td>\n",
       "      <td>Fine no high winds</td>\n",
       "      <td>Motorcycle over 500cc</td>\n",
       "      <td>2020</td>\n",
       "      <td>12</td>\n",
       "      <td>3</td>\n",
       "      <td>17</td>\n",
       "    </tr>\n",
       "    <tr>\n",
       "      <th>352704</th>\n",
       "      <td>2.01E+12</td>\n",
       "      <td>Slight</td>\n",
       "      <td>2020-12-16</td>\n",
       "      <td>54.986388</td>\n",
       "      <td>Daylight</td>\n",
       "      <td>Dumfries and Galloway</td>\n",
       "      <td>-3.180789</td>\n",
       "      <td>1</td>\n",
       "      <td>1</td>\n",
       "      <td>Dry</td>\n",
       "      <td>Single carriageway</td>\n",
       "      <td>Rural</td>\n",
       "      <td>Fine no high winds</td>\n",
       "      <td>Bus or coach (17 or more pass seats)</td>\n",
       "      <td>2020</td>\n",
       "      <td>12</td>\n",
       "      <td>2</td>\n",
       "      <td>16</td>\n",
       "    </tr>\n",
       "    <tr>\n",
       "      <th>352705</th>\n",
       "      <td>2.01E+12</td>\n",
       "      <td>Slight</td>\n",
       "      <td>2020-12-19</td>\n",
       "      <td>55.067150</td>\n",
       "      <td>Daylight</td>\n",
       "      <td>Dumfries and Galloway</td>\n",
       "      <td>-3.403817</td>\n",
       "      <td>1</td>\n",
       "      <td>2</td>\n",
       "      <td>Frost or ice</td>\n",
       "      <td>Single carriageway</td>\n",
       "      <td>Rural</td>\n",
       "      <td>Fine no high winds</td>\n",
       "      <td>Car</td>\n",
       "      <td>2020</td>\n",
       "      <td>12</td>\n",
       "      <td>5</td>\n",
       "      <td>19</td>\n",
       "    </tr>\n",
       "  </tbody>\n",
       "</table>\n",
       "<p>170591 rows × 18 columns</p>\n",
       "</div>"
      ],
      "text/plain": [
       "                Index Accident_Severity Accident Date   Latitude  \\\n",
       "182115  200801BS69439           Serious    2020-01-23  51.506812   \n",
       "182116  200801BS69594           Serious    2020-02-15  51.496323   \n",
       "182117  200801BS69698           Serious    2020-02-27  51.502042   \n",
       "182118  200801BS69935           Serious    2020-02-25  51.492733   \n",
       "182119  200801BS69938           Serious    2020-02-27  51.493271   \n",
       "...               ...               ...           ...        ...   \n",
       "352701       2.01E+12            Slight    2020-11-24  55.233969   \n",
       "352702       2.01E+12            Slight    2020-12-06  54.983911   \n",
       "352703       2.01E+12            Slight    2020-12-17  55.008072   \n",
       "352704       2.01E+12            Slight    2020-12-16  54.986388   \n",
       "352705       2.01E+12            Slight    2020-12-19  55.067150   \n",
       "\n",
       "              Light_Conditions           District Area Longitude  \\\n",
       "182115   Darkness - lights lit  Kensington and Chelsea -0.214677   \n",
       "182116                Daylight  Kensington and Chelsea -0.170138   \n",
       "182117   Darkness - lights lit  Kensington and Chelsea -0.190946   \n",
       "182118                Daylight  Kensington and Chelsea -0.193763   \n",
       "182119   Darkness - lights lit  Kensington and Chelsea -0.199504   \n",
       "...                        ...                     ...       ...   \n",
       "352701  Darkness - no lighting   Dumfries and Galloway -3.394276   \n",
       "352702                Daylight   Dumfries and Galloway -3.195094   \n",
       "352703  Darkness - no lighting   Dumfries and Galloway -3.334825   \n",
       "352704                Daylight   Dumfries and Galloway -3.180789   \n",
       "352705                Daylight   Dumfries and Galloway -3.403817   \n",
       "\n",
       "        Number_of_Casualties  Number_of_Vehicles Road_Surface_Conditions  \\\n",
       "182115                     1                   1                     Dry   \n",
       "182116                     1                   1                     Dry   \n",
       "182117                     1                   1                     Dry   \n",
       "182118                     1                   1                     Dry   \n",
       "182119                     1                   2                     Dry   \n",
       "...                      ...                 ...                     ...   \n",
       "352701                     1                   1            Frost or ice   \n",
       "352702                     1                   1            Frost or ice   \n",
       "352703                     1                   1             Wet or damp   \n",
       "352704                     1                   1                     Dry   \n",
       "352705                     1                   2            Frost or ice   \n",
       "\n",
       "                 Road_Type Urban_or_Rural_Area  Weather_Conditions  \\\n",
       "182115  Single carriageway               Urban  Fine no high winds   \n",
       "182116    Dual carriageway               Urban  Fine no high winds   \n",
       "182117  Single carriageway               Urban  Fine no high winds   \n",
       "182118          Roundabout               Urban  Fine no high winds   \n",
       "182119    Dual carriageway               Urban  Fine no high winds   \n",
       "...                    ...                 ...                 ...   \n",
       "352701  Single carriageway               Rural  Fine no high winds   \n",
       "352702  Single carriageway               Rural  Fine no high winds   \n",
       "352703  Single carriageway               Rural  Fine no high winds   \n",
       "352704  Single carriageway               Rural  Fine no high winds   \n",
       "352705  Single carriageway               Rural  Fine no high winds   \n",
       "\n",
       "                                Vehicle_Type  Year Month DayofWeek Day  \n",
       "182115                                   Car  2020     1         3  23  \n",
       "182116  Bus or coach (17 or more pass seats)  2020     2         5  15  \n",
       "182117   Van / Goods 3.5 tonnes mgw or under  2020     2         3  27  \n",
       "182118                                   Car  2020     2         1  25  \n",
       "182119                 Motorcycle over 500cc  2020     2         3  27  \n",
       "...                                      ...   ...   ...       ...  ..  \n",
       "352701      Minibus (8 - 16 passenger seats)  2020    11         1  24  \n",
       "352702            Motorcycle 125cc and under  2020    12         6   6  \n",
       "352703                 Motorcycle over 500cc  2020    12         3  17  \n",
       "352704  Bus or coach (17 or more pass seats)  2020    12         2  16  \n",
       "352705                                   Car  2020    12         5  19  \n",
       "\n",
       "[170591 rows x 18 columns]"
      ]
     },
     "execution_count": 78,
     "metadata": {},
     "output_type": "execute_result"
    }
   ],
   "source": [
    "accident[accident['Year'] == 2020]"
   ]
  },
  {
   "cell_type": "markdown",
   "id": "c33107b1-432a-48d9-bbb3-189f33a36e81",
   "metadata": {},
   "source": [
    "<h1>22.How many accidents happened per month in 2020?</h1>"
   ]
  },
  {
   "cell_type": "code",
   "execution_count": 79,
   "id": "20f8a60e-9b12-4eea-849c-a7dfdd4ffa25",
   "metadata": {},
   "outputs": [
    {
     "data": {
      "text/plain": [
       "Month\n",
       "10    15684\n",
       "11    14770\n",
       "7     14630\n",
       "9     14432\n",
       "2     14353\n",
       "5     14336\n",
       "6     14205\n",
       "1     14133\n",
       "12    13794\n",
       "3     13494\n",
       "4     13394\n",
       "8     13366\n",
       "Name: count, dtype: int64"
      ]
     },
     "execution_count": 79,
     "metadata": {},
     "output_type": "execute_result"
    }
   ],
   "source": [
    "accident[accident['Year'] == 2020]['Month'].value_counts()"
   ]
  },
  {
   "cell_type": "markdown",
   "id": "c3ecf32c-f5cf-48be-8d8c-f6c506bc9b7f",
   "metadata": {},
   "source": [
    "<h1>Insight 24 In 2020 accidents happened is 13,000 to 15,700 per month </h1>"
   ]
  },
  {
   "cell_type": "code",
   "execution_count": null,
   "id": "b722f8a0-809d-48bd-aa52-d24f0671b244",
   "metadata": {},
   "outputs": [],
   "source": []
  },
  {
   "cell_type": "markdown",
   "id": "6cfb17fd-2b45-4b56-8d5e-85ba489c75bd",
   "metadata": {},
   "source": [
    "<h1>23.Which day of the week has the most accidents?</h1>"
   ]
  },
  {
   "cell_type": "code",
   "execution_count": 80,
   "id": "b825aaa6-cf3b-4597-a528-4cf0031d23b2",
   "metadata": {},
   "outputs": [
    {
     "data": {
      "text/plain": [
       "DayofWeek\n",
       "5    107178\n",
       "2     99558\n",
       "3     99511\n",
       "4     97900\n",
       "1     94550\n",
       "6     89302\n",
       "0     72680\n",
       "Name: count, dtype: int64"
      ]
     },
     "execution_count": 80,
     "metadata": {},
     "output_type": "execute_result"
    }
   ],
   "source": [
    "accident['DayofWeek'].value_counts()"
   ]
  },
  {
   "cell_type": "markdown",
   "id": "002b47d7-65d6-4dca-8456-125a67260b65",
   "metadata": {},
   "source": [
    "<h1>Insight 25\n",
    "Saturday has the most accidents during the week.</h1>"
   ]
  },
  {
   "cell_type": "markdown",
   "id": "fe7e9444-d33e-43d9-bb5d-695686d07dfb",
   "metadata": {},
   "source": [
    "<h1>Insight 26\n",
    "Monday has the least accidents during the week.</h1>"
   ]
  },
  {
   "cell_type": "markdown",
   "id": "760f9d62-2ae9-4c92-be77-c13473bda4ae",
   "metadata": {},
   "source": [
    "<hr></hr>"
   ]
  },
  {
   "cell_type": "code",
   "execution_count": 81,
   "id": "16cb4ae0-162f-412e-b62d-eb511fbb88b5",
   "metadata": {},
   "outputs": [],
   "source": [
    "import matplotlib.pyplot as plt"
   ]
  },
  {
   "cell_type": "code",
   "execution_count": 82,
   "id": "a7cd34f7-2957-4a66-bb23-86bc8ac80ad5",
   "metadata": {},
   "outputs": [],
   "source": [
    "accident['Year'] = accident['Accident Date'].dt.year\n",
    "accident['Month'] = accident['Accident Date'].dt.month\n",
    "accident['Day'] = accident['Accident Date'].dt.day\n",
    "accident['DayOfWeek'] = accident['Accident Date'].dt.dayofweek"
   ]
  },
  {
   "cell_type": "markdown",
   "id": "f46597ab-2e1f-4347-b3f4-3f42e9a45c4f",
   "metadata": {},
   "source": [
    "<h1>USING DISTRICT AREA TO MAKE A COMPARISON TO A GENERAL RESULT</h1>"
   ]
  },
  {
   "cell_type": "code",
   "execution_count": 83,
   "id": "f3e8d369-8404-491f-a653-5aad226333c8",
   "metadata": {},
   "outputs": [
    {
     "data": {
      "text/plain": [
       "['Kensington and Chelsea', 'Westminster', 'Richmond upon Thames', 'Hammersmith and Fulham', 'Hounslow', ..., 'County Durham', 'Shropshire', 'Central Bedfordshire', 'Cornwall', 'Wiltshire']\n",
       "Length: 422\n",
       "Categories (422, object): ['Aberdeen City', 'Aberdeenshire', 'Adur', 'Allerdale', ..., 'Wycombe', 'Wyre', 'Wyre Forest', 'York']"
      ]
     },
     "execution_count": 83,
     "metadata": {},
     "output_type": "execute_result"
    }
   ],
   "source": [
    "accident[\"District Area\"].unique()"
   ]
  },
  {
   "cell_type": "markdown",
   "id": "d100ab13-e4f8-4f1c-8e9c-2b5861850149",
   "metadata": {},
   "source": [
    "<h1>What patterns can you see in the chart of Monthly Road Accidents in Westminster (2019–2022)</h1>"
   ]
  },
  {
   "cell_type": "code",
   "execution_count": 84,
   "id": "f89b9774-782f-4ea6-b676-0aa8039167a4",
   "metadata": {},
   "outputs": [
    {
     "data": {
      "image/png": "[encoded data removed]",
      "text/plain": [
       "<Figure size 1000x500 with 1 Axes>"
      ]
     },
     "metadata": {},
     "output_type": "display_data"
    }
   ],
   "source": [
    "Westminster_df = accident[accident['District Area'] == 'Westminster']\n",
    "\n",
    "monthly_Westminster_data = Westminster_df.groupby(['Year','Month']).size()\n",
    "\n",
    "monthly_Westminster_data = monthly_Westminster_data.unstack(level=0)\n",
    "\n",
    "monthly_Westminster_data.plot(\n",
    "    marker='o',\n",
    "    figsize=(10,5),\n",
    "    title='Monthly Road Accidents in Westminster by Year (2019-2022)'\n",
    ")\n",
    "\n",
    "plt.xticks(range(1,13), ['Jan', 'Feb', 'Mar','Apr','May','Jun','Jul', 'Aug', 'Sep','Oct','Nov','Dec'])\n",
    "plt.legend(title = 'Yearly Accident Comparison', bbox_to_anchor = (1.05,1),loc = 'upper left')\n",
    "plt.grid(alpha = 0.3)\n",
    "plt.show()"
   ]
  },
  {
   "cell_type": "code",
   "execution_count": 85,
   "id": "b7d02894-db9a-4463-9bf7-685b4b4bd9dd",
   "metadata": {},
   "outputs": [
    {
     "data": {
      "image/png": "[encoded data removed]",
      "text/plain": [
       "<Figure size 640x480 with 1 Axes>"
      ]
     },
     "metadata": {},
     "output_type": "display_data"
    },
    {
     "data": {
      "image/png": "[encoded data removed]",
      "text/plain": [
       "<Figure size 640x480 with 1 Axes>"
      ]
     },
     "metadata": {},
     "output_type": "display_data"
    },
    {
     "name": "stdout",
     "output_type": "stream",
     "text": [
      "DayOfWeek\n",
      "Monday       603\n",
      "Tuesday      786\n",
      "Wednesday    902\n",
      "Thursday     890\n",
      "Friday       926\n",
      "Saturday     885\n",
      "Sunday       714\n",
      "Name: count, dtype: int64\n"
     ]
    },
    {
     "data": {
      "image/png": "[encoded data removed]",
      "text/plain": [
       "<Figure size 640x480 with 1 Axes>"
      ]
     },
     "metadata": {},
     "output_type": "display_data"
    }
   ],
   "source": [
    "accidents_per_year = Westminster_df ['Year'].value_counts().sort_index()\n",
    "accidents_per_month = Westminster_df ['Month'].value_counts().sort_index()\n",
    "accidents_per_day = Westminster_df ['DayOfWeek'].value_counts().sort_index()\n",
    "\n",
    "\n",
    "#PER YEAR \n",
    "accidents_per_year.plot(kind='bar')\n",
    "plt.title('Accidents per Year')\n",
    "plt.xlabel('Year')\n",
    "plt.ylabel('Number of Accidents')\n",
    "plt.show()\n",
    "\n",
    "month_names = {\n",
    "    1: 'January', 2: 'February', 3: 'March', 4: 'April',\n",
    "    5: 'May', 6: 'June', 7: 'July', 8: 'August',\n",
    "    9: 'September', 10: 'October', 11: 'November', 12: 'December'\n",
    "}\n",
    "\n",
    "# Replace numerical months with their names\n",
    "accidents_per_month.index = accidents_per_month.index.map(month_names)\n",
    "\n",
    "\n",
    "accidents_per_month.plot(kind='bar')\n",
    "plt.title('Accidents per Month')\n",
    "plt.xlabel('Month')\n",
    "plt.ylabel('Number of Accidents')\n",
    "plt.show()\n",
    "\n",
    "\n",
    "#accident per day\n",
    "day_names = {\n",
    "    0: 'Monday',\n",
    "    1: 'Tuesday',\n",
    "    2: 'Wednesday',\n",
    "    3: 'Thursday',\n",
    "    4: 'Friday',\n",
    "    5: 'Saturday',\n",
    "    6: 'Sunday'\n",
    "}\n",
    "\n",
    "accidents_per_day.index = accidents_per_day.index.map(day_names)\n",
    "accidents_per_day.plot(kind='bar')\n",
    "print(accidents_per_day)"
   ]
  },
  {
   "cell_type": "markdown",
   "id": "3f7e49a1-8083-441a-9b32-035f6668a0a8",
   "metadata": {},
   "source": [
    "<i>Accident Severity in Westminster </i>"
   ]
  },
  {
   "cell_type": "code",
   "execution_count": 86,
   "id": "ebabe352-4b60-453d-a7f6-377b36bc099e",
   "metadata": {},
   "outputs": [
    {
     "data": {
      "image/png": "[encoded data removed]",
      "text/plain": [
       "<Figure size 1000x700 with 1 Axes>"
      ]
     },
     "metadata": {},
     "output_type": "display_data"
    },
    {
     "data": {
      "image/png": "[encoded data removed]",
      "text/plain": [
       "<Figure size 1000x700 with 1 Axes>"
      ]
     },
     "metadata": {},
     "output_type": "display_data"
    }
   ],
   "source": [
    "Severity_Westminster  = Westminster_df['Accident_Severity'].value_counts()\n",
    "\n",
    "plt.pie(Severity_Westminster,\n",
    "        labels = Severity_Westminster.index,\n",
    "        autopct = '%1.1f%%',\n",
    "        startangle = 90)\n",
    "plt.gcf().set_size_inches(10,7)\n",
    "plt.title('Accident Severity Distribution')\n",
    "plt.show()\n",
    "\n",
    "Severity_2019_Westminster = Westminster_df[Westminster_df['Year'] == 2019]\n",
    "# severity_2019\n",
    "lsc_2019 = Severity_2019_Westminster['Accident_Severity'].value_counts()\n",
    "\n",
    "plt.pie(lsc_2019,\n",
    "        labels = lsc_2019.index,\n",
    "        autopct = '%1.1f%%',\n",
    "        startangle = 90)\n",
    "plt.gcf().set_size_inches(10,7)\n",
    "plt.title('Accident Severity Distribution')\n",
    "plt.show()"
   ]
  },
  {
   "cell_type": "markdown",
   "id": "3db4f16a-c6eb-4267-96be-f2bd07afdfd8",
   "metadata": {},
   "source": [
    "<h1>INSIGHTS FOR WESTMINSTER </h1>"
   ]
  },
  {
   "cell_type": "markdown",
   "id": "e905b6fc-78a5-4554-8104-77dc9ed31cdd",
   "metadata": {},
   "source": [
    "<h2>Insight 1</h2>"
   ]
  },
  {
   "cell_type": "markdown",
   "id": "264de3fc-315d-4a37-b7f7-d566a34311e9",
   "metadata": {},
   "source": [
    "<h1> Based on the line graph, road accidents increase sharply from July and September-November across most years. To be exact October 2019 was the highest across all years. While early 2022 (January) recorded the lowest counts of road accidents.</h1>"
   ]
  },
  {
   "cell_type": "markdown",
   "id": "b727e401-c07a-44f1-9138-bc6c92349ff4",
   "metadata": {},
   "source": [
    "<h2>Insight 2</h2>"
   ]
  },
  {
   "cell_type": "markdown",
   "id": "28994bb5-ac78-44aa-b69f-0cec5d17c716",
   "metadata": {},
   "source": [
    "<h1> Based on the bar graph for accident per year in Westminster, the number of accidents remained fairly consistent across years, there was no sharp decline or increase, which makes the accidents in Westminster relatively stable year by year.</h1>"
   ]
  },
  {
   "cell_type": "markdown",
   "id": "8da9ed81-27fb-444a-85fc-9dd193803dfb",
   "metadata": {},
   "source": [
    "<h3>According to the chart of accidents per month, Accidents are highest in July and September to November, peaking above 500 accidents per month. While on the weekly accident graph, Saturday has the highest number of accidents around 345 incidents.</h3>"
   ]
  },
  {
   "cell_type": "markdown",
   "id": "e676e5ef-a371-457f-8063-ebe92f901ddb",
   "metadata": {},
   "source": [
    "<h1>Based on both of the two pie charts of road accident severity in Blackpool, Most accidents were only slight, making up about 81-83% of the total number of accidents. Serious accidents records around 16–18%, while fatal accidents are only less than 1%.</h1>"
   ]
  },
  {
   "cell_type": "markdown",
   "id": "ad098716-8089-4234-9669-7809b6c3430d",
   "metadata": {},
   "source": [
    "<hr></hr>"
   ]
  },
  {
   "cell_type": "markdown",
   "id": "7b5ee75a-6cdf-4db0-a900-388ee1b87da8",
   "metadata": {},
   "source": [
    "<h1>Shropshire Analysis</h1>"
   ]
  },
  {
   "cell_type": "code",
   "execution_count": 87,
   "id": "5ec892d9-9a0d-44bb-b2ea-f6462ae76328",
   "metadata": {},
   "outputs": [],
   "source": [
    "shropshire_df = accident[accident['District Area'] == 'Shropshire']"
   ]
  },
  {
   "cell_type": "code",
   "execution_count": 88,
   "id": "9b6e04e1-5f2c-47a4-829a-9b8ef87b3c07",
   "metadata": {},
   "outputs": [
    {
     "data": {
      "image/png": "[encoded data removed]",
      "text/plain": [
       "<Figure size 1000x500 with 1 Axes>"
      ]
     },
     "metadata": {},
     "output_type": "display_data"
    }
   ],
   "source": [
    "monthly_shropshire = shropshire_df.groupby(['Year', 'Month']).size()\n",
    "\n",
    "monthly_shropshire = monthly_shropshire.unstack(level=0)\n",
    "\n",
    "monthly_shropshire.plot(\n",
    "    marker='o', \n",
    "    figsize=(10, 5),\n",
    "    title='Monthly Road Accidents in Shropshire by Year (2019-2022)'\n",
    ")\n",
    "plt.xticks(range(1, 13), ['Jan','Feb','Mar','Apr','May','Jun','Jul','Aug','Sep','Oct','Nov','Dec'])\n",
    "plt.legend(title='Yearly Accident Comparison', bbox_to_anchor = (1.05,1), loc='upper left')\n",
    "plt.grid(alpha=0.3)\n",
    "plt.show()"
   ]
  },
  {
   "cell_type": "code",
   "execution_count": 89,
   "id": "73a7491d-11a9-4787-b941-d3baf6f83272",
   "metadata": {},
   "outputs": [
    {
     "data": {
      "image/png": "[encoded data removed]",
      "text/plain": [
       "<Figure size 640x480 with 1 Axes>"
      ]
     },
     "metadata": {},
     "output_type": "display_data"
    },
    {
     "data": {
      "image/png": "[encoded data removed]",
      "text/plain": [
       "<Figure size 640x480 with 1 Axes>"
      ]
     },
     "metadata": {},
     "output_type": "display_data"
    },
    {
     "name": "stdout",
     "output_type": "stream",
     "text": [
      "DayOfWeek\n",
      "Monday       193\n",
      "Tuesday      199\n",
      "Wednesday    183\n",
      "Thursday     185\n",
      "Friday       174\n",
      "Saturday     225\n",
      "Sunday       184\n",
      "Name: count, dtype: int64\n"
     ]
    },
    {
     "data": {
      "image/png": "[encoded data removed]",
      "text/plain": [
       "<Figure size 640x480 with 1 Axes>"
      ]
     },
     "metadata": {},
     "output_type": "display_data"
    }
   ],
   "source": [
    "# Accidents per year\n",
    "accidents_per_year = shropshire_df['Year'].value_counts().sort_index()\n",
    "accidents_per_month = shropshire_df['Month'].value_counts().sort_index()\n",
    "accidents_per_day = shropshire_df['DayOfWeek'].value_counts().sort_index()\n",
    "\n",
    "\n",
    "#PER YEAR \n",
    "accidents_per_year.plot(kind='bar')\n",
    "plt.title('Accidents per Year')\n",
    "plt.xlabel('Year')\n",
    "plt.ylabel('Number of Accidents')\n",
    "plt.show()\n",
    "\n",
    "month_names = {\n",
    "    1: 'January', 2: 'February', 3: 'March', 4: 'April',\n",
    "    5: 'May', 6: 'June', 7: 'July', 8: 'August',\n",
    "    9: 'September', 10: 'October', 11: 'November', 12: 'December'\n",
    "}\n",
    "\n",
    "# Replace numerical months with their names\n",
    "accidents_per_month.index = accidents_per_month.index.map(month_names)\n",
    "\n",
    "\n",
    "accidents_per_month.plot(kind='bar')\n",
    "plt.title('Accidents per Month')\n",
    "plt.xlabel('Month')\n",
    "plt.ylabel('Number of Accidents')\n",
    "plt.show()\n",
    "\n",
    "\n",
    "#accident per day\n",
    "day_names = {\n",
    "    0: 'Monday',\n",
    "    1: 'Tuesday',\n",
    "    2: 'Wednesday',\n",
    "    3: 'Thursday',\n",
    "    4: 'Friday',\n",
    "    5: 'Saturday',\n",
    "    6: 'Sunday'\n",
    "}\n",
    "\n",
    "accidents_per_day.index = accidents_per_day.index.map(day_names)\n",
    "accidents_per_day.plot(kind='bar')\n",
    "print(accidents_per_day)"
   ]
  },
  {
   "cell_type": "markdown",
   "id": "6815ea78-9d16-48d9-9d95-f11ec27efa8b",
   "metadata": {},
   "source": [
    "<i>Accident Severity in Shropshire</i>"
   ]
  },
  {
   "cell_type": "code",
   "execution_count": 91,
   "id": "8a12528f-ae84-40ff-8aec-3aa176f6aeac",
   "metadata": {},
   "outputs": [
    {
     "data": {
      "image/png": "[encoded data removed]",
      "text/plain": [
       "<Figure size 1000x700 with 1 Axes>"
      ]
     },
     "metadata": {},
     "output_type": "display_data"
    },
    {
     "ename": "ValueError",
     "evalue": "cannot convert float NaN to integer",
     "output_type": "error",
     "traceback": [
      "\u001b[31m---------------------------------------------------------------------------\u001b[39m",
      "\u001b[31mValueError\u001b[39m                                Traceback (most recent call last)",
      "\u001b[36mCell\u001b[39m\u001b[36m \u001b[39m\u001b[32mIn[91]\u001b[39m\u001b[32m, line 15\u001b[39m\n\u001b[32m     12\u001b[39m \u001b[38;5;66;03m# severity_2019\u001b[39;00m\n\u001b[32m     13\u001b[39m sc_2019 = severity_2019[\u001b[33m'\u001b[39m\u001b[33mAccident_Severity\u001b[39m\u001b[33m'\u001b[39m].value_counts()\n\u001b[32m---> \u001b[39m\u001b[32m15\u001b[39m \u001b[43mplt\u001b[49m\u001b[43m.\u001b[49m\u001b[43mpie\u001b[49m\u001b[43m(\u001b[49m\u001b[43msc_2019\u001b[49m\u001b[43m,\u001b[49m\n\u001b[32m     16\u001b[39m \u001b[43m        \u001b[49m\u001b[43mlabels\u001b[49m\u001b[43m \u001b[49m\u001b[43m=\u001b[49m\u001b[43m \u001b[49m\u001b[43msc_2019\u001b[49m\u001b[43m.\u001b[49m\u001b[43mindex\u001b[49m\u001b[43m,\u001b[49m\n\u001b[32m     17\u001b[39m \u001b[43m        \u001b[49m\u001b[43mautopct\u001b[49m\u001b[43m \u001b[49m\u001b[43m=\u001b[49m\u001b[43m \u001b[49m\u001b[33;43m'\u001b[39;49m\u001b[38;5;132;43;01m%1.1f\u001b[39;49;00m\u001b[38;5;132;43;01m%%\u001b[39;49;00m\u001b[33;43m'\u001b[39;49m\u001b[43m,\u001b[49m\n\u001b[32m     18\u001b[39m \u001b[43m        \u001b[49m\u001b[43mstartangle\u001b[49m\u001b[43m \u001b[49m\u001b[43m=\u001b[49m\u001b[43m \u001b[49m\u001b[32;43m90\u001b[39;49m\u001b[43m)\u001b[49m\n\u001b[32m     19\u001b[39m plt.gcf().set_size_inches(\u001b[32m10\u001b[39m,\u001b[32m7\u001b[39m)\n\u001b[32m     20\u001b[39m plt.title(\u001b[33m'\u001b[39m\u001b[33mAccident Severity Distribution\u001b[39m\u001b[33m'\u001b[39m)\n",
      "\u001b[36mFile \u001b[39m\u001b[32m~\\AppData\\Local\\Programs\\Python\\Python312\\Lib\\site-packages\\matplotlib\\_api\\deprecation.py:453\u001b[39m, in \u001b[36mmake_keyword_only.<locals>.wrapper\u001b[39m\u001b[34m(*args, **kwargs)\u001b[39m\n\u001b[32m    447\u001b[39m \u001b[38;5;28;01mif\u001b[39;00m \u001b[38;5;28mlen\u001b[39m(args) > name_idx:\n\u001b[32m    448\u001b[39m     warn_deprecated(\n\u001b[32m    449\u001b[39m         since, message=\u001b[33m\"\u001b[39m\u001b[33mPassing the \u001b[39m\u001b[38;5;132;01m%(name)s\u001b[39;00m\u001b[33m \u001b[39m\u001b[38;5;132;01m%(obj_type)s\u001b[39;00m\u001b[33m \u001b[39m\u001b[33m\"\u001b[39m\n\u001b[32m    450\u001b[39m         \u001b[33m\"\u001b[39m\u001b[33mpositionally is deprecated since Matplotlib \u001b[39m\u001b[38;5;132;01m%(since)s\u001b[39;00m\u001b[33m; the \u001b[39m\u001b[33m\"\u001b[39m\n\u001b[32m    451\u001b[39m         \u001b[33m\"\u001b[39m\u001b[33mparameter will become keyword-only in \u001b[39m\u001b[38;5;132;01m%(removal)s\u001b[39;00m\u001b[33m.\u001b[39m\u001b[33m\"\u001b[39m,\n\u001b[32m    452\u001b[39m         name=name, obj_type=\u001b[33mf\u001b[39m\u001b[33m\"\u001b[39m\u001b[33mparameter of \u001b[39m\u001b[38;5;132;01m{\u001b[39;00mfunc.\u001b[34m__name__\u001b[39m\u001b[38;5;132;01m}\u001b[39;00m\u001b[33m()\u001b[39m\u001b[33m\"\u001b[39m)\n\u001b[32m--> \u001b[39m\u001b[32m453\u001b[39m \u001b[38;5;28;01mreturn\u001b[39;00m \u001b[43mfunc\u001b[49m\u001b[43m(\u001b[49m\u001b[43m*\u001b[49m\u001b[43margs\u001b[49m\u001b[43m,\u001b[49m\u001b[43m \u001b[49m\u001b[43m*\u001b[49m\u001b[43m*\u001b[49m\u001b[43mkwargs\u001b[49m\u001b[43m)\u001b[49m\n",
      "\u001b[36mFile \u001b[39m\u001b[32m~\\AppData\\Local\\Programs\\Python\\Python312\\Lib\\site-packages\\matplotlib\\pyplot.py:3806\u001b[39m, in \u001b[36mpie\u001b[39m\u001b[34m(x, explode, labels, colors, autopct, pctdistance, shadow, labeldistance, startangle, radius, counterclock, wedgeprops, textprops, center, frame, rotatelabels, normalize, hatch, data)\u001b[39m\n\u001b[32m   3783\u001b[39m \u001b[38;5;129m@_copy_docstring_and_deprecators\u001b[39m(Axes.pie)\n\u001b[32m   3784\u001b[39m \u001b[38;5;28;01mdef\u001b[39;00m\u001b[38;5;250m \u001b[39m\u001b[34mpie\u001b[39m(\n\u001b[32m   3785\u001b[39m     x: ArrayLike,\n\u001b[32m   (...)\u001b[39m\u001b[32m   3804\u001b[39m     data=\u001b[38;5;28;01mNone\u001b[39;00m,\n\u001b[32m   3805\u001b[39m ) -> \u001b[38;5;28mtuple\u001b[39m[\u001b[38;5;28mlist\u001b[39m[Wedge], \u001b[38;5;28mlist\u001b[39m[Text]] | \u001b[38;5;28mtuple\u001b[39m[\u001b[38;5;28mlist\u001b[39m[Wedge], \u001b[38;5;28mlist\u001b[39m[Text], \u001b[38;5;28mlist\u001b[39m[Text]]:\n\u001b[32m-> \u001b[39m\u001b[32m3806\u001b[39m     \u001b[38;5;28;01mreturn\u001b[39;00m \u001b[43mgca\u001b[49m\u001b[43m(\u001b[49m\u001b[43m)\u001b[49m\u001b[43m.\u001b[49m\u001b[43mpie\u001b[49m\u001b[43m(\u001b[49m\n\u001b[32m   3807\u001b[39m \u001b[43m        \u001b[49m\u001b[43mx\u001b[49m\u001b[43m,\u001b[49m\n\u001b[32m   3808\u001b[39m \u001b[43m        \u001b[49m\u001b[43mexplode\u001b[49m\u001b[43m=\u001b[49m\u001b[43mexplode\u001b[49m\u001b[43m,\u001b[49m\n\u001b[32m   3809\u001b[39m \u001b[43m        \u001b[49m\u001b[43mlabels\u001b[49m\u001b[43m=\u001b[49m\u001b[43mlabels\u001b[49m\u001b[43m,\u001b[49m\n\u001b[32m   3810\u001b[39m \u001b[43m        \u001b[49m\u001b[43mcolors\u001b[49m\u001b[43m=\u001b[49m\u001b[43mcolors\u001b[49m\u001b[43m,\u001b[49m\n\u001b[32m   3811\u001b[39m \u001b[43m        \u001b[49m\u001b[43mautopct\u001b[49m\u001b[43m=\u001b[49m\u001b[43mautopct\u001b[49m\u001b[43m,\u001b[49m\n\u001b[32m   3812\u001b[39m \u001b[43m        \u001b[49m\u001b[43mpctdistance\u001b[49m\u001b[43m=\u001b[49m\u001b[43mpctdistance\u001b[49m\u001b[43m,\u001b[49m\n\u001b[32m   3813\u001b[39m \u001b[43m        \u001b[49m\u001b[43mshadow\u001b[49m\u001b[43m=\u001b[49m\u001b[43mshadow\u001b[49m\u001b[43m,\u001b[49m\n\u001b[32m   3814\u001b[39m \u001b[43m        \u001b[49m\u001b[43mlabeldistance\u001b[49m\u001b[43m=\u001b[49m\u001b[43mlabeldistance\u001b[49m\u001b[43m,\u001b[49m\n\u001b[32m   3815\u001b[39m \u001b[43m        \u001b[49m\u001b[43mstartangle\u001b[49m\u001b[43m=\u001b[49m\u001b[43mstartangle\u001b[49m\u001b[43m,\u001b[49m\n\u001b[32m   3816\u001b[39m \u001b[43m        \u001b[49m\u001b[43mradius\u001b[49m\u001b[43m=\u001b[49m\u001b[43mradius\u001b[49m\u001b[43m,\u001b[49m\n\u001b[32m   3817\u001b[39m \u001b[43m        \u001b[49m\u001b[43mcounterclock\u001b[49m\u001b[43m=\u001b[49m\u001b[43mcounterclock\u001b[49m\u001b[43m,\u001b[49m\n\u001b[32m   3818\u001b[39m \u001b[43m        \u001b[49m\u001b[43mwedgeprops\u001b[49m\u001b[43m=\u001b[49m\u001b[43mwedgeprops\u001b[49m\u001b[43m,\u001b[49m\n\u001b[32m   3819\u001b[39m \u001b[43m        \u001b[49m\u001b[43mtextprops\u001b[49m\u001b[43m=\u001b[49m\u001b[43mtextprops\u001b[49m\u001b[43m,\u001b[49m\n\u001b[32m   3820\u001b[39m \u001b[43m        \u001b[49m\u001b[43mcenter\u001b[49m\u001b[43m=\u001b[49m\u001b[43mcenter\u001b[49m\u001b[43m,\u001b[49m\n\u001b[32m   3821\u001b[39m \u001b[43m        \u001b[49m\u001b[43mframe\u001b[49m\u001b[43m=\u001b[49m\u001b[43mframe\u001b[49m\u001b[43m,\u001b[49m\n\u001b[32m   3822\u001b[39m \u001b[43m        \u001b[49m\u001b[43mrotatelabels\u001b[49m\u001b[43m=\u001b[49m\u001b[43mrotatelabels\u001b[49m\u001b[43m,\u001b[49m\n\u001b[32m   3823\u001b[39m \u001b[43m        \u001b[49m\u001b[43mnormalize\u001b[49m\u001b[43m=\u001b[49m\u001b[43mnormalize\u001b[49m\u001b[43m,\u001b[49m\n\u001b[32m   3824\u001b[39m \u001b[43m        \u001b[49m\u001b[43mhatch\u001b[49m\u001b[43m=\u001b[49m\u001b[43mhatch\u001b[49m\u001b[43m,\u001b[49m\n\u001b[32m   3825\u001b[39m \u001b[43m        \u001b[49m\u001b[43m*\u001b[49m\u001b[43m*\u001b[49m\u001b[43m(\u001b[49m\u001b[43m{\u001b[49m\u001b[33;43m\"\u001b[39;49m\u001b[33;43mdata\u001b[39;49m\u001b[33;43m\"\u001b[39;49m\u001b[43m:\u001b[49m\u001b[43m \u001b[49m\u001b[43mdata\u001b[49m\u001b[43m}\u001b[49m\u001b[43m \u001b[49m\u001b[38;5;28;43;01mif\u001b[39;49;00m\u001b[43m \u001b[49m\u001b[43mdata\u001b[49m\u001b[43m \u001b[49m\u001b[38;5;129;43;01mis\u001b[39;49;00m\u001b[43m \u001b[49m\u001b[38;5;129;43;01mnot\u001b[39;49;00m\u001b[43m \u001b[49m\u001b[38;5;28;43;01mNone\u001b[39;49;00m\u001b[43m \u001b[49m\u001b[38;5;28;43;01melse\u001b[39;49;00m\u001b[43m \u001b[49m\u001b[43m{\u001b[49m\u001b[43m}\u001b[49m\u001b[43m)\u001b[49m\u001b[43m,\u001b[49m\n\u001b[32m   3826\u001b[39m \u001b[43m    \u001b[49m\u001b[43m)\u001b[49m\n",
      "\u001b[36mFile \u001b[39m\u001b[32m~\\AppData\\Local\\Programs\\Python\\Python312\\Lib\\site-packages\\matplotlib\\_api\\deprecation.py:453\u001b[39m, in \u001b[36mmake_keyword_only.<locals>.wrapper\u001b[39m\u001b[34m(*args, **kwargs)\u001b[39m\n\u001b[32m    447\u001b[39m \u001b[38;5;28;01mif\u001b[39;00m \u001b[38;5;28mlen\u001b[39m(args) > name_idx:\n\u001b[32m    448\u001b[39m     warn_deprecated(\n\u001b[32m    449\u001b[39m         since, message=\u001b[33m\"\u001b[39m\u001b[33mPassing the \u001b[39m\u001b[38;5;132;01m%(name)s\u001b[39;00m\u001b[33m \u001b[39m\u001b[38;5;132;01m%(obj_type)s\u001b[39;00m\u001b[33m \u001b[39m\u001b[33m\"\u001b[39m\n\u001b[32m    450\u001b[39m         \u001b[33m\"\u001b[39m\u001b[33mpositionally is deprecated since Matplotlib \u001b[39m\u001b[38;5;132;01m%(since)s\u001b[39;00m\u001b[33m; the \u001b[39m\u001b[33m\"\u001b[39m\n\u001b[32m    451\u001b[39m         \u001b[33m\"\u001b[39m\u001b[33mparameter will become keyword-only in \u001b[39m\u001b[38;5;132;01m%(removal)s\u001b[39;00m\u001b[33m.\u001b[39m\u001b[33m\"\u001b[39m,\n\u001b[32m    452\u001b[39m         name=name, obj_type=\u001b[33mf\u001b[39m\u001b[33m\"\u001b[39m\u001b[33mparameter of \u001b[39m\u001b[38;5;132;01m{\u001b[39;00mfunc.\u001b[34m__name__\u001b[39m\u001b[38;5;132;01m}\u001b[39;00m\u001b[33m()\u001b[39m\u001b[33m\"\u001b[39m)\n\u001b[32m--> \u001b[39m\u001b[32m453\u001b[39m \u001b[38;5;28;01mreturn\u001b[39;00m \u001b[43mfunc\u001b[49m\u001b[43m(\u001b[49m\u001b[43m*\u001b[49m\u001b[43margs\u001b[49m\u001b[43m,\u001b[49m\u001b[43m \u001b[49m\u001b[43m*\u001b[49m\u001b[43m*\u001b[49m\u001b[43mkwargs\u001b[49m\u001b[43m)\u001b[49m\n",
      "\u001b[36mFile \u001b[39m\u001b[32m~\\AppData\\Local\\Programs\\Python\\Python312\\Lib\\site-packages\\matplotlib\\__init__.py:1524\u001b[39m, in \u001b[36m_preprocess_data.<locals>.inner\u001b[39m\u001b[34m(ax, data, *args, **kwargs)\u001b[39m\n\u001b[32m   1521\u001b[39m \u001b[38;5;129m@functools\u001b[39m.wraps(func)\n\u001b[32m   1522\u001b[39m \u001b[38;5;28;01mdef\u001b[39;00m\u001b[38;5;250m \u001b[39m\u001b[34minner\u001b[39m(ax, *args, data=\u001b[38;5;28;01mNone\u001b[39;00m, **kwargs):\n\u001b[32m   1523\u001b[39m     \u001b[38;5;28;01mif\u001b[39;00m data \u001b[38;5;129;01mis\u001b[39;00m \u001b[38;5;28;01mNone\u001b[39;00m:\n\u001b[32m-> \u001b[39m\u001b[32m1524\u001b[39m         \u001b[38;5;28;01mreturn\u001b[39;00m \u001b[43mfunc\u001b[49m\u001b[43m(\u001b[49m\n\u001b[32m   1525\u001b[39m \u001b[43m            \u001b[49m\u001b[43max\u001b[49m\u001b[43m,\u001b[49m\n\u001b[32m   1526\u001b[39m \u001b[43m            \u001b[49m\u001b[43m*\u001b[49m\u001b[38;5;28;43mmap\u001b[39;49m\u001b[43m(\u001b[49m\u001b[43mcbook\u001b[49m\u001b[43m.\u001b[49m\u001b[43msanitize_sequence\u001b[49m\u001b[43m,\u001b[49m\u001b[43m \u001b[49m\u001b[43margs\u001b[49m\u001b[43m)\u001b[49m\u001b[43m,\u001b[49m\n\u001b[32m   1527\u001b[39m \u001b[43m            \u001b[49m\u001b[43m*\u001b[49m\u001b[43m*\u001b[49m\u001b[43m{\u001b[49m\u001b[43mk\u001b[49m\u001b[43m:\u001b[49m\u001b[43m \u001b[49m\u001b[43mcbook\u001b[49m\u001b[43m.\u001b[49m\u001b[43msanitize_sequence\u001b[49m\u001b[43m(\u001b[49m\u001b[43mv\u001b[49m\u001b[43m)\u001b[49m\u001b[43m \u001b[49m\u001b[38;5;28;43;01mfor\u001b[39;49;00m\u001b[43m \u001b[49m\u001b[43mk\u001b[49m\u001b[43m,\u001b[49m\u001b[43m \u001b[49m\u001b[43mv\u001b[49m\u001b[43m \u001b[49m\u001b[38;5;129;43;01min\u001b[39;49;00m\u001b[43m \u001b[49m\u001b[43mkwargs\u001b[49m\u001b[43m.\u001b[49m\u001b[43mitems\u001b[49m\u001b[43m(\u001b[49m\u001b[43m)\u001b[49m\u001b[43m}\u001b[49m\u001b[43m)\u001b[49m\n\u001b[32m   1529\u001b[39m     bound = new_sig.bind(ax, *args, **kwargs)\n\u001b[32m   1530\u001b[39m     auto_label = (bound.arguments.get(label_namer)\n\u001b[32m   1531\u001b[39m                   \u001b[38;5;129;01mor\u001b[39;00m bound.kwargs.get(label_namer))\n",
      "\u001b[36mFile \u001b[39m\u001b[32m~\\AppData\\Local\\Programs\\Python\\Python312\\Lib\\site-packages\\matplotlib\\axes\\_axes.py:3412\u001b[39m, in \u001b[36mAxes.pie\u001b[39m\u001b[34m(self, x, explode, labels, colors, autopct, pctdistance, shadow, labeldistance, startangle, radius, counterclock, wedgeprops, textprops, center, frame, rotatelabels, normalize, hatch)\u001b[39m\n\u001b[32m   3409\u001b[39m x += expl * math.cos(thetam)\n\u001b[32m   3410\u001b[39m y += expl * math.sin(thetam)\n\u001b[32m-> \u001b[39m\u001b[32m3412\u001b[39m w = \u001b[43mmpatches\u001b[49m\u001b[43m.\u001b[49m\u001b[43mWedge\u001b[49m\u001b[43m(\u001b[49m\u001b[43m(\u001b[49m\u001b[43mx\u001b[49m\u001b[43m,\u001b[49m\u001b[43m \u001b[49m\u001b[43my\u001b[49m\u001b[43m)\u001b[49m\u001b[43m,\u001b[49m\u001b[43m \u001b[49m\u001b[43mradius\u001b[49m\u001b[43m,\u001b[49m\u001b[43m \u001b[49m\u001b[32;43m360.\u001b[39;49m\u001b[43m \u001b[49m\u001b[43m*\u001b[49m\u001b[43m \u001b[49m\u001b[38;5;28;43mmin\u001b[39;49m\u001b[43m(\u001b[49m\u001b[43mtheta1\u001b[49m\u001b[43m,\u001b[49m\u001b[43m \u001b[49m\u001b[43mtheta2\u001b[49m\u001b[43m)\u001b[49m\u001b[43m,\u001b[49m\n\u001b[32m   3413\u001b[39m \u001b[43m                   \u001b[49m\u001b[32;43m360.\u001b[39;49m\u001b[43m \u001b[49m\u001b[43m*\u001b[49m\u001b[43m \u001b[49m\u001b[38;5;28;43mmax\u001b[39;49m\u001b[43m(\u001b[49m\u001b[43mtheta1\u001b[49m\u001b[43m,\u001b[49m\u001b[43m \u001b[49m\u001b[43mtheta2\u001b[49m\u001b[43m)\u001b[49m\u001b[43m,\u001b[49m\n\u001b[32m   3414\u001b[39m \u001b[43m                   \u001b[49m\u001b[43mfacecolor\u001b[49m\u001b[43m=\u001b[49m\u001b[43mget_next_color\u001b[49m\u001b[43m(\u001b[49m\u001b[43m)\u001b[49m\u001b[43m,\u001b[49m\n\u001b[32m   3415\u001b[39m \u001b[43m                   \u001b[49m\u001b[43mhatch\u001b[49m\u001b[43m=\u001b[49m\u001b[38;5;28;43mnext\u001b[39;49m\u001b[43m(\u001b[49m\u001b[43mhatch_cycle\u001b[49m\u001b[43m)\u001b[49m\u001b[43m,\u001b[49m\n\u001b[32m   3416\u001b[39m \u001b[43m                   \u001b[49m\u001b[43mclip_on\u001b[49m\u001b[43m=\u001b[49m\u001b[38;5;28;43;01mFalse\u001b[39;49;00m\u001b[43m,\u001b[49m\n\u001b[32m   3417\u001b[39m \u001b[43m                   \u001b[49m\u001b[43mlabel\u001b[49m\u001b[43m=\u001b[49m\u001b[43mlabel\u001b[49m\u001b[43m)\u001b[49m\n\u001b[32m   3418\u001b[39m w.set(**wedgeprops)\n\u001b[32m   3419\u001b[39m slices.append(w)\n",
      "\u001b[36mFile \u001b[39m\u001b[32m~\\AppData\\Local\\Programs\\Python\\Python312\\Lib\\site-packages\\matplotlib\\patches.py:1252\u001b[39m, in \u001b[36mWedge.__init__\u001b[39m\u001b[34m(self, center, r, theta1, theta2, width, **kwargs)\u001b[39m\n\u001b[32m   1250\u001b[39m \u001b[38;5;28mself\u001b[39m.theta1, \u001b[38;5;28mself\u001b[39m.theta2 = theta1, theta2\n\u001b[32m   1251\u001b[39m \u001b[38;5;28mself\u001b[39m._patch_transform = transforms.IdentityTransform()\n\u001b[32m-> \u001b[39m\u001b[32m1252\u001b[39m \u001b[38;5;28;43mself\u001b[39;49m\u001b[43m.\u001b[49m\u001b[43m_recompute_path\u001b[49m\u001b[43m(\u001b[49m\u001b[43m)\u001b[49m\n",
      "\u001b[36mFile \u001b[39m\u001b[32m~\\AppData\\Local\\Programs\\Python\\Python312\\Lib\\site-packages\\matplotlib\\patches.py:1264\u001b[39m, in \u001b[36mWedge._recompute_path\u001b[39m\u001b[34m(self)\u001b[39m\n\u001b[32m   1261\u001b[39m     connector = Path.LINETO\n\u001b[32m   1263\u001b[39m \u001b[38;5;66;03m# Form the outer ring\u001b[39;00m\n\u001b[32m-> \u001b[39m\u001b[32m1264\u001b[39m arc = \u001b[43mPath\u001b[49m\u001b[43m.\u001b[49m\u001b[43marc\u001b[49m\u001b[43m(\u001b[49m\u001b[43mtheta1\u001b[49m\u001b[43m,\u001b[49m\u001b[43m \u001b[49m\u001b[43mtheta2\u001b[49m\u001b[43m)\u001b[49m\n\u001b[32m   1266\u001b[39m \u001b[38;5;28;01mif\u001b[39;00m \u001b[38;5;28mself\u001b[39m.width \u001b[38;5;129;01mis\u001b[39;00m \u001b[38;5;129;01mnot\u001b[39;00m \u001b[38;5;28;01mNone\u001b[39;00m:\n\u001b[32m   1267\u001b[39m     \u001b[38;5;66;03m# Partial annulus needs to draw the outer ring\u001b[39;00m\n\u001b[32m   1268\u001b[39m     \u001b[38;5;66;03m# followed by a reversed and scaled inner ring\u001b[39;00m\n\u001b[32m   1269\u001b[39m     v1 = arc.vertices\n",
      "\u001b[36mFile \u001b[39m\u001b[32m~\\AppData\\Local\\Programs\\Python\\Python312\\Lib\\site-packages\\matplotlib\\path.py:1002\u001b[39m, in \u001b[36mPath.arc\u001b[39m\u001b[34m(cls, theta1, theta2, n, is_wedge)\u001b[39m\n\u001b[32m   1000\u001b[39m \u001b[38;5;66;03m# number of curve segments to make\u001b[39;00m\n\u001b[32m   1001\u001b[39m \u001b[38;5;28;01mif\u001b[39;00m n \u001b[38;5;129;01mis\u001b[39;00m \u001b[38;5;28;01mNone\u001b[39;00m:\n\u001b[32m-> \u001b[39m\u001b[32m1002\u001b[39m     n = \u001b[38;5;28;43mint\u001b[39;49m\u001b[43m(\u001b[49m\u001b[32;43m2\u001b[39;49m\u001b[43m \u001b[49m\u001b[43m*\u001b[49m\u001b[43m*\u001b[49m\u001b[43m \u001b[49m\u001b[43mnp\u001b[49m\u001b[43m.\u001b[49m\u001b[43mceil\u001b[49m\u001b[43m(\u001b[49m\u001b[43m(\u001b[49m\u001b[43meta2\u001b[49m\u001b[43m \u001b[49m\u001b[43m-\u001b[49m\u001b[43m \u001b[49m\u001b[43meta1\u001b[49m\u001b[43m)\u001b[49m\u001b[43m \u001b[49m\u001b[43m/\u001b[49m\u001b[43m \u001b[49m\u001b[43mhalfpi\u001b[49m\u001b[43m)\u001b[49m\u001b[43m)\u001b[49m\n\u001b[32m   1003\u001b[39m \u001b[38;5;28;01mif\u001b[39;00m n < \u001b[32m1\u001b[39m:\n\u001b[32m   1004\u001b[39m     \u001b[38;5;28;01mraise\u001b[39;00m \u001b[38;5;167;01mValueError\u001b[39;00m(\u001b[33m\"\u001b[39m\u001b[33mn must be >= 1 or None\u001b[39m\u001b[33m\"\u001b[39m)\n",
      "\u001b[31mValueError\u001b[39m: cannot convert float NaN to integer"
     ]
    },
    {
     "ename": "ValueError",
     "evalue": "need at least one array to concatenate",
     "output_type": "error",
     "traceback": [
      "\u001b[31m---------------------------------------------------------------------------\u001b[39m",
      "\u001b[31mValueError\u001b[39m                                Traceback (most recent call last)",
      "\u001b[36mFile \u001b[39m\u001b[32m~\\AppData\\Local\\Programs\\Python\\Python312\\Lib\\site-packages\\IPython\\core\\formatters.py:402\u001b[39m, in \u001b[36mBaseFormatter.__call__\u001b[39m\u001b[34m(self, obj)\u001b[39m\n\u001b[32m    400\u001b[39m     \u001b[38;5;28;01mpass\u001b[39;00m\n\u001b[32m    401\u001b[39m \u001b[38;5;28;01melse\u001b[39;00m:\n\u001b[32m--> \u001b[39m\u001b[32m402\u001b[39m     \u001b[38;5;28;01mreturn\u001b[39;00m \u001b[43mprinter\u001b[49m\u001b[43m(\u001b[49m\u001b[43mobj\u001b[49m\u001b[43m)\u001b[49m\n\u001b[32m    403\u001b[39m \u001b[38;5;66;03m# Finally look for special method names\u001b[39;00m\n\u001b[32m    404\u001b[39m method = get_real_method(obj, \u001b[38;5;28mself\u001b[39m.print_method)\n",
      "\u001b[36mFile \u001b[39m\u001b[32m~\\AppData\\Local\\Programs\\Python\\Python312\\Lib\\site-packages\\IPython\\core\\pylabtools.py:170\u001b[39m, in \u001b[36mprint_figure\u001b[39m\u001b[34m(fig, fmt, bbox_inches, base64, **kwargs)\u001b[39m\n\u001b[32m    167\u001b[39m     \u001b[38;5;28;01mfrom\u001b[39;00m\u001b[38;5;250m \u001b[39m\u001b[34;01mmatplotlib\u001b[39;00m\u001b[34;01m.\u001b[39;00m\u001b[34;01mbackend_bases\u001b[39;00m\u001b[38;5;250m \u001b[39m\u001b[38;5;28;01mimport\u001b[39;00m FigureCanvasBase\n\u001b[32m    168\u001b[39m     FigureCanvasBase(fig)\n\u001b[32m--> \u001b[39m\u001b[32m170\u001b[39m \u001b[43mfig\u001b[49m\u001b[43m.\u001b[49m\u001b[43mcanvas\u001b[49m\u001b[43m.\u001b[49m\u001b[43mprint_figure\u001b[49m\u001b[43m(\u001b[49m\u001b[43mbytes_io\u001b[49m\u001b[43m,\u001b[49m\u001b[43m \u001b[49m\u001b[43m*\u001b[49m\u001b[43m*\u001b[49m\u001b[43mkw\u001b[49m\u001b[43m)\u001b[49m\n\u001b[32m    171\u001b[39m data = bytes_io.getvalue()\n\u001b[32m    172\u001b[39m \u001b[38;5;28;01mif\u001b[39;00m fmt == \u001b[33m'\u001b[39m\u001b[33msvg\u001b[39m\u001b[33m'\u001b[39m:\n",
      "\u001b[36mFile \u001b[39m\u001b[32m~\\AppData\\Local\\Programs\\Python\\Python312\\Lib\\site-packages\\matplotlib\\backend_bases.py:2160\u001b[39m, in \u001b[36mFigureCanvasBase.print_figure\u001b[39m\u001b[34m(self, filename, dpi, facecolor, edgecolor, orientation, format, bbox_inches, pad_inches, bbox_extra_artists, backend, **kwargs)\u001b[39m\n\u001b[32m   2158\u001b[39m \u001b[38;5;28;01mif\u001b[39;00m bbox_inches:\n\u001b[32m   2159\u001b[39m     \u001b[38;5;28;01mif\u001b[39;00m bbox_inches == \u001b[33m\"\u001b[39m\u001b[33mtight\u001b[39m\u001b[33m\"\u001b[39m:\n\u001b[32m-> \u001b[39m\u001b[32m2160\u001b[39m         bbox_inches = \u001b[38;5;28;43mself\u001b[39;49m\u001b[43m.\u001b[49m\u001b[43mfigure\u001b[49m\u001b[43m.\u001b[49m\u001b[43mget_tightbbox\u001b[49m\u001b[43m(\u001b[49m\n\u001b[32m   2161\u001b[39m \u001b[43m            \u001b[49m\u001b[43mrenderer\u001b[49m\u001b[43m,\u001b[49m\u001b[43m \u001b[49m\u001b[43mbbox_extra_artists\u001b[49m\u001b[43m=\u001b[49m\u001b[43mbbox_extra_artists\u001b[49m\u001b[43m)\u001b[49m\n\u001b[32m   2162\u001b[39m         \u001b[38;5;28;01mif\u001b[39;00m (\u001b[38;5;28misinstance\u001b[39m(layout_engine, ConstrainedLayoutEngine) \u001b[38;5;129;01mand\u001b[39;00m\n\u001b[32m   2163\u001b[39m                 pad_inches == \u001b[33m\"\u001b[39m\u001b[33mlayout\u001b[39m\u001b[33m\"\u001b[39m):\n\u001b[32m   2164\u001b[39m             h_pad = layout_engine.get()[\u001b[33m\"\u001b[39m\u001b[33mh_pad\u001b[39m\u001b[33m\"\u001b[39m]\n",
      "\u001b[36mFile \u001b[39m\u001b[32m~\\AppData\\Local\\Programs\\Python\\Python312\\Lib\\site-packages\\matplotlib\\figure.py:1848\u001b[39m, in \u001b[36mFigureBase.get_tightbbox\u001b[39m\u001b[34m(self, renderer, bbox_extra_artists)\u001b[39m\n\u001b[32m   1844\u001b[39m \u001b[38;5;28;01mif\u001b[39;00m ax.get_visible():\n\u001b[32m   1845\u001b[39m     \u001b[38;5;66;03m# some Axes don't take the bbox_extra_artists kwarg so we\u001b[39;00m\n\u001b[32m   1846\u001b[39m     \u001b[38;5;66;03m# need this conditional....\u001b[39;00m\n\u001b[32m   1847\u001b[39m     \u001b[38;5;28;01mtry\u001b[39;00m:\n\u001b[32m-> \u001b[39m\u001b[32m1848\u001b[39m         bbox = \u001b[43max\u001b[49m\u001b[43m.\u001b[49m\u001b[43mget_tightbbox\u001b[49m\u001b[43m(\u001b[49m\n\u001b[32m   1849\u001b[39m \u001b[43m            \u001b[49m\u001b[43mrenderer\u001b[49m\u001b[43m,\u001b[49m\u001b[43m \u001b[49m\u001b[43mbbox_extra_artists\u001b[49m\u001b[43m=\u001b[49m\u001b[43mbbox_extra_artists\u001b[49m\u001b[43m)\u001b[49m\n\u001b[32m   1850\u001b[39m     \u001b[38;5;28;01mexcept\u001b[39;00m \u001b[38;5;167;01mTypeError\u001b[39;00m:\n\u001b[32m   1851\u001b[39m         bbox = ax.get_tightbbox(renderer)\n",
      "\u001b[36mFile \u001b[39m\u001b[32m~\\AppData\\Local\\Programs\\Python\\Python312\\Lib\\site-packages\\matplotlib\\axes\\_base.py:4587\u001b[39m, in \u001b[36m_AxesBase.get_tightbbox\u001b[39m\u001b[34m(self, renderer, call_axes_locator, bbox_extra_artists, for_layout_only)\u001b[39m\n\u001b[32m   4584\u001b[39m     bbox_artists = \u001b[38;5;28mself\u001b[39m.get_default_bbox_extra_artists()\n\u001b[32m   4586\u001b[39m \u001b[38;5;28;01mfor\u001b[39;00m a \u001b[38;5;129;01min\u001b[39;00m bbox_artists:\n\u001b[32m-> \u001b[39m\u001b[32m4587\u001b[39m     bbox = \u001b[43ma\u001b[49m\u001b[43m.\u001b[49m\u001b[43mget_tightbbox\u001b[49m\u001b[43m(\u001b[49m\u001b[43mrenderer\u001b[49m\u001b[43m)\u001b[49m\n\u001b[32m   4588\u001b[39m     \u001b[38;5;28;01mif\u001b[39;00m (bbox \u001b[38;5;129;01mis\u001b[39;00m \u001b[38;5;129;01mnot\u001b[39;00m \u001b[38;5;28;01mNone\u001b[39;00m\n\u001b[32m   4589\u001b[39m             \u001b[38;5;129;01mand\u001b[39;00m \u001b[32m0\u001b[39m < bbox.width < np.inf\n\u001b[32m   4590\u001b[39m             \u001b[38;5;129;01mand\u001b[39;00m \u001b[32m0\u001b[39m < bbox.height < np.inf):\n\u001b[32m   4591\u001b[39m         bb.append(bbox)\n",
      "\u001b[36mFile \u001b[39m\u001b[32m~\\AppData\\Local\\Programs\\Python\\Python312\\Lib\\site-packages\\matplotlib\\artist.py:364\u001b[39m, in \u001b[36mArtist.get_tightbbox\u001b[39m\u001b[34m(self, renderer)\u001b[39m\n\u001b[32m    348\u001b[39m \u001b[38;5;28;01mdef\u001b[39;00m\u001b[38;5;250m \u001b[39m\u001b[34mget_tightbbox\u001b[39m(\u001b[38;5;28mself\u001b[39m, renderer=\u001b[38;5;28;01mNone\u001b[39;00m):\n\u001b[32m    349\u001b[39m \u001b[38;5;250m    \u001b[39m\u001b[33;03m\"\"\"\u001b[39;00m\n\u001b[32m    350\u001b[39m \u001b[33;03m    Like `.Artist.get_window_extent`, but includes any clipping.\u001b[39;00m\n\u001b[32m    351\u001b[39m \n\u001b[32m   (...)\u001b[39m\u001b[32m    362\u001b[39m \u001b[33;03m        Returns None if clipping results in no intersection.\u001b[39;00m\n\u001b[32m    363\u001b[39m \u001b[33;03m    \"\"\"\u001b[39;00m\n\u001b[32m--> \u001b[39m\u001b[32m364\u001b[39m     bbox = \u001b[38;5;28;43mself\u001b[39;49m\u001b[43m.\u001b[49m\u001b[43mget_window_extent\u001b[49m\u001b[43m(\u001b[49m\u001b[43mrenderer\u001b[49m\u001b[43m)\u001b[49m\n\u001b[32m    365\u001b[39m     \u001b[38;5;28;01mif\u001b[39;00m \u001b[38;5;28mself\u001b[39m.get_clip_on():\n\u001b[32m    366\u001b[39m         clip_box = \u001b[38;5;28mself\u001b[39m.get_clip_box()\n",
      "\u001b[36mFile \u001b[39m\u001b[32m~\\AppData\\Local\\Programs\\Python\\Python312\\Lib\\site-packages\\matplotlib\\patches.py:655\u001b[39m, in \u001b[36mPatch.get_window_extent\u001b[39m\u001b[34m(self, renderer)\u001b[39m\n\u001b[32m    654\u001b[39m \u001b[38;5;28;01mdef\u001b[39;00m\u001b[38;5;250m \u001b[39m\u001b[34mget_window_extent\u001b[39m(\u001b[38;5;28mself\u001b[39m, renderer=\u001b[38;5;28;01mNone\u001b[39;00m):\n\u001b[32m--> \u001b[39m\u001b[32m655\u001b[39m     \u001b[38;5;28;01mreturn\u001b[39;00m \u001b[38;5;28;43mself\u001b[39;49m\u001b[43m.\u001b[49m\u001b[43mget_path\u001b[49m\u001b[43m(\u001b[49m\u001b[43m)\u001b[49m\u001b[43m.\u001b[49m\u001b[43mget_extents\u001b[49m\u001b[43m(\u001b[49m\u001b[38;5;28;43mself\u001b[39;49m\u001b[43m.\u001b[49m\u001b[43mget_transform\u001b[49m\u001b[43m(\u001b[49m\u001b[43m)\u001b[49m\u001b[43m)\u001b[49m\n",
      "\u001b[36mFile \u001b[39m\u001b[32m~\\AppData\\Local\\Programs\\Python\\Python312\\Lib\\site-packages\\matplotlib\\path.py:662\u001b[39m, in \u001b[36mPath.get_extents\u001b[39m\u001b[34m(self, transform, **kwargs)\u001b[39m\n\u001b[32m    660\u001b[39m         \u001b[38;5;66;03m# as can the ends of the curve\u001b[39;00m\n\u001b[32m    661\u001b[39m         xys.append(curve([\u001b[32m0\u001b[39m, *dzeros, \u001b[32m1\u001b[39m]))\n\u001b[32m--> \u001b[39m\u001b[32m662\u001b[39m     xys = \u001b[43mnp\u001b[49m\u001b[43m.\u001b[49m\u001b[43mconcatenate\u001b[49m\u001b[43m(\u001b[49m\u001b[43mxys\u001b[49m\u001b[43m)\u001b[49m\n\u001b[32m    663\u001b[39m \u001b[38;5;28;01mif\u001b[39;00m \u001b[38;5;28mlen\u001b[39m(xys):\n\u001b[32m    664\u001b[39m     \u001b[38;5;28;01mreturn\u001b[39;00m Bbox([xys.min(axis=\u001b[32m0\u001b[39m), xys.max(axis=\u001b[32m0\u001b[39m)])\n",
      "\u001b[31mValueError\u001b[39m: need at least one array to concatenate"
     ]
    },
    {
     "data": {
      "text/plain": [
       "<Figure size 640x480 with 1 Axes>"
      ]
     },
     "metadata": {},
     "output_type": "display_data"
    }
   ],
   "source": [
    "severity_counts = shropshire_df['Accident_Severity'].value_counts()\n",
    "\n",
    "plt.pie(severity_counts,\n",
    "        labels = severity_counts.index,\n",
    "        autopct = '%1.1f%%',\n",
    "        startangle = 90)\n",
    "plt.gcf().set_size_inches(10,7)\n",
    "plt.title('Accident Severity Distribution')\n",
    "plt.show()\n",
    "\n",
    "severity_2019 = shropshire_df[shropshire_df['Year'] == 2019]\n",
    "# severity_2019\n",
    "sc_2019 = severity_2019['Accident_Severity'].value_counts()\n",
    "\n",
    "plt.pie(sc_2019,\n",
    "        labels = sc_2019.index,\n",
    "        autopct = '%1.1f%%',\n",
    "        startangle = 90)\n",
    "plt.gcf().set_size_inches(10,7)\n",
    "plt.title('Accident Severity Distribution')\n",
    "plt.show()"
   ]
  },
  {
   "cell_type": "markdown",
   "id": "28b1e11a-48b4-4ea8-a5bb-1eb3f4624117",
   "metadata": {},
   "source": [
    "<h1>Insight of Shropshire</h1>"
   ]
  },
  {
   "cell_type": "markdown",
   "id": "74a248e2-9a98-431a-a41a-a43033035b89",
   "metadata": {},
   "source": [
    "<h1>Insights 1</h1>"
   ]
  },
  {
   "cell_type": "markdown",
   "id": "4b9be51b-a722-4e7f-90bd-bd33d30bb493",
   "metadata": {},
   "source": [
    "<h1>Based on the line graph, the number of road accidents in 2020 increased compared to 2019.</h1>"
   ]
  },
  {
   "cell_type": "markdown",
   "id": "44240a53-3f9d-42f6-be4d-74036975bd7c",
   "metadata": {},
   "source": [
    "<h1>Insights 2</h1>"
   ]
  },
  {
   "cell_type": "markdown",
   "id": "a5824f32-c765-4138-8832-b7d7032595e3",
   "metadata": {},
   "source": [
    "<h1>Based on the line graph, road accidents increase sharply from July-August across most years. To be exact August 2019 was the highest across all years. While early 2022 (January) recorded the lowest counts of road accidents.</h1>"
   ]
  },
  {
   "cell_type": "markdown",
   "id": "a305272f-9f1b-4067-ba89-bd42a44790d4",
   "metadata": {},
   "source": [
    "<h1>Insights 3</h1>"
   ]
  },
  {
   "cell_type": "markdown",
   "id": "a758dc2b-ab2f-45b2-b917-d5a64ef017e0",
   "metadata": {},
   "source": [
    "<h1>Based on the bar graph for accident per year, accidents in Liverpool declined from 2019 to 2021. However, there was a slight increase in 2022. And according to the chart of accidents per month, July and AAugust records the highest numbers of road accidents, while during January to March have the lowest accidents. We can also see on the weekly accident graph that the road accidents are most common/higher during Saturdays and the other days are also equal accident.\n",
    "</h1>"
   ]
  },
  {
   "cell_type": "code",
   "execution_count": null,
   "id": "8cc97a6d-4ab3-42b3-af41-5b8c21633328",
   "metadata": {},
   "outputs": [],
   "source": []
  }
 ],
 "metadata": {
  "kernelspec": {
   "display_name": "Python 3 (ipykernel)",
   "language": "python",
   "name": "python3"
  },
  "language_info": {
   "codemirror_mode": {
    "name": "ipython",
    "version": 3
   },
   "file_extension": ".py",
   "mimetype": "text/x-python",
   "name": "python",
   "nbconvert_exporter": "python",
   "pygments_lexer": "ipython3",
   "version": "3.12.6"
  }
 },
 "nbformat": 4,
 "nbformat_minor": 5
}
