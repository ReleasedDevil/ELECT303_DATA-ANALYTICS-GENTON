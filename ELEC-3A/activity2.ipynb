{
 "cells": [
  {
   "cell_type": "markdown",
   "id": "14e25283-edf5-4822-b3d1-1371bb0a7ca3",
   "metadata": {},
   "source": [
    "<h1>Lester Genton </h1>"
   ]
  },
  {
   "cell_type": "markdown",
   "id": "db398879-fa8a-456f-81dc-2235f135bb3b",
   "metadata": {},
   "source": [
    "<h1>BSIT 3A</h1>"
   ]
  },
  {
   "cell_type": "code",
   "execution_count": 1,
   "id": "5259c861-5cb6-4c16-b750-04a913010a24",
   "metadata": {},
   "outputs": [],
   "source": [
    "import pandas as pd\n",
    "import numpy as np\n",
    "import warnings\n",
    "warnings.filterwarnings('ignore')"
   ]
  },
  {
   "cell_type": "code",
   "execution_count": 2,
   "id": "60973493-4cc6-44cf-94d5-ee680922ea7c",
   "metadata": {},
   "outputs": [],
   "source": [
    "accident = pd.read_csv('datasets//uk_road_accident.csv')\n"
   ]
  },
  {
   "cell_type": "code",
   "execution_count": 3,
   "id": "f62489e4-cf4f-48d7-9965-12f8cd75ab3c",
   "metadata": {},
   "outputs": [
    {
     "data": {
      "text/html": [
       "<div>\n",
       "<style scoped>\n",
       "    .dataframe tbody tr th:only-of-type {\n",
       "        vertical-align: middle;\n",
       "    }\n",
       "\n",
       "    .dataframe tbody tr th {\n",
       "        vertical-align: top;\n",
       "    }\n",
       "\n",
       "    .dataframe thead th {\n",
       "        text-align: right;\n",
       "    }\n",
       "</style>\n",
       "<table border=\"1\" class=\"dataframe\">\n",
       "  <thead>\n",
       "    <tr style=\"text-align: right;\">\n",
       "      <th></th>\n",
       "      <th>Index</th>\n",
       "      <th>Accident_Severity</th>\n",
       "      <th>Accident Date</th>\n",
       "      <th>Latitude</th>\n",
       "      <th>Light_Conditions</th>\n",
       "      <th>District Area</th>\n",
       "      <th>Longitude</th>\n",
       "      <th>Number_of_Casualties</th>\n",
       "      <th>Number_of_Vehicles</th>\n",
       "      <th>Road_Surface_Conditions</th>\n",
       "      <th>Road_Type</th>\n",
       "      <th>Urban_or_Rural_Area</th>\n",
       "      <th>Weather_Conditions</th>\n",
       "      <th>Vehicle_Type</th>\n",
       "    </tr>\n",
       "  </thead>\n",
       "  <tbody>\n",
       "    <tr>\n",
       "      <th>0</th>\n",
       "      <td>200701BS64157</td>\n",
       "      <td>Serious</td>\n",
       "      <td>5/6/2019</td>\n",
       "      <td>51.506187</td>\n",
       "      <td>Darkness - lights lit</td>\n",
       "      <td>Kensington and Chelsea</td>\n",
       "      <td>-0.209082</td>\n",
       "      <td>1</td>\n",
       "      <td>2</td>\n",
       "      <td>Dry</td>\n",
       "      <td>Single carriageway</td>\n",
       "      <td>Urban</td>\n",
       "      <td>Fine no high winds</td>\n",
       "      <td>Car</td>\n",
       "    </tr>\n",
       "    <tr>\n",
       "      <th>1</th>\n",
       "      <td>200701BS65737</td>\n",
       "      <td>Serious</td>\n",
       "      <td>2/7/2019</td>\n",
       "      <td>51.495029</td>\n",
       "      <td>Daylight</td>\n",
       "      <td>Kensington and Chelsea</td>\n",
       "      <td>-0.173647</td>\n",
       "      <td>1</td>\n",
       "      <td>2</td>\n",
       "      <td>Wet or damp</td>\n",
       "      <td>Single carriageway</td>\n",
       "      <td>Urban</td>\n",
       "      <td>Raining no high winds</td>\n",
       "      <td>Car</td>\n",
       "    </tr>\n",
       "    <tr>\n",
       "      <th>2</th>\n",
       "      <td>200701BS66127</td>\n",
       "      <td>Serious</td>\n",
       "      <td>26-08-2019</td>\n",
       "      <td>51.517715</td>\n",
       "      <td>Darkness - lighting unknown</td>\n",
       "      <td>Kensington and Chelsea</td>\n",
       "      <td>-0.210215</td>\n",
       "      <td>1</td>\n",
       "      <td>3</td>\n",
       "      <td>Dry</td>\n",
       "      <td>NaN</td>\n",
       "      <td>Urban</td>\n",
       "      <td>NaN</td>\n",
       "      <td>Taxi/Private hire car</td>\n",
       "    </tr>\n",
       "    <tr>\n",
       "      <th>3</th>\n",
       "      <td>200701BS66128</td>\n",
       "      <td>Serious</td>\n",
       "      <td>16-08-2019</td>\n",
       "      <td>51.495478</td>\n",
       "      <td>Daylight</td>\n",
       "      <td>Kensington and Chelsea</td>\n",
       "      <td>-0.202731</td>\n",
       "      <td>1</td>\n",
       "      <td>4</td>\n",
       "      <td>Dry</td>\n",
       "      <td>Single carriageway</td>\n",
       "      <td>Urban</td>\n",
       "      <td>Fine no high winds</td>\n",
       "      <td>Bus or coach (17 or more pass seats)</td>\n",
       "    </tr>\n",
       "    <tr>\n",
       "      <th>4</th>\n",
       "      <td>200701BS66837</td>\n",
       "      <td>Slight</td>\n",
       "      <td>3/9/2019</td>\n",
       "      <td>51.488576</td>\n",
       "      <td>Darkness - lights lit</td>\n",
       "      <td>Kensington and Chelsea</td>\n",
       "      <td>-0.192487</td>\n",
       "      <td>1</td>\n",
       "      <td>2</td>\n",
       "      <td>Dry</td>\n",
       "      <td>NaN</td>\n",
       "      <td>Urban</td>\n",
       "      <td>NaN</td>\n",
       "      <td>Other vehicle</td>\n",
       "    </tr>\n",
       "    <tr>\n",
       "      <th>...</th>\n",
       "      <td>...</td>\n",
       "      <td>...</td>\n",
       "      <td>...</td>\n",
       "      <td>...</td>\n",
       "      <td>...</td>\n",
       "      <td>...</td>\n",
       "      <td>...</td>\n",
       "      <td>...</td>\n",
       "      <td>...</td>\n",
       "      <td>...</td>\n",
       "      <td>...</td>\n",
       "      <td>...</td>\n",
       "      <td>...</td>\n",
       "      <td>...</td>\n",
       "    </tr>\n",
       "    <tr>\n",
       "      <th>660674</th>\n",
       "      <td>201091NM01760</td>\n",
       "      <td>Slight</td>\n",
       "      <td>18-02-2022</td>\n",
       "      <td>57.374005</td>\n",
       "      <td>Daylight</td>\n",
       "      <td>Highland</td>\n",
       "      <td>-3.467828</td>\n",
       "      <td>2</td>\n",
       "      <td>1</td>\n",
       "      <td>Dry</td>\n",
       "      <td>Single carriageway</td>\n",
       "      <td>Rural</td>\n",
       "      <td>Fine no high winds</td>\n",
       "      <td>Car</td>\n",
       "    </tr>\n",
       "    <tr>\n",
       "      <th>660675</th>\n",
       "      <td>201091NM01881</td>\n",
       "      <td>Slight</td>\n",
       "      <td>21-02-2022</td>\n",
       "      <td>57.232273</td>\n",
       "      <td>Darkness - no lighting</td>\n",
       "      <td>Highland</td>\n",
       "      <td>-3.809281</td>\n",
       "      <td>1</td>\n",
       "      <td>1</td>\n",
       "      <td>Frost or ice</td>\n",
       "      <td>Single carriageway</td>\n",
       "      <td>Rural</td>\n",
       "      <td>Fine no high winds</td>\n",
       "      <td>Car</td>\n",
       "    </tr>\n",
       "    <tr>\n",
       "      <th>660676</th>\n",
       "      <td>201091NM01935</td>\n",
       "      <td>Slight</td>\n",
       "      <td>23-02-2022</td>\n",
       "      <td>57.585044</td>\n",
       "      <td>Daylight</td>\n",
       "      <td>Highland</td>\n",
       "      <td>-3.862727</td>\n",
       "      <td>1</td>\n",
       "      <td>3</td>\n",
       "      <td>Frost or ice</td>\n",
       "      <td>Single carriageway</td>\n",
       "      <td>Rural</td>\n",
       "      <td>Fine no high winds</td>\n",
       "      <td>Car</td>\n",
       "    </tr>\n",
       "    <tr>\n",
       "      <th>660677</th>\n",
       "      <td>201091NM01964</td>\n",
       "      <td>Serious</td>\n",
       "      <td>23-02-2022</td>\n",
       "      <td>57.214898</td>\n",
       "      <td>Darkness - no lighting</td>\n",
       "      <td>Highland</td>\n",
       "      <td>-3.823997</td>\n",
       "      <td>1</td>\n",
       "      <td>2</td>\n",
       "      <td>Wet or damp</td>\n",
       "      <td>Single carriageway</td>\n",
       "      <td>Rural</td>\n",
       "      <td>Fine no high winds</td>\n",
       "      <td>Motorcycle over 500cc</td>\n",
       "    </tr>\n",
       "    <tr>\n",
       "      <th>660678</th>\n",
       "      <td>201091NM02142</td>\n",
       "      <td>Serious</td>\n",
       "      <td>28-02-2022</td>\n",
       "      <td>57.575210</td>\n",
       "      <td>Daylight</td>\n",
       "      <td>Highland</td>\n",
       "      <td>-3.895673</td>\n",
       "      <td>1</td>\n",
       "      <td>1</td>\n",
       "      <td>Wet or damp</td>\n",
       "      <td>Dual carriageway</td>\n",
       "      <td>Rural</td>\n",
       "      <td>Snowing no high winds</td>\n",
       "      <td>Car</td>\n",
       "    </tr>\n",
       "  </tbody>\n",
       "</table>\n",
       "<p>660679 rows × 14 columns</p>\n",
       "</div>"
      ],
      "text/plain": [
       "                Index Accident_Severity Accident Date   Latitude  \\\n",
       "0       200701BS64157           Serious      5/6/2019  51.506187   \n",
       "1       200701BS65737           Serious      2/7/2019  51.495029   \n",
       "2       200701BS66127           Serious    26-08-2019  51.517715   \n",
       "3       200701BS66128           Serious    16-08-2019  51.495478   \n",
       "4       200701BS66837            Slight      3/9/2019  51.488576   \n",
       "...               ...               ...           ...        ...   \n",
       "660674  201091NM01760            Slight    18-02-2022  57.374005   \n",
       "660675  201091NM01881            Slight    21-02-2022  57.232273   \n",
       "660676  201091NM01935            Slight    23-02-2022  57.585044   \n",
       "660677  201091NM01964           Serious    23-02-2022  57.214898   \n",
       "660678  201091NM02142           Serious    28-02-2022  57.575210   \n",
       "\n",
       "                   Light_Conditions           District Area  Longitude  \\\n",
       "0             Darkness - lights lit  Kensington and Chelsea  -0.209082   \n",
       "1                          Daylight  Kensington and Chelsea  -0.173647   \n",
       "2       Darkness - lighting unknown  Kensington and Chelsea  -0.210215   \n",
       "3                          Daylight  Kensington and Chelsea  -0.202731   \n",
       "4             Darkness - lights lit  Kensington and Chelsea  -0.192487   \n",
       "...                             ...                     ...        ...   \n",
       "660674                     Daylight                Highland  -3.467828   \n",
       "660675       Darkness - no lighting                Highland  -3.809281   \n",
       "660676                     Daylight                Highland  -3.862727   \n",
       "660677       Darkness - no lighting                Highland  -3.823997   \n",
       "660678                     Daylight                Highland  -3.895673   \n",
       "\n",
       "        Number_of_Casualties  Number_of_Vehicles Road_Surface_Conditions  \\\n",
       "0                          1                   2                     Dry   \n",
       "1                          1                   2             Wet or damp   \n",
       "2                          1                   3                     Dry   \n",
       "3                          1                   4                     Dry   \n",
       "4                          1                   2                     Dry   \n",
       "...                      ...                 ...                     ...   \n",
       "660674                     2                   1                     Dry   \n",
       "660675                     1                   1            Frost or ice   \n",
       "660676                     1                   3            Frost or ice   \n",
       "660677                     1                   2             Wet or damp   \n",
       "660678                     1                   1             Wet or damp   \n",
       "\n",
       "                 Road_Type Urban_or_Rural_Area     Weather_Conditions  \\\n",
       "0       Single carriageway               Urban     Fine no high winds   \n",
       "1       Single carriageway               Urban  Raining no high winds   \n",
       "2                      NaN               Urban                    NaN   \n",
       "3       Single carriageway               Urban     Fine no high winds   \n",
       "4                      NaN               Urban                    NaN   \n",
       "...                    ...                 ...                    ...   \n",
       "660674  Single carriageway               Rural     Fine no high winds   \n",
       "660675  Single carriageway               Rural     Fine no high winds   \n",
       "660676  Single carriageway               Rural     Fine no high winds   \n",
       "660677  Single carriageway               Rural     Fine no high winds   \n",
       "660678    Dual carriageway               Rural  Snowing no high winds   \n",
       "\n",
       "                                Vehicle_Type  \n",
       "0                                        Car  \n",
       "1                                        Car  \n",
       "2                      Taxi/Private hire car  \n",
       "3       Bus or coach (17 or more pass seats)  \n",
       "4                              Other vehicle  \n",
       "...                                      ...  \n",
       "660674                                   Car  \n",
       "660675                                   Car  \n",
       "660676                                   Car  \n",
       "660677                 Motorcycle over 500cc  \n",
       "660678                                   Car  \n",
       "\n",
       "[660679 rows x 14 columns]"
      ]
     },
     "execution_count": 3,
     "metadata": {},
     "output_type": "execute_result"
    }
   ],
   "source": [
    "accident"
   ]
  },
  {
   "cell_type": "code",
   "execution_count": 4,
   "id": "e06af22b-4a6c-4d43-a597-d232c1afb74c",
   "metadata": {},
   "outputs": [
    {
     "name": "stdout",
     "output_type": "stream",
     "text": [
      "<class 'pandas.core.frame.DataFrame'>\n",
      "RangeIndex: 660679 entries, 0 to 660678\n",
      "Data columns (total 14 columns):\n",
      " #   Column                   Non-Null Count   Dtype  \n",
      "---  ------                   --------------   -----  \n",
      " 0   Index                    660679 non-null  object \n",
      " 1   Accident_Severity        660679 non-null  object \n",
      " 2   Accident Date            660679 non-null  object \n",
      " 3   Latitude                 660654 non-null  float64\n",
      " 4   Light_Conditions         660679 non-null  object \n",
      " 5   District Area            660679 non-null  object \n",
      " 6   Longitude                660653 non-null  float64\n",
      " 7   Number_of_Casualties     660679 non-null  int64  \n",
      " 8   Number_of_Vehicles       660679 non-null  int64  \n",
      " 9   Road_Surface_Conditions  659953 non-null  object \n",
      " 10  Road_Type                656159 non-null  object \n",
      " 11  Urban_or_Rural_Area      660664 non-null  object \n",
      " 12  Weather_Conditions       646551 non-null  object \n",
      " 13  Vehicle_Type             660679 non-null  object \n",
      "dtypes: float64(2), int64(2), object(10)\n",
      "memory usage: 70.6+ MB\n"
     ]
    }
   ],
   "source": [
    "accident.info()"
   ]
  },
  {
   "cell_type": "code",
   "execution_count": 5,
   "id": "eca7ea6b-654c-4da5-80c8-4516528a983e",
   "metadata": {},
   "outputs": [
    {
     "data": {
      "text/html": [
       "<div>\n",
       "<style scoped>\n",
       "    .dataframe tbody tr th:only-of-type {\n",
       "        vertical-align: middle;\n",
       "    }\n",
       "\n",
       "    .dataframe tbody tr th {\n",
       "        vertical-align: top;\n",
       "    }\n",
       "\n",
       "    .dataframe thead th {\n",
       "        text-align: right;\n",
       "    }\n",
       "</style>\n",
       "<table border=\"1\" class=\"dataframe\">\n",
       "  <thead>\n",
       "    <tr style=\"text-align: right;\">\n",
       "      <th></th>\n",
       "      <th>count</th>\n",
       "      <th>mean</th>\n",
       "      <th>std</th>\n",
       "      <th>min</th>\n",
       "      <th>25%</th>\n",
       "      <th>50%</th>\n",
       "      <th>75%</th>\n",
       "      <th>max</th>\n",
       "    </tr>\n",
       "  </thead>\n",
       "  <tbody>\n",
       "    <tr>\n",
       "      <th>Latitude</th>\n",
       "      <td>660654.0</td>\n",
       "      <td>52.553866</td>\n",
       "      <td>1.406922</td>\n",
       "      <td>49.914430</td>\n",
       "      <td>51.490690</td>\n",
       "      <td>52.315641</td>\n",
       "      <td>53.453452</td>\n",
       "      <td>60.757544</td>\n",
       "    </tr>\n",
       "    <tr>\n",
       "      <th>Longitude</th>\n",
       "      <td>660653.0</td>\n",
       "      <td>-1.431210</td>\n",
       "      <td>1.383330</td>\n",
       "      <td>-7.516225</td>\n",
       "      <td>-2.332291</td>\n",
       "      <td>-1.411667</td>\n",
       "      <td>-0.232869</td>\n",
       "      <td>1.762010</td>\n",
       "    </tr>\n",
       "    <tr>\n",
       "      <th>Number_of_Casualties</th>\n",
       "      <td>660679.0</td>\n",
       "      <td>1.357040</td>\n",
       "      <td>0.824847</td>\n",
       "      <td>1.000000</td>\n",
       "      <td>1.000000</td>\n",
       "      <td>1.000000</td>\n",
       "      <td>1.000000</td>\n",
       "      <td>68.000000</td>\n",
       "    </tr>\n",
       "    <tr>\n",
       "      <th>Number_of_Vehicles</th>\n",
       "      <td>660679.0</td>\n",
       "      <td>1.831255</td>\n",
       "      <td>0.715269</td>\n",
       "      <td>1.000000</td>\n",
       "      <td>1.000000</td>\n",
       "      <td>2.000000</td>\n",
       "      <td>2.000000</td>\n",
       "      <td>32.000000</td>\n",
       "    </tr>\n",
       "  </tbody>\n",
       "</table>\n",
       "</div>"
      ],
      "text/plain": [
       "                         count       mean       std        min        25%  \\\n",
       "Latitude              660654.0  52.553866  1.406922  49.914430  51.490690   \n",
       "Longitude             660653.0  -1.431210  1.383330  -7.516225  -2.332291   \n",
       "Number_of_Casualties  660679.0   1.357040  0.824847   1.000000   1.000000   \n",
       "Number_of_Vehicles    660679.0   1.831255  0.715269   1.000000   1.000000   \n",
       "\n",
       "                            50%        75%        max  \n",
       "Latitude              52.315641  53.453452  60.757544  \n",
       "Longitude             -1.411667  -0.232869   1.762010  \n",
       "Number_of_Casualties   1.000000   1.000000  68.000000  \n",
       "Number_of_Vehicles     2.000000   2.000000  32.000000  "
      ]
     },
     "execution_count": 5,
     "metadata": {},
     "output_type": "execute_result"
    }
   ],
   "source": [
    "accident.describe().T"
   ]
  },
  {
   "cell_type": "code",
   "execution_count": 6,
   "id": "99dc4f91-46aa-4338-85c4-dfd3afab17be",
   "metadata": {},
   "outputs": [
    {
     "data": {
      "text/plain": [
       "Index                          0\n",
       "Accident_Severity              0\n",
       "Accident Date                  0\n",
       "Latitude                      25\n",
       "Light_Conditions               0\n",
       "District Area                  0\n",
       "Longitude                     26\n",
       "Number_of_Casualties           0\n",
       "Number_of_Vehicles             0\n",
       "Road_Surface_Conditions      726\n",
       "Road_Type                   4520\n",
       "Urban_or_Rural_Area           15\n",
       "Weather_Conditions         14128\n",
       "Vehicle_Type                   0\n",
       "dtype: int64"
      ]
     },
     "execution_count": 6,
     "metadata": {},
     "output_type": "execute_result"
    }
   ],
   "source": [
    "accident.isnull().sum()"
   ]
  },
  {
   "cell_type": "code",
   "execution_count": 7,
   "id": "ac83075b-e827-4578-9b92-71ad3e9bda42",
   "metadata": {},
   "outputs": [],
   "source": [
    "accident['Latitude'] = accident['Latitude'].fillna(accident['Latitude'].mode()[0])\n"
   ]
  },
  {
   "cell_type": "code",
   "execution_count": 8,
   "id": "05505faf-56d7-446a-a6ac-2fdc08839205",
   "metadata": {},
   "outputs": [],
   "source": [
    "accident['Longitude'] = accident['Longitude'].fillna(accident['Longitude'].mode()[0])\n"
   ]
  },
  {
   "cell_type": "code",
   "execution_count": 9,
   "id": "c47b61cd-097a-48f8-a5d5-fafae3721a7e",
   "metadata": {},
   "outputs": [],
   "source": [
    "accident['Road_Surface_Conditions'] = accident['Road_Surface_Conditions'].fillna('unknown condition')\n"
   ]
  },
  {
   "cell_type": "code",
   "execution_count": 10,
   "id": "5a08b410-1b49-40a0-b2af-01b45d2acc66",
   "metadata": {},
   "outputs": [],
   "source": [
    "accident['Road_Type'] = accident['Road_Type'].fillna(accident['Road_Type'].mode()[0])\n"
   ]
  },
  {
   "cell_type": "code",
   "execution_count": 11,
   "id": "94bed22a-4bca-4827-a36c-049df3074e54",
   "metadata": {},
   "outputs": [
    {
     "data": {
      "text/plain": [
       "0         Urban\n",
       "1         Urban\n",
       "2         Urban\n",
       "3         Urban\n",
       "4         Urban\n",
       "          ...  \n",
       "660674    Rural\n",
       "660675    Rural\n",
       "660676    Rural\n",
       "660677    Rural\n",
       "660678    Rural\n",
       "Name: Urban_or_Rural_Area, Length: 660679, dtype: object"
      ]
     },
     "execution_count": 11,
     "metadata": {},
     "output_type": "execute_result"
    }
   ],
   "source": [
    "accident['Urban_or_Rural_Area'] "
   ]
  },
  {
   "cell_type": "code",
   "execution_count": 12,
   "id": "8c79bffb-188c-4558-b80d-b8d45028d9e7",
   "metadata": {},
   "outputs": [
    {
     "data": {
      "text/plain": [
       "0         Urban\n",
       "1         Urban\n",
       "2         Urban\n",
       "3         Urban\n",
       "4         Urban\n",
       "          ...  \n",
       "660674    Rural\n",
       "660675    Rural\n",
       "660676    Rural\n",
       "660677    Rural\n",
       "660678    Rural\n",
       "Name: Urban_or_Rural_Area, Length: 660679, dtype: object"
      ]
     },
     "execution_count": 12,
     "metadata": {},
     "output_type": "execute_result"
    }
   ],
   "source": [
    "accident['Urban_or_Rural_Area'].fillna(accident['Urban_or_Rural_Area'].mode()[0])\n"
   ]
  },
  {
   "cell_type": "code",
   "execution_count": 13,
   "id": "8ad39e51-17ac-4954-9166-32b1bdf20b24",
   "metadata": {},
   "outputs": [],
   "source": [
    "accident['Weather_Conditions'] = accident['Weather_Conditions'].fillna('unknown weather')\n"
   ]
  },
  {
   "cell_type": "code",
   "execution_count": 14,
   "id": "fc7508c9-0fb2-4b1c-b2cd-fb725defd44c",
   "metadata": {},
   "outputs": [
    {
     "data": {
      "text/plain": [
       "Index                       0\n",
       "Accident_Severity           0\n",
       "Accident Date               0\n",
       "Latitude                    0\n",
       "Light_Conditions            0\n",
       "District Area               0\n",
       "Longitude                   0\n",
       "Number_of_Casualties        0\n",
       "Number_of_Vehicles          0\n",
       "Road_Surface_Conditions     0\n",
       "Road_Type                   0\n",
       "Urban_or_Rural_Area        15\n",
       "Weather_Conditions          0\n",
       "Vehicle_Type                0\n",
       "dtype: int64"
      ]
     },
     "execution_count": 14,
     "metadata": {},
     "output_type": "execute_result"
    }
   ],
   "source": [
    "accident.isnull().sum()\n"
   ]
  },
  {
   "cell_type": "code",
   "execution_count": 15,
   "id": "2b81fab3-002e-46e5-8324-3922445643c4",
   "metadata": {},
   "outputs": [
    {
     "data": {
      "text/plain": [
       "Index                       object\n",
       "Accident_Severity           object\n",
       "Accident Date               object\n",
       "Latitude                   float64\n",
       "Light_Conditions            object\n",
       "District Area               object\n",
       "Longitude                  float64\n",
       "Number_of_Casualties         int64\n",
       "Number_of_Vehicles           int64\n",
       "Road_Surface_Conditions     object\n",
       "Road_Type                   object\n",
       "Urban_or_Rural_Area         object\n",
       "Weather_Conditions          object\n",
       "Vehicle_Type                object\n",
       "dtype: object"
      ]
     },
     "execution_count": 15,
     "metadata": {},
     "output_type": "execute_result"
    }
   ],
   "source": [
    "accident.dtypes\n"
   ]
  },
  {
   "cell_type": "code",
   "execution_count": 16,
   "id": "750d7a70-7494-4a1c-96dd-e1564eadf16a",
   "metadata": {},
   "outputs": [],
   "source": [
    "accident['Accident_Severity'] = accident['Accident_Severity'].astype('category')"
   ]
  },
  {
   "cell_type": "code",
   "execution_count": 17,
   "id": "a294294d-f467-40c4-8e03-6d67a81735e9",
   "metadata": {},
   "outputs": [],
   "source": [
    "accident['Light_Conditions'] = accident['Light_Conditions'].astype('category')\n"
   ]
  },
  {
   "cell_type": "code",
   "execution_count": 18,
   "id": "dad095fc-d6de-4ae8-84d6-0a06c946329b",
   "metadata": {},
   "outputs": [],
   "source": [
    "accident['Latitude'] = accident['Latitude'].astype('category')\n"
   ]
  },
  {
   "cell_type": "code",
   "execution_count": 19,
   "id": "f1885fc7-f902-4068-889c-1c02625c6d80",
   "metadata": {},
   "outputs": [],
   "source": [
    "accident['District Area'] = accident['District Area'].astype('category')\n"
   ]
  },
  {
   "cell_type": "code",
   "execution_count": 20,
   "id": "2d1451ab-8a64-4c81-a163-1343d0065573",
   "metadata": {},
   "outputs": [],
   "source": [
    "accident['Longitude'] = accident['Longitude'].astype('category')"
   ]
  },
  {
   "cell_type": "code",
   "execution_count": 21,
   "id": "d33f7c40-84cf-4e10-a124-a584945d969d",
   "metadata": {},
   "outputs": [],
   "source": [
    "accident['Road_Surface_Conditions'] = accident['Road_Surface_Conditions'].astype('category')"
   ]
  },
  {
   "cell_type": "code",
   "execution_count": 22,
   "id": "f68d1b04-a334-46e3-a7c0-3868f7dcb514",
   "metadata": {},
   "outputs": [],
   "source": [
    "accident['Road_Type'] = accident['Road_Type'].astype('category')\n"
   ]
  },
  {
   "cell_type": "code",
   "execution_count": 23,
   "id": "8d4e6c31-a916-4470-ba68-5cf17f48a34b",
   "metadata": {},
   "outputs": [],
   "source": [
    "accident['Urban_or_Rural_Area'] = accident['Urban_or_Rural_Area'].astype('category')"
   ]
  },
  {
   "cell_type": "code",
   "execution_count": 24,
   "id": "3eb36b05-3145-45a1-9b86-d1fdbbfae90a",
   "metadata": {},
   "outputs": [],
   "source": [
    "accident['Weather_Conditions'] = accident['Weather_Conditions'].astype('category')"
   ]
  },
  {
   "cell_type": "code",
   "execution_count": 25,
   "id": "2d5f7bde-30de-47b5-a1af-ca5f992b113f",
   "metadata": {},
   "outputs": [],
   "source": [
    "accident['Vehicle_Type'] = accident['Vehicle_Type'].astype('category')\n"
   ]
  },
  {
   "cell_type": "code",
   "execution_count": 26,
   "id": "dd85a1c3-ed4a-47ae-9c98-1a44ec721c84",
   "metadata": {},
   "outputs": [
    {
     "data": {
      "text/plain": [
       "Index                       0\n",
       "Accident_Severity           0\n",
       "Accident Date               0\n",
       "Latitude                    0\n",
       "Light_Conditions            0\n",
       "District Area               0\n",
       "Longitude                   0\n",
       "Number_of_Casualties        0\n",
       "Number_of_Vehicles          0\n",
       "Road_Surface_Conditions     0\n",
       "Road_Type                   0\n",
       "Urban_or_Rural_Area        15\n",
       "Weather_Conditions          0\n",
       "Vehicle_Type                0\n",
       "dtype: int64"
      ]
     },
     "execution_count": 26,
     "metadata": {},
     "output_type": "execute_result"
    }
   ],
   "source": [
    "accident.isnull().sum()\n"
   ]
  },
  {
   "cell_type": "code",
   "execution_count": 27,
   "id": "5b0721fb-8d2a-494e-97e7-76a7e2ecd6f3",
   "metadata": {},
   "outputs": [],
   "source": [
    "accident['Accident Date'] = accident['Accident Date'].astype('str')\n",
    "accident['Accident Date'] = accident['Accident Date'].str.strip()\n",
    "accident['Accident Date'] = accident['Accident Date'].str.replace('/','-')\n",
    "accident['Accident Date'] = pd.to_datetime(accident['Accident Date'],dayfirst=True,errors = 'coerce')\n"
   ]
  },
  {
   "cell_type": "code",
   "execution_count": 28,
   "id": "1a17878d-b6cc-4cf6-8eea-b01baacf5e66",
   "metadata": {},
   "outputs": [
    {
     "data": {
      "text/plain": [
       "Index                       0\n",
       "Accident_Severity           0\n",
       "Accident Date               0\n",
       "Latitude                    0\n",
       "Light_Conditions            0\n",
       "District Area               0\n",
       "Longitude                   0\n",
       "Number_of_Casualties        0\n",
       "Number_of_Vehicles          0\n",
       "Road_Surface_Conditions     0\n",
       "Road_Type                   0\n",
       "Urban_or_Rural_Area        15\n",
       "Weather_Conditions          0\n",
       "Vehicle_Type                0\n",
       "dtype: int64"
      ]
     },
     "execution_count": 28,
     "metadata": {},
     "output_type": "execute_result"
    }
   ],
   "source": [
    "accident.isnull().sum()"
   ]
  },
  {
   "cell_type": "code",
   "execution_count": 29,
   "id": "ccb669e4-dc01-4909-84ca-7c600e1b37eb",
   "metadata": {},
   "outputs": [],
   "source": [
    "accident['Year'] = accident['Accident Date'].dt.year\n",
    "accident['Month'] = accident['Accident Date'].dt.month\n",
    "accident['DayofWeek'] = accident['Accident Date'].dt.dayofweek\n",
    "accident['Day'] = accident['Accident Date'].dt.day"
   ]
  },
  {
   "cell_type": "code",
   "execution_count": 30,
   "id": "e5d50d02-5994-444f-a231-a6e6c9af6b0c",
   "metadata": {},
   "outputs": [
    {
     "data": {
      "text/plain": [
       "Index                       0\n",
       "Accident_Severity           0\n",
       "Accident Date               0\n",
       "Latitude                    0\n",
       "Light_Conditions            0\n",
       "District Area               0\n",
       "Longitude                   0\n",
       "Number_of_Casualties        0\n",
       "Number_of_Vehicles          0\n",
       "Road_Surface_Conditions     0\n",
       "Road_Type                   0\n",
       "Urban_or_Rural_Area        15\n",
       "Weather_Conditions          0\n",
       "Vehicle_Type                0\n",
       "Year                        0\n",
       "Month                       0\n",
       "DayofWeek                   0\n",
       "Day                         0\n",
       "dtype: int64"
      ]
     },
     "execution_count": 30,
     "metadata": {},
     "output_type": "execute_result"
    }
   ],
   "source": [
    "accident.isnull().sum()"
   ]
  },
  {
   "cell_type": "code",
   "execution_count": 31,
   "id": "d5588630-ad1d-40d2-b57e-c1ec9ee8b423",
   "metadata": {},
   "outputs": [],
   "source": [
    "accident['Year'] = accident['Year'].astype('category')\n",
    "accident['Month'] = accident['Month'].astype('category')\n",
    "accident['DayofWeek'] = accident['DayofWeek'].astype('category')\n",
    "accident['Day'] = accident['Day'].astype('category')"
   ]
  },
  {
   "cell_type": "code",
   "execution_count": 32,
   "id": "eceed66b-404b-4b3e-b388-036e6c4ad268",
   "metadata": {},
   "outputs": [
    {
     "data": {
      "text/plain": [
       "Index                              object\n",
       "Accident_Severity                category\n",
       "Accident Date              datetime64[ns]\n",
       "Latitude                         category\n",
       "Light_Conditions                 category\n",
       "District Area                    category\n",
       "Longitude                        category\n",
       "Number_of_Casualties                int64\n",
       "Number_of_Vehicles                  int64\n",
       "Road_Surface_Conditions          category\n",
       "Road_Type                        category\n",
       "Urban_or_Rural_Area              category\n",
       "Weather_Conditions               category\n",
       "Vehicle_Type                     category\n",
       "Year                             category\n",
       "Month                            category\n",
       "DayofWeek                        category\n",
       "Day                              category\n",
       "dtype: object"
      ]
     },
     "execution_count": 32,
     "metadata": {},
     "output_type": "execute_result"
    }
   ],
   "source": [
    "accident.dtypes"
   ]
  },
  {
   "cell_type": "markdown",
   "id": "02052d95-4486-4e97-8bb3-418b04c773f2",
   "metadata": {},
   "source": [
    "<h1>Exploratory Data Analytics</h1>"
   ]
  },
  {
   "cell_type": "markdown",
   "id": "43a33938-4f12-4b2c-b6da-28c5cd01ea7e",
   "metadata": {},
   "source": [
    "<h1>1. Which area has many accidents?</h1>"
   ]
  },
  {
   "cell_type": "code",
   "execution_count": 33,
   "id": "9a661139-145c-4822-81ec-ecf5784e29b6",
   "metadata": {},
   "outputs": [
    {
     "data": {
      "text/plain": [
       "['Kensington and Chelsea', 'Westminster', 'Richmond upon Thames', 'Hammersmith and Fulham', 'Hounslow', ..., 'County Durham', 'Shropshire', 'Central Bedfordshire', 'Cornwall', 'Wiltshire']\n",
       "Length: 422\n",
       "Categories (422, object): ['Aberdeen City', 'Aberdeenshire', 'Adur', 'Allerdale', ..., 'Wycombe', 'Wyre', 'Wyre Forest', 'York']"
      ]
     },
     "execution_count": 33,
     "metadata": {},
     "output_type": "execute_result"
    }
   ],
   "source": [
    "accident['District Area'].unique()"
   ]
  },
  {
   "cell_type": "code",
   "execution_count": 34,
   "id": "ef13ec47-38b6-4e12-8353-9ff4cbfc4847",
   "metadata": {},
   "outputs": [
    {
     "data": {
      "text/plain": [
       "np.int64(2799)"
      ]
     },
     "execution_count": 34,
     "metadata": {},
     "output_type": "execute_result"
    }
   ],
   "source": [
    "accident[accident['District Area'] == 'Kensington and Chelsea'].value_counts().sum()"
   ]
  },
  {
   "cell_type": "code",
   "execution_count": 35,
   "id": "b5043133-68d8-4e0f-aa12-ad69ea1f12a7",
   "metadata": {},
   "outputs": [
    {
     "data": {
      "text/plain": [
       "np.int64(5706)"
      ]
     },
     "execution_count": 35,
     "metadata": {},
     "output_type": "execute_result"
    }
   ],
   "source": [
    "accident[accident['District Area'] == 'Westminster'].value_counts().sum()"
   ]
  },
  {
   "cell_type": "code",
   "execution_count": 36,
   "id": "0ec680d7-bd26-4b45-9c42-1f44962571fb",
   "metadata": {},
   "outputs": [
    {
     "data": {
      "text/plain": [
       "np.int64(1607)"
      ]
     },
     "execution_count": 36,
     "metadata": {},
     "output_type": "execute_result"
    }
   ],
   "source": [
    "accident[accident['District Area'] == 'Richmond upon Thames'].value_counts().sum()"
   ]
  },
  {
   "cell_type": "code",
   "execution_count": 37,
   "id": "ec4e0e04-bffa-41c9-b7be-c7d1ff7aa04a",
   "metadata": {},
   "outputs": [
    {
     "data": {
      "text/plain": [
       "np.int64(2509)"
      ]
     },
     "execution_count": 37,
     "metadata": {},
     "output_type": "execute_result"
    }
   ],
   "source": [
    "accident[accident['District Area'] == 'Hammersmith and Fulham'].value_counts().sum()"
   ]
  },
  {
   "cell_type": "code",
   "execution_count": 38,
   "id": "71e10e52-7c1e-46c9-960a-3d7260ba8c03",
   "metadata": {},
   "outputs": [
    {
     "data": {
      "text/plain": [
       "np.int64(2979)"
      ]
     },
     "execution_count": 38,
     "metadata": {},
     "output_type": "execute_result"
    }
   ],
   "source": [
    "accident[accident['District Area'] == 'Hounslow'].value_counts().sum()"
   ]
  },
  {
   "cell_type": "code",
   "execution_count": 39,
   "id": "cba07512-402b-4e86-aea5-2b9b841b7bc0",
   "metadata": {},
   "outputs": [
    {
     "data": {
      "text/plain": [
       "np.int64(0)"
      ]
     },
     "execution_count": 39,
     "metadata": {},
     "output_type": "execute_result"
    }
   ],
   "source": [
    "accident[accident['District Area'] == '...'].value_counts().sum()"
   ]
  },
  {
   "cell_type": "code",
   "execution_count": 40,
   "id": "76790bc5-1ac0-471a-a381-2dbb5e77a418",
   "metadata": {},
   "outputs": [
    {
     "data": {
      "text/plain": [
       "np.int64(2228)"
      ]
     },
     "execution_count": 40,
     "metadata": {},
     "output_type": "execute_result"
    }
   ],
   "source": [
    "accident[accident['District Area'] == 'County Durham'].value_counts().sum()"
   ]
  },
  {
   "cell_type": "code",
   "execution_count": 41,
   "id": "3af54b79-fcb4-4acf-b3b0-a6091d4a672c",
   "metadata": {},
   "outputs": [
    {
     "data": {
      "text/plain": [
       "np.int64(1343)"
      ]
     },
     "execution_count": 41,
     "metadata": {},
     "output_type": "execute_result"
    }
   ],
   "source": [
    "accident[accident['District Area'] == 'Shropshire'].value_counts().sum()"
   ]
  },
  {
   "cell_type": "code",
   "execution_count": 42,
   "id": "ec74103a-4605-45ed-b0da-fe37badb612b",
   "metadata": {},
   "outputs": [
    {
     "data": {
      "text/plain": [
       "np.int64(1225)"
      ]
     },
     "execution_count": 42,
     "metadata": {},
     "output_type": "execute_result"
    }
   ],
   "source": [
    "accident[accident['District Area'] == 'Central Bedfordshire'].value_counts().sum()"
   ]
  },
  {
   "cell_type": "code",
   "execution_count": 43,
   "id": "12ffdef7-0639-4209-99d1-167fc7dd26ca",
   "metadata": {},
   "outputs": [
    {
     "data": {
      "text/plain": [
       "np.int64(2606)"
      ]
     },
     "execution_count": 43,
     "metadata": {},
     "output_type": "execute_result"
    }
   ],
   "source": [
    "accident[accident['District Area'] == 'Cornwall'].value_counts().sum()"
   ]
  },
  {
   "cell_type": "code",
   "execution_count": 44,
   "id": "a1cccc94-8c70-446a-8217-6df61637d1a1",
   "metadata": {},
   "outputs": [
    {
     "data": {
      "text/plain": [
       "np.int64(1590)"
      ]
     },
     "execution_count": 44,
     "metadata": {},
     "output_type": "execute_result"
    }
   ],
   "source": [
    "accident[accident['District Area'] == 'Wiltshire'].value_counts().sum()"
   ]
  },
  {
   "cell_type": "markdown",
   "id": "696758e5-f430-493e-8861-151e63abe324",
   "metadata": {},
   "source": [
    "<h1>Insight 1</h1>"
   ]
  },
  {
   "cell_type": "markdown",
   "id": "57543a05-4c3c-49ca-8baa-6cb66607bce8",
   "metadata": {},
   "source": [
    "<h2>Based on all areas there are many accidents, but the area of westminster has the highest counts of accident.</h2>"
   ]
  },
  {
   "cell_type": "markdown",
   "id": "1b1aec59-5bc5-49fa-a6d6-28fbbaba2de2",
   "metadata": {},
   "source": [
    "<h1>2. How many incidents have 5 or more casualities that include?</h1>"
   ]
  },
  {
   "cell_type": "code",
   "execution_count": 45,
   "id": "66a8cad7-a9f6-4780-971f-1fc0d29d4e54",
   "metadata": {},
   "outputs": [
    {
     "data": {
      "text/plain": [
       "np.int64(2612)"
      ]
     },
     "execution_count": 45,
     "metadata": {},
     "output_type": "execute_result"
    }
   ],
   "source": [
    "accident[accident['Number_of_Casualties'] > 5].value_counts().sum()"
   ]
  },
  {
   "cell_type": "markdown",
   "id": "acbc193b-38f3-44dc-bcc9-ce29c9d31b8c",
   "metadata": {},
   "source": [
    "<h1>Insight 2.</h1>"
   ]
  },
  {
   "cell_type": "markdown",
   "id": "4d43ee13-8403-4041-bbf5-77e1f7f04443",
   "metadata": {},
   "source": [
    "<h2>There have been 2612 accidents have 5 or more casualities in each incident.</h2>"
   ]
  },
  {
   "cell_type": "markdown",
   "id": "a76c0ef5-68ed-4233-88e1-2c6d7e9ee474",
   "metadata": {},
   "source": [
    "<h1>3. What are the common and most frequent accidents associated with road types?</h1>"
   ]
  },
  {
   "cell_type": "code",
   "execution_count": 46,
   "id": "490cd831-3b03-4996-bdce-22d3b8ee1780",
   "metadata": {},
   "outputs": [
    {
     "data": {
      "text/plain": [
       "['Single carriageway', 'Dual carriageway', 'One way street', 'Roundabout', 'Slip road']\n",
       "Categories (5, object): ['Dual carriageway', 'One way street', 'Roundabout', 'Single carriageway', 'Slip road']"
      ]
     },
     "execution_count": 46,
     "metadata": {},
     "output_type": "execute_result"
    }
   ],
   "source": [
    "accident['Road_Type'].unique()"
   ]
  },
  {
   "cell_type": "code",
   "execution_count": 47,
   "id": "b42ff53a-1aa3-4f80-bc40-5aef8ecaa1ae",
   "metadata": {},
   "outputs": [
    {
     "data": {
      "text/plain": [
       "np.int64(496653)"
      ]
     },
     "execution_count": 47,
     "metadata": {},
     "output_type": "execute_result"
    }
   ],
   "source": [
    "accident[accident['Road_Type'] == 'Single carriageway'].value_counts().sum()"
   ]
  },
  {
   "cell_type": "code",
   "execution_count": 48,
   "id": "59608bed-7004-4826-94af-0ca9666c861d",
   "metadata": {},
   "outputs": [
    {
     "data": {
      "text/plain": [
       "np.int64(99420)"
      ]
     },
     "execution_count": 48,
     "metadata": {},
     "output_type": "execute_result"
    }
   ],
   "source": [
    "accident[accident['Road_Type'] == 'Dual carriageway'].value_counts().sum()"
   ]
  },
  {
   "cell_type": "code",
   "execution_count": 49,
   "id": "eb49ee92-6b13-42e0-ae3a-a43c07ccfce0",
   "metadata": {},
   "outputs": [
    {
     "data": {
      "text/plain": [
       "np.int64(13558)"
      ]
     },
     "execution_count": 49,
     "metadata": {},
     "output_type": "execute_result"
    }
   ],
   "source": [
    "accident[accident['Road_Type'] == 'One way street'].value_counts().sum()"
   ]
  },
  {
   "cell_type": "code",
   "execution_count": 50,
   "id": "200048e9-b6fb-4667-b74a-b5fc9de15b0e",
   "metadata": {},
   "outputs": [
    {
     "data": {
      "text/plain": [
       "np.int64(43992)"
      ]
     },
     "execution_count": 50,
     "metadata": {},
     "output_type": "execute_result"
    }
   ],
   "source": [
    "accident[accident['Road_Type'] == 'Roundabout'].value_counts().sum()"
   ]
  },
  {
   "cell_type": "code",
   "execution_count": 51,
   "id": "59dd709d-3e3c-440a-9580-8a66d741fb46",
   "metadata": {},
   "outputs": [
    {
     "data": {
      "text/plain": [
       "np.int64(7041)"
      ]
     },
     "execution_count": 51,
     "metadata": {},
     "output_type": "execute_result"
    }
   ],
   "source": [
    "accident[accident['Road_Type'] == 'Slip road'].value_counts().sum()"
   ]
  },
  {
   "cell_type": "markdown",
   "id": "34d246cc-7d2c-4fbd-b37f-a0af081c8f71",
   "metadata": {},
   "source": [
    "<h1>Insights 3.</h1>\n",
    "<h2>The common road had more accidents. It was a Single carriageway, because somehow, many cars were traveling at high speeds.</h2>"
   ]
  },
  {
   "cell_type": "markdown",
   "id": "d3bf3053-ec3a-4b92-a7b5-6b735080202b",
   "metadata": {},
   "source": [
    "<h1>4. Get all accidents in the Rural Area that have 1 casualty only</h1>\n"
   ]
  },
  {
   "cell_type": "code",
   "execution_count": 52,
   "id": "7bda56b6-0dd8-4cd8-ac6e-2a370b5306c5",
   "metadata": {},
   "outputs": [
    {
     "data": {
      "text/html": [
       "<div>\n",
       "<style scoped>\n",
       "    .dataframe tbody tr th:only-of-type {\n",
       "        vertical-align: middle;\n",
       "    }\n",
       "\n",
       "    .dataframe tbody tr th {\n",
       "        vertical-align: top;\n",
       "    }\n",
       "\n",
       "    .dataframe thead th {\n",
       "        text-align: right;\n",
       "    }\n",
       "</style>\n",
       "<table border=\"1\" class=\"dataframe\">\n",
       "  <thead>\n",
       "    <tr style=\"text-align: right;\">\n",
       "      <th></th>\n",
       "      <th>Index</th>\n",
       "      <th>Accident_Severity</th>\n",
       "      <th>Accident Date</th>\n",
       "      <th>Latitude</th>\n",
       "      <th>Light_Conditions</th>\n",
       "      <th>District Area</th>\n",
       "      <th>Longitude</th>\n",
       "      <th>Number_of_Casualties</th>\n",
       "      <th>Number_of_Vehicles</th>\n",
       "      <th>Road_Surface_Conditions</th>\n",
       "      <th>Road_Type</th>\n",
       "      <th>Urban_or_Rural_Area</th>\n",
       "      <th>Weather_Conditions</th>\n",
       "      <th>Vehicle_Type</th>\n",
       "      <th>Year</th>\n",
       "      <th>Month</th>\n",
       "      <th>DayofWeek</th>\n",
       "      <th>Day</th>\n",
       "    </tr>\n",
       "  </thead>\n",
       "  <tbody>\n",
       "    <tr>\n",
       "      <th>6101</th>\n",
       "      <td>200701JC30253</td>\n",
       "      <td>Slight</td>\n",
       "      <td>2019-04-29</td>\n",
       "      <td>51.616921</td>\n",
       "      <td>Darkness - lights lit</td>\n",
       "      <td>Waltham Forest</td>\n",
       "      <td>0.010797</td>\n",
       "      <td>1</td>\n",
       "      <td>1</td>\n",
       "      <td>Dry</td>\n",
       "      <td>Single carriageway</td>\n",
       "      <td>Rural</td>\n",
       "      <td>Fine no high winds</td>\n",
       "      <td>Car</td>\n",
       "      <td>2019</td>\n",
       "      <td>4</td>\n",
       "      <td>0</td>\n",
       "      <td>29</td>\n",
       "    </tr>\n",
       "    <tr>\n",
       "      <th>6193</th>\n",
       "      <td>200701JC63842</td>\n",
       "      <td>Slight</td>\n",
       "      <td>2019-06-23</td>\n",
       "      <td>51.634035</td>\n",
       "      <td>Daylight</td>\n",
       "      <td>Waltham Forest</td>\n",
       "      <td>0.014444</td>\n",
       "      <td>1</td>\n",
       "      <td>2</td>\n",
       "      <td>Wet or damp</td>\n",
       "      <td>Single carriageway</td>\n",
       "      <td>Rural</td>\n",
       "      <td>Raining no high winds</td>\n",
       "      <td>Motorcycle over 500cc</td>\n",
       "      <td>2019</td>\n",
       "      <td>6</td>\n",
       "      <td>6</td>\n",
       "      <td>23</td>\n",
       "    </tr>\n",
       "    <tr>\n",
       "      <th>6223</th>\n",
       "      <td>200701JC64859</td>\n",
       "      <td>Slight</td>\n",
       "      <td>2019-07-15</td>\n",
       "      <td>51.616088</td>\n",
       "      <td>Darkness - lighting unknown</td>\n",
       "      <td>Waltham Forest</td>\n",
       "      <td>0.012204</td>\n",
       "      <td>1</td>\n",
       "      <td>3</td>\n",
       "      <td>Dry</td>\n",
       "      <td>Single carriageway</td>\n",
       "      <td>Rural</td>\n",
       "      <td>Fine no high winds</td>\n",
       "      <td>Car</td>\n",
       "      <td>2019</td>\n",
       "      <td>7</td>\n",
       "      <td>0</td>\n",
       "      <td>15</td>\n",
       "    </tr>\n",
       "    <tr>\n",
       "      <th>6421</th>\n",
       "      <td>200701JC67563</td>\n",
       "      <td>Slight</td>\n",
       "      <td>2019-10-17</td>\n",
       "      <td>51.634365</td>\n",
       "      <td>Darkness - no lighting</td>\n",
       "      <td>Waltham Forest</td>\n",
       "      <td>0.021395</td>\n",
       "      <td>1</td>\n",
       "      <td>1</td>\n",
       "      <td>Wet or damp</td>\n",
       "      <td>Single carriageway</td>\n",
       "      <td>Rural</td>\n",
       "      <td>Raining no high winds</td>\n",
       "      <td>Car</td>\n",
       "      <td>2019</td>\n",
       "      <td>10</td>\n",
       "      <td>3</td>\n",
       "      <td>17</td>\n",
       "    </tr>\n",
       "    <tr>\n",
       "      <th>6441</th>\n",
       "      <td>200701JC67754</td>\n",
       "      <td>Slight</td>\n",
       "      <td>2019-11-03</td>\n",
       "      <td>51.615152</td>\n",
       "      <td>Daylight</td>\n",
       "      <td>Waltham Forest</td>\n",
       "      <td>0.014330</td>\n",
       "      <td>1</td>\n",
       "      <td>2</td>\n",
       "      <td>Dry</td>\n",
       "      <td>Single carriageway</td>\n",
       "      <td>Rural</td>\n",
       "      <td>Fine no high winds</td>\n",
       "      <td>Car</td>\n",
       "      <td>2019</td>\n",
       "      <td>11</td>\n",
       "      <td>6</td>\n",
       "      <td>3</td>\n",
       "    </tr>\n",
       "    <tr>\n",
       "      <th>...</th>\n",
       "      <td>...</td>\n",
       "      <td>...</td>\n",
       "      <td>...</td>\n",
       "      <td>...</td>\n",
       "      <td>...</td>\n",
       "      <td>...</td>\n",
       "      <td>...</td>\n",
       "      <td>...</td>\n",
       "      <td>...</td>\n",
       "      <td>...</td>\n",
       "      <td>...</td>\n",
       "      <td>...</td>\n",
       "      <td>...</td>\n",
       "      <td>...</td>\n",
       "      <td>...</td>\n",
       "      <td>...</td>\n",
       "      <td>...</td>\n",
       "      <td>...</td>\n",
       "    </tr>\n",
       "    <tr>\n",
       "      <th>660672</th>\n",
       "      <td>201091NM01085</td>\n",
       "      <td>Serious</td>\n",
       "      <td>2022-01-29</td>\n",
       "      <td>57.170725</td>\n",
       "      <td>Daylight</td>\n",
       "      <td>Highland</td>\n",
       "      <td>-3.852421</td>\n",
       "      <td>1</td>\n",
       "      <td>2</td>\n",
       "      <td>Snow</td>\n",
       "      <td>Single carriageway</td>\n",
       "      <td>Rural</td>\n",
       "      <td>Fine no high winds</td>\n",
       "      <td>Car</td>\n",
       "      <td>2022</td>\n",
       "      <td>1</td>\n",
       "      <td>5</td>\n",
       "      <td>29</td>\n",
       "    </tr>\n",
       "    <tr>\n",
       "      <th>660675</th>\n",
       "      <td>201091NM01881</td>\n",
       "      <td>Slight</td>\n",
       "      <td>2022-02-21</td>\n",
       "      <td>57.232273</td>\n",
       "      <td>Darkness - no lighting</td>\n",
       "      <td>Highland</td>\n",
       "      <td>-3.809281</td>\n",
       "      <td>1</td>\n",
       "      <td>1</td>\n",
       "      <td>Frost or ice</td>\n",
       "      <td>Single carriageway</td>\n",
       "      <td>Rural</td>\n",
       "      <td>Fine no high winds</td>\n",
       "      <td>Car</td>\n",
       "      <td>2022</td>\n",
       "      <td>2</td>\n",
       "      <td>0</td>\n",
       "      <td>21</td>\n",
       "    </tr>\n",
       "    <tr>\n",
       "      <th>660676</th>\n",
       "      <td>201091NM01935</td>\n",
       "      <td>Slight</td>\n",
       "      <td>2022-02-23</td>\n",
       "      <td>57.585044</td>\n",
       "      <td>Daylight</td>\n",
       "      <td>Highland</td>\n",
       "      <td>-3.862727</td>\n",
       "      <td>1</td>\n",
       "      <td>3</td>\n",
       "      <td>Frost or ice</td>\n",
       "      <td>Single carriageway</td>\n",
       "      <td>Rural</td>\n",
       "      <td>Fine no high winds</td>\n",
       "      <td>Car</td>\n",
       "      <td>2022</td>\n",
       "      <td>2</td>\n",
       "      <td>2</td>\n",
       "      <td>23</td>\n",
       "    </tr>\n",
       "    <tr>\n",
       "      <th>660677</th>\n",
       "      <td>201091NM01964</td>\n",
       "      <td>Serious</td>\n",
       "      <td>2022-02-23</td>\n",
       "      <td>57.214898</td>\n",
       "      <td>Darkness - no lighting</td>\n",
       "      <td>Highland</td>\n",
       "      <td>-3.823997</td>\n",
       "      <td>1</td>\n",
       "      <td>2</td>\n",
       "      <td>Wet or damp</td>\n",
       "      <td>Single carriageway</td>\n",
       "      <td>Rural</td>\n",
       "      <td>Fine no high winds</td>\n",
       "      <td>Motorcycle over 500cc</td>\n",
       "      <td>2022</td>\n",
       "      <td>2</td>\n",
       "      <td>2</td>\n",
       "      <td>23</td>\n",
       "    </tr>\n",
       "    <tr>\n",
       "      <th>660678</th>\n",
       "      <td>201091NM02142</td>\n",
       "      <td>Serious</td>\n",
       "      <td>2022-02-28</td>\n",
       "      <td>57.575210</td>\n",
       "      <td>Daylight</td>\n",
       "      <td>Highland</td>\n",
       "      <td>-3.895673</td>\n",
       "      <td>1</td>\n",
       "      <td>1</td>\n",
       "      <td>Wet or damp</td>\n",
       "      <td>Dual carriageway</td>\n",
       "      <td>Rural</td>\n",
       "      <td>Snowing no high winds</td>\n",
       "      <td>Car</td>\n",
       "      <td>2022</td>\n",
       "      <td>2</td>\n",
       "      <td>0</td>\n",
       "      <td>28</td>\n",
       "    </tr>\n",
       "  </tbody>\n",
       "</table>\n",
       "<p>183817 rows × 18 columns</p>\n",
       "</div>"
      ],
      "text/plain": [
       "                Index Accident_Severity Accident Date   Latitude  \\\n",
       "6101    200701JC30253            Slight    2019-04-29  51.616921   \n",
       "6193    200701JC63842            Slight    2019-06-23  51.634035   \n",
       "6223    200701JC64859            Slight    2019-07-15  51.616088   \n",
       "6421    200701JC67563            Slight    2019-10-17  51.634365   \n",
       "6441    200701JC67754            Slight    2019-11-03  51.615152   \n",
       "...               ...               ...           ...        ...   \n",
       "660672  201091NM01085           Serious    2022-01-29  57.170725   \n",
       "660675  201091NM01881            Slight    2022-02-21  57.232273   \n",
       "660676  201091NM01935            Slight    2022-02-23  57.585044   \n",
       "660677  201091NM01964           Serious    2022-02-23  57.214898   \n",
       "660678  201091NM02142           Serious    2022-02-28  57.575210   \n",
       "\n",
       "                   Light_Conditions   District Area Longitude  \\\n",
       "6101          Darkness - lights lit  Waltham Forest  0.010797   \n",
       "6193                       Daylight  Waltham Forest  0.014444   \n",
       "6223    Darkness - lighting unknown  Waltham Forest  0.012204   \n",
       "6421         Darkness - no lighting  Waltham Forest  0.021395   \n",
       "6441                       Daylight  Waltham Forest  0.014330   \n",
       "...                             ...             ...       ...   \n",
       "660672                     Daylight        Highland -3.852421   \n",
       "660675       Darkness - no lighting        Highland -3.809281   \n",
       "660676                     Daylight        Highland -3.862727   \n",
       "660677       Darkness - no lighting        Highland -3.823997   \n",
       "660678                     Daylight        Highland -3.895673   \n",
       "\n",
       "        Number_of_Casualties  Number_of_Vehicles Road_Surface_Conditions  \\\n",
       "6101                       1                   1                     Dry   \n",
       "6193                       1                   2             Wet or damp   \n",
       "6223                       1                   3                     Dry   \n",
       "6421                       1                   1             Wet or damp   \n",
       "6441                       1                   2                     Dry   \n",
       "...                      ...                 ...                     ...   \n",
       "660672                     1                   2                    Snow   \n",
       "660675                     1                   1            Frost or ice   \n",
       "660676                     1                   3            Frost or ice   \n",
       "660677                     1                   2             Wet or damp   \n",
       "660678                     1                   1             Wet or damp   \n",
       "\n",
       "                 Road_Type Urban_or_Rural_Area     Weather_Conditions  \\\n",
       "6101    Single carriageway               Rural     Fine no high winds   \n",
       "6193    Single carriageway               Rural  Raining no high winds   \n",
       "6223    Single carriageway               Rural     Fine no high winds   \n",
       "6421    Single carriageway               Rural  Raining no high winds   \n",
       "6441    Single carriageway               Rural     Fine no high winds   \n",
       "...                    ...                 ...                    ...   \n",
       "660672  Single carriageway               Rural     Fine no high winds   \n",
       "660675  Single carriageway               Rural     Fine no high winds   \n",
       "660676  Single carriageway               Rural     Fine no high winds   \n",
       "660677  Single carriageway               Rural     Fine no high winds   \n",
       "660678    Dual carriageway               Rural  Snowing no high winds   \n",
       "\n",
       "                 Vehicle_Type  Year Month DayofWeek Day  \n",
       "6101                      Car  2019     4         0  29  \n",
       "6193    Motorcycle over 500cc  2019     6         6  23  \n",
       "6223                      Car  2019     7         0  15  \n",
       "6421                      Car  2019    10         3  17  \n",
       "6441                      Car  2019    11         6   3  \n",
       "...                       ...   ...   ...       ...  ..  \n",
       "660672                    Car  2022     1         5  29  \n",
       "660675                    Car  2022     2         0  21  \n",
       "660676                    Car  2022     2         2  23  \n",
       "660677  Motorcycle over 500cc  2022     2         2  23  \n",
       "660678                    Car  2022     2         0  28  \n",
       "\n",
       "[183817 rows x 18 columns]"
      ]
     },
     "execution_count": 52,
     "metadata": {},
     "output_type": "execute_result"
    }
   ],
   "source": [
    "accident[(accident['Urban_or_Rural_Area'] == 'Rural') & (accident['Number_of_Casualties'])]"
   ]
  },
  {
   "cell_type": "markdown",
   "id": "54985ee0-4287-4235-818d-7903f64903e3",
   "metadata": {},
   "source": [
    "<h1>Insights 4.</h1>\n",
    "<h2>We can see above all the accidents in the Rural area.</h2>"
   ]
  },
  {
   "cell_type": "markdown",
   "id": "7aa954b0-b46d-471d-baef-a5fe65396cc8",
   "metadata": {},
   "source": [
    "<h1> 5. Which incident has the highest Vehicles involved?</h1>"
   ]
  },
  {
   "cell_type": "code",
   "execution_count": 53,
   "id": "068625ff-b9aa-4d3d-9172-53ee09b3dc2b",
   "metadata": {},
   "outputs": [
    {
     "data": {
      "text/plain": [
       "array([ 2,  3,  4,  1,  5,  6, 14,  8,  7, 11, 10,  9, 16, 13, 12, 28, 15,\n",
       "       32, 19])"
      ]
     },
     "execution_count": 53,
     "metadata": {},
     "output_type": "execute_result"
    }
   ],
   "source": [
    "accident['Number_of_Vehicles'].unique() "
   ]
  },
  {
   "cell_type": "code",
   "execution_count": 54,
   "id": "1e978318-a286-4180-8f14-8f30c864b85a",
   "metadata": {},
   "outputs": [
    {
     "data": {
      "text/html": [
       "<div>\n",
       "<style scoped>\n",
       "    .dataframe tbody tr th:only-of-type {\n",
       "        vertical-align: middle;\n",
       "    }\n",
       "\n",
       "    .dataframe tbody tr th {\n",
       "        vertical-align: top;\n",
       "    }\n",
       "\n",
       "    .dataframe thead th {\n",
       "        text-align: right;\n",
       "    }\n",
       "</style>\n",
       "<table border=\"1\" class=\"dataframe\">\n",
       "  <thead>\n",
       "    <tr style=\"text-align: right;\">\n",
       "      <th></th>\n",
       "      <th>Index</th>\n",
       "      <th>Accident_Severity</th>\n",
       "      <th>Accident Date</th>\n",
       "      <th>Latitude</th>\n",
       "      <th>Light_Conditions</th>\n",
       "      <th>District Area</th>\n",
       "      <th>Longitude</th>\n",
       "      <th>Number_of_Casualties</th>\n",
       "      <th>Number_of_Vehicles</th>\n",
       "      <th>Road_Surface_Conditions</th>\n",
       "      <th>Road_Type</th>\n",
       "      <th>Urban_or_Rural_Area</th>\n",
       "      <th>Weather_Conditions</th>\n",
       "      <th>Vehicle_Type</th>\n",
       "      <th>Year</th>\n",
       "      <th>Month</th>\n",
       "      <th>DayofWeek</th>\n",
       "      <th>Day</th>\n",
       "    </tr>\n",
       "  </thead>\n",
       "  <tbody>\n",
       "    <tr>\n",
       "      <th>497581</th>\n",
       "      <td>2009559D05333</td>\n",
       "      <td>Slight</td>\n",
       "      <td>2021-12-23</td>\n",
       "      <td>50.752096</td>\n",
       "      <td>Daylight</td>\n",
       "      <td>Purbeck</td>\n",
       "      <td>-2.254705</td>\n",
       "      <td>5</td>\n",
       "      <td>32</td>\n",
       "      <td>Frost or ice</td>\n",
       "      <td>Dual carriageway</td>\n",
       "      <td>Rural</td>\n",
       "      <td>Fine no high winds</td>\n",
       "      <td>Car</td>\n",
       "      <td>2021</td>\n",
       "      <td>12</td>\n",
       "      <td>3</td>\n",
       "      <td>23</td>\n",
       "    </tr>\n",
       "  </tbody>\n",
       "</table>\n",
       "</div>"
      ],
      "text/plain": [
       "                Index Accident_Severity Accident Date   Latitude  \\\n",
       "497581  2009559D05333            Slight    2021-12-23  50.752096   \n",
       "\n",
       "       Light_Conditions District Area Longitude  Number_of_Casualties  \\\n",
       "497581         Daylight       Purbeck -2.254705                     5   \n",
       "\n",
       "        Number_of_Vehicles Road_Surface_Conditions         Road_Type  \\\n",
       "497581                  32            Frost or ice  Dual carriageway   \n",
       "\n",
       "       Urban_or_Rural_Area  Weather_Conditions Vehicle_Type  Year Month  \\\n",
       "497581               Rural  Fine no high winds          Car  2021    12   \n",
       "\n",
       "       DayofWeek Day  \n",
       "497581         3  23  "
      ]
     },
     "execution_count": 54,
     "metadata": {},
     "output_type": "execute_result"
    }
   ],
   "source": [
    "accident[accident['Number_of_Vehicles'] == 32]"
   ]
  },
  {
   "cell_type": "markdown",
   "id": "5ed7f47b-a9fc-4e52-9e3a-b1fcc5105578",
   "metadata": {},
   "source": [
    "<h1>Insights</h1>\n",
    "<h2>The Vehicle involved in the incident is 32 Vehicles.</h2>"
   ]
  },
  {
   "cell_type": "markdown",
   "id": "915da080-c620-4577-98a4-dae361011292",
   "metadata": {},
   "source": [
    "<h1>6. Retrieve all Car incidents that have involved three or more additional vehicles.</h1>"
   ]
  },
  {
   "cell_type": "code",
   "execution_count": 55,
   "id": "071d3b12-aa9a-47ed-917a-e4340d28d658",
   "metadata": {},
   "outputs": [
    {
     "data": {
      "text/html": [
       "<div>\n",
       "<style scoped>\n",
       "    .dataframe tbody tr th:only-of-type {\n",
       "        vertical-align: middle;\n",
       "    }\n",
       "\n",
       "    .dataframe tbody tr th {\n",
       "        vertical-align: top;\n",
       "    }\n",
       "\n",
       "    .dataframe thead th {\n",
       "        text-align: right;\n",
       "    }\n",
       "</style>\n",
       "<table border=\"1\" class=\"dataframe\">\n",
       "  <thead>\n",
       "    <tr style=\"text-align: right;\">\n",
       "      <th></th>\n",
       "      <th>Index</th>\n",
       "      <th>Accident_Severity</th>\n",
       "      <th>Accident Date</th>\n",
       "      <th>Latitude</th>\n",
       "      <th>Light_Conditions</th>\n",
       "      <th>District Area</th>\n",
       "      <th>Longitude</th>\n",
       "      <th>Number_of_Casualties</th>\n",
       "      <th>Number_of_Vehicles</th>\n",
       "      <th>Road_Surface_Conditions</th>\n",
       "      <th>Road_Type</th>\n",
       "      <th>Urban_or_Rural_Area</th>\n",
       "      <th>Weather_Conditions</th>\n",
       "      <th>Vehicle_Type</th>\n",
       "      <th>Year</th>\n",
       "      <th>Month</th>\n",
       "      <th>DayofWeek</th>\n",
       "      <th>Day</th>\n",
       "    </tr>\n",
       "  </thead>\n",
       "  <tbody>\n",
       "    <tr>\n",
       "      <th>5</th>\n",
       "      <td>200701BS67159</td>\n",
       "      <td>Serious</td>\n",
       "      <td>2019-09-18</td>\n",
       "      <td>51.497750</td>\n",
       "      <td>Daylight</td>\n",
       "      <td>Kensington and Chelsea</td>\n",
       "      <td>-0.192556</td>\n",
       "      <td>2</td>\n",
       "      <td>3</td>\n",
       "      <td>Dry</td>\n",
       "      <td>Single carriageway</td>\n",
       "      <td>Urban</td>\n",
       "      <td>Fine no high winds</td>\n",
       "      <td>Car</td>\n",
       "      <td>2019</td>\n",
       "      <td>9</td>\n",
       "      <td>2</td>\n",
       "      <td>18</td>\n",
       "    </tr>\n",
       "    <tr>\n",
       "      <th>19</th>\n",
       "      <td>200701BS68237</td>\n",
       "      <td>Serious</td>\n",
       "      <td>2019-11-26</td>\n",
       "      <td>51.482988</td>\n",
       "      <td>Daylight</td>\n",
       "      <td>Kensington and Chelsea</td>\n",
       "      <td>-0.174272</td>\n",
       "      <td>1</td>\n",
       "      <td>4</td>\n",
       "      <td>Dry</td>\n",
       "      <td>Single carriageway</td>\n",
       "      <td>Urban</td>\n",
       "      <td>Fine no high winds</td>\n",
       "      <td>Car</td>\n",
       "      <td>2019</td>\n",
       "      <td>11</td>\n",
       "      <td>1</td>\n",
       "      <td>26</td>\n",
       "    </tr>\n",
       "    <tr>\n",
       "      <th>248</th>\n",
       "      <td>200701BS70255</td>\n",
       "      <td>Serious</td>\n",
       "      <td>2019-05-16</td>\n",
       "      <td>51.491632</td>\n",
       "      <td>Daylight</td>\n",
       "      <td>Kensington and Chelsea</td>\n",
       "      <td>-0.192366</td>\n",
       "      <td>1</td>\n",
       "      <td>3</td>\n",
       "      <td>Dry</td>\n",
       "      <td>Single carriageway</td>\n",
       "      <td>Urban</td>\n",
       "      <td>Fine no high winds</td>\n",
       "      <td>Car</td>\n",
       "      <td>2019</td>\n",
       "      <td>5</td>\n",
       "      <td>3</td>\n",
       "      <td>16</td>\n",
       "    </tr>\n",
       "    <tr>\n",
       "      <th>336</th>\n",
       "      <td>200701BS70350</td>\n",
       "      <td>Slight</td>\n",
       "      <td>2019-06-22</td>\n",
       "      <td>51.485178</td>\n",
       "      <td>Daylight</td>\n",
       "      <td>Kensington and Chelsea</td>\n",
       "      <td>-0.187868</td>\n",
       "      <td>1</td>\n",
       "      <td>3</td>\n",
       "      <td>Dry</td>\n",
       "      <td>One way street</td>\n",
       "      <td>Urban</td>\n",
       "      <td>Fine no high winds</td>\n",
       "      <td>Car</td>\n",
       "      <td>2019</td>\n",
       "      <td>6</td>\n",
       "      <td>5</td>\n",
       "      <td>22</td>\n",
       "    </tr>\n",
       "    <tr>\n",
       "      <th>354</th>\n",
       "      <td>200701BS70368</td>\n",
       "      <td>Slight</td>\n",
       "      <td>2019-06-29</td>\n",
       "      <td>51.482076</td>\n",
       "      <td>Darkness - lights lit</td>\n",
       "      <td>Kensington and Chelsea</td>\n",
       "      <td>-0.173445</td>\n",
       "      <td>1</td>\n",
       "      <td>3</td>\n",
       "      <td>Wet or damp</td>\n",
       "      <td>Single carriageway</td>\n",
       "      <td>Urban</td>\n",
       "      <td>Raining no high winds</td>\n",
       "      <td>Car</td>\n",
       "      <td>2019</td>\n",
       "      <td>6</td>\n",
       "      <td>5</td>\n",
       "      <td>29</td>\n",
       "    </tr>\n",
       "    <tr>\n",
       "      <th>...</th>\n",
       "      <td>...</td>\n",
       "      <td>...</td>\n",
       "      <td>...</td>\n",
       "      <td>...</td>\n",
       "      <td>...</td>\n",
       "      <td>...</td>\n",
       "      <td>...</td>\n",
       "      <td>...</td>\n",
       "      <td>...</td>\n",
       "      <td>...</td>\n",
       "      <td>...</td>\n",
       "      <td>...</td>\n",
       "      <td>...</td>\n",
       "      <td>...</td>\n",
       "      <td>...</td>\n",
       "      <td>...</td>\n",
       "      <td>...</td>\n",
       "      <td>...</td>\n",
       "    </tr>\n",
       "    <tr>\n",
       "      <th>660620</th>\n",
       "      <td>201091NK04948</td>\n",
       "      <td>Slight</td>\n",
       "      <td>2022-10-04</td>\n",
       "      <td>59.047179</td>\n",
       "      <td>Daylight</td>\n",
       "      <td>Orkney Islands</td>\n",
       "      <td>-3.196707</td>\n",
       "      <td>6</td>\n",
       "      <td>3</td>\n",
       "      <td>Dry</td>\n",
       "      <td>Roundabout</td>\n",
       "      <td>Rural</td>\n",
       "      <td>Fine no high winds</td>\n",
       "      <td>Car</td>\n",
       "      <td>2022</td>\n",
       "      <td>10</td>\n",
       "      <td>1</td>\n",
       "      <td>4</td>\n",
       "    </tr>\n",
       "    <tr>\n",
       "      <th>660641</th>\n",
       "      <td>201091NL04969</td>\n",
       "      <td>Slight</td>\n",
       "      <td>2022-09-04</td>\n",
       "      <td>60.151776</td>\n",
       "      <td>Darkness - lights lit</td>\n",
       "      <td>Shetland Islands</td>\n",
       "      <td>-1.148217</td>\n",
       "      <td>1</td>\n",
       "      <td>3</td>\n",
       "      <td>Dry</td>\n",
       "      <td>Single carriageway</td>\n",
       "      <td>Rural</td>\n",
       "      <td>Fine no high winds</td>\n",
       "      <td>Car</td>\n",
       "      <td>2022</td>\n",
       "      <td>9</td>\n",
       "      <td>6</td>\n",
       "      <td>4</td>\n",
       "    </tr>\n",
       "    <tr>\n",
       "      <th>660666</th>\n",
       "      <td>201091NM00770</td>\n",
       "      <td>Slight</td>\n",
       "      <td>2022-01-21</td>\n",
       "      <td>56.879446</td>\n",
       "      <td>Darkness - lighting unknown</td>\n",
       "      <td>Highland</td>\n",
       "      <td>-4.255357</td>\n",
       "      <td>2</td>\n",
       "      <td>4</td>\n",
       "      <td>Snow</td>\n",
       "      <td>Single carriageway</td>\n",
       "      <td>Rural</td>\n",
       "      <td>Snowing + high winds</td>\n",
       "      <td>Car</td>\n",
       "      <td>2022</td>\n",
       "      <td>1</td>\n",
       "      <td>4</td>\n",
       "      <td>21</td>\n",
       "    </tr>\n",
       "    <tr>\n",
       "      <th>660668</th>\n",
       "      <td>201091NM00839</td>\n",
       "      <td>Slight</td>\n",
       "      <td>2022-01-23</td>\n",
       "      <td>57.054889</td>\n",
       "      <td>Daylight</td>\n",
       "      <td>Highland</td>\n",
       "      <td>-4.130434</td>\n",
       "      <td>2</td>\n",
       "      <td>3</td>\n",
       "      <td>Frost or ice</td>\n",
       "      <td>Single carriageway</td>\n",
       "      <td>Rural</td>\n",
       "      <td>Other</td>\n",
       "      <td>Car</td>\n",
       "      <td>2022</td>\n",
       "      <td>1</td>\n",
       "      <td>6</td>\n",
       "      <td>23</td>\n",
       "    </tr>\n",
       "    <tr>\n",
       "      <th>660676</th>\n",
       "      <td>201091NM01935</td>\n",
       "      <td>Slight</td>\n",
       "      <td>2022-02-23</td>\n",
       "      <td>57.585044</td>\n",
       "      <td>Daylight</td>\n",
       "      <td>Highland</td>\n",
       "      <td>-3.862727</td>\n",
       "      <td>1</td>\n",
       "      <td>3</td>\n",
       "      <td>Frost or ice</td>\n",
       "      <td>Single carriageway</td>\n",
       "      <td>Rural</td>\n",
       "      <td>Fine no high winds</td>\n",
       "      <td>Car</td>\n",
       "      <td>2022</td>\n",
       "      <td>2</td>\n",
       "      <td>2</td>\n",
       "      <td>23</td>\n",
       "    </tr>\n",
       "  </tbody>\n",
       "</table>\n",
       "<p>51479 rows × 18 columns</p>\n",
       "</div>"
      ],
      "text/plain": [
       "                Index Accident_Severity Accident Date   Latitude  \\\n",
       "5       200701BS67159           Serious    2019-09-18  51.497750   \n",
       "19      200701BS68237           Serious    2019-11-26  51.482988   \n",
       "248     200701BS70255           Serious    2019-05-16  51.491632   \n",
       "336     200701BS70350            Slight    2019-06-22  51.485178   \n",
       "354     200701BS70368            Slight    2019-06-29  51.482076   \n",
       "...               ...               ...           ...        ...   \n",
       "660620  201091NK04948            Slight    2022-10-04  59.047179   \n",
       "660641  201091NL04969            Slight    2022-09-04  60.151776   \n",
       "660666  201091NM00770            Slight    2022-01-21  56.879446   \n",
       "660668  201091NM00839            Slight    2022-01-23  57.054889   \n",
       "660676  201091NM01935            Slight    2022-02-23  57.585044   \n",
       "\n",
       "                   Light_Conditions           District Area Longitude  \\\n",
       "5                          Daylight  Kensington and Chelsea -0.192556   \n",
       "19                         Daylight  Kensington and Chelsea -0.174272   \n",
       "248                        Daylight  Kensington and Chelsea -0.192366   \n",
       "336                        Daylight  Kensington and Chelsea -0.187868   \n",
       "354           Darkness - lights lit  Kensington and Chelsea -0.173445   \n",
       "...                             ...                     ...       ...   \n",
       "660620                     Daylight          Orkney Islands -3.196707   \n",
       "660641        Darkness - lights lit        Shetland Islands -1.148217   \n",
       "660666  Darkness - lighting unknown                Highland -4.255357   \n",
       "660668                     Daylight                Highland -4.130434   \n",
       "660676                     Daylight                Highland -3.862727   \n",
       "\n",
       "        Number_of_Casualties  Number_of_Vehicles Road_Surface_Conditions  \\\n",
       "5                          2                   3                     Dry   \n",
       "19                         1                   4                     Dry   \n",
       "248                        1                   3                     Dry   \n",
       "336                        1                   3                     Dry   \n",
       "354                        1                   3             Wet or damp   \n",
       "...                      ...                 ...                     ...   \n",
       "660620                     6                   3                     Dry   \n",
       "660641                     1                   3                     Dry   \n",
       "660666                     2                   4                    Snow   \n",
       "660668                     2                   3            Frost or ice   \n",
       "660676                     1                   3            Frost or ice   \n",
       "\n",
       "                 Road_Type Urban_or_Rural_Area     Weather_Conditions  \\\n",
       "5       Single carriageway               Urban     Fine no high winds   \n",
       "19      Single carriageway               Urban     Fine no high winds   \n",
       "248     Single carriageway               Urban     Fine no high winds   \n",
       "336         One way street               Urban     Fine no high winds   \n",
       "354     Single carriageway               Urban  Raining no high winds   \n",
       "...                    ...                 ...                    ...   \n",
       "660620          Roundabout               Rural     Fine no high winds   \n",
       "660641  Single carriageway               Rural     Fine no high winds   \n",
       "660666  Single carriageway               Rural   Snowing + high winds   \n",
       "660668  Single carriageway               Rural                  Other   \n",
       "660676  Single carriageway               Rural     Fine no high winds   \n",
       "\n",
       "       Vehicle_Type  Year Month DayofWeek Day  \n",
       "5               Car  2019     9         2  18  \n",
       "19              Car  2019    11         1  26  \n",
       "248             Car  2019     5         3  16  \n",
       "336             Car  2019     6         5  22  \n",
       "354             Car  2019     6         5  29  \n",
       "...             ...   ...   ...       ...  ..  \n",
       "660620          Car  2022    10         1   4  \n",
       "660641          Car  2022     9         6   4  \n",
       "660666          Car  2022     1         4  21  \n",
       "660668          Car  2022     1         6  23  \n",
       "660676          Car  2022     2         2  23  \n",
       "\n",
       "[51479 rows x 18 columns]"
      ]
     },
     "execution_count": 55,
     "metadata": {},
     "output_type": "execute_result"
    }
   ],
   "source": [
    "accident[(accident['Vehicle_Type'] == 'Car') & (accident['Number_of_Vehicles'] > 2)]"
   ]
  },
  {
   "cell_type": "markdown",
   "id": "1fe9278c-8001-4589-b7a3-ece89a1cd506",
   "metadata": {},
   "source": [
    "<h1>Insights</h1>\n",
    "<h2>Here are the car accidents that involve more than 3 Vehicles</h2>"
   ]
  },
  {
   "cell_type": "markdown",
   "id": "281744a3-a9a4-4804-9c37-93ac2649d5c5",
   "metadata": {},
   "source": [
    "<h1>7. Group the accidents by Accident_Severity and count the total number of cases in each category.</h1>"
   ]
  },
  {
   "cell_type": "code",
   "execution_count": 56,
   "id": "ae5c2582-efc9-41b0-ac5a-426b6a0532ab",
   "metadata": {},
   "outputs": [
    {
     "data": {
      "text/plain": [
       "Accident_Severity\n",
       "Fatal        8661\n",
       "Serious     88217\n",
       "Slight     563801\n",
       "dtype: int64"
      ]
     },
     "execution_count": 56,
     "metadata": {},
     "output_type": "execute_result"
    }
   ],
   "source": [
    "accident.groupby([\"Accident_Severity\"]).size()"
   ]
  },
  {
   "cell_type": "markdown",
   "id": "7c92f5f3-f21b-4eea-ab16-7c0db25d1ce3",
   "metadata": {},
   "source": [
    "<h1>Insights</h1>\n",
    "<h2>We can see now which condition of the accidents has the highest count.</h2>"
   ]
  },
  {
   "cell_type": "markdown",
   "id": "a6e643d2-b55d-426d-b15d-317f99908de1",
   "metadata": {},
   "source": [
    "<h1>8. Group accidents by Road_Surface_Conditions and count the number of accidents in each.</h1>"
   ]
  },
  {
   "cell_type": "code",
   "execution_count": 57,
   "id": "4a0a4023-5fbe-40a3-b049-df649c47dddb",
   "metadata": {},
   "outputs": [
    {
     "data": {
      "text/plain": [
       "Road_Surface_Conditions\n",
       "Dry                     447821\n",
       "Flood over 3cm. deep      1017\n",
       "Frost or ice             18517\n",
       "Snow                      5890\n",
       "Wet or damp             186708\n",
       "unknown condition          726\n",
       "dtype: int64"
      ]
     },
     "execution_count": 57,
     "metadata": {},
     "output_type": "execute_result"
    }
   ],
   "source": [
    "accident.groupby([\"Road_Surface_Conditions\"]).size()"
   ]
  },
  {
   "cell_type": "markdown",
   "id": "42f8b545-8594-4867-ab0a-bd94c292c216",
   "metadata": {},
   "source": [
    "<h1>Insights</h1>\n",
    "<h2>By using groupby, we see each category of Road condition in each accident.</h2>"
   ]
  },
  {
   "cell_type": "markdown",
   "id": "52bde751-ab8d-4625-badc-2be03acacb83",
   "metadata": {},
   "source": [
    "<h1>9.Correlation between number of casualties and number of vehicles?</h1>"
   ]
  },
  {
   "cell_type": "code",
   "execution_count": 58,
   "id": "c4134d03-cd3f-4440-a486-c8ae988eb96b",
   "metadata": {},
   "outputs": [
    {
     "data": {
      "text/plain": [
       "np.float64(0.2288888612692756)"
      ]
     },
     "execution_count": 58,
     "metadata": {},
     "output_type": "execute_result"
    }
   ],
   "source": [
    "accident[\"Number_of_Casualties\"].corr(accident[\"Number_of_Vehicles\"])"
   ]
  },
  {
   "cell_type": "markdown",
   "id": "a609896d-f720-4227-a162-bb4bfb92553e",
   "metadata": {},
   "source": [
    "<h1>Insights</h1>\n",
    "<h2>there is no correlation for Number_of_Casualties and Number_of_Vehicles.</h2>"
   ]
  },
  {
   "cell_type": "markdown",
   "id": "329b2e6c-083a-4836-9eec-ed7cc35066a4",
   "metadata": {},
   "source": [
    "<h1>10. Which vehicle type is most frequently involved in accidents?\n",
    "</h1>"
   ]
  },
  {
   "cell_type": "code",
   "execution_count": 59,
   "id": "e34c456c-4a38-4aec-b43f-d1404e472763",
   "metadata": {},
   "outputs": [
    {
     "data": {
      "text/plain": [
       "Vehicle_Type\n",
       "Car                                      497992\n",
       "Van / Goods 3.5 tonnes mgw or under       34160\n",
       "Bus or coach (17 or more pass seats)      25878\n",
       "Motorcycle over 500cc                     25657\n",
       "Goods 7.5 tonnes mgw and over             17307\n",
       "Motorcycle 125cc and under                15269\n",
       "Taxi/Private hire car                     13294\n",
       "Motorcycle over 125cc and up to 500cc      7656\n",
       "Motorcycle 50cc and under                  7603\n",
       "Goods over 3.5t. and under 7.5t            6096\n",
       "Other vehicle                              5637\n",
       "Minibus (8 - 16 passenger seats)           1976\n",
       "Agricultural vehicle                       1947\n",
       "Pedal cycle                                 197\n",
       "Data missing or out of range                  6\n",
       "Ridden horse                                  4\n",
       "Name: count, dtype: int64"
      ]
     },
     "execution_count": 59,
     "metadata": {},
     "output_type": "execute_result"
    }
   ],
   "source": [
    "accident[\"Vehicle_Type\"].value_counts()"
   ]
  },
  {
   "cell_type": "markdown",
   "id": "3c921961-a7ee-4aea-a8cf-a7beb26eabf3",
   "metadata": {},
   "source": [
    "<h1>Insights</h1>"
   ]
  },
  {
   "cell_type": "markdown",
   "id": "8b82a4c9-cee6-41c4-8135-00bf815f8b11",
   "metadata": {},
   "source": [
    "<h2>there was the most frequently involved in accidents is car that has 497992 accidents.</h2>"
   ]
  },
  {
   "cell_type": "markdown",
   "id": "ec13087a-6fb9-4475-9d00-8cff16176abd",
   "metadata": {},
   "source": [
    "<h1>Insights for year 2019</h1>"
   ]
  },
  {
   "cell_type": "code",
   "execution_count": 60,
   "id": "1a1a766c-875b-48d1-a5ad-ba3cefa5b21c",
   "metadata": {},
   "outputs": [
    {
     "data": {
      "text/html": [
       "<div>\n",
       "<style scoped>\n",
       "    .dataframe tbody tr th:only-of-type {\n",
       "        vertical-align: middle;\n",
       "    }\n",
       "\n",
       "    .dataframe tbody tr th {\n",
       "        vertical-align: top;\n",
       "    }\n",
       "\n",
       "    .dataframe thead th {\n",
       "        text-align: right;\n",
       "    }\n",
       "</style>\n",
       "<table border=\"1\" class=\"dataframe\">\n",
       "  <thead>\n",
       "    <tr style=\"text-align: right;\">\n",
       "      <th></th>\n",
       "      <th>Index</th>\n",
       "      <th>Accident_Severity</th>\n",
       "      <th>Accident Date</th>\n",
       "      <th>Latitude</th>\n",
       "      <th>Light_Conditions</th>\n",
       "      <th>District Area</th>\n",
       "      <th>Longitude</th>\n",
       "      <th>Number_of_Casualties</th>\n",
       "      <th>Number_of_Vehicles</th>\n",
       "      <th>Road_Surface_Conditions</th>\n",
       "      <th>Road_Type</th>\n",
       "      <th>Urban_or_Rural_Area</th>\n",
       "      <th>Weather_Conditions</th>\n",
       "      <th>Vehicle_Type</th>\n",
       "      <th>Year</th>\n",
       "      <th>Month</th>\n",
       "      <th>DayofWeek</th>\n",
       "      <th>Day</th>\n",
       "    </tr>\n",
       "  </thead>\n",
       "  <tbody>\n",
       "    <tr>\n",
       "      <th>0</th>\n",
       "      <td>200701BS64157</td>\n",
       "      <td>Serious</td>\n",
       "      <td>2019-06-05</td>\n",
       "      <td>51.506187</td>\n",
       "      <td>Darkness - lights lit</td>\n",
       "      <td>Kensington and Chelsea</td>\n",
       "      <td>-0.209082</td>\n",
       "      <td>1</td>\n",
       "      <td>2</td>\n",
       "      <td>Dry</td>\n",
       "      <td>Single carriageway</td>\n",
       "      <td>Urban</td>\n",
       "      <td>Fine no high winds</td>\n",
       "      <td>Car</td>\n",
       "      <td>2019</td>\n",
       "      <td>6</td>\n",
       "      <td>2</td>\n",
       "      <td>5</td>\n",
       "    </tr>\n",
       "    <tr>\n",
       "      <th>1</th>\n",
       "      <td>200701BS65737</td>\n",
       "      <td>Serious</td>\n",
       "      <td>2019-07-02</td>\n",
       "      <td>51.495029</td>\n",
       "      <td>Daylight</td>\n",
       "      <td>Kensington and Chelsea</td>\n",
       "      <td>-0.173647</td>\n",
       "      <td>1</td>\n",
       "      <td>2</td>\n",
       "      <td>Wet or damp</td>\n",
       "      <td>Single carriageway</td>\n",
       "      <td>Urban</td>\n",
       "      <td>Raining no high winds</td>\n",
       "      <td>Car</td>\n",
       "      <td>2019</td>\n",
       "      <td>7</td>\n",
       "      <td>1</td>\n",
       "      <td>2</td>\n",
       "    </tr>\n",
       "    <tr>\n",
       "      <th>2</th>\n",
       "      <td>200701BS66127</td>\n",
       "      <td>Serious</td>\n",
       "      <td>2019-08-26</td>\n",
       "      <td>51.517715</td>\n",
       "      <td>Darkness - lighting unknown</td>\n",
       "      <td>Kensington and Chelsea</td>\n",
       "      <td>-0.210215</td>\n",
       "      <td>1</td>\n",
       "      <td>3</td>\n",
       "      <td>Dry</td>\n",
       "      <td>Single carriageway</td>\n",
       "      <td>Urban</td>\n",
       "      <td>unknown weather</td>\n",
       "      <td>Taxi/Private hire car</td>\n",
       "      <td>2019</td>\n",
       "      <td>8</td>\n",
       "      <td>0</td>\n",
       "      <td>26</td>\n",
       "    </tr>\n",
       "    <tr>\n",
       "      <th>3</th>\n",
       "      <td>200701BS66128</td>\n",
       "      <td>Serious</td>\n",
       "      <td>2019-08-16</td>\n",
       "      <td>51.495478</td>\n",
       "      <td>Daylight</td>\n",
       "      <td>Kensington and Chelsea</td>\n",
       "      <td>-0.202731</td>\n",
       "      <td>1</td>\n",
       "      <td>4</td>\n",
       "      <td>Dry</td>\n",
       "      <td>Single carriageway</td>\n",
       "      <td>Urban</td>\n",
       "      <td>Fine no high winds</td>\n",
       "      <td>Bus or coach (17 or more pass seats)</td>\n",
       "      <td>2019</td>\n",
       "      <td>8</td>\n",
       "      <td>4</td>\n",
       "      <td>16</td>\n",
       "    </tr>\n",
       "    <tr>\n",
       "      <th>4</th>\n",
       "      <td>200701BS66837</td>\n",
       "      <td>Slight</td>\n",
       "      <td>2019-09-03</td>\n",
       "      <td>51.488576</td>\n",
       "      <td>Darkness - lights lit</td>\n",
       "      <td>Kensington and Chelsea</td>\n",
       "      <td>-0.192487</td>\n",
       "      <td>1</td>\n",
       "      <td>2</td>\n",
       "      <td>Dry</td>\n",
       "      <td>Single carriageway</td>\n",
       "      <td>Urban</td>\n",
       "      <td>unknown weather</td>\n",
       "      <td>Other vehicle</td>\n",
       "      <td>2019</td>\n",
       "      <td>9</td>\n",
       "      <td>1</td>\n",
       "      <td>3</td>\n",
       "    </tr>\n",
       "    <tr>\n",
       "      <th>...</th>\n",
       "      <td>...</td>\n",
       "      <td>...</td>\n",
       "      <td>...</td>\n",
       "      <td>...</td>\n",
       "      <td>...</td>\n",
       "      <td>...</td>\n",
       "      <td>...</td>\n",
       "      <td>...</td>\n",
       "      <td>...</td>\n",
       "      <td>...</td>\n",
       "      <td>...</td>\n",
       "      <td>...</td>\n",
       "      <td>...</td>\n",
       "      <td>...</td>\n",
       "      <td>...</td>\n",
       "      <td>...</td>\n",
       "      <td>...</td>\n",
       "      <td>...</td>\n",
       "    </tr>\n",
       "    <tr>\n",
       "      <th>182110</th>\n",
       "      <td>2.01E+12</td>\n",
       "      <td>Slight</td>\n",
       "      <td>2019-12-20</td>\n",
       "      <td>54.985289</td>\n",
       "      <td>Darkness - no lighting</td>\n",
       "      <td>Dumfries and Galloway</td>\n",
       "      <td>-3.210294</td>\n",
       "      <td>1</td>\n",
       "      <td>1</td>\n",
       "      <td>Frost or ice</td>\n",
       "      <td>Single carriageway</td>\n",
       "      <td>Rural</td>\n",
       "      <td>Other</td>\n",
       "      <td>Car</td>\n",
       "      <td>2019</td>\n",
       "      <td>12</td>\n",
       "      <td>4</td>\n",
       "      <td>20</td>\n",
       "    </tr>\n",
       "    <tr>\n",
       "      <th>182111</th>\n",
       "      <td>2.01E+12</td>\n",
       "      <td>Serious</td>\n",
       "      <td>2019-12-21</td>\n",
       "      <td>54.984105</td>\n",
       "      <td>Daylight</td>\n",
       "      <td>Dumfries and Galloway</td>\n",
       "      <td>-3.193693</td>\n",
       "      <td>2</td>\n",
       "      <td>1</td>\n",
       "      <td>Frost or ice</td>\n",
       "      <td>Single carriageway</td>\n",
       "      <td>Rural</td>\n",
       "      <td>Other</td>\n",
       "      <td>Car</td>\n",
       "      <td>2019</td>\n",
       "      <td>12</td>\n",
       "      <td>5</td>\n",
       "      <td>21</td>\n",
       "    </tr>\n",
       "    <tr>\n",
       "      <th>182112</th>\n",
       "      <td>2.01E+12</td>\n",
       "      <td>Slight</td>\n",
       "      <td>2019-12-23</td>\n",
       "      <td>55.166369</td>\n",
       "      <td>Darkness - no lighting</td>\n",
       "      <td>Dumfries and Galloway</td>\n",
       "      <td>-2.992068</td>\n",
       "      <td>1</td>\n",
       "      <td>1</td>\n",
       "      <td>Frost or ice</td>\n",
       "      <td>Single carriageway</td>\n",
       "      <td>Rural</td>\n",
       "      <td>Fog or mist</td>\n",
       "      <td>Van / Goods 3.5 tonnes mgw or under</td>\n",
       "      <td>2019</td>\n",
       "      <td>12</td>\n",
       "      <td>0</td>\n",
       "      <td>23</td>\n",
       "    </tr>\n",
       "    <tr>\n",
       "      <th>182113</th>\n",
       "      <td>2.01E+12</td>\n",
       "      <td>Slight</td>\n",
       "      <td>2019-12-23</td>\n",
       "      <td>54.995154</td>\n",
       "      <td>Darkness - lights lit</td>\n",
       "      <td>Dumfries and Galloway</td>\n",
       "      <td>-3.058338</td>\n",
       "      <td>1</td>\n",
       "      <td>1</td>\n",
       "      <td>Wet or damp</td>\n",
       "      <td>Single carriageway</td>\n",
       "      <td>Rural</td>\n",
       "      <td>Fine no high winds</td>\n",
       "      <td>Car</td>\n",
       "      <td>2019</td>\n",
       "      <td>12</td>\n",
       "      <td>0</td>\n",
       "      <td>23</td>\n",
       "    </tr>\n",
       "    <tr>\n",
       "      <th>182114</th>\n",
       "      <td>2.01E+12</td>\n",
       "      <td>Serious</td>\n",
       "      <td>2019-12-22</td>\n",
       "      <td>55.104618</td>\n",
       "      <td>Daylight</td>\n",
       "      <td>Dumfries and Galloway</td>\n",
       "      <td>-3.348857</td>\n",
       "      <td>2</td>\n",
       "      <td>2</td>\n",
       "      <td>Frost or ice</td>\n",
       "      <td>Single carriageway</td>\n",
       "      <td>Rural</td>\n",
       "      <td>Raining no high winds</td>\n",
       "      <td>Car</td>\n",
       "      <td>2019</td>\n",
       "      <td>12</td>\n",
       "      <td>6</td>\n",
       "      <td>22</td>\n",
       "    </tr>\n",
       "  </tbody>\n",
       "</table>\n",
       "<p>182115 rows × 18 columns</p>\n",
       "</div>"
      ],
      "text/plain": [
       "                Index Accident_Severity Accident Date   Latitude  \\\n",
       "0       200701BS64157           Serious    2019-06-05  51.506187   \n",
       "1       200701BS65737           Serious    2019-07-02  51.495029   \n",
       "2       200701BS66127           Serious    2019-08-26  51.517715   \n",
       "3       200701BS66128           Serious    2019-08-16  51.495478   \n",
       "4       200701BS66837            Slight    2019-09-03  51.488576   \n",
       "...               ...               ...           ...        ...   \n",
       "182110       2.01E+12            Slight    2019-12-20  54.985289   \n",
       "182111       2.01E+12           Serious    2019-12-21  54.984105   \n",
       "182112       2.01E+12            Slight    2019-12-23  55.166369   \n",
       "182113       2.01E+12            Slight    2019-12-23  54.995154   \n",
       "182114       2.01E+12           Serious    2019-12-22  55.104618   \n",
       "\n",
       "                   Light_Conditions           District Area Longitude  \\\n",
       "0             Darkness - lights lit  Kensington and Chelsea -0.209082   \n",
       "1                          Daylight  Kensington and Chelsea -0.173647   \n",
       "2       Darkness - lighting unknown  Kensington and Chelsea -0.210215   \n",
       "3                          Daylight  Kensington and Chelsea -0.202731   \n",
       "4             Darkness - lights lit  Kensington and Chelsea -0.192487   \n",
       "...                             ...                     ...       ...   \n",
       "182110       Darkness - no lighting   Dumfries and Galloway -3.210294   \n",
       "182111                     Daylight   Dumfries and Galloway -3.193693   \n",
       "182112       Darkness - no lighting   Dumfries and Galloway -2.992068   \n",
       "182113        Darkness - lights lit   Dumfries and Galloway -3.058338   \n",
       "182114                     Daylight   Dumfries and Galloway -3.348857   \n",
       "\n",
       "        Number_of_Casualties  Number_of_Vehicles Road_Surface_Conditions  \\\n",
       "0                          1                   2                     Dry   \n",
       "1                          1                   2             Wet or damp   \n",
       "2                          1                   3                     Dry   \n",
       "3                          1                   4                     Dry   \n",
       "4                          1                   2                     Dry   \n",
       "...                      ...                 ...                     ...   \n",
       "182110                     1                   1            Frost or ice   \n",
       "182111                     2                   1            Frost or ice   \n",
       "182112                     1                   1            Frost or ice   \n",
       "182113                     1                   1             Wet or damp   \n",
       "182114                     2                   2            Frost or ice   \n",
       "\n",
       "                 Road_Type Urban_or_Rural_Area     Weather_Conditions  \\\n",
       "0       Single carriageway               Urban     Fine no high winds   \n",
       "1       Single carriageway               Urban  Raining no high winds   \n",
       "2       Single carriageway               Urban        unknown weather   \n",
       "3       Single carriageway               Urban     Fine no high winds   \n",
       "4       Single carriageway               Urban        unknown weather   \n",
       "...                    ...                 ...                    ...   \n",
       "182110  Single carriageway               Rural                  Other   \n",
       "182111  Single carriageway               Rural                  Other   \n",
       "182112  Single carriageway               Rural            Fog or mist   \n",
       "182113  Single carriageway               Rural     Fine no high winds   \n",
       "182114  Single carriageway               Rural  Raining no high winds   \n",
       "\n",
       "                                Vehicle_Type  Year Month DayofWeek Day  \n",
       "0                                        Car  2019     6         2   5  \n",
       "1                                        Car  2019     7         1   2  \n",
       "2                      Taxi/Private hire car  2019     8         0  26  \n",
       "3       Bus or coach (17 or more pass seats)  2019     8         4  16  \n",
       "4                              Other vehicle  2019     9         1   3  \n",
       "...                                      ...   ...   ...       ...  ..  \n",
       "182110                                   Car  2019    12         4  20  \n",
       "182111                                   Car  2019    12         5  21  \n",
       "182112   Van / Goods 3.5 tonnes mgw or under  2019    12         0  23  \n",
       "182113                                   Car  2019    12         0  23  \n",
       "182114                                   Car  2019    12         6  22  \n",
       "\n",
       "[182115 rows x 18 columns]"
      ]
     },
     "execution_count": 60,
     "metadata": {},
     "output_type": "execute_result"
    }
   ],
   "source": [
    "accident[accident['Year'] == 2019]"
   ]
  },
  {
   "cell_type": "code",
   "execution_count": 61,
   "id": "90d158c1-d9f4-4c6f-bc8a-a1be92d4d503",
   "metadata": {},
   "outputs": [],
   "source": [
    "year19 = accident[accident['Year'] == 2019]"
   ]
  },
  {
   "cell_type": "code",
   "execution_count": 62,
   "id": "b421a38e-a5a6-4dcc-9691-22b8f096db62",
   "metadata": {},
   "outputs": [
    {
     "data": {
      "text/plain": [
       "Accident_Severity\n",
       "Slight     155079\n",
       "Serious     24322\n",
       "Fatal        2714\n",
       "Name: count, dtype: int64"
      ]
     },
     "execution_count": 62,
     "metadata": {},
     "output_type": "execute_result"
    }
   ],
   "source": [
    "year19['Accident_Severity'].value_counts()"
   ]
  },
  {
   "cell_type": "code",
   "execution_count": 63,
   "id": "9463587c-11a2-45aa-95e4-886926b85470",
   "metadata": {},
   "outputs": [],
   "source": [
    "fatal = year19[year19['Accident_Severity'] =='Fatal']"
   ]
  },
  {
   "cell_type": "code",
   "execution_count": 64,
   "id": "b11a70da-3c0c-4373-993b-de73e751de7d",
   "metadata": {},
   "outputs": [
    {
     "data": {
      "text/plain": [
       "Urban_or_Rural_Area\n",
       "Rural          1773\n",
       "Urban           941\n",
       "Unallocated       0\n",
       "Name: count, dtype: int64"
      ]
     },
     "execution_count": 64,
     "metadata": {},
     "output_type": "execute_result"
    }
   ],
   "source": [
    "fatal['Urban_or_Rural_Area'].value_counts()"
   ]
  },
  {
   "cell_type": "markdown",
   "id": "1e1044e1-597e-437a-b864-4537f160944f",
   "metadata": {},
   "source": [
    "<h1>11. In year 2019, Rural area has 65.32% fatality rate while only 34.66% happened in urban areas indicating that majority of fatal accidents happened in Rural Area</h1>"
   ]
  },
  {
   "cell_type": "code",
   "execution_count": 65,
   "id": "e2241306-3d00-45f4-9a69-c413e10d8470",
   "metadata": {},
   "outputs": [],
   "source": [
    "rural_v_type = fatal[fatal['Urban_or_Rural_Area']=='Rural']"
   ]
  },
  {
   "cell_type": "code",
   "execution_count": 66,
   "id": "5e54970f-a8d9-43d7-a8a8-8e5c08919f0d",
   "metadata": {},
   "outputs": [
    {
     "data": {
      "text/plain": [
       "Vehicle_Type\n",
       "Car                                      1278\n",
       "Bus or coach (17 or more pass seats)      105\n",
       "Van / Goods 3.5 tonnes mgw or under        92\n",
       "Goods 7.5 tonnes mgw and over              74\n",
       "Motorcycle over 500cc                      71\n",
       "Motorcycle 125cc and under                 44\n",
       "Taxi/Private hire car                      28\n",
       "Motorcycle over 125cc and up to 500cc      21\n",
       "Goods over 3.5t. and under 7.5t            17\n",
       "Motorcycle 50cc and under                  15\n",
       "Other vehicle                              11\n",
       "Minibus (8 - 16 passenger seats)            8\n",
       "Agricultural vehicle                        6\n",
       "Pedal cycle                                 3\n",
       "Data missing or out of range                0\n",
       "Ridden horse                                0\n",
       "Name: count, dtype: int64"
      ]
     },
     "execution_count": 66,
     "metadata": {},
     "output_type": "execute_result"
    }
   ],
   "source": [
    "rural_v_type['Vehicle_Type'].value_counts()"
   ]
  },
  {
   "cell_type": "code",
   "execution_count": 67,
   "id": "04493495-6384-4ae9-a98b-4dca1492ea62",
   "metadata": {},
   "outputs": [],
   "source": [
    "dof_type_rural = rural_v_type.groupby(['DayofWeek','Road_Type']).size()"
   ]
  },
  {
   "cell_type": "code",
   "execution_count": 68,
   "id": "7884677f-73b5-42ac-a593-3e8dc657ac23",
   "metadata": {},
   "outputs": [
    {
     "data": {
      "text/html": [
       "<div>\n",
       "<style scoped>\n",
       "    .dataframe tbody tr th:only-of-type {\n",
       "        vertical-align: middle;\n",
       "    }\n",
       "\n",
       "    .dataframe tbody tr th {\n",
       "        vertical-align: top;\n",
       "    }\n",
       "\n",
       "    .dataframe thead th {\n",
       "        text-align: right;\n",
       "    }\n",
       "</style>\n",
       "<table border=\"1\" class=\"dataframe\">\n",
       "  <thead>\n",
       "    <tr style=\"text-align: right;\">\n",
       "      <th>Road_Type</th>\n",
       "      <th>Dual carriageway</th>\n",
       "      <th>One way street</th>\n",
       "      <th>Roundabout</th>\n",
       "      <th>Single carriageway</th>\n",
       "      <th>Slip road</th>\n",
       "    </tr>\n",
       "    <tr>\n",
       "      <th>DayofWeek</th>\n",
       "      <th></th>\n",
       "      <th></th>\n",
       "      <th></th>\n",
       "      <th></th>\n",
       "      <th></th>\n",
       "    </tr>\n",
       "  </thead>\n",
       "  <tbody>\n",
       "    <tr>\n",
       "      <th>0</th>\n",
       "      <td>52</td>\n",
       "      <td>0</td>\n",
       "      <td>5</td>\n",
       "      <td>236</td>\n",
       "      <td>3</td>\n",
       "    </tr>\n",
       "    <tr>\n",
       "      <th>1</th>\n",
       "      <td>67</td>\n",
       "      <td>3</td>\n",
       "      <td>1</td>\n",
       "      <td>187</td>\n",
       "      <td>0</td>\n",
       "    </tr>\n",
       "    <tr>\n",
       "      <th>2</th>\n",
       "      <td>55</td>\n",
       "      <td>0</td>\n",
       "      <td>1</td>\n",
       "      <td>180</td>\n",
       "      <td>2</td>\n",
       "    </tr>\n",
       "    <tr>\n",
       "      <th>3</th>\n",
       "      <td>45</td>\n",
       "      <td>0</td>\n",
       "      <td>2</td>\n",
       "      <td>164</td>\n",
       "      <td>4</td>\n",
       "    </tr>\n",
       "    <tr>\n",
       "      <th>4</th>\n",
       "      <td>48</td>\n",
       "      <td>0</td>\n",
       "      <td>2</td>\n",
       "      <td>177</td>\n",
       "      <td>2</td>\n",
       "    </tr>\n",
       "    <tr>\n",
       "      <th>5</th>\n",
       "      <td>44</td>\n",
       "      <td>0</td>\n",
       "      <td>3</td>\n",
       "      <td>191</td>\n",
       "      <td>1</td>\n",
       "    </tr>\n",
       "    <tr>\n",
       "      <th>6</th>\n",
       "      <td>49</td>\n",
       "      <td>1</td>\n",
       "      <td>2</td>\n",
       "      <td>244</td>\n",
       "      <td>2</td>\n",
       "    </tr>\n",
       "  </tbody>\n",
       "</table>\n",
       "</div>"
      ],
      "text/plain": [
       "Road_Type  Dual carriageway  One way street  Roundabout  Single carriageway  \\\n",
       "DayofWeek                                                                     \n",
       "0                        52               0           5                 236   \n",
       "1                        67               3           1                 187   \n",
       "2                        55               0           1                 180   \n",
       "3                        45               0           2                 164   \n",
       "4                        48               0           2                 177   \n",
       "5                        44               0           3                 191   \n",
       "6                        49               1           2                 244   \n",
       "\n",
       "Road_Type  Slip road  \n",
       "DayofWeek             \n",
       "0                  3  \n",
       "1                  0  \n",
       "2                  2  \n",
       "3                  4  \n",
       "4                  2  \n",
       "5                  1  \n",
       "6                  2  "
      ]
     },
     "execution_count": 68,
     "metadata": {},
     "output_type": "execute_result"
    }
   ],
   "source": [
    "dof_type_rural.unstack()"
   ]
  },
  {
   "cell_type": "code",
   "execution_count": 69,
   "id": "9ccf6a6f-3e36-460c-b3b4-97fc21e2dd2f",
   "metadata": {},
   "outputs": [],
   "source": [
    "urban_v_type = fatal[fatal['Urban_or_Rural_Area']=='Urban']"
   ]
  },
  {
   "cell_type": "code",
   "execution_count": 70,
   "id": "bb76f489-72b7-4674-92ec-c64fc17ee89c",
   "metadata": {},
   "outputs": [
    {
     "data": {
      "text/plain": [
       "Vehicle_Type\n",
       "Car                                      670\n",
       "Van / Goods 3.5 tonnes mgw or under       48\n",
       "Bus or coach (17 or more pass seats)      47\n",
       "Motorcycle over 500cc                     36\n",
       "Motorcycle 125cc and under                32\n",
       "Goods 7.5 tonnes mgw and over             32\n",
       "Taxi/Private hire car                     22\n",
       "Motorcycle 50cc and under                 20\n",
       "Motorcycle over 125cc and up to 500cc     16\n",
       "Goods over 3.5t. and under 7.5t            9\n",
       "Other vehicle                              4\n",
       "Minibus (8 - 16 passenger seats)           3\n",
       "Pedal cycle                                1\n",
       "Agricultural vehicle                       1\n",
       "Data missing or out of range               0\n",
       "Ridden horse                               0\n",
       "Name: count, dtype: int64"
      ]
     },
     "execution_count": 70,
     "metadata": {},
     "output_type": "execute_result"
    }
   ],
   "source": [
    "urban_v_type['Vehicle_Type'].value_counts()"
   ]
  },
  {
   "cell_type": "code",
   "execution_count": 71,
   "id": "9ce56eca-25d4-4743-9150-9479d0c94fe5",
   "metadata": {},
   "outputs": [],
   "source": [
    "dof_type = urban_v_type.groupby(['DayofWeek','Road_Type']).size()"
   ]
  },
  {
   "cell_type": "code",
   "execution_count": 72,
   "id": "b5b74b5d-e048-414d-9a14-7f564d01aa8d",
   "metadata": {},
   "outputs": [
    {
     "data": {
      "text/html": [
       "<div>\n",
       "<style scoped>\n",
       "    .dataframe tbody tr th:only-of-type {\n",
       "        vertical-align: middle;\n",
       "    }\n",
       "\n",
       "    .dataframe tbody tr th {\n",
       "        vertical-align: top;\n",
       "    }\n",
       "\n",
       "    .dataframe thead th {\n",
       "        text-align: right;\n",
       "    }\n",
       "</style>\n",
       "<table border=\"1\" class=\"dataframe\">\n",
       "  <thead>\n",
       "    <tr style=\"text-align: right;\">\n",
       "      <th>Road_Type</th>\n",
       "      <th>Dual carriageway</th>\n",
       "      <th>One way street</th>\n",
       "      <th>Roundabout</th>\n",
       "      <th>Single carriageway</th>\n",
       "      <th>Slip road</th>\n",
       "    </tr>\n",
       "    <tr>\n",
       "      <th>DayofWeek</th>\n",
       "      <th></th>\n",
       "      <th></th>\n",
       "      <th></th>\n",
       "      <th></th>\n",
       "      <th></th>\n",
       "    </tr>\n",
       "  </thead>\n",
       "  <tbody>\n",
       "    <tr>\n",
       "      <th>0</th>\n",
       "      <td>23</td>\n",
       "      <td>3</td>\n",
       "      <td>4</td>\n",
       "      <td>72</td>\n",
       "      <td>1</td>\n",
       "    </tr>\n",
       "    <tr>\n",
       "      <th>1</th>\n",
       "      <td>26</td>\n",
       "      <td>3</td>\n",
       "      <td>1</td>\n",
       "      <td>98</td>\n",
       "      <td>1</td>\n",
       "    </tr>\n",
       "    <tr>\n",
       "      <th>2</th>\n",
       "      <td>28</td>\n",
       "      <td>4</td>\n",
       "      <td>1</td>\n",
       "      <td>97</td>\n",
       "      <td>2</td>\n",
       "    </tr>\n",
       "    <tr>\n",
       "      <th>3</th>\n",
       "      <td>25</td>\n",
       "      <td>2</td>\n",
       "      <td>3</td>\n",
       "      <td>99</td>\n",
       "      <td>0</td>\n",
       "    </tr>\n",
       "    <tr>\n",
       "      <th>4</th>\n",
       "      <td>30</td>\n",
       "      <td>8</td>\n",
       "      <td>5</td>\n",
       "      <td>90</td>\n",
       "      <td>3</td>\n",
       "    </tr>\n",
       "    <tr>\n",
       "      <th>5</th>\n",
       "      <td>31</td>\n",
       "      <td>3</td>\n",
       "      <td>0</td>\n",
       "      <td>109</td>\n",
       "      <td>1</td>\n",
       "    </tr>\n",
       "    <tr>\n",
       "      <th>6</th>\n",
       "      <td>34</td>\n",
       "      <td>4</td>\n",
       "      <td>3</td>\n",
       "      <td>126</td>\n",
       "      <td>1</td>\n",
       "    </tr>\n",
       "  </tbody>\n",
       "</table>\n",
       "</div>"
      ],
      "text/plain": [
       "Road_Type  Dual carriageway  One way street  Roundabout  Single carriageway  \\\n",
       "DayofWeek                                                                     \n",
       "0                        23               3           4                  72   \n",
       "1                        26               3           1                  98   \n",
       "2                        28               4           1                  97   \n",
       "3                        25               2           3                  99   \n",
       "4                        30               8           5                  90   \n",
       "5                        31               3           0                 109   \n",
       "6                        34               4           3                 126   \n",
       "\n",
       "Road_Type  Slip road  \n",
       "DayofWeek             \n",
       "0                  1  \n",
       "1                  1  \n",
       "2                  2  \n",
       "3                  0  \n",
       "4                  3  \n",
       "5                  1  \n",
       "6                  1  "
      ]
     },
     "execution_count": 72,
     "metadata": {},
     "output_type": "execute_result"
    }
   ],
   "source": [
    "dof_type.unstack()"
   ]
  },
  {
   "cell_type": "markdown",
   "id": "247221d9-2e94-45d7-b8f6-f4829a659a1b",
   "metadata": {},
   "source": [
    "<h1>12. Cars dominate fatalities in both rural (72.1%) and urban (71.2%) areas.</h1>"
   ]
  },
  {
   "cell_type": "markdown",
   "id": "2267394c-a561-46b8-8f70-e970758266b9",
   "metadata": {},
   "source": [
    "<h1>13. Motorcycles have a slightly higher fatality share in urban areas, especially smaller-engine ones (e.g., 50cc and under: 2.1% urban vs. 0.8% rural).</h1>"
   ]
  },
  {
   "cell_type": "code",
   "execution_count": 73,
   "id": "8c711e28-efcb-49f2-a168-d1bea16a5075",
   "metadata": {},
   "outputs": [],
   "source": [
    "month_weather19 = fatal.groupby(['Month','Weather_Conditions']).size()"
   ]
  },
  {
   "cell_type": "code",
   "execution_count": 74,
   "id": "98a73d41-26f5-4c36-b349-838df652c0e3",
   "metadata": {
    "scrolled": true
   },
   "outputs": [
    {
     "data": {
      "text/html": [
       "<div>\n",
       "<style scoped>\n",
       "    .dataframe tbody tr th:only-of-type {\n",
       "        vertical-align: middle;\n",
       "    }\n",
       "\n",
       "    .dataframe tbody tr th {\n",
       "        vertical-align: top;\n",
       "    }\n",
       "\n",
       "    .dataframe thead th {\n",
       "        text-align: right;\n",
       "    }\n",
       "</style>\n",
       "<table border=\"1\" class=\"dataframe\">\n",
       "  <thead>\n",
       "    <tr style=\"text-align: right;\">\n",
       "      <th>Weather_Conditions</th>\n",
       "      <th>Fine + high winds</th>\n",
       "      <th>Fine no high winds</th>\n",
       "      <th>Fog or mist</th>\n",
       "      <th>Other</th>\n",
       "      <th>Raining + high winds</th>\n",
       "      <th>Raining no high winds</th>\n",
       "      <th>Snowing + high winds</th>\n",
       "      <th>Snowing no high winds</th>\n",
       "      <th>unknown weather</th>\n",
       "    </tr>\n",
       "    <tr>\n",
       "      <th>Month</th>\n",
       "      <th></th>\n",
       "      <th></th>\n",
       "      <th></th>\n",
       "      <th></th>\n",
       "      <th></th>\n",
       "      <th></th>\n",
       "      <th></th>\n",
       "      <th></th>\n",
       "      <th></th>\n",
       "    </tr>\n",
       "  </thead>\n",
       "  <tbody>\n",
       "    <tr>\n",
       "      <th>1</th>\n",
       "      <td>28</td>\n",
       "      <td>177</td>\n",
       "      <td>0</td>\n",
       "      <td>2</td>\n",
       "      <td>6</td>\n",
       "      <td>24</td>\n",
       "      <td>0</td>\n",
       "      <td>0</td>\n",
       "      <td>2</td>\n",
       "    </tr>\n",
       "    <tr>\n",
       "      <th>2</th>\n",
       "      <td>4</td>\n",
       "      <td>128</td>\n",
       "      <td>5</td>\n",
       "      <td>6</td>\n",
       "      <td>3</td>\n",
       "      <td>24</td>\n",
       "      <td>0</td>\n",
       "      <td>1</td>\n",
       "      <td>2</td>\n",
       "    </tr>\n",
       "    <tr>\n",
       "      <th>3</th>\n",
       "      <td>2</td>\n",
       "      <td>189</td>\n",
       "      <td>0</td>\n",
       "      <td>2</td>\n",
       "      <td>2</td>\n",
       "      <td>14</td>\n",
       "      <td>0</td>\n",
       "      <td>2</td>\n",
       "      <td>1</td>\n",
       "    </tr>\n",
       "    <tr>\n",
       "      <th>4</th>\n",
       "      <td>2</td>\n",
       "      <td>217</td>\n",
       "      <td>2</td>\n",
       "      <td>0</td>\n",
       "      <td>1</td>\n",
       "      <td>5</td>\n",
       "      <td>0</td>\n",
       "      <td>0</td>\n",
       "      <td>4</td>\n",
       "    </tr>\n",
       "    <tr>\n",
       "      <th>5</th>\n",
       "      <td>6</td>\n",
       "      <td>194</td>\n",
       "      <td>0</td>\n",
       "      <td>1</td>\n",
       "      <td>4</td>\n",
       "      <td>24</td>\n",
       "      <td>0</td>\n",
       "      <td>0</td>\n",
       "      <td>1</td>\n",
       "    </tr>\n",
       "    <tr>\n",
       "      <th>6</th>\n",
       "      <td>0</td>\n",
       "      <td>161</td>\n",
       "      <td>4</td>\n",
       "      <td>4</td>\n",
       "      <td>2</td>\n",
       "      <td>29</td>\n",
       "      <td>0</td>\n",
       "      <td>0</td>\n",
       "      <td>1</td>\n",
       "    </tr>\n",
       "    <tr>\n",
       "      <th>7</th>\n",
       "      <td>1</td>\n",
       "      <td>188</td>\n",
       "      <td>0</td>\n",
       "      <td>2</td>\n",
       "      <td>2</td>\n",
       "      <td>31</td>\n",
       "      <td>0</td>\n",
       "      <td>0</td>\n",
       "      <td>1</td>\n",
       "    </tr>\n",
       "    <tr>\n",
       "      <th>8</th>\n",
       "      <td>0</td>\n",
       "      <td>224</td>\n",
       "      <td>2</td>\n",
       "      <td>3</td>\n",
       "      <td>1</td>\n",
       "      <td>28</td>\n",
       "      <td>0</td>\n",
       "      <td>0</td>\n",
       "      <td>2</td>\n",
       "    </tr>\n",
       "    <tr>\n",
       "      <th>9</th>\n",
       "      <td>2</td>\n",
       "      <td>199</td>\n",
       "      <td>0</td>\n",
       "      <td>3</td>\n",
       "      <td>0</td>\n",
       "      <td>16</td>\n",
       "      <td>0</td>\n",
       "      <td>0</td>\n",
       "      <td>5</td>\n",
       "    </tr>\n",
       "    <tr>\n",
       "      <th>10</th>\n",
       "      <td>0</td>\n",
       "      <td>209</td>\n",
       "      <td>8</td>\n",
       "      <td>1</td>\n",
       "      <td>3</td>\n",
       "      <td>21</td>\n",
       "      <td>0</td>\n",
       "      <td>0</td>\n",
       "      <td>3</td>\n",
       "    </tr>\n",
       "    <tr>\n",
       "      <th>11</th>\n",
       "      <td>9</td>\n",
       "      <td>179</td>\n",
       "      <td>1</td>\n",
       "      <td>10</td>\n",
       "      <td>8</td>\n",
       "      <td>28</td>\n",
       "      <td>0</td>\n",
       "      <td>0</td>\n",
       "      <td>3</td>\n",
       "    </tr>\n",
       "    <tr>\n",
       "      <th>12</th>\n",
       "      <td>5</td>\n",
       "      <td>185</td>\n",
       "      <td>6</td>\n",
       "      <td>9</td>\n",
       "      <td>10</td>\n",
       "      <td>18</td>\n",
       "      <td>0</td>\n",
       "      <td>0</td>\n",
       "      <td>2</td>\n",
       "    </tr>\n",
       "  </tbody>\n",
       "</table>\n",
       "</div>"
      ],
      "text/plain": [
       "Weather_Conditions  Fine + high winds  Fine no high winds  Fog or mist  Other  \\\n",
       "Month                                                                           \n",
       "1                                  28                 177            0      2   \n",
       "2                                   4                 128            5      6   \n",
       "3                                   2                 189            0      2   \n",
       "4                                   2                 217            2      0   \n",
       "5                                   6                 194            0      1   \n",
       "6                                   0                 161            4      4   \n",
       "7                                   1                 188            0      2   \n",
       "8                                   0                 224            2      3   \n",
       "9                                   2                 199            0      3   \n",
       "10                                  0                 209            8      1   \n",
       "11                                  9                 179            1     10   \n",
       "12                                  5                 185            6      9   \n",
       "\n",
       "Weather_Conditions  Raining + high winds  Raining no high winds  \\\n",
       "Month                                                             \n",
       "1                                      6                     24   \n",
       "2                                      3                     24   \n",
       "3                                      2                     14   \n",
       "4                                      1                      5   \n",
       "5                                      4                     24   \n",
       "6                                      2                     29   \n",
       "7                                      2                     31   \n",
       "8                                      1                     28   \n",
       "9                                      0                     16   \n",
       "10                                     3                     21   \n",
       "11                                     8                     28   \n",
       "12                                    10                     18   \n",
       "\n",
       "Weather_Conditions  Snowing + high winds  Snowing no high winds  \\\n",
       "Month                                                             \n",
       "1                                      0                      0   \n",
       "2                                      0                      1   \n",
       "3                                      0                      2   \n",
       "4                                      0                      0   \n",
       "5                                      0                      0   \n",
       "6                                      0                      0   \n",
       "7                                      0                      0   \n",
       "8                                      0                      0   \n",
       "9                                      0                      0   \n",
       "10                                     0                      0   \n",
       "11                                     0                      0   \n",
       "12                                     0                      0   \n",
       "\n",
       "Weather_Conditions  unknown weather  \n",
       "Month                                \n",
       "1                                 2  \n",
       "2                                 2  \n",
       "3                                 1  \n",
       "4                                 4  \n",
       "5                                 1  \n",
       "6                                 1  \n",
       "7                                 1  \n",
       "8                                 2  \n",
       "9                                 5  \n",
       "10                                3  \n",
       "11                                3  \n",
       "12                                2  "
      ]
     },
     "execution_count": 74,
     "metadata": {},
     "output_type": "execute_result"
    }
   ],
   "source": [
    "month_weather19.unstack()"
   ]
  },
  {
   "cell_type": "markdown",
   "id": "8d172c77-30b3-4159-917e-9866b2f45bf4",
   "metadata": {},
   "source": [
    "<h1>14. Clear weather is the deadliest condition – 76.1% of fatalities happen when the weather is fine with no high winds.</h1>"
   ]
  },
  {
   "cell_type": "markdown",
   "id": "0d3069b1-acae-4d37-9ed4-22bc9cd6f613",
   "metadata": {},
   "source": [
    "<h1>15. The months with the most fatalities are August (10.5%) and October (9.9%), indicating potential seasonal risk factors.</h1>"
   ]
  },
  {
   "cell_type": "markdown",
   "id": "86f25ca7-eee5-4bfc-8f46-9861dc06a763",
   "metadata": {},
   "source": [
    "<h1>16. Single carriageways are the deadliest road type in both rural (77.8%) and urban (69.4%) areas.</h1>"
   ]
  },
  {
   "cell_type": "markdown",
   "id": "73df68c3-e711-46ae-8226-7717865b6c48",
   "metadata": {},
   "source": [
    "<h1>17. Sundays have the highest fatalities in both urban (16.8%) and rural (16.8%) areas.</h1>"
   ]
  },
  {
   "cell_type": "markdown",
   "id": "d506ae65-c38f-4e99-a96a-604f636ed663",
   "metadata": {},
   "source": [
    "<h1>18. Group accidents by Road_Surface_Conditions and count the number of accidents in each.</h1>"
   ]
  },
  {
   "cell_type": "code",
   "execution_count": 75,
   "id": "20f0d96c-a235-40d2-9ec5-8a6f96dfe0e7",
   "metadata": {},
   "outputs": [
    {
     "data": {
      "text/plain": [
       "Road_Surface_Conditions\n",
       "Dry                     447821\n",
       "Flood over 3cm. deep      1017\n",
       "Frost or ice             18517\n",
       "Snow                      5890\n",
       "Wet or damp             186708\n",
       "unknown condition          726\n",
       "dtype: int64"
      ]
     },
     "execution_count": 75,
     "metadata": {},
     "output_type": "execute_result"
    }
   ],
   "source": [
    "accident.groupby([\"Road_Surface_Conditions\"]).size()"
   ]
  },
  {
   "cell_type": "markdown",
   "id": "46b31f13-fd9d-471c-83ae-1d9b17a35daa",
   "metadata": {},
   "source": [
    "<h1>Insights</h1>\n",
    "<h2>By using groupby, we see each category of Road condition in each accident.</h2>"
   ]
  },
  {
   "cell_type": "markdown",
   "id": "666c3b92-3a8b-48c5-8996-02cbf60c7236",
   "metadata": {},
   "source": [
    "<h1>19. Group accidents by Vehicle_Type and find which type has the highest accident severity in each accident condition.</h1>"
   ]
  },
  {
   "cell_type": "code",
   "execution_count": 76,
   "id": "e15d96fe-b8fa-484c-81ee-79a6c7879faa",
   "metadata": {},
   "outputs": [
    {
     "data": {
      "text/plain": [
       "Vehicle_Type                           Accident_Severity\n",
       "Agricultural vehicle                   Fatal                    21\n",
       "                                       Serious                 282\n",
       "                                       Slight                 1644\n",
       "Bus or coach (17 or more pass seats)   Fatal                   325\n",
       "                                       Serious                3373\n",
       "                                       Slight                22180\n",
       "Car                                    Fatal                  6577\n",
       "                                       Serious               66461\n",
       "                                       Slight               424954\n",
       "Data missing or out of range           Fatal                     0\n",
       "                                       Serious                   0\n",
       "                                       Slight                    6\n",
       "Goods 7.5 tonnes mgw and over          Fatal                   216\n",
       "                                       Serious                2321\n",
       "                                       Slight                14770\n",
       "Goods over 3.5t. and under 7.5t        Fatal                    67\n",
       "                                       Serious                 857\n",
       "                                       Slight                 5172\n",
       "Minibus (8 - 16 passenger seats)       Fatal                    29\n",
       "                                       Serious                 276\n",
       "                                       Slight                 1671\n",
       "Motorcycle 125cc and under             Fatal                   189\n",
       "                                       Serious                2031\n",
       "                                       Slight                13049\n",
       "Motorcycle 50cc and under              Fatal                    95\n",
       "                                       Serious                1014\n",
       "                                       Slight                 6494\n",
       "Motorcycle over 125cc and up to 500cc  Fatal                   105\n",
       "                                       Serious                1014\n",
       "                                       Slight                 6537\n",
       "Motorcycle over 500cc                  Fatal                   339\n",
       "                                       Serious                3457\n",
       "                                       Slight                21861\n",
       "Other vehicle                          Fatal                    70\n",
       "                                       Serious                 767\n",
       "                                       Slight                 4800\n",
       "Pedal cycle                            Fatal                     6\n",
       "                                       Serious                  39\n",
       "                                       Slight                  152\n",
       "Ridden horse                           Fatal                     0\n",
       "                                       Serious                   0\n",
       "                                       Slight                    4\n",
       "Taxi/Private hire car                  Fatal                   155\n",
       "                                       Serious                1771\n",
       "                                       Slight                11368\n",
       "Van / Goods 3.5 tonnes mgw or under    Fatal                   467\n",
       "                                       Serious                4554\n",
       "                                       Slight                29139\n",
       "dtype: int64"
      ]
     },
     "execution_count": 76,
     "metadata": {},
     "output_type": "execute_result"
    }
   ],
   "source": [
    "accident.groupby([\"Vehicle_Type\", \"Accident_Severity\"]).size()"
   ]
  },
  {
   "cell_type": "markdown",
   "id": "eec44f7c-0ad3-4aef-993a-e6085d98bcaa",
   "metadata": {},
   "source": [
    "<h1>Insights</h1>\n",
    "<h2>The highest Serious accident condition is a Car that has 66461 incidents. The highest Fatal accident condition is a Car that has 6577 incidents. The highest Slight accident condition is a Car that has 424954 incidents.</h2>"
   ]
  },
  {
   "cell_type": "markdown",
   "id": "d2392a3a-15e0-4fbd-b858-49b3259410a5",
   "metadata": {},
   "source": [
    "<h1>20. Which vehicle type is most frequently involved in accidents?\n",
    "</h1>"
   ]
  },
  {
   "cell_type": "code",
   "execution_count": 77,
   "id": "7cd9119b-e386-47a7-8030-2030987518f3",
   "metadata": {},
   "outputs": [
    {
     "data": {
      "text/plain": [
       "Vehicle_Type\n",
       "Car                                      497992\n",
       "Van / Goods 3.5 tonnes mgw or under       34160\n",
       "Bus or coach (17 or more pass seats)      25878\n",
       "Motorcycle over 500cc                     25657\n",
       "Goods 7.5 tonnes mgw and over             17307\n",
       "Motorcycle 125cc and under                15269\n",
       "Taxi/Private hire car                     13294\n",
       "Motorcycle over 125cc and up to 500cc      7656\n",
       "Motorcycle 50cc and under                  7603\n",
       "Goods over 3.5t. and under 7.5t            6096\n",
       "Other vehicle                              5637\n",
       "Minibus (8 - 16 passenger seats)           1976\n",
       "Agricultural vehicle                       1947\n",
       "Pedal cycle                                 197\n",
       "Data missing or out of range                  6\n",
       "Ridden horse                                  4\n",
       "Name: count, dtype: int64"
      ]
     },
     "execution_count": 77,
     "metadata": {},
     "output_type": "execute_result"
    }
   ],
   "source": [
    "accident[\"Vehicle_Type\"].value_counts()"
   ]
  },
  {
   "cell_type": "markdown",
   "id": "0ea596c8-aa28-4f34-b52d-34a5722e82b2",
   "metadata": {},
   "source": [
    "<h1>Insights</h1>\n",
    "<h2>there was The most frequently involved in accidents is Car that has 497992 accidents.</h2>"
   ]
  },
  {
   "cell_type": "code",
   "execution_count": null,
   "id": "96a2c514-0814-4bc1-bc17-bafce2903748",
   "metadata": {},
   "outputs": [],
   "source": []
  }
 ],
 "metadata": {
  "kernelspec": {
   "display_name": "Python 3 (ipykernel)",
   "language": "python",
   "name": "python3"
  },
  "language_info": {
   "codemirror_mode": {
    "name": "ipython",
    "version": 3
   },
   "file_extension": ".py",
   "mimetype": "text/x-python",
   "name": "python",
   "nbconvert_exporter": "python",
   "pygments_lexer": "ipython3",
   "version": "3.12.6"
  }
 },
 "nbformat": 4,
 "nbformat_minor": 5
}
